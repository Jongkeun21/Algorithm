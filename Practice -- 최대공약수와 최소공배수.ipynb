{
 "cells": [
  {
   "cell_type": "code",
   "execution_count": 1,
   "metadata": {},
   "outputs": [],
   "source": [
    "def solution(n, m) :\n",
    "    answer = []\n",
    "    max_ = n\n",
    "    min_ = m\n",
    "\n",
    "    if max_ < min_ :\n",
    "        max_, min_ = m, n\n",
    "        \n",
    "    while min_ > 0 :\n",
    "        max_, min_ = min_, max_%min_\n",
    "        \n",
    "    answer = [max_, (n*m)//max_]\n",
    "    \n",
    "    return answer"
   ]
  },
  {
   "cell_type": "code",
   "execution_count": 79,
   "metadata": {},
   "outputs": [],
   "source": [
    "n = 3\n",
    "m = 12"
   ]
  }
 ],
 "metadata": {
  "kernelspec": {
   "display_name": "Python 3",
   "language": "python",
   "name": "python3"
  },
  "language_info": {
   "codemirror_mode": {
    "name": "ipython",
    "version": 3
   },
   "file_extension": ".py",
   "mimetype": "text/x-python",
   "name": "python",
   "nbconvert_exporter": "python",
   "pygments_lexer": "ipython3",
   "version": "3.7.3"
  }
 },
 "nbformat": 4,
 "nbformat_minor": 2
}
