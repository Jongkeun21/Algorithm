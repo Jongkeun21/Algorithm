{
 "cells": [
  {
   "cell_type": "code",
   "execution_count": 9,
   "metadata": {},
   "outputs": [],
   "source": [
    "def BFS_path(graph, start, goal) :\n",
    "    queue = [(start, [start])]\n",
    "    result = []\n",
    "    \n",
    "    while queue :\n",
    "        node, path = queue.pop(0)\n",
    "        \n",
    "        if node == goal :\n",
    "            result.append(path)\n",
    "        else :\n",
    "            for m in graph[node] :\n",
    "                if m not in path :\n",
    "                    queue.append((m, path+[m]))\n",
    "                \n",
    "    return result"
   ]
  },
  {
   "cell_type": "code",
   "execution_count": 23,
   "metadata": {},
   "outputs": [],
   "source": [
    "def BFS(graph, start) :\n",
    "    queue = [start]\n",
    "    visit = []\n",
    "    \n",
    "    while queue :\n",
    "        node = queue.pop(0)\n",
    "        if not node in visit :\n",
    "            visit.append(node)\n",
    "            queue += graph[node]\n",
    "    \n",
    "    return visit"
   ]
  },
  {
   "cell_type": "code",
   "execution_count": 29,
   "metadata": {},
   "outputs": [],
   "source": [
    "def DFS(graph, start) :\n",
    "    stack = [start]\n",
    "    visit = []\n",
    "    \n",
    "    while stack :\n",
    "        node = stack.pop()\n",
    "        if not node in visit :\n",
    "            visit.append(node)\n",
    "            stack += graph[node]        \n",
    "        \n",
    "    return visit"
   ]
  },
  {
   "cell_type": "code",
   "execution_count": 11,
   "metadata": {},
   "outputs": [],
   "source": [
    "graph = {\n",
    "    'A': ['B', 'C'],\n",
    "    'B': ['A', 'E'],\n",
    "    'C': ['A', 'E', 'F'],\n",
    "    'E': ['B', 'C', 'F', 'G'],\n",
    "    'F': ['C', 'E', 'G'],\n",
    "    'G': ['E', 'F']\n",
    "}"
   ]
  },
  {
   "cell_type": "code",
   "execution_count": 3,
   "metadata": {},
   "outputs": [
    {
     "data": {
      "text/plain": [
       "{'A': ['B', 'C'],\n",
       " 'B': ['A', 'D', 'E'],\n",
       " 'C': ['A', 'F'],\n",
       " 'D': ['B'],\n",
       " 'E': ['E'],\n",
       " 'F': ['C']}"
      ]
     },
     "execution_count": 3,
     "metadata": {},
     "output_type": "execute_result"
    }
   ],
   "source": [
    "graph"
   ]
  },
  {
   "cell_type": "code",
   "execution_count": 15,
   "metadata": {},
   "outputs": [
    {
     "data": {
      "text/plain": [
       "[['A', 'C'],\n",
       " ['A', 'B', 'E', 'C'],\n",
       " ['A', 'B', 'E', 'F', 'C'],\n",
       " ['A', 'B', 'E', 'G', 'F', 'C']]"
      ]
     },
     "execution_count": 15,
     "metadata": {},
     "output_type": "execute_result"
    }
   ],
   "source": [
    "BFS_path(graph, 'A', 'C')"
   ]
  },
  {
   "cell_type": "code",
   "execution_count": 26,
   "metadata": {},
   "outputs": [
    {
     "data": {
      "text/plain": [
       "['A', 'B', 'C', 'D', 'E', 'F']"
      ]
     },
     "execution_count": 26,
     "metadata": {},
     "output_type": "execute_result"
    }
   ],
   "source": [
    "BFS(graph, 'A')"
   ]
  },
  {
   "cell_type": "code",
   "execution_count": 30,
   "metadata": {},
   "outputs": [
    {
     "data": {
      "text/plain": [
       "['A', 'C', 'F', 'B', 'E', 'D']"
      ]
     },
     "execution_count": 30,
     "metadata": {},
     "output_type": "execute_result"
    }
   ],
   "source": [
    "DFS(graph, 'A')"
   ]
  }
 ],
 "metadata": {
  "kernelspec": {
   "display_name": "Python 3",
   "language": "python",
   "name": "python3"
  },
  "language_info": {
   "codemirror_mode": {
    "name": "ipython",
    "version": 3
   },
   "file_extension": ".py",
   "mimetype": "text/x-python",
   "name": "python",
   "nbconvert_exporter": "python",
   "pygments_lexer": "ipython3",
   "version": "3.7.3"
  }
 },
 "nbformat": 4,
 "nbformat_minor": 2
}
