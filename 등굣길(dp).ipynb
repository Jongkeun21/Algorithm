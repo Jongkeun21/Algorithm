{
 "cells": [
  {
   "cell_type": "code",
   "execution_count": 149,
   "metadata": {},
   "outputs": [],
   "source": [
    "import matplotlib.pyplot as plt"
   ]
  },
  {
   "cell_type": "code",
   "execution_count": 2,
   "metadata": {},
   "outputs": [],
   "source": [
    "m = 4\n",
    "n = 3\n",
    "puddles = [[2,2]]"
   ]
  },
  {
   "cell_type": "code",
   "execution_count": 171,
   "metadata": {},
   "outputs": [],
   "source": [
    "array = [[1 for col in range(m)] for row in range(n)]"
   ]
  },
  {
   "cell_type": "code",
   "execution_count": 173,
   "metadata": {},
   "outputs": [],
   "source": [
    "for puddle in puddles :\n",
    "    array[puddle[0]-1][puddle[1]-1] = 0"
   ]
  },
  {
   "cell_type": "code",
   "execution_count": 174,
   "metadata": {},
   "outputs": [
    {
     "data": {
      "image/png": "[encoded data removed]",
      "text/plain": [
       "<Figure size 432x288 with 1 Axes>"
      ]
     },
     "metadata": {
      "needs_background": "light"
     },
     "output_type": "display_data"
    }
   ],
   "source": [
    "plt.imshow(array)\n",
    "plt.show()"
   ]
  },
  {
   "cell_type": "code",
   "execution_count": 200,
   "metadata": {},
   "outputs": [
    {
     "data": {
      "text/plain": [
       "[[1, 1, 1, 1], [1, 0, 1, 1], [1, 1, 1, 1]]"
      ]
     },
     "execution_count": 200,
     "metadata": {},
     "output_type": "execute_result"
    }
   ],
   "source": [
    "array"
   ]
  },
  {
   "cell_type": "code",
   "execution_count": 204,
   "metadata": {},
   "outputs": [
    {
     "name": "stdout",
     "output_type": "stream",
     "text": [
      "i:  0   j:  0\n",
      "--------------------------------------------------------------\n",
      "array[i][j+1] == 1\n",
      "i:  0   j:  0\n",
      "=========================\n",
      "array[i+1][j] == 1\n",
      "i:  0   j:  0\n",
      "=========================\n",
      "i:  0   j:  1\n",
      "--------------------------------------------------------------\n",
      "array[i][j+1] == 1\n",
      "i:  0   j:  1\n",
      "=========================\n",
      "i:  0   j:  2\n",
      "--------------------------------------------------------------\n",
      "array[i][j+1] == 1\n",
      "i:  0   j:  2\n",
      "=========================\n",
      "array[i+1][j] == 1\n",
      "i:  0   j:  2\n",
      "=========================\n",
      "i:  0   j:  3\n",
      "--------------------------------------------------------------\n",
      "array[i+1][j] == 1\n",
      "i:  0   j:  3\n",
      "=========================\n",
      "i:  1   j:  0\n",
      "--------------------------------------------------------------\n",
      "array[i+1][j] == 1\n",
      "i:  1   j:  0\n",
      "=========================\n",
      "i:  1   j:  1\n",
      "--------------------------------------------------------------\n",
      "array[i][j+1] == 1\n",
      "i:  1   j:  1\n",
      "=========================\n",
      "array[i+1][j] == 1\n",
      "i:  1   j:  1\n",
      "=========================\n",
      "i:  1   j:  2\n",
      "--------------------------------------------------------------\n",
      "array[i][j+1] == 1\n",
      "i:  1   j:  2\n",
      "=========================\n",
      "array[i+1][j] == 1\n",
      "i:  1   j:  2\n",
      "=========================\n",
      "i:  1   j:  3\n",
      "--------------------------------------------------------------\n",
      "array[i+1][j] == 1\n",
      "i:  1   j:  3\n",
      "=========================\n",
      "i:  2   j:  0\n",
      "--------------------------------------------------------------\n",
      "array[i][j+1] == 1\n",
      "i:  2   j:  0\n",
      "=========================\n",
      "i:  2   j:  1\n",
      "--------------------------------------------------------------\n",
      "array[i][j+1] == 1\n",
      "i:  2   j:  1\n",
      "=========================\n",
      "i:  2   j:  2\n",
      "--------------------------------------------------------------\n",
      "array[i][j+1] == 1\n",
      "i:  2   j:  2\n",
      "=========================\n",
      "i:  2   j:  3\n",
      "--------------------------------------------------------------\n"
     ]
    }
   ],
   "source": [
    "dic = {}\n",
    "\n",
    "for i in range(len(array)) :\n",
    "    for j in range(len(array[i])) :\n",
    "        values = []\n",
    "        print(\"i: \", i, \"  j: \", j)\n",
    "        print(\"--------------------------------------------------------------\")\n",
    "        if j < len(array[i])-1 :\n",
    "            if array[i][j+1] == 1 :\n",
    "                print(\"array[i][j+1] == 1\")\n",
    "                print(\"i: \", i, \"  j: \", j)\n",
    "                print(\"=========================\")\n",
    "                values.append(str(i)+str(j+1))\n",
    "        if i < len(array)-1 :\n",
    "            if array[i+1][j] == 1 :\n",
    "                print(\"array[i+1][j] == 1\")\n",
    "                print(\"i: \", i, \"  j: \", j)\n",
    "                print(\"=========================\")\n",
    "                values.append(str(i+1)+str(j))\n",
    "        dic[str(i)+str(j)] = values"
   ]
  },
  {
   "cell_type": "code",
   "execution_count": 205,
   "metadata": {},
   "outputs": [
    {
     "data": {
      "text/plain": [
       "{'00': ['01', '10'],\n",
       " '01': ['02'],\n",
       " '02': ['03', '12'],\n",
       " '03': ['13'],\n",
       " '10': ['20'],\n",
       " '11': ['12', '21'],\n",
       " '12': ['13', '22'],\n",
       " '13': ['23'],\n",
       " '20': ['21'],\n",
       " '21': ['22'],\n",
       " '22': ['23'],\n",
       " '23': []}"
      ]
     },
     "execution_count": 205,
     "metadata": {},
     "output_type": "execute_result"
    }
   ],
   "source": [
    "dic"
   ]
  }
 ],
 "metadata": {
  "kernelspec": {
   "display_name": "Python 3",
   "language": "python",
   "name": "python3"
  },
  "language_info": {
   "codemirror_mode": {
    "name": "ipython",
    "version": 3
   },
   "file_extension": ".py",
   "mimetype": "text/x-python",
   "name": "python",
   "nbconvert_exporter": "python",
   "pygments_lexer": "ipython3",
   "version": "3.7.3"
  }
 },
 "nbformat": 4,
 "nbformat_minor": 2
}
