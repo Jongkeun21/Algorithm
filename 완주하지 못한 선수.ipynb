{
 "cells": [
  {
   "cell_type": "code",
   "execution_count": 22,
   "metadata": {},
   "outputs": [
    {
     "name": "stdout",
     "output_type": "stream",
     "text": [
      "leo\n"
     ]
    }
   ],
   "source": [
    "participant = [\"leo\", \"kiki\", \"eden\"]\n",
    "completion = [\"eden\", \"kiki\"]\n",
    "\n",
    "def solution(participant, completion) :\n",
    "    completion.append(\"z\")\n",
    "    participant.sort()\n",
    "    completion.sort()\n",
    "    result = []\n",
    "    \n",
    "    for i in range(len(participant)) :\n",
    "        if participant[i] != completion[i] :\n",
    "            result.append(participant[i])\n",
    "            \n",
    "    print(result[0])\n",
    "            \n",
    "solution(participant, completion)"
   ]
  },
  {
   "cell_type": "code",
   "execution_count": 23,
   "metadata": {},
   "outputs": [
    {
     "name": "stdout",
     "output_type": "stream",
     "text": [
      "vinko\n"
     ]
    }
   ],
   "source": [
    "participant = [\"marina\", \"josipa\", \"nikola\", \"vinko\", \"filipa\"]\n",
    "completion = [\"josipa\", \"filipa\", \"marina\", \"nikola\"]\n",
    "\n",
    "def solution(participant, completion) :\n",
    "    completion.append(\"z\")\n",
    "    participant.sort()\n",
    "    completion.sort()\n",
    "    result = []\n",
    "    \n",
    "    for i in range(len(participant)) :\n",
    "        if participant[i] != completion[i] :\n",
    "            result.append(participant[i])\n",
    "            \n",
    "    print(result[0])\n",
    "            \n",
    "solution(participant, completion)"
   ]
  },
  {
   "cell_type": "code",
   "execution_count": 21,
   "metadata": {},
   "outputs": [
    {
     "name": "stdout",
     "output_type": "stream",
     "text": [
      "mislav\n"
     ]
    }
   ],
   "source": [
    "participant = [\"mislav\", \"stanko\", \"mislav\", \"ana\"]\n",
    "completion = [\"stanko\", \"ana\", \"mislav\"]\n",
    "\n",
    "def solution(participant, completion) :\n",
    "    completion.append(\"z\")\n",
    "    participant.sort()\n",
    "    completion.sort()\n",
    "    result = []\n",
    "    \n",
    "    for i in range(len(participant)) :\n",
    "        if participant[i] != completion[i] :\n",
    "            result.append(participant[i])\n",
    "            \n",
    "    print(result[0])\n",
    "            \n",
    "solution(participant, completion)"
   ]
  },
  {
   "cell_type": "code",
   "execution_count": null,
   "metadata": {},
   "outputs": [],
   "source": []
  }
 ],
 "metadata": {
  "kernelspec": {
   "display_name": "Python 3",
   "language": "python",
   "name": "python3"
  },
  "language_info": {
   "codemirror_mode": {
    "name": "ipython",
    "version": 3
   },
   "file_extension": ".py",
   "mimetype": "text/x-python",
   "name": "python",
   "nbconvert_exporter": "python",
   "pygments_lexer": "ipython3",
   "version": "3.7.3"
  }
 },
 "nbformat": 4,
 "nbformat_minor": 2
}
