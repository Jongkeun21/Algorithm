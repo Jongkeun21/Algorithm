{
 "cells": [
  {
   "cell_type": "code",
   "execution_count": 1,
   "metadata": {},
   "outputs": [],
   "source": [
    "def solution(s) :\n",
    "    countP = 0\n",
    "    countY = 0\n",
    "    answer = True\n",
    "    \n",
    "    for char in s :\n",
    "        if char == 'p' or char == 'P' :\n",
    "            countP += 1\n",
    "        if char == 'y' or char == 'Y' :\n",
    "            countY += 1\n",
    "\n",
    "    if countP != countY :\n",
    "        answer = False\n",
    "    \n",
    "    return answer"
   ]
  },
  {
   "cell_type": "code",
   "execution_count": 2,
   "metadata": {},
   "outputs": [],
   "source": [
    "s = \"pPoooyY\""
   ]
  }
 ],
 "metadata": {
  "kernelspec": {
   "display_name": "Python 3",
   "language": "python",
   "name": "python3"
  },
  "language_info": {
   "codemirror_mode": {
    "name": "ipython",
    "version": 3
   },
   "file_extension": ".py",
   "mimetype": "text/x-python",
   "name": "python",
   "nbconvert_exporter": "python",
   "pygments_lexer": "ipython3",
   "version": "3.7.3"
  }
 },
 "nbformat": 4,
 "nbformat_minor": 2
}
