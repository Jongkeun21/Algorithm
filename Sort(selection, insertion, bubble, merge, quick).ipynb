{
 "cells": [
  {
   "cell_type": "code",
   "execution_count": 85,
   "metadata": {},
   "outputs": [],
   "source": [
    "array = [1,4,2,5,7,3,6,8]"
   ]
  },
  {
   "cell_type": "code",
   "execution_count": 54,
   "metadata": {},
   "outputs": [],
   "source": [
    "def selectionsort(array) :\n",
    "    result = []\n",
    "    \n",
    "    while len(array) > 1 :\n",
    "        min_idx = 0\n",
    "    \n",
    "        for i in range(1, len(array)) :    \n",
    "            if array[i] < array[min_idx] :\n",
    "                min_idx = i\n",
    "        \n",
    "        result.append(array[min_idx])\n",
    "        array.pop(min_idx)\n",
    "                \n",
    "    return result"
   ]
  },
  {
   "cell_type": "code",
   "execution_count": 55,
   "metadata": {},
   "outputs": [
    {
     "data": {
      "text/plain": [
       "[1, 2, 3, 4, 5, 6, 7]"
      ]
     },
     "execution_count": 55,
     "metadata": {},
     "output_type": "execute_result"
    }
   ],
   "source": [
    "selectionsort(array)"
   ]
  },
  {
   "cell_type": "code",
   "execution_count": 104,
   "metadata": {},
   "outputs": [],
   "source": [
    "def insertionsort(array) :\n",
    "    for i in range(1, len(array)) :\n",
    "        for j in range(i, 0, -1) :\n",
    "            if array[j-1] > array[j] :\n",
    "                array[j-1], array[j] = array[j], array[j-1]\n",
    "                \n",
    "    return array"
   ]
  },
  {
   "cell_type": "code",
   "execution_count": 105,
   "metadata": {},
   "outputs": [
    {
     "data": {
      "text/plain": [
       "[1, 2, 3, 4, 5, 6, 7, 8]"
      ]
     },
     "execution_count": 105,
     "metadata": {},
     "output_type": "execute_result"
    }
   ],
   "source": [
    "insertionsort(array)"
   ]
  },
  {
   "cell_type": "code",
   "execution_count": 117,
   "metadata": {},
   "outputs": [],
   "source": [
    "array = [1,4,2,5,7,3,6,8]"
   ]
  },
  {
   "cell_type": "code",
   "execution_count": 119,
   "metadata": {},
   "outputs": [],
   "source": [
    "def bubblesort(array) :\n",
    "    for i in range(len(array)-1) :\n",
    "        for j in range(len(array)-1) :\n",
    "            if array[j+1] < array[j] :\n",
    "                array[j+1], array[j] = array[j], array[j+1]\n",
    "                \n",
    "    return array"
   ]
  },
  {
   "cell_type": "code",
   "execution_count": 120,
   "metadata": {},
   "outputs": [
    {
     "data": {
      "text/plain": [
       "[1, 2, 3, 4, 5, 6, 7, 8]"
      ]
     },
     "execution_count": 120,
     "metadata": {},
     "output_type": "execute_result"
    }
   ],
   "source": [
    "bubblesort(array)"
   ]
  },
  {
   "cell_type": "code",
   "execution_count": 23,
   "metadata": {},
   "outputs": [],
   "source": [
    "array = [1,4,2,5,7,3,6,8]"
   ]
  },
  {
   "cell_type": "code",
   "execution_count": 24,
   "metadata": {},
   "outputs": [],
   "source": [
    "def mergesort(array) :\n",
    "    if len(array) <= 1 :\n",
    "        return array\n",
    "    \n",
    "    mid = len(array) // 2 \n",
    "    left = array[:mid]\n",
    "    right = array[mid:]\n",
    "    leftlist = mergesort(left)\n",
    "    rightlist = mergesort(right)\n",
    "    \n",
    "    return merge(leftlist, rightlist)"
   ]
  },
  {
   "cell_type": "code",
   "execution_count": 25,
   "metadata": {},
   "outputs": [],
   "source": [
    "def merge(left, right) :\n",
    "    result = []\n",
    "    \n",
    "    while len(left) > 0 or len(right) > 0 :\n",
    "        if len(left) > 0 and len(right) > 0 :\n",
    "            if left[0] <= right[0] :\n",
    "                result.append(left[0])\n",
    "                left.pop(0)\n",
    "            else :\n",
    "                result.append(right[0])\n",
    "                right.pop(0)\n",
    "        else :\n",
    "            if len(left) > 0 :\n",
    "                result.append(left[0])\n",
    "                left.pop(0)\n",
    "            else :\n",
    "                result.append(right[0])\n",
    "                right.pop(0)\n",
    "                \n",
    "    return result"
   ]
  },
  {
   "cell_type": "code",
   "execution_count": 26,
   "metadata": {},
   "outputs": [
    {
     "data": {
      "text/plain": [
       "[1, 2, 3, 4, 5, 6, 7, 8]"
      ]
     },
     "execution_count": 26,
     "metadata": {},
     "output_type": "execute_result"
    }
   ],
   "source": [
    "mergesort(array)"
   ]
  },
  {
   "cell_type": "code",
   "execution_count": 1,
   "metadata": {},
   "outputs": [],
   "source": [
    "array = [1,4,2,5,7,3,6,8]"
   ]
  },
  {
   "cell_type": "code",
   "execution_count": 11,
   "metadata": {},
   "outputs": [],
   "source": [
    "def quicksort(array) :\n",
    "    length = len(array)\n",
    "    \n",
    "    if length <= 1 :\n",
    "        return array\n",
    "    else :\n",
    "        pivot = array[0]\n",
    "        left = [num for num in array[1:] if num < pivot]\n",
    "        right = [num for num in array[1:] if num >= pivot]\n",
    "        \n",
    "        return quicksort(left)+[pivot]+quicksort(right)"
   ]
  },
  {
   "cell_type": "code",
   "execution_count": 12,
   "metadata": {},
   "outputs": [
    {
     "data": {
      "text/plain": [
       "[1, 2, 3, 4, 5, 6, 7, 8]"
      ]
     },
     "execution_count": 12,
     "metadata": {},
     "output_type": "execute_result"
    }
   ],
   "source": [
    "quicksort(array)"
   ]
  },
  {
   "cell_type": "code",
   "execution_count": null,
   "metadata": {},
   "outputs": [],
   "source": []
  }
 ],
 "metadata": {
  "kernelspec": {
   "display_name": "Python 3",
   "language": "python",
   "name": "python3"
  },
  "language_info": {
   "codemirror_mode": {
    "name": "ipython",
    "version": 3
   },
   "file_extension": ".py",
   "mimetype": "text/x-python",
   "name": "python",
   "nbconvert_exporter": "python",
   "pygments_lexer": "ipython3",
   "version": "3.7.3"
  }
 },
 "nbformat": 4,
 "nbformat_minor": 2
}
