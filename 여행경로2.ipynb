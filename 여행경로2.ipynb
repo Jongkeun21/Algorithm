{
 "cells": [
  {
   "cell_type": "code",
   "execution_count": 186,
   "metadata": {},
   "outputs": [],
   "source": [
    "import copy"
   ]
  },
  {
   "cell_type": "code",
   "execution_count": 180,
   "metadata": {},
   "outputs": [],
   "source": [
    "tickets = [[\"ICN\", \"JFK\"], [\"HND\", \"IAD\"], [\"JFK\", \"HND\"], [\"ICN\", \"JFK\"], [\"IAD\", \"ICN\"]]\n",
    "# tickets = [[\"ICN\", \"JFK\"], [\"HND\", \"IAD\"], [\"JFK\", \"HND\"]]\n",
    "tickets = [[\"ICN\", \"SFO\"], [\"ICN\", \"ATL\"], [\"SFO\", \"ATL\"], [\"ATL\", \"ICN\"], [\"ATL\", \"SFO\"]]\n",
    "# tickets = [[\"ICN\", \"BOO\"], [\"ICN\", \"COO\"], [\"COO\", \"DOO\"], [\"DOO\", \"COO\"], [\"BOO\", \"DOO\"], [\"DOO\", \"BOO\"], [\"BOO\", \"ICN\"], [\"COO\", \"BOO\"]]\n",
    "# tickets = [[\"ICN\", \"COO\"], [\"ICN\", \"BOO\"], [\"COO\", \"ICN\"], [\"BOO\", \"DOO\"]]"
   ]
  },
  {
   "cell_type": "code",
   "execution_count": 181,
   "metadata": {},
   "outputs": [],
   "source": [
    "waypoint = []\n",
    "for i in range(len(tickets)) :\n",
    "    waypoint.append(tickets[i][1])\n",
    "\n",
    "values = [[] for col in range(len(waypoint))]\n",
    "\n",
    "waypoint = []\n",
    "for i in range(len(tickets)) :\n",
    "    waypoint.append(tickets[i][1])\n",
    "\n",
    "graph_root = []\n",
    "\n",
    "for i in range(len(tickets)) :\n",
    "    graph_root.append(tickets[i][0] + tickets[i][1])\n",
    "\n",
    "for i in range(len(waypoint)) :\n",
    "    for j in range(len(tickets)) :\n",
    "        if waypoint[i] == tickets[j][0] :\n",
    "            values[i].append(tickets[j])\n",
    "\n",
    "graph_value = [[] for col in range(len(values))]\n",
    "\n",
    "for i in range(len(values)) :\n",
    "    for j in range(len(values[i])) :\n",
    "        inputs = ''\n",
    "        for k in range(len(values[i][j])) :\n",
    "             inputs += values[i][j][k]\n",
    "        graph_value[i].append(inputs)\n",
    "    graph_value[i].sort()\n",
    "\n",
    "graph = {}\n",
    "\n",
    "for i in range(len(waypoint)) :\n",
    "    graph[graph_root[i]] = graph_value[i]"
   ]
  },
  {
   "cell_type": "code",
   "execution_count": 182,
   "metadata": {},
   "outputs": [
    {
     "data": {
      "text/plain": [
       "{'ICNSFO': ['SFOATL'],\n",
       " 'ICNATL': ['ATLICN', 'ATLSFO'],\n",
       " 'SFOATL': ['ATLICN', 'ATLSFO'],\n",
       " 'ATLICN': ['ICNATL', 'ICNSFO'],\n",
       " 'ATLSFO': ['SFOATL']}"
      ]
     },
     "execution_count": 182,
     "metadata": {},
     "output_type": "execute_result"
    }
   ],
   "source": [
    "graph"
   ]
  },
  {
   "cell_type": "code",
   "execution_count": 183,
   "metadata": {},
   "outputs": [
    {
     "name": "stdout",
     "output_type": "stream",
     "text": [
      "['ICNATL', 'ICNSFO']\n"
     ]
    }
   ],
   "source": [
    "candidates = []\n",
    "\n",
    "for i in range(len(tickets)) :\n",
    "    if tickets[i][0] == 'ICN' :\n",
    "        candidates.append(tickets[i][0]+tickets[i][1])\n",
    "        \n",
    "candidates.sort()\n",
    "print(candidates)"
   ]
  },
  {
   "cell_type": "code",
   "execution_count": 184,
   "metadata": {},
   "outputs": [
    {
     "data": {
      "text/plain": [
       "['ICNSFO', 'ICNATL', 'SFOATL', 'ATLICN', 'ATLSFO']"
      ]
     },
     "execution_count": 184,
     "metadata": {},
     "output_type": "execute_result"
    }
   ],
   "source": [
    "list(graph.keys())"
   ]
  },
  {
   "cell_type": "code",
   "execution_count": 185,
   "metadata": {},
   "outputs": [
    {
     "data": {
      "text/plain": [
       "{'ICNSFO': ['SFOATL'],\n",
       " 'ICNATL': ['ATLICN', 'ATLSFO'],\n",
       " 'SFOATL': ['ATLICN', 'ATLSFO'],\n",
       " 'ATLICN': ['ICNATL', 'ICNSFO'],\n",
       " 'ATLSFO': ['SFOATL']}"
      ]
     },
     "execution_count": 185,
     "metadata": {},
     "output_type": "execute_result"
    }
   ],
   "source": [
    "graph"
   ]
  },
  {
   "cell_type": "code",
   "execution_count": 221,
   "metadata": {},
   "outputs": [],
   "source": [
    "def find_path(graph, start, end, result, length) :\n",
    "    seq = copy.deepcopy(graph)\n",
    "    \n",
    "    queue = [(start, [start])]\n",
    "    \n",
    "    while queue :\n",
    "        n, path = queue.pop(0)\n",
    "        print(\"path: \", path)\n",
    "        \n",
    "        if n == end and len(path) == length :\n",
    "            result.append(path)\n",
    "        else :\n",
    "            for j in range(len(graph[n])) :\n",
    "                print(\"==========================================\")\n",
    "                if graph[n][j] not in path :\n",
    "                    queue.append((graph[n][j], path+[graph[n][j]]))\n",
    "        \n",
    "    return"
   ]
  },
  {
   "cell_type": "code",
   "execution_count": 222,
   "metadata": {},
   "outputs": [],
   "source": [
    "# def find_path(graph, start, end, result, length) :\n",
    "#     values = list(graph.items())\n",
    "#     seq = {}\n",
    "#     index = {}\n",
    "#     for i in range(len(values)) :\n",
    "#         list_ = []\n",
    "#         for j in range(len(values[i][1])) :\n",
    "#             list_.append(j)\n",
    "#         seq[values[i][0]] = list_\n",
    "    \n",
    "#     queue = [(start, [start], seq[start])]\n",
    "    \n",
    "#     while queue :\n",
    "#         print(\"---------------------------------------\")\n",
    "#         print(\"queue: \", queue)\n",
    "#         n = queue[0][0]\n",
    "#         path = queue[0][1]\n",
    "#         index[n] = queue.pop(0)[2]\n",
    "        \n",
    "#         if n == end and len(path) == length :\n",
    "#             result.append(path)\n",
    "#         else :\n",
    "#             for j in range(len(graph[n])) :\n",
    "#                 print(\"++\")\n",
    "# #                 print(\"queue: \", queue)\n",
    "#                 if graph[n][j] not in path :\n",
    "# #                     print(\"graph[n][j]: \", graph[n][j])\n",
    "#                     queue.append((graph[n][j], path+[graph[n][j]], seq[graph[n][j]]))\n",
    "# #                     print(\"path: \", path)\n",
    "#                     index[n].pop(0)\n",
    "# #                     print(\"after pop: \", index[n])\n",
    "# #                 else :\n",
    "# #                     if len(index[n]) > 0 :\n",
    "# #                         queue.append((graph[n][j], path+[graph[n][j]], seq[graph[n][j]]))\n",
    "# #                         index[n].pop(0)\n",
    "#     return"
   ]
  },
  {
   "cell_type": "code",
   "execution_count": 223,
   "metadata": {
    "scrolled": false
   },
   "outputs": [
    {
     "name": "stdout",
     "output_type": "stream",
     "text": [
      "@@@@@@@@@@@@@@@@@@@@@@@@@@@@@@@@@@@@@@@@@@@@@@@@@@\n",
      "path:  ['ICNATL']\n",
      "==========================================\n",
      "==========================================\n",
      "path:  ['ICNATL', 'ATLICN']\n",
      "==========================================\n",
      "==========================================\n",
      "path:  ['ICNATL', 'ATLSFO']\n",
      "==========================================\n",
      "path:  ['ICNATL', 'ATLICN', 'ICNSFO']\n",
      "==========================================\n",
      "path:  ['ICNATL', 'ATLSFO', 'SFOATL']\n",
      "==========================================\n",
      "==========================================\n",
      "path:  ['ICNATL', 'ATLICN', 'ICNSFO', 'SFOATL']\n",
      "==========================================\n",
      "==========================================\n",
      "path:  ['ICNATL', 'ATLSFO', 'SFOATL', 'ATLICN']\n",
      "==========================================\n",
      "==========================================\n",
      "path:  ['ICNATL', 'ATLICN', 'ICNSFO', 'SFOATL', 'ATLSFO']\n",
      "==========================================\n",
      "path:  ['ICNATL', 'ATLSFO', 'SFOATL', 'ATLICN', 'ICNSFO']\n",
      "[['ICNATL', 'ATLSFO', 'SFOATL', 'ATLICN', 'ICNSFO']]\n",
      "@@@@@@@@@@@@@@@@@@@@@@@@@@@@@@@@@@@@@@@@@@@@@@@@@@\n",
      "path:  ['ICNATL']\n",
      "==========================================\n",
      "==========================================\n",
      "path:  ['ICNATL', 'ATLICN']\n",
      "==========================================\n",
      "==========================================\n",
      "path:  ['ICNATL', 'ATLSFO']\n",
      "==========================================\n",
      "path:  ['ICNATL', 'ATLICN', 'ICNSFO']\n",
      "==========================================\n",
      "path:  ['ICNATL', 'ATLSFO', 'SFOATL']\n",
      "==========================================\n",
      "==========================================\n",
      "path:  ['ICNATL', 'ATLICN', 'ICNSFO', 'SFOATL']\n",
      "==========================================\n",
      "==========================================\n",
      "path:  ['ICNATL', 'ATLSFO', 'SFOATL', 'ATLICN']\n",
      "==========================================\n",
      "==========================================\n",
      "path:  ['ICNATL', 'ATLICN', 'ICNSFO', 'SFOATL', 'ATLSFO']\n",
      "==========================================\n",
      "path:  ['ICNATL', 'ATLSFO', 'SFOATL', 'ATLICN', 'ICNSFO']\n",
      "==========================================\n",
      "[]\n",
      "@@@@@@@@@@@@@@@@@@@@@@@@@@@@@@@@@@@@@@@@@@@@@@@@@@\n",
      "path:  ['ICNATL']\n",
      "==========================================\n",
      "==========================================\n",
      "path:  ['ICNATL', 'ATLICN']\n",
      "==========================================\n",
      "==========================================\n",
      "path:  ['ICNATL', 'ATLSFO']\n",
      "==========================================\n",
      "path:  ['ICNATL', 'ATLICN', 'ICNSFO']\n",
      "==========================================\n",
      "path:  ['ICNATL', 'ATLSFO', 'SFOATL']\n",
      "==========================================\n",
      "==========================================\n",
      "path:  ['ICNATL', 'ATLICN', 'ICNSFO', 'SFOATL']\n",
      "==========================================\n",
      "==========================================\n",
      "path:  ['ICNATL', 'ATLSFO', 'SFOATL', 'ATLICN']\n",
      "==========================================\n",
      "==========================================\n",
      "path:  ['ICNATL', 'ATLICN', 'ICNSFO', 'SFOATL', 'ATLSFO']\n",
      "==========================================\n",
      "path:  ['ICNATL', 'ATLSFO', 'SFOATL', 'ATLICN', 'ICNSFO']\n",
      "==========================================\n",
      "[]\n",
      "@@@@@@@@@@@@@@@@@@@@@@@@@@@@@@@@@@@@@@@@@@@@@@@@@@\n",
      "path:  ['ICNATL']\n",
      "==========================================\n",
      "==========================================\n",
      "path:  ['ICNATL', 'ATLICN']\n",
      "==========================================\n",
      "==========================================\n",
      "path:  ['ICNATL', 'ATLSFO']\n",
      "==========================================\n",
      "path:  ['ICNATL', 'ATLICN', 'ICNSFO']\n",
      "==========================================\n",
      "path:  ['ICNATL', 'ATLSFO', 'SFOATL']\n",
      "==========================================\n",
      "==========================================\n",
      "path:  ['ICNATL', 'ATLICN', 'ICNSFO', 'SFOATL']\n",
      "==========================================\n",
      "==========================================\n",
      "path:  ['ICNATL', 'ATLSFO', 'SFOATL', 'ATLICN']\n",
      "==========================================\n",
      "==========================================\n",
      "path:  ['ICNATL', 'ATLICN', 'ICNSFO', 'SFOATL', 'ATLSFO']\n",
      "==========================================\n",
      "path:  ['ICNATL', 'ATLSFO', 'SFOATL', 'ATLICN', 'ICNSFO']\n",
      "==========================================\n",
      "[]\n",
      "@@@@@@@@@@@@@@@@@@@@@@@@@@@@@@@@@@@@@@@@@@@@@@@@@@\n",
      "path:  ['ICNATL']\n",
      "==========================================\n",
      "==========================================\n",
      "path:  ['ICNATL', 'ATLICN']\n",
      "==========================================\n",
      "==========================================\n",
      "path:  ['ICNATL', 'ATLSFO']\n",
      "==========================================\n",
      "path:  ['ICNATL', 'ATLICN', 'ICNSFO']\n",
      "==========================================\n",
      "path:  ['ICNATL', 'ATLSFO', 'SFOATL']\n",
      "==========================================\n",
      "==========================================\n",
      "path:  ['ICNATL', 'ATLICN', 'ICNSFO', 'SFOATL']\n",
      "==========================================\n",
      "==========================================\n",
      "path:  ['ICNATL', 'ATLSFO', 'SFOATL', 'ATLICN']\n",
      "==========================================\n",
      "==========================================\n",
      "path:  ['ICNATL', 'ATLICN', 'ICNSFO', 'SFOATL', 'ATLSFO']\n",
      "path:  ['ICNATL', 'ATLSFO', 'SFOATL', 'ATLICN', 'ICNSFO']\n",
      "==========================================\n",
      "[['ICNATL', 'ATLICN', 'ICNSFO', 'SFOATL', 'ATLSFO']]\n",
      "@@@@@@@@@@@@@@@@@@@@@@@@@@@@@@@@@@@@@@@@@@@@@@@@@@\n",
      "path:  ['ICNSFO']\n",
      "==========================================\n",
      "path:  ['ICNSFO', 'SFOATL']\n",
      "==========================================\n",
      "==========================================\n",
      "path:  ['ICNSFO', 'SFOATL', 'ATLICN']\n",
      "==========================================\n",
      "==========================================\n",
      "path:  ['ICNSFO', 'SFOATL', 'ATLSFO']\n",
      "==========================================\n",
      "path:  ['ICNSFO', 'SFOATL', 'ATLICN', 'ICNATL']\n",
      "==========================================\n",
      "==========================================\n",
      "path:  ['ICNSFO', 'SFOATL', 'ATLICN', 'ICNATL', 'ATLSFO']\n",
      "==========================================\n",
      "[]\n",
      "@@@@@@@@@@@@@@@@@@@@@@@@@@@@@@@@@@@@@@@@@@@@@@@@@@\n",
      "path:  ['ICNSFO']\n",
      "==========================================\n",
      "path:  ['ICNSFO', 'SFOATL']\n",
      "==========================================\n",
      "==========================================\n",
      "path:  ['ICNSFO', 'SFOATL', 'ATLICN']\n",
      "==========================================\n",
      "==========================================\n",
      "path:  ['ICNSFO', 'SFOATL', 'ATLSFO']\n",
      "==========================================\n",
      "path:  ['ICNSFO', 'SFOATL', 'ATLICN', 'ICNATL']\n",
      "==========================================\n",
      "==========================================\n",
      "path:  ['ICNSFO', 'SFOATL', 'ATLICN', 'ICNATL', 'ATLSFO']\n",
      "==========================================\n",
      "[]\n",
      "@@@@@@@@@@@@@@@@@@@@@@@@@@@@@@@@@@@@@@@@@@@@@@@@@@\n",
      "path:  ['ICNSFO']\n",
      "==========================================\n",
      "path:  ['ICNSFO', 'SFOATL']\n",
      "==========================================\n",
      "==========================================\n",
      "path:  ['ICNSFO', 'SFOATL', 'ATLICN']\n",
      "==========================================\n",
      "==========================================\n",
      "path:  ['ICNSFO', 'SFOATL', 'ATLSFO']\n",
      "==========================================\n",
      "path:  ['ICNSFO', 'SFOATL', 'ATLICN', 'ICNATL']\n",
      "==========================================\n",
      "==========================================\n",
      "path:  ['ICNSFO', 'SFOATL', 'ATLICN', 'ICNATL', 'ATLSFO']\n",
      "==========================================\n",
      "[]\n",
      "@@@@@@@@@@@@@@@@@@@@@@@@@@@@@@@@@@@@@@@@@@@@@@@@@@\n",
      "path:  ['ICNSFO']\n",
      "==========================================\n",
      "path:  ['ICNSFO', 'SFOATL']\n",
      "==========================================\n",
      "==========================================\n",
      "path:  ['ICNSFO', 'SFOATL', 'ATLICN']\n",
      "==========================================\n",
      "==========================================\n",
      "path:  ['ICNSFO', 'SFOATL', 'ATLSFO']\n",
      "==========================================\n",
      "path:  ['ICNSFO', 'SFOATL', 'ATLICN', 'ICNATL']\n",
      "==========================================\n",
      "==========================================\n",
      "path:  ['ICNSFO', 'SFOATL', 'ATLICN', 'ICNATL', 'ATLSFO']\n",
      "==========================================\n",
      "[]\n",
      "@@@@@@@@@@@@@@@@@@@@@@@@@@@@@@@@@@@@@@@@@@@@@@@@@@\n",
      "path:  ['ICNSFO']\n",
      "==========================================\n",
      "path:  ['ICNSFO', 'SFOATL']\n",
      "==========================================\n",
      "==========================================\n",
      "path:  ['ICNSFO', 'SFOATL', 'ATLICN']\n",
      "==========================================\n",
      "==========================================\n",
      "path:  ['ICNSFO', 'SFOATL', 'ATLSFO']\n",
      "==========================================\n",
      "path:  ['ICNSFO', 'SFOATL', 'ATLICN', 'ICNATL']\n",
      "==========================================\n",
      "==========================================\n",
      "path:  ['ICNSFO', 'SFOATL', 'ATLICN', 'ICNATL', 'ATLSFO']\n",
      "[['ICNSFO', 'SFOATL', 'ATLICN', 'ICNATL', 'ATLSFO']]\n",
      "[['ICNATL', 'ATLSFO', 'SFOATL', 'ATLICN', 'ICNSFO'], ['ICNATL', 'ATLICN', 'ICNSFO', 'SFOATL', 'ATLSFO'], ['ICNSFO', 'SFOATL', 'ATLICN', 'ICNATL', 'ATLSFO']]\n"
     ]
    }
   ],
   "source": [
    "list_answer = []\n",
    "for i in range(len(candidates)) :\n",
    "    for j in range(len(graph_root)) :\n",
    "        result = []\n",
    "        print(\"@@@@@@@@@@@@@@@@@@@@@@@@@@@@@@@@@@@@@@@@@@@@@@@@@@\")\n",
    "        find_path(graph, candidates[i], graph_root[j], result, len(tickets))\n",
    "        print(result)\n",
    "        for k in range(len(result)) :\n",
    "            if len(result[k]) == len(tickets) :\n",
    "                list_answer.append(result[k])\n",
    "                \n",
    "print(list_answer)"
   ]
  },
  {
   "cell_type": "code",
   "execution_count": 147,
   "metadata": {},
   "outputs": [
    {
     "name": "stdout",
     "output_type": "stream",
     "text": [
      "[['ICNATL', 'ATLICN', 'ICNSFO', 'SFOATL', 'ATLSFO'], ['ICNATL', 'ATLSFO', 'SFOATL', 'ATLICN', 'ICNSFO'], ['ICNSFO', 'SFOATL', 'ATLICN', 'ICNATL', 'ATLSFO']]\n"
     ]
    }
   ],
   "source": [
    "list_answer.sort()\n",
    "print(list_answer)"
   ]
  },
  {
   "cell_type": "code",
   "execution_count": 148,
   "metadata": {},
   "outputs": [
    {
     "name": "stdout",
     "output_type": "stream",
     "text": [
      "['ICN', 'ATL', 'ICN', 'SFO', 'ATL', 'SFO']\n"
     ]
    }
   ],
   "source": [
    "answer = []\n",
    "for i in range(len(list_answer[0])) :\n",
    "    answer.append(list_answer[0][i][0:3])\n",
    "    \n",
    "answer.append(list_answer[0][len(list_answer[0])-1][3:])\n",
    "print(answer)"
   ]
  },
  {
   "cell_type": "code",
   "execution_count": 84,
   "metadata": {},
   "outputs": [],
   "source": [
    "def find_path(graph, start, end, result, length) :\n",
    "    values = list(graph.items())\n",
    "    seq = {}\n",
    "    index = {}\n",
    "    for i in range(len(values)) :\n",
    "        list_ = []\n",
    "        for j in range(len(values[i][1])) :\n",
    "            list_.append(j)\n",
    "        seq[values[i][0]] = list_\n",
    "    \n",
    "    queue = [(start, [start], seq[start])]\n",
    "    \n",
    "    while queue :\n",
    "        n = queue[0][0]\n",
    "        path = queue[0][1]\n",
    "        index[n] = queue.pop(0)[2]\n",
    "        \n",
    "        if n == end and len(path) == length :\n",
    "            result.append(path)\n",
    "        else :\n",
    "            for j in range(len(graph[n])) :\n",
    "                if graph[n][j] not in index.keys() :\n",
    "                    queue.append((graph[n][j], path+[graph[n][j]], seq[graph[n][j]]))\n",
    "                    index[n].pop(0)\n",
    "                else :\n",
    "                    if len(index[n]) > 0 :\n",
    "                        queue.append((graph[n][j], path+[graph[n][j]], seq[graph[n][j]]))\n",
    "                        index[n].pop(0)\n",
    "    return\n",
    "\n",
    "def solution(tickets) :\n",
    "    waypoint = []\n",
    "    for i in range(len(tickets)) :\n",
    "        waypoint.append(tickets[i][1])\n",
    "\n",
    "    values = [[] for col in range(len(waypoint))]\n",
    "\n",
    "    waypoint = []\n",
    "    for i in range(len(tickets)) :\n",
    "        waypoint.append(tickets[i][1])\n",
    "\n",
    "    graph_root = []\n",
    "    for i in range(len(tickets)) :\n",
    "        graph_root.append(tickets[i][0] + tickets[i][1])\n",
    "\n",
    "    for i in range(len(waypoint)) :\n",
    "        for j in range(len(tickets)) :\n",
    "            if waypoint[i] == tickets[j][0] :\n",
    "                values[i].append(tickets[j])\n",
    "\n",
    "    graph_value = [[] for col in range(len(values))]\n",
    "    for i in range(len(values)) :\n",
    "        for j in range(len(values[i])) :\n",
    "            inputs = ''\n",
    "            for k in range(len(values[i][j])) :\n",
    "                 inputs += values[i][j][k]\n",
    "            graph_value[i].append(inputs)\n",
    "        graph_value[i].sort()\n",
    "\n",
    "    graph = {}\n",
    "    for i in range(len(waypoint)) :\n",
    "        graph[graph_root[i]] = graph_value[i]\n",
    "        \n",
    "    candidates = []\n",
    "    for i in range(len(tickets)) :\n",
    "        if tickets[i][0] == 'ICN' :\n",
    "            candidates.append(tickets[i][0]+tickets[i][1])\n",
    "\n",
    "    candidates.sort()\n",
    "    \n",
    "    list_answer = []\n",
    "    for i in range(len(candidates)) :\n",
    "        for j in range(len(graph_root)) :\n",
    "            result = []\n",
    "            find_path(graph, candidates[i], graph_root[j], result, len(tickets))\n",
    "            for k in range(len(result)) :\n",
    "                if len(result[k]) == len(tickets) :\n",
    "                    list_answer.append(result[k])\n",
    "                    \n",
    "    list_answer.sort()\n",
    "    \n",
    "    answer = []\n",
    "    for i in range(len(list_answer[0])) :\n",
    "        answer.append(list_answer[0][i][0:3])\n",
    "\n",
    "    answer.append(list_answer[0][len(list_answer[0])-1][3:])\n",
    "    \n",
    "    return answer"
   ]
  },
  {
   "cell_type": "code",
   "execution_count": 88,
   "metadata": {},
   "outputs": [],
   "source": [
    "tickets = [[\"ICN\", \"JFK\"], [\"HND\", \"IAD\"], [\"JFK\", \"HND\"], [\"ICN\", \"JFK\"], [\"IAD\", \"ICN\"]]\n",
    "# tickets = [[\"ICN\", \"JFK\"], [\"HND\", \"IAD\"], [\"JFK\", \"HND\"]]\n",
    "tickets = [[\"ICN\", \"SFO\"], [\"ICN\", \"ATL\"], [\"SFO\", \"ATL\"], [\"ATL\", \"ICN\"], [\"ATL\", \"SFO\"]]\n",
    "# tickets = [[\"ICN\", \"BOO\"], [\"ICN\", \"COO\"], [\"COO\", \"DOO\"], [\"DOO\", \"COO\"], [\"BOO\", \"DOO\"], [\"DOO\", \"BOO\"], [\"BOO\", \"ICN\"], [\"COO\", \"BOO\"]]\n",
    "# tickets = [[\"ICN\", \"COO\"], [\"ICN\", \"BOO\"], [\"COO\", \"ICN\"], [\"BOO\", \"DOO\"]]"
   ]
  },
  {
   "cell_type": "code",
   "execution_count": 89,
   "metadata": {},
   "outputs": [
    {
     "data": {
      "text/plain": [
       "['ICN', 'SFO', 'ATL', 'ICN', 'ATL', 'ICN']"
      ]
     },
     "execution_count": 89,
     "metadata": {},
     "output_type": "execute_result"
    }
   ],
   "source": [
    "solution(tickets)"
   ]
  },
  {
   "cell_type": "code",
   "execution_count": 18,
   "metadata": {},
   "outputs": [],
   "source": [
    "visited = []\n",
    "\n",
    "def DFS(graph, root, visited) :\n",
    "        \n",
    "    visited.append(root)\n",
    "    counter_root = Counter(graph[root])\n",
    "    counter_visited = Counter(visited)\n",
    "    visit_seq = len(list(counter_root - counter_visited))\n",
    "    \n",
    "    if visit_seq != 0 :\n",
    "        for node in graph[root] : \n",
    "            if node not in visited :\n",
    "                print(\"node: \", node)\n",
    "                DFS(graph, node, visited)\n",
    "            else :\n",
    "                if graph[root].count(node) > 1 :\n",
    "                    graph[root].remove(node)\n",
    "                    DFS(graph, node, visited)\n",
    "    else :\n",
    "        if len(visited) == len(tickets) :\n",
    "            return\n",
    "        else :\n",
    "            visited.remove(root)\n",
    "            \n",
    "    return"
   ]
  },
  {
   "cell_type": "code",
   "execution_count": 19,
   "metadata": {},
   "outputs": [
    {
     "name": "stdout",
     "output_type": "stream",
     "text": [
      "node:  BOODOO\n",
      "['ICNBOO']\n"
     ]
    }
   ],
   "source": [
    "DFS(graph, root, visited)\n",
    "print(visited)"
   ]
  },
  {
   "cell_type": "code",
   "execution_count": 20,
   "metadata": {},
   "outputs": [],
   "source": [
    "def BFS(graph, root) :\n",
    "    visit = []\n",
    "    queue = []\n",
    "    \n",
    "    queue.append(root)\n",
    "    \n",
    "    while queue :\n",
    "        node = queue.pop(0)\n",
    "        if node not in visit :\n",
    "            visit.append(node)\n",
    "            queue.extend(graph[node])\n",
    "            \n",
    "    return visit"
   ]
  },
  {
   "cell_type": "code",
   "execution_count": 21,
   "metadata": {},
   "outputs": [
    {
     "data": {
      "text/plain": [
       "['ICNBOO', 'BOODOO']"
      ]
     },
     "execution_count": 21,
     "metadata": {},
     "output_type": "execute_result"
    }
   ],
   "source": [
    "BFS(graph, root)"
   ]
  },
  {
   "cell_type": "code",
   "execution_count": 29,
   "metadata": {},
   "outputs": [],
   "source": [
    "visited = []\n",
    "\n",
    "def DFS(graph, root, visited) :\n",
    "        \n",
    "    visited.append(root)\n",
    "    \n",
    "    for node in graph[root] :\n",
    "        if node not in visited :\n",
    "            DFS(graph, node, visited)\n",
    "        elif graph_root.count(DFS) > 1 :\n",
    "            DFS(graph, node, visited)            \n",
    "            \n",
    "    return\n",
    "\n",
    "DFS(graph, root, visited)\n",
    "\n",
    "print(visited)"
   ]
  },
  {
   "cell_type": "code",
   "execution_count": 128,
   "metadata": {},
   "outputs": [
    {
     "name": "stdout",
     "output_type": "stream",
     "text": [
      "['ICNATL', 'ATLICN', 'ICNSFO', 'SFOATL', 'ATLSFO']\n"
     ]
    }
   ],
   "source": [
    "print(visited)"
   ]
  },
  {
   "cell_type": "code",
   "execution_count": 21,
   "metadata": {},
   "outputs": [],
   "source": [
    "candidates = []\n",
    "\n",
    "for i in range(len(tickets)) :\n",
    "    if tickets[i][0] == 'ICN' :\n",
    "        candidates.append(tickets[i][0]+tickets[i][1])\n",
    "        \n",
    "candidates.sort()\n",
    "root = candidates[0]"
   ]
  },
  {
   "cell_type": "code",
   "execution_count": 26,
   "metadata": {},
   "outputs": [],
   "source": [
    "answer = []\n",
    "visited = []\n",
    "\n",
    "DFS(graph, root, visited)\n",
    "\n",
    "for i in range(len(visited)) :\n",
    "    answer.append(visited[i][0:3])\n",
    "    \n",
    "answer.append(visited[len(visited)-1][3:])"
   ]
  },
  {
   "cell_type": "code",
   "execution_count": 27,
   "metadata": {},
   "outputs": [
    {
     "name": "stdout",
     "output_type": "stream",
     "text": [
      "['ICN', 'JFK', 'HND', 'IAD']\n"
     ]
    }
   ],
   "source": [
    "print(answer)"
   ]
  },
  {
   "cell_type": "code",
   "execution_count": 2,
   "metadata": {},
   "outputs": [],
   "source": [
    "from collections import Counter\n",
    "\n",
    "def DFS(graph, root, visited, graph_root) :\n",
    "        \n",
    "    visited.append(root)\n",
    "    counter_root = Counter(graph[root])\n",
    "    counter_visited = Counter(visited)\n",
    "    visit_seq = len(list(counter_root - counter_visited))\n",
    "    \n",
    "    if visit_seq != 0 :\n",
    "        for node in graph[root] : \n",
    "            if node not in visited :\n",
    "                DFS(graph, node, visited, graph_root)\n",
    "            else :\n",
    "                if graph[root].count(node) > 1 :\n",
    "                    graph[root].remove(node)\n",
    "                    DFS(graph, node, visited, graph_root)\n",
    "    else :\n",
    "        if len(visited) == len(graph_root) :\n",
    "            return\n",
    "        else :\n",
    "            visited.remove(root)\n",
    "\n",
    "def solution(tickets) :\n",
    "    answer = []\n",
    "    visited = []\n",
    "    \n",
    "    waypoint = []\n",
    "    \n",
    "    for i in range(len(tickets)) :\n",
    "        waypoint.append(tickets[i][1])\n",
    "        \n",
    "    values = [[] for col in range(len(waypoint))]\n",
    "\n",
    "    graph_root = []\n",
    "\n",
    "    for i in range(len(tickets)) :\n",
    "        graph_root.append(tickets[i][0] + tickets[i][1])\n",
    "\n",
    "    for i in range(len(waypoint)) :\n",
    "        for j in range(len(tickets)) :\n",
    "            if waypoint[i] == tickets[j][0] :\n",
    "                values[i].append(tickets[j])\n",
    "\n",
    "    graph_value = [[] for col in range(len(values))]\n",
    "\n",
    "    for i in range(len(values)) :\n",
    "        for j in range(len(values[i])) :\n",
    "            inputs = ''\n",
    "            for k in range(len(values[i][j])) :\n",
    "                 inputs += values[i][j][k]\n",
    "            graph_value[i].append(inputs)\n",
    "        graph_value[i].sort()\n",
    "\n",
    "    graph = {}\n",
    "\n",
    "    for i in range(len(waypoint)) :\n",
    "        graph[graph_root[i]] = graph_value[i]\n",
    "        \n",
    "        candidates = []\n",
    "\n",
    "    for i in range(len(tickets)) :\n",
    "        if tickets[i][0] == 'ICN' :\n",
    "            candidates.append(tickets[i][0]+tickets[i][1])\n",
    "\n",
    "    candidates.sort()\n",
    "    root = candidates[0]\n",
    "    \n",
    "    DFS(graph, root, visited, graph_root)\n",
    "\n",
    "    for i in range(len(visited)) :\n",
    "        answer.append(visited[i][0:3])\n",
    "\n",
    "    answer.append(visited[len(visited)-1][3:])\n",
    "    \n",
    "    return answer"
   ]
  },
  {
   "cell_type": "code",
   "execution_count": 3,
   "metadata": {},
   "outputs": [],
   "source": [
    "tickets = [[\"ICN\", \"JFK\"], [\"HND\", \"IAD\"], [\"JFK\", \"HND\"], [\"ICN\", \"JFK\"], [\"IAD\", \"ICN\"]]\n",
    "tickets = [[\"ICN\", \"COO\"], [\"ICN\", \"BOO\"], [\"COO\", \"ICN\"], [\"BOO\", \"DOO\"]]\n",
    "# tickets = [[\"ICN\", \"SFO\"], [\"ICN\", \"ATL\"], [\"SFO\", \"ATL\"], [\"ATL\", \"ICN\"], [\"ATL\", \"SFO\"], [\"SFO\", \"ATL\"]]\n",
    "# tickets = [[\"ICN\", \"JFK\"], [\"JFK\", \"ICN\"], [\"ICN\", \"JFK\"], [\"JFK\", \"ICN\"], [\"ICN\", \"JFK\"], [\"JFK\", \"ICN\"]]\n",
    "# tickets = [[\"ICN\", \"BOO\"], [\"ICN\", \"COO\"], [\"COO\", \"DOO\"], [\"DOO\", \"COO\"], [\"BOO\", \"DOO\"], [\"DOO\", \"BOO\"], [\"BOO\", \"ICN\"], [\"COO\", \"BOO\"]]"
   ]
  },
  {
   "cell_type": "code",
   "execution_count": 4,
   "metadata": {},
   "outputs": [
    {
     "data": {
      "text/plain": [
       "['ICN', 'BOO']"
      ]
     },
     "execution_count": 4,
     "metadata": {},
     "output_type": "execute_result"
    }
   ],
   "source": [
    "solution(tickets)"
   ]
  },
  {
   "cell_type": "code",
   "execution_count": null,
   "metadata": {},
   "outputs": [],
   "source": []
  }
 ],
 "metadata": {
  "kernelspec": {
   "display_name": "Python 3",
   "language": "python",
   "name": "python3"
  },
  "language_info": {
   "codemirror_mode": {
    "name": "ipython",
    "version": 3
   },
   "file_extension": ".py",
   "mimetype": "text/x-python",
   "name": "python",
   "nbconvert_exporter": "python",
   "pygments_lexer": "ipython3",
   "version": "3.7.3"
  }
 },
 "nbformat": 4,
 "nbformat_minor": 2
}
