{
 "cells": [
  {
   "cell_type": "code",
   "execution_count": 29,
   "metadata": {},
   "outputs": [],
   "source": [
    "from collections import Counter"
   ]
  },
  {
   "cell_type": "code",
   "execution_count": 67,
   "metadata": {},
   "outputs": [],
   "source": [
    "tickets = [[\"ICN\", \"JFK\"], [\"HND\", \"IAD\"], [\"JFK\", \"HND\"], [\"ICN\", \"JFK\"], [\"IAD\", \"ICN\"]]\n",
    "# tickets = [[\"ICN\", \"SFO\"], [\"ICN\", \"ATL\"], [\"SFO\", \"ATL\"], [\"ATL\", \"ICN\"], [\"ATL\", \"SFO\"]]\n",
    "tickets = [[\"ICN\", \"BOO\"], [\"ICN\", \"COO\"], [\"COO\", \"DOO\"], [\"DOO\", \"COO\"], [\"BOO\", \"DOO\"], [\"DOO\", \"BOO\"], [\"BOO\", \"ICN\"], [\"COO\", \"BOO\"]]"
   ]
  },
  {
   "cell_type": "code",
   "execution_count": 68,
   "metadata": {},
   "outputs": [
    {
     "data": {
      "text/plain": [
       "['BOO', 'COO', 'DOO', 'COO', 'DOO', 'BOO', 'ICN', 'BOO']"
      ]
     },
     "execution_count": 68,
     "metadata": {},
     "output_type": "execute_result"
    }
   ],
   "source": [
    "waypoint = []\n",
    "for i in range(len(tickets)) :\n",
    "    waypoint.append(tickets[i][1])\n",
    "    \n",
    "waypoint"
   ]
  },
  {
   "cell_type": "code",
   "execution_count": 69,
   "metadata": {},
   "outputs": [],
   "source": [
    "values = [[] for col in range(len(waypoint))]"
   ]
  },
  {
   "cell_type": "code",
   "execution_count": 70,
   "metadata": {},
   "outputs": [],
   "source": [
    "waypoint = []\n",
    "for i in range(len(tickets)) :\n",
    "    waypoint.append(tickets[i][1])\n",
    "\n",
    "graph_root = []\n",
    "\n",
    "for i in range(len(tickets)) :\n",
    "    graph_root.append(tickets[i][0] + tickets[i][1])\n",
    "\n",
    "for i in range(len(waypoint)) :\n",
    "    for j in range(len(tickets)) :\n",
    "        if waypoint[i] == tickets[j][0] :\n",
    "            values[i].append(tickets[j])"
   ]
  },
  {
   "cell_type": "code",
   "execution_count": 71,
   "metadata": {},
   "outputs": [
    {
     "name": "stdout",
     "output_type": "stream",
     "text": [
      "['ICNBOO', 'ICNCOO', 'COODOO', 'DOOCOO', 'BOODOO', 'DOOBOO', 'BOOICN', 'COOBOO']\n"
     ]
    },
    {
     "data": {
      "text/plain": [
       "[[['BOO', 'DOO'], ['BOO', 'ICN']],\n",
       " [['COO', 'DOO'], ['COO', 'BOO']],\n",
       " [['DOO', 'COO'], ['DOO', 'BOO']],\n",
       " [['COO', 'DOO'], ['COO', 'BOO']],\n",
       " [['DOO', 'COO'], ['DOO', 'BOO']],\n",
       " [['BOO', 'DOO'], ['BOO', 'ICN']],\n",
       " [['ICN', 'BOO'], ['ICN', 'COO']],\n",
       " [['BOO', 'DOO'], ['BOO', 'ICN']]]"
      ]
     },
     "execution_count": 71,
     "metadata": {},
     "output_type": "execute_result"
    }
   ],
   "source": [
    "print(graph_root)\n",
    "values"
   ]
  },
  {
   "cell_type": "code",
   "execution_count": 72,
   "metadata": {},
   "outputs": [
    {
     "data": {
      "text/plain": [
       "[['BOODOO', 'BOOICN'],\n",
       " ['COOBOO', 'COODOO'],\n",
       " ['DOOBOO', 'DOOCOO'],\n",
       " ['COOBOO', 'COODOO'],\n",
       " ['DOOBOO', 'DOOCOO'],\n",
       " ['BOODOO', 'BOOICN'],\n",
       " ['ICNBOO', 'ICNCOO'],\n",
       " ['BOODOO', 'BOOICN']]"
      ]
     },
     "execution_count": 72,
     "metadata": {},
     "output_type": "execute_result"
    }
   ],
   "source": [
    "graph_value = [[] for col in range(len(values))]\n",
    "\n",
    "for i in range(len(values)) :\n",
    "    for j in range(len(values[i])) :\n",
    "        inputs = ''\n",
    "        for k in range(len(values[i][j])) :\n",
    "             inputs += values[i][j][k]\n",
    "        graph_value[i].append(inputs)\n",
    "    graph_value[i].sort()\n",
    "\n",
    "graph_value"
   ]
  },
  {
   "cell_type": "code",
   "execution_count": 73,
   "metadata": {},
   "outputs": [],
   "source": [
    "graph = {}\n",
    "\n",
    "for i in range(len(waypoint)) :\n",
    "    graph[graph_root[i]] = graph_value[i]"
   ]
  },
  {
   "cell_type": "code",
   "execution_count": 74,
   "metadata": {},
   "outputs": [
    {
     "data": {
      "text/plain": [
       "{'ICNBOO': ['BOODOO', 'BOOICN'],\n",
       " 'ICNCOO': ['COOBOO', 'COODOO'],\n",
       " 'COODOO': ['DOOBOO', 'DOOCOO'],\n",
       " 'DOOCOO': ['COOBOO', 'COODOO'],\n",
       " 'BOODOO': ['DOOBOO', 'DOOCOO'],\n",
       " 'DOOBOO': ['BOODOO', 'BOOICN'],\n",
       " 'BOOICN': ['ICNBOO', 'ICNCOO'],\n",
       " 'COOBOO': ['BOODOO', 'BOOICN']}"
      ]
     },
     "execution_count": 74,
     "metadata": {},
     "output_type": "execute_result"
    }
   ],
   "source": [
    "graph"
   ]
  },
  {
   "cell_type": "code",
   "execution_count": 75,
   "metadata": {},
   "outputs": [
    {
     "name": "stdout",
     "output_type": "stream",
     "text": [
      "ICNBOO\n"
     ]
    }
   ],
   "source": [
    "candidates = []\n",
    "\n",
    "for i in range(len(tickets)) :\n",
    "    if tickets[i][0] == 'ICN' :\n",
    "        candidates.append(tickets[i][0]+tickets[i][1])\n",
    "        \n",
    "candidates.sort()\n",
    "root = candidates[0]\n",
    "print(root)"
   ]
  },
  {
   "cell_type": "code",
   "execution_count": 76,
   "metadata": {},
   "outputs": [
    {
     "data": {
      "text/plain": [
       "['ICNBOO',\n",
       " 'ICNCOO',\n",
       " 'COODOO',\n",
       " 'DOOCOO',\n",
       " 'BOODOO',\n",
       " 'DOOBOO',\n",
       " 'BOOICN',\n",
       " 'COOBOO']"
      ]
     },
     "execution_count": 76,
     "metadata": {},
     "output_type": "execute_result"
    }
   ],
   "source": [
    "list(graph.keys())"
   ]
  },
  {
   "cell_type": "markdown",
   "metadata": {},
   "source": [
    "중복된 티켓 사용"
   ]
  },
  {
   "cell_type": "code",
   "execution_count": 78,
   "metadata": {},
   "outputs": [],
   "source": [
    "visited = []\n",
    "\n",
    "def DFS(graph, root, visited) :\n",
    "        \n",
    "    visited.append(root)\n",
    "    counter_root = Counter(graph[root])\n",
    "    counter_visited = Counter(visited)\n",
    "    visit_seq = len(list(counter_root - counter_visited))\n",
    "    \n",
    "    if visit_seq != 0 :\n",
    "        for node in graph[root] : \n",
    "            if node not in visited :\n",
    "                print(\"node: \", node)\n",
    "                DFS(graph, node, visited)\n",
    "            else :\n",
    "                if graph[root].count(node) > 1 :\n",
    "                    graph[root].remove(node)\n",
    "                    DFS(graph, node, visited)\n",
    "    else :\n",
    "        if len(visited) == len(tickets) :\n",
    "            return\n",
    "        else :\n",
    "            visited.remove(root)\n",
    "            \n",
    "    return"
   ]
  },
  {
   "cell_type": "code",
   "execution_count": 79,
   "metadata": {},
   "outputs": [
    {
     "name": "stdout",
     "output_type": "stream",
     "text": [
      "node:  BOODOO\n",
      "node:  DOOBOO\n",
      "node:  BOOICN\n",
      "node:  ICNCOO\n",
      "node:  COOBOO\n",
      "node:  COODOO\n",
      "node:  DOOCOO\n",
      "node:  COOBOO\n",
      "['ICNBOO', 'BOODOO', 'DOOBOO', 'BOOICN', 'ICNCOO', 'COODOO', 'DOOCOO', 'COOBOO']\n"
     ]
    }
   ],
   "source": [
    "DFS(graph, root, visited)\n",
    "print(visited)"
   ]
  },
  {
   "cell_type": "code",
   "execution_count": 124,
   "metadata": {},
   "outputs": [],
   "source": [
    "def BFS(graph, root) :\n",
    "    visit = []\n",
    "    queue = []\n",
    "    \n",
    "    queue.append(root)\n",
    "    \n",
    "    while queue :\n",
    "        node = queue.pop(0)\n",
    "        if node not in visit :\n",
    "            visit.append(node)\n",
    "            queue.extend(graph[node])\n",
    "            \n",
    "    return visit"
   ]
  },
  {
   "cell_type": "code",
   "execution_count": 125,
   "metadata": {},
   "outputs": [
    {
     "data": {
      "text/plain": [
       "['ICNATL', 'ATLICN', 'ATLSFO', 'ICNSFO', 'SFOATL']"
      ]
     },
     "execution_count": 125,
     "metadata": {},
     "output_type": "execute_result"
    }
   ],
   "source": [
    "BFS(graph, 'ICNATL')"
   ]
  },
  {
   "cell_type": "code",
   "execution_count": 29,
   "metadata": {},
   "outputs": [],
   "source": [
    "visited = []\n",
    "\n",
    "def DFS(graph, root, visited) :\n",
    "        \n",
    "    visited.append(root)\n",
    "    \n",
    "    for node in graph[root] :\n",
    "        if node not in visited :\n",
    "            DFS(graph, node, visited)\n",
    "        elif graph_root.count(DFS) > 1 :\n",
    "            DFS(graph, node, visited)            \n",
    "            \n",
    "    return\n",
    "\n",
    "DFS(graph, root, visited)\n",
    "\n",
    "print(visited)"
   ]
  },
  {
   "cell_type": "code",
   "execution_count": 128,
   "metadata": {},
   "outputs": [
    {
     "name": "stdout",
     "output_type": "stream",
     "text": [
      "['ICNATL', 'ATLICN', 'ICNSFO', 'SFOATL', 'ATLSFO']\n"
     ]
    }
   ],
   "source": [
    "print(visited)"
   ]
  },
  {
   "cell_type": "code",
   "execution_count": 21,
   "metadata": {},
   "outputs": [],
   "source": [
    "candidates = []\n",
    "\n",
    "for i in range(len(tickets)) :\n",
    "    if tickets[i][0] == 'ICN' :\n",
    "        candidates.append(tickets[i][0]+tickets[i][1])\n",
    "        \n",
    "candidates.sort()\n",
    "root = candidates[0]"
   ]
  },
  {
   "cell_type": "code",
   "execution_count": 26,
   "metadata": {},
   "outputs": [],
   "source": [
    "answer = []\n",
    "visited = []\n",
    "\n",
    "DFS(graph, root, visited)\n",
    "\n",
    "for i in range(len(visited)) :\n",
    "    answer.append(visited[i][0:3])\n",
    "    \n",
    "answer.append(visited[len(visited)-1][3:])"
   ]
  },
  {
   "cell_type": "code",
   "execution_count": 27,
   "metadata": {},
   "outputs": [
    {
     "name": "stdout",
     "output_type": "stream",
     "text": [
      "['ICN', 'JFK', 'HND', 'IAD']\n"
     ]
    }
   ],
   "source": [
    "print(answer)"
   ]
  },
  {
   "cell_type": "code",
   "execution_count": 83,
   "metadata": {},
   "outputs": [],
   "source": [
    "from collections import Counter\n",
    "\n",
    "def DFS(graph, root, visited, graph_root) :\n",
    "        \n",
    "    visited.append(root)\n",
    "    counter_root = Counter(graph[root])\n",
    "    counter_visited = Counter(visited)\n",
    "    visit_seq = len(list(counter_root - counter_visited))\n",
    "    \n",
    "    if visit_seq != 0 :\n",
    "        for node in graph[root] : \n",
    "            if node not in visited :\n",
    "                DFS(graph, node, visited, graph_root)\n",
    "            else :\n",
    "                if graph[root].count(node) > 1 :\n",
    "                    graph[root].remove(node)\n",
    "                    DFS(graph, node, visited, graph_root)\n",
    "    else :\n",
    "        if len(visited) == len(graph_root) :\n",
    "            return\n",
    "        else :\n",
    "            visited.remove(root)\n",
    "\n",
    "def solution(tickets) :\n",
    "    answer = []\n",
    "    visited = []\n",
    "    \n",
    "    waypoint = []\n",
    "    \n",
    "    for i in range(len(tickets)) :\n",
    "        waypoint.append(tickets[i][1])\n",
    "        \n",
    "    values = [[] for col in range(len(waypoint))]\n",
    "\n",
    "    graph_root = []\n",
    "\n",
    "    for i in range(len(tickets)) :\n",
    "        graph_root.append(tickets[i][0] + tickets[i][1])\n",
    "\n",
    "    for i in range(len(waypoint)) :\n",
    "        for j in range(len(tickets)) :\n",
    "            if waypoint[i] == tickets[j][0] :\n",
    "                values[i].append(tickets[j])\n",
    "\n",
    "    graph_value = [[] for col in range(len(values))]\n",
    "\n",
    "    for i in range(len(values)) :\n",
    "        for j in range(len(values[i])) :\n",
    "            inputs = ''\n",
    "            for k in range(len(values[i][j])) :\n",
    "                 inputs += values[i][j][k]\n",
    "            graph_value[i].append(inputs)\n",
    "        graph_value[i].sort()\n",
    "\n",
    "    graph = {}\n",
    "\n",
    "    for i in range(len(waypoint)) :\n",
    "        graph[graph_root[i]] = graph_value[i]\n",
    "        \n",
    "        candidates = []\n",
    "\n",
    "    for i in range(len(tickets)) :\n",
    "        if tickets[i][0] == 'ICN' :\n",
    "            candidates.append(tickets[i][0]+tickets[i][1])\n",
    "\n",
    "    candidates.sort()\n",
    "    root = candidates[0]\n",
    "    \n",
    "    DFS(graph, root, visited, graph_root)\n",
    "\n",
    "    for i in range(len(visited)) :\n",
    "        answer.append(visited[i][0:3])\n",
    "\n",
    "    answer.append(visited[len(visited)-1][3:])\n",
    "    \n",
    "    return answer"
   ]
  },
  {
   "cell_type": "code",
   "execution_count": 88,
   "metadata": {},
   "outputs": [],
   "source": [
    "tickets = [[\"ICN\", \"JFK\"], [\"HND\", \"IAD\"], [\"JFK\", \"HND\"], [\"ICN\", \"JFK\"], [\"IAD\", \"ICN\"]]\n",
    "# tickets = [[\"ICN\", \"SFO\"], [\"ICN\", \"ATL\"], [\"SFO\", \"ATL\"], [\"ATL\", \"ICN\"], [\"ATL\", \"SFO\"], [\"SFO\", \"ATL\"]]\n",
    "# tickets = [[\"ICN\", \"JFK\"], [\"JFK\", \"ICN\"], [\"ICN\", \"JFK\"], [\"JFK\", \"ICN\"], [\"ICN\", \"JFK\"], [\"JFK\", \"ICN\"]]\n",
    "# tickets = [[\"ICN\", \"BOO\"], [\"ICN\", \"COO\"], [\"COO\", \"DOO\"], [\"DOO\", \"COO\"], [\"BOO\", \"DOO\"], [\"DOO\", \"BOO\"], [\"BOO\", \"ICN\"], [\"COO\", \"BOO\"]]"
   ]
  },
  {
   "cell_type": "code",
   "execution_count": 89,
   "metadata": {},
   "outputs": [
    {
     "name": "stdout",
     "output_type": "stream",
     "text": [
      "node:  JFKHND\n",
      "node:  HNDIAD\n",
      "node:  IADICN\n"
     ]
    },
    {
     "data": {
      "text/plain": [
       "['ICN', 'JFK', 'HND', 'IAD', 'ICN', 'JFK']"
      ]
     },
     "execution_count": 89,
     "metadata": {},
     "output_type": "execute_result"
    }
   ],
   "source": [
    "solution(tickets)"
   ]
  },
  {
   "cell_type": "code",
   "execution_count": null,
   "metadata": {},
   "outputs": [],
   "source": []
  }
 ],
 "metadata": {
  "kernelspec": {
   "display_name": "Python 3",
   "language": "python",
   "name": "python3"
  },
  "language_info": {
   "codemirror_mode": {
    "name": "ipython",
    "version": 3
   },
   "file_extension": ".py",
   "mimetype": "text/x-python",
   "name": "python",
   "nbconvert_exporter": "python",
   "pygments_lexer": "ipython3",
   "version": "3.7.3"
  }
 },
 "nbformat": 4,
 "nbformat_minor": 2
}
