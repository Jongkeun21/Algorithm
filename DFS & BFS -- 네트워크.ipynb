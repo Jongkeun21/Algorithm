{
 "cells": [
  {
   "cell_type": "code",
   "execution_count": 162,
   "metadata": {},
   "outputs": [],
   "source": [
    "n = 3\n",
    "computers = [[1,1,0],[1,1,0],[0,0,1]]\n",
    "n = 4\n",
    "computers = [[1,0,0,1],[0,1,1,1],[0,1,1,0],[1,1,0,1]]\n",
    "computers = [[1,1,1,0],[1,1,1,0],[1,1,1,1],[0,0,1,1]]\n",
    "n = 5\n",
    "computers = [[1,1,0,0,0],[1,1,0,0,0],[0,0,1,1,0],[0,0,1,1,1],[0,0,0,1,1]]"
   ]
  },
  {
   "cell_type": "markdown",
   "metadata": {},
   "source": [
    "### 이게 최종"
   ]
  },
  {
   "cell_type": "code",
   "execution_count": 163,
   "metadata": {},
   "outputs": [],
   "source": [
    "def solution(n, computers) :\n",
    "    graph = [[] for col in range(n)]\n",
    "\n",
    "    for i in range(n) :\n",
    "        for j in range(len(computers[i])) :\n",
    "            if computers[i][j] == 1:\n",
    "                graph[i].append(j)\n",
    "\n",
    "    visited = []\n",
    "    count = [0]\n",
    "\n",
    "    def DFS_rec(graph, root, visited, count) :\n",
    "        visited.append(root)\n",
    "\n",
    "        for node in graph[root] :\n",
    "            if not node in visited :\n",
    "                count[0] += 1\n",
    "                DFS_rec(graph, node, visited, count)\n",
    "\n",
    "        return visited\n",
    "\n",
    "    for i in range(n) :\n",
    "        DFS_rec(graph, i, visited, count)\n",
    "        \n",
    "    answer = 0\n",
    "    answer = n - count[0]\n",
    "    \n",
    "    return answer"
   ]
  },
  {
   "cell_type": "code",
   "execution_count": 164,
   "metadata": {},
   "outputs": [
    {
     "data": {
      "text/plain": [
       "2"
      ]
     },
     "execution_count": 164,
     "metadata": {},
     "output_type": "execute_result"
    }
   ],
   "source": [
    "solution(n, computers)"
   ]
  },
  {
   "cell_type": "code",
   "execution_count": 153,
   "metadata": {},
   "outputs": [
    {
     "name": "stdout",
     "output_type": "stream",
     "text": [
      "[0, 1, 2, 3, 1, 2, 3]\n"
     ]
    }
   ],
   "source": [
    "print(visited)"
   ]
  },
  {
   "cell_type": "code",
   "execution_count": 154,
   "metadata": {},
   "outputs": [
    {
     "name": "stdout",
     "output_type": "stream",
     "text": [
      "[3]\n"
     ]
    }
   ],
   "source": [
    "print(count)"
   ]
  },
  {
   "cell_type": "code",
   "execution_count": 52,
   "metadata": {},
   "outputs": [
    {
     "name": "stdout",
     "output_type": "stream",
     "text": [
      "[[False, False, False, False], [False, False, False, False], [False, False, False, False], [False, False, False, False]]\n"
     ]
    }
   ],
   "source": [
    "visit = [[False for col in range(len(computers))] for col in range(n)]\n",
    "print(visit)"
   ]
  },
  {
   "cell_type": "code",
   "execution_count": 53,
   "metadata": {},
   "outputs": [],
   "source": [
    "def DFS(i, j) :\n",
    "    print(\"i :\", i, \"   j: \", j)\n",
    "    if i == n :\n",
    "        return\n",
    "    \n",
    "    for k in range(0, n) :\n",
    "        if computers[i][k] == 1 and visit[i][k] != True :\n",
    "            visit[i][k] = True\n",
    "            visit[k][i] = True\n",
    "            DFS(k, i)\n",
    "            \n",
    "    DFS(i+1, 0)"
   ]
  },
  {
   "cell_type": "code",
   "execution_count": 54,
   "metadata": {},
   "outputs": [
    {
     "name": "stdout",
     "output_type": "stream",
     "text": [
      "i : 0    j:  0\n",
      "i : 0    j:  0\n",
      "i : 1    j:  0\n",
      "i : 1    j:  1\n",
      "i : 2    j:  1\n",
      "i : 0    j:  2\n",
      "i : 1    j:  0\n",
      "i : 2    j:  0\n",
      "i : 2    j:  2\n",
      "i : 3    j:  2\n",
      "i : 3    j:  3\n",
      "i : 4    j:  0\n",
      "i : 4    j:  0\n",
      "i : 3    j:  0\n",
      "i : 4    j:  0\n",
      "i : 3    j:  0\n",
      "i : 4    j:  0\n",
      "i : 3    j:  0\n",
      "i : 4    j:  0\n",
      "i : 2    j:  0\n",
      "i : 3    j:  0\n",
      "i : 4    j:  0\n",
      "i : 2    j:  0\n",
      "i : 3    j:  0\n",
      "i : 4    j:  0\n",
      "i : 1    j:  0\n",
      "i : 2    j:  0\n",
      "i : 3    j:  0\n",
      "i : 4    j:  0\n",
      "i : 1    j:  0\n",
      "i : 2    j:  0\n",
      "i : 3    j:  0\n",
      "i : 4    j:  0\n"
     ]
    }
   ],
   "source": [
    "DFS(0, 0)"
   ]
  },
  {
   "cell_type": "code",
   "execution_count": 55,
   "metadata": {},
   "outputs": [
    {
     "name": "stdout",
     "output_type": "stream",
     "text": [
      "[[True, True, True, False], [True, True, True, False], [True, True, True, True], [False, False, True, True]]\n"
     ]
    }
   ],
   "source": [
    "print(visit)"
   ]
  },
  {
   "cell_type": "code",
   "execution_count": 19,
   "metadata": {},
   "outputs": [],
   "source": [
    "start = 0\n",
    "result = []\n",
    "visit = [[False for col in range(len(computers))] for col in range(n)]\n",
    "\n",
    "def DFS(i, result) :\n",
    "    if i == n :\n",
    "        return result\n",
    "\n",
    "    else :\n",
    "        visit[i][i] = True\n",
    "\n",
    "        for cnt in range(0, n) :                \n",
    "            if visit[i][cnt] != True and computers[i][cnt] == 1:\n",
    "                visit[i][cnt] = True\n",
    "                visit[cnt][i] = True\n",
    "        i += 1\n",
    "        DFS(i, result)"
   ]
  },
  {
   "cell_type": "code",
   "execution_count": 20,
   "metadata": {},
   "outputs": [],
   "source": [
    "DFS(start, result)"
   ]
  },
  {
   "cell_type": "code",
   "execution_count": 21,
   "metadata": {},
   "outputs": [
    {
     "name": "stdout",
     "output_type": "stream",
     "text": [
      "[]\n"
     ]
    }
   ],
   "source": [
    "print(result)"
   ]
  },
  {
   "cell_type": "code",
   "execution_count": 10,
   "metadata": {},
   "outputs": [],
   "source": [
    "def solution(n, computers) :\n",
    "    start = 0\n",
    "    result = [0]\n",
    "    visit = [[False for col in range(len(computers))] for col in range(n)]\n",
    "    def DFS(i, result) :\n",
    "        if i == n :\n",
    "            return result[0]\n",
    "\n",
    "        else :\n",
    "            visit[i][i] = True\n",
    "\n",
    "            for cnt in range(0, n) :\n",
    "                if visit[i][cnt] != True and computers[i][cnt] == 1:\n",
    "                    visit[i][cnt] = True\n",
    "                    visit[cnt][i] = True\n",
    "                    result[0] += 1\n",
    "\n",
    "            i += 1\n",
    "            DFS(i, result)\n",
    "            \n",
    "    DFS(start, result)\n",
    "    answer = n - result[0]\n",
    "    return answer"
   ]
  },
  {
   "cell_type": "code",
   "execution_count": 11,
   "metadata": {},
   "outputs": [
    {
     "data": {
      "text/plain": [
       "0"
      ]
     },
     "execution_count": 11,
     "metadata": {},
     "output_type": "execute_result"
    }
   ],
   "source": [
    "solution(n, computers)"
   ]
  },
  {
   "cell_type": "code",
   "execution_count": null,
   "metadata": {},
   "outputs": [],
   "source": []
  }
 ],
 "metadata": {
  "kernelspec": {
   "display_name": "Python 3",
   "language": "python",
   "name": "python3"
  },
  "language_info": {
   "codemirror_mode": {
    "name": "ipython",
    "version": 3
   },
   "file_extension": ".py",
   "mimetype": "text/x-python",
   "name": "python",
   "nbconvert_exporter": "python",
   "pygments_lexer": "ipython3",
   "version": "3.7.3"
  }
 },
 "nbformat": 4,
 "nbformat_minor": 2
}
