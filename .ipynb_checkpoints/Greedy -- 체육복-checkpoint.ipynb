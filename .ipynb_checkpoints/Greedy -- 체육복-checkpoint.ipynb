{
 "cells": [
  {
   "cell_type": "code",
   "execution_count": 81,
   "metadata": {},
   "outputs": [],
   "source": [
    "def solution(n, lost, reserve) :\n",
    "    answer = 0\n",
    "    new_reserve = []\n",
    "    new_lost = []\n",
    "    borrow = []\n",
    "\n",
    "    for num in reserve :\n",
    "        if num not in lost :\n",
    "            new_reserve.append(num)\n",
    "\n",
    "    for num in lost :\n",
    "        if num not in reserve :\n",
    "            new_lost.append(num)\n",
    "            \n",
    "    for student in new_lost :\n",
    "        if student-1 in new_reserve :\n",
    "            borrow.append(student)\n",
    "            new_reserve.remove(student-1)\n",
    "        elif student+1 in new_reserve :\n",
    "            borrow.append(student)\n",
    "            new_reserve.remove(student+1)\n",
    "            \n",
    "    answer = n-(len(new_lost)-len(borrow))\n",
    "    \n",
    "    return answer"
   ]
  },
  {
   "cell_type": "code",
   "execution_count": 82,
   "metadata": {},
   "outputs": [],
   "source": [
    "n = 5\n",
    "lost = [2,4]\n",
    "reserve = [1,3,5]\n",
    "# return 5"
   ]
  },
  {
   "cell_type": "code",
   "execution_count": 34,
   "metadata": {},
   "outputs": [],
   "source": [
    "n = 5\n",
    "lost = [2,4]\n",
    "reserve = [3]\n",
    "# return 4"
   ]
  },
  {
   "cell_type": "code",
   "execution_count": 42,
   "metadata": {},
   "outputs": [],
   "source": [
    "n = 3\n",
    "lost = [3]\n",
    "reserve = [1]\n",
    "# return 2"
   ]
  },
  {
   "cell_type": "code",
   "execution_count": 72,
   "metadata": {},
   "outputs": [],
   "source": [
    "n = 10\n",
    "lost = [3,9,10]\n",
    "reserve = [3,8,9]"
   ]
  },
  {
   "cell_type": "code",
   "execution_count": 83,
   "metadata": {},
   "outputs": [
    {
     "data": {
      "text/plain": [
       "5"
      ]
     },
     "execution_count": 83,
     "metadata": {},
     "output_type": "execute_result"
    }
   ],
   "source": [
    "solution(n, lost, reserve)"
   ]
  }
 ],
 "metadata": {
  "kernelspec": {
   "display_name": "Python 3",
   "language": "python",
   "name": "python3"
  },
  "language_info": {
   "codemirror_mode": {
    "name": "ipython",
    "version": 3
   },
   "file_extension": ".py",
   "mimetype": "text/x-python",
   "name": "python",
   "nbconvert_exporter": "python",
   "pygments_lexer": "ipython3",
   "version": "3.7.3"
  }
 },
 "nbformat": 4,
 "nbformat_minor": 2
}
