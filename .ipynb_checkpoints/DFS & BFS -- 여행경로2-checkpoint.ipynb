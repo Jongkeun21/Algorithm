{
 "cells": [
  {
   "cell_type": "code",
   "execution_count": 14,
   "metadata": {},
   "outputs": [],
   "source": [
    "tickets = [[\"ICN\", \"JFK\"], [\"HND\", \"IAD\"], [\"JFK\", \"HND\"], [\"ICN\", \"JFK\"], [\"IAD\", \"ICN\"]]\n",
    "# tickets = [[\"ICN\", \"JFK\"], [\"HND\", \"IAD\"], [\"JFK\", \"HND\"]]\n",
    "tickets = [[\"ICN\", \"SFO\"], [\"ICN\", \"ATL\"], [\"SFO\", \"ATL\"], [\"ATL\", \"ICN\"], [\"ATL\", \"SFO\"]]\n",
    "# tickets = [[\"ICN\", \"BOO\"], [\"ICN\", \"COO\"], [\"COO\", \"DOO\"], [\"DOO\", \"COO\"], [\"BOO\", \"DOO\"], [\"DOO\", \"BOO\"], [\"BOO\", \"ICN\"], [\"COO\", \"BOO\"]]\n",
    "# tickets = [[\"ICN\", \"COO\"], [\"ICN\", \"BOO\"], [\"COO\", \"ICN\"], [\"BOO\", \"DOO\"]]"
   ]
  },
  {
   "cell_type": "code",
   "execution_count": 43,
   "metadata": {},
   "outputs": [],
   "source": [
    "def find_path(graph, start, end, result, length) :   \n",
    "    queue = [(start, [start])]\n",
    "    \n",
    "    while queue :\n",
    "        seq = []\n",
    "        n, path = queue.pop(0)\n",
    "        \n",
    "        if len(path) > 1 :\n",
    "            for i in range(len(path)-1) :\n",
    "                seq.append([path[i], path[i+1]])\n",
    "        \n",
    "        if n == end and len(path) == length :\n",
    "            result.append(path)\n",
    "        else :\n",
    "            for j in range(len(graph[n])) :\n",
    "                if graph[n][j] not in path :\n",
    "                    queue.append((graph[n][j], path+[graph[n][j]]))\n",
    "    return"
   ]
  },
  {
   "cell_type": "code",
   "execution_count": 46,
   "metadata": {},
   "outputs": [],
   "source": [
    "waypoint = []\n",
    "for i in range(len(tickets)) :\n",
    "    waypoint.append(tickets[i][1])\n",
    "\n",
    "values = [[] for col in range(len(waypoint))]\n",
    "\n",
    "graph_root = []\n",
    "\n",
    "for i in range(len(tickets)) :\n",
    "    graph_root.append(tickets[i][0] + tickets[i][1])\n",
    "\n",
    "for i in range(len(waypoint)) :\n",
    "    for j in range(len(tickets)) :\n",
    "        if waypoint[i] == tickets[j][0] :\n",
    "            values[i].append(tickets[j])\n",
    "\n",
    "graph_value = [[] for col in range(len(values))]\n",
    "\n",
    "for i in range(len(values)) :\n",
    "    for j in range(len(values[i])) :\n",
    "        inputs = ''\n",
    "        for k in range(len(values[i][j])) :\n",
    "             inputs += values[i][j][k]\n",
    "        graph_value[i].append(inputs)\n",
    "    graph_value[i].sort()\n",
    "\n",
    "graph = {}\n",
    "\n",
    "for i in range(len(waypoint)) :\n",
    "    graph[graph_root[i]] = graph_value[i]"
   ]
  },
  {
   "cell_type": "code",
   "execution_count": 47,
   "metadata": {},
   "outputs": [
    {
     "data": {
      "text/plain": [
       "{'ICNSFO': ['SFOATL'],\n",
       " 'ICNATL': ['ATLICN', 'ATLSFO'],\n",
       " 'SFOATL': ['ATLICN', 'ATLSFO'],\n",
       " 'ATLICN': ['ICNATL', 'ICNSFO'],\n",
       " 'ATLSFO': ['SFOATL']}"
      ]
     },
     "execution_count": 47,
     "metadata": {},
     "output_type": "execute_result"
    }
   ],
   "source": [
    "graph"
   ]
  },
  {
   "cell_type": "code",
   "execution_count": 97,
   "metadata": {},
   "outputs": [],
   "source": [
    "from collections import Counter\n",
    "import copy"
   ]
  },
  {
   "cell_type": "code",
   "execution_count": 108,
   "metadata": {},
   "outputs": [
    {
     "name": "stdout",
     "output_type": "stream",
     "text": [
      "Counter({'ICNSFO': 1, 'ICNATL': 1, 'SFOATL': 1, 'ATLICN': 1, 'ATLSFO': 1})\n"
     ]
    }
   ],
   "source": [
    "a = Counter(graph.keys())\n",
    "print(a)"
   ]
  },
  {
   "cell_type": "code",
   "execution_count": 109,
   "metadata": {},
   "outputs": [
    {
     "data": {
      "text/plain": [
       "['ICNSFO', 'ICNATL', 'SFOATL', 'ATLICN', 'ATLSFO']"
      ]
     },
     "execution_count": 109,
     "metadata": {},
     "output_type": "execute_result"
    }
   ],
   "source": [
    "list(a.elements())"
   ]
  },
  {
   "cell_type": "code",
   "execution_count": 105,
   "metadata": {},
   "outputs": [
    {
     "name": "stdout",
     "output_type": "stream",
     "text": [
      "Counter({'a': 3})\n"
     ]
    }
   ],
   "source": [
    "s = ['a','a','a']\n",
    "s_ = Counter(s)\n",
    "print(s_)"
   ]
  },
  {
   "cell_type": "code",
   "execution_count": 106,
   "metadata": {},
   "outputs": [
    {
     "data": {
      "text/plain": [
       "['a', 'a', 'a']"
      ]
     },
     "execution_count": 106,
     "metadata": {},
     "output_type": "execute_result"
    }
   ],
   "source": [
    "list(s_.elements())"
   ]
  },
  {
   "cell_type": "code",
   "execution_count": 48,
   "metadata": {},
   "outputs": [
    {
     "name": "stdout",
     "output_type": "stream",
     "text": [
      "['ICNATL', 'ICNSFO']\n"
     ]
    }
   ],
   "source": [
    "candidates = []\n",
    "\n",
    "for i in range(len(tickets)) :\n",
    "    if tickets[i][0] == 'ICN' :\n",
    "        candidates.append(tickets[i][0]+tickets[i][1])\n",
    "        \n",
    "candidates.sort()\n",
    "print(candidates)"
   ]
  },
  {
   "cell_type": "code",
   "execution_count": 126,
   "metadata": {},
   "outputs": [],
   "source": [
    "def DFS_path(graph, start, end, paths, visited=[], points=None) :\n",
    "    visited = visited + [start]\n",
    "    if points == None :\n",
    "        cnt_graph = Counter(graph.keys())\n",
    "        points = list(cnt_graph.elements())\n",
    "        points.remove(start)\n",
    "    \n",
    "    print(\"points: \", points)\n",
    "    \n",
    "    if start == end :\n",
    "        paths.append(visited)\n",
    "        \n",
    "    for node in graph[start] :\n",
    "        if node in points :\n",
    "            points.remove(node)\n",
    "            DFS_path(graph, node, end, paths, visited, points)"
   ]
  },
  {
   "cell_type": "code",
   "execution_count": 127,
   "metadata": {},
   "outputs": [
    {
     "name": "stdout",
     "output_type": "stream",
     "text": [
      "points:  ['ICNSFO', 'SFOATL', 'ATLICN', 'ATLSFO']\n",
      "points:  ['ICNSFO', 'SFOATL', 'ATLSFO']\n",
      "points:  ['SFOATL', 'ATLSFO']\n",
      "points:  ['ATLSFO']\n",
      "points:  []\n"
     ]
    }
   ],
   "source": [
    "paths = []\n",
    "DFS_path(graph, 'ICNATL', 'ATLSFO', paths)"
   ]
  },
  {
   "cell_type": "code",
   "execution_count": 128,
   "metadata": {},
   "outputs": [
    {
     "data": {
      "text/plain": [
       "[['ICNATL', 'ATLICN', 'ICNSFO', 'SFOATL', 'ATLSFO']]"
      ]
     },
     "execution_count": 128,
     "metadata": {},
     "output_type": "execute_result"
    }
   ],
   "source": [
    "paths"
   ]
  },
  {
   "cell_type": "code",
   "execution_count": null,
   "metadata": {},
   "outputs": [],
   "source": [
    "def DFS_path(graph, start, end, paths, visited=[]) :\n",
    "    seq = []\n",
    "    visited = visited + [start] \n",
    "    \n",
    "    if len(visited) > 1 :\n",
    "        for i in range(len(visited)-1) :\n",
    "            seq.append([visited[i], visited[i+1]])\n",
    "    \n",
    "    if start == end :\n",
    "        paths.append(visited)\n",
    "        \n",
    "    for i in range(len(graph[start])) :\n",
    "        if [start, graph[start][i]] not in seq :\n",
    "            DFS_path(graph, graph[start][i], end, paths, visited)"
   ]
  },
  {
   "cell_type": "code",
   "execution_count": null,
   "metadata": {},
   "outputs": [],
   "source": [
    "def DFS_path(graph, start, end, paths, visited=[]) :\n",
    "    visited = visited + [start]\n",
    "    \n",
    "    if start == end :\n",
    "        paths.append(visited)\n",
    "        \n",
    "    for node in graph[start] :\n",
    "        if node not in visited :\n",
    "            DFS_path(graph, node, end, paths, visited)\n",
    "\n",
    "list_answer = []\n",
    "\n",
    "for i in range(len(candidates)) :\n",
    "    for j in range(len(graph_root)) :\n",
    "        paths = []\n",
    "        DFS_path(graph, candidates[i], graph_root[j], paths)\n",
    "        for k in range(len(paths)) :\n",
    "            if len(paths[k]) == len(tickets) :\n",
    "                list_answer.append(paths[k])\n",
    "        \n",
    "list_answer.sort()\n",
    "print(list_answer)\n",
    "\n",
    "list_answer = []\n",
    "\n",
    "for i in range(len(candidates)) :\n",
    "    for j in range(len(graph_root)) :\n",
    "        paths = []\n",
    "        DFS_path(graph, candidates[i], graph_root[j], paths)\n",
    "        for k in range(len(paths)) :\n",
    "            if len(paths[k]) == len(tickets) :\n",
    "                list_answer.append(paths[k])\n",
    "        \n",
    "list_answer.sort()\n",
    "print(list_answer)\n",
    "\n",
    "answer = []\n",
    "for i in range(len(list_answer[0])) :\n",
    "    answer.append(list_answer[0][i][0:3])\n",
    "    \n",
    "answer.append(list_answer[0][len(list_answer[0])-1][3:])\n",
    "print(answer)"
   ]
  },
  {
   "cell_type": "code",
   "execution_count": 94,
   "metadata": {},
   "outputs": [],
   "source": [
    "from collections import Counter\n",
    "import copy\n",
    "\n",
    "def DFS_path(graph, start, end, paths, visited=[]) :\n",
    "    seq = []\n",
    "    visited = visited + [start]\n",
    "    \n",
    "    if len(visited) > 1 :\n",
    "        for i in range(len(visited)-1) :\n",
    "            seq.append([visited[i], visited[i+1]])\n",
    "    \n",
    "    if start == end :\n",
    "        paths.append(visited)\n",
    "        \n",
    "    for i in range(len(graph[start])) :\n",
    "        if [start, graph[start][i]] not in seq : \n",
    "            DFS_path(graph, graph[start][i], end, paths, visited)\n",
    "            \n",
    "def solution(tickets) :\n",
    "    waypoint = []\n",
    "    graph_root = []\n",
    "    \n",
    "    for i in range(len(tickets)) :\n",
    "        waypoint.append(tickets[i][1])\n",
    "        graph_root.append(tickets[i][0] + tickets[i][1])\n",
    "        \n",
    "    values = [[] for col in range(len(waypoint))]\n",
    "\n",
    "    for i in range(len(waypoint)) :\n",
    "        for j in range(len(tickets)) :\n",
    "            if waypoint[i] == tickets[j][0] :\n",
    "                values[i].append(tickets[j])\n",
    "\n",
    "    graph_value = [[] for col in range(len(values))]\n",
    "\n",
    "    for i in range(len(values)) :\n",
    "        for j in range(len(values[i])) :\n",
    "            inputs = ''\n",
    "            for k in range(len(values[i][j])) :\n",
    "                 inputs += values[i][j][k]\n",
    "            graph_value[i].append(inputs)\n",
    "\n",
    "    graph = {}\n",
    "\n",
    "    for i in range(len(waypoint)) :\n",
    "        graph[graph_root[i]] = graph_value[i]\n",
    "        \n",
    "    candidates = []\n",
    "\n",
    "    for i in range(len(tickets)) :\n",
    "        if tickets[i][0] == 'ICN' :\n",
    "            candidates.append(tickets[i][0]+tickets[i][1])\n",
    "    \n",
    "    list_answer = []\n",
    "\n",
    "    for i in range(len(candidates)) :\n",
    "        for j in range(len(graph_root)) :\n",
    "            paths = []\n",
    "            DFS_path(graph, candidates[i], graph_root[j], paths)\n",
    "            for k in range(len(paths)) :\n",
    "                if len(paths[k]) == len(tickets) :\n",
    "                    list_answer.append(paths[k])\n",
    "\n",
    "    after = copy.deepcopy(list_answer)\n",
    "    a = Counter(graph_root)\n",
    "    for i in range(len(list_answer)) :\n",
    "        b = Counter(list_answer[i])\n",
    "\n",
    "        if len(b-a) > 0 :\n",
    "            after.remove(list_answer[i])\n",
    "    \n",
    "    after.sort()\n",
    "\n",
    "    answer = []\n",
    "    for i in range(len(after[0])) :\n",
    "        answer.append(after[0][i][0:3])\n",
    "\n",
    "    answer.append(after[0][len(after[0])-1][3:])\n",
    "    \n",
    "    return answer"
   ]
  },
  {
   "cell_type": "code",
   "execution_count": 95,
   "metadata": {},
   "outputs": [],
   "source": [
    "tickets = [[\"ICN\", \"JFK\"], [\"HND\", \"IAD\"], [\"JFK\", \"HND\"], [\"ICN\", \"JFK\"], [\"IAD\", \"ICN\"]]\n",
    "# tickets = [[\"ICN\", \"JFK\"], [\"HND\", \"IAD\"], [\"JFK\", \"HND\"]]\n",
    "# tickets = [[\"ICN\", \"SFO\"], [\"ICN\", \"ATL\"], [\"SFO\", \"ATL\"], [\"ATL\", \"ICN\"], [\"ATL\", \"SFO\"]]\n",
    "# tickets = [[\"ICN\", \"BOO\"], [\"ICN\", \"COO\"], [\"COO\", \"DOO\"], [\"DOO\", \"COO\"], [\"BOO\", \"DOO\"], [\"DOO\", \"BOO\"], [\"BOO\", \"ICN\"], [\"COO\", \"BOO\"]]\n",
    "# tickets = [[\"ICN\", \"COO\"], [\"ICN\", \"BOO\"], [\"COO\", \"ICN\"], [\"BOO\", \"DOO\"]]"
   ]
  },
  {
   "cell_type": "code",
   "execution_count": 96,
   "metadata": {},
   "outputs": [
    {
     "data": {
      "text/plain": [
       "['ICN', 'JFK', 'HND', 'IAD', 'ICN', 'JFK']"
      ]
     },
     "execution_count": 96,
     "metadata": {},
     "output_type": "execute_result"
    }
   ],
   "source": [
    "solution(tickets)"
   ]
  },
  {
   "cell_type": "code",
   "execution_count": 50,
   "metadata": {},
   "outputs": [],
   "source": [
    "def find_path(graph, start, end, result, length) :   \n",
    "    queue = [(start, [start])]\n",
    "    \n",
    "    while queue :\n",
    "        seq = []\n",
    "        n, path = queue.pop(0)\n",
    "        \n",
    "        if len(path) > 1 :\n",
    "            for i in range(len(path)-1) :\n",
    "                seq.append([path[i], path[i+1]])\n",
    "        \n",
    "        if n == end and len(path) == length :\n",
    "            result.append(path)\n",
    "        else :\n",
    "            for j in range(len(graph[n])) :\n",
    "                if graph[n][j] not in path :\n",
    "                    queue.append((graph[n][j], path+[graph[n][j]]))\n",
    "                else :\n",
    "                    if [n, graph[n][j]] not in seq :\n",
    "                        queue.append((graph[n][j], path+[graph[n][j]]))\n",
    "    return"
   ]
  },
  {
   "cell_type": "code",
   "execution_count": 73,
   "metadata": {},
   "outputs": [
    {
     "name": "stdout",
     "output_type": "stream",
     "text": [
      "[['ICNATL', 'ATLSFO', 'SFOATL', 'ATLICN', 'ICNSFO']]\n",
      "[['ICNATL', 'ATLSFO', 'SFOATL', 'ATLICN', 'ICNATL']]\n",
      "[['ICNATL', 'ATLICN', 'ICNATL', 'ATLSFO', 'SFOATL']]\n",
      "[['ICNATL', 'ATLICN', 'ICNSFO', 'SFOATL', 'ATLICN']]\n",
      "[['ICNATL', 'ATLICN', 'ICNSFO', 'SFOATL', 'ATLSFO']]\n",
      "[]\n",
      "[]\n",
      "[]\n",
      "[['ICNSFO', 'SFOATL', 'ATLICN', 'ICNATL', 'ATLICN'], ['ICNSFO', 'SFOATL', 'ATLSFO', 'SFOATL', 'ATLICN']]\n",
      "[['ICNSFO', 'SFOATL', 'ATLICN', 'ICNATL', 'ATLSFO']]\n",
      "[['ICNATL', 'ATLSFO', 'SFOATL', 'ATLICN', 'ICNSFO'], ['ICNATL', 'ATLSFO', 'SFOATL', 'ATLICN', 'ICNATL'], ['ICNATL', 'ATLICN', 'ICNATL', 'ATLSFO', 'SFOATL'], ['ICNATL', 'ATLICN', 'ICNSFO', 'SFOATL', 'ATLICN'], ['ICNATL', 'ATLICN', 'ICNSFO', 'SFOATL', 'ATLSFO'], ['ICNSFO', 'SFOATL', 'ATLICN', 'ICNATL', 'ATLICN'], ['ICNSFO', 'SFOATL', 'ATLSFO', 'SFOATL', 'ATLICN'], ['ICNSFO', 'SFOATL', 'ATLICN', 'ICNATL', 'ATLSFO']]\n"
     ]
    }
   ],
   "source": [
    "list_answer = []\n",
    "for i in range(len(candidates)) :\n",
    "    for j in range(len(graph_root)) :\n",
    "        result = []\n",
    "        find_path(graph, candidates[i], graph_root[j], result, len(tickets))\n",
    "        print(result)\n",
    "        for k in range(len(result)) :\n",
    "            if len(result[k]) == len(tickets) :\n",
    "                list_answer.append(result[k])\n",
    "                \n",
    "print(list_answer)"
   ]
  },
  {
   "cell_type": "code",
   "execution_count": 74,
   "metadata": {},
   "outputs": [
    {
     "name": "stdout",
     "output_type": "stream",
     "text": [
      "[['ICNATL', 'ATLSFO', 'SFOATL', 'ATLICN', 'ICNSFO'], ['ICNATL', 'ATLSFO', 'SFOATL', 'ATLICN', 'ICNATL'], ['ICNATL', 'ATLICN', 'ICNATL', 'ATLSFO', 'SFOATL'], ['ICNATL', 'ATLICN', 'ICNSFO', 'SFOATL', 'ATLICN'], ['ICNATL', 'ATLICN', 'ICNSFO', 'SFOATL', 'ATLSFO'], ['ICNSFO', 'SFOATL', 'ATLICN', 'ICNATL', 'ATLICN'], ['ICNSFO', 'SFOATL', 'ATLSFO', 'SFOATL', 'ATLICN'], ['ICNSFO', 'SFOATL', 'ATLICN', 'ICNATL', 'ATLSFO']]\n"
     ]
    }
   ],
   "source": [
    "print(list_answer)"
   ]
  },
  {
   "cell_type": "code",
   "execution_count": 75,
   "metadata": {},
   "outputs": [
    {
     "name": "stdout",
     "output_type": "stream",
     "text": [
      "['ICNSFO', 'ICNATL', 'SFOATL', 'ATLICN', 'ATLSFO']\n"
     ]
    }
   ],
   "source": [
    "print(graph_root)"
   ]
  },
  {
   "cell_type": "code",
   "execution_count": 76,
   "metadata": {},
   "outputs": [],
   "source": [
    "from collections import Counter\n",
    "import copy"
   ]
  },
  {
   "cell_type": "code",
   "execution_count": 77,
   "metadata": {},
   "outputs": [
    {
     "name": "stdout",
     "output_type": "stream",
     "text": [
      "Counter({'ICNSFO': 1, 'ICNATL': 1, 'SFOATL': 1, 'ATLICN': 1, 'ATLSFO': 1})\n",
      "Counter({'ICNATL': 1, 'ATLSFO': 1, 'SFOATL': 1, 'ATLICN': 1, 'ICNSFO': 1})\n"
     ]
    }
   ],
   "source": [
    "a = Counter(graph_root)\n",
    "b = Counter(list_answer[0])\n",
    "print(a)\n",
    "print(b)"
   ]
  },
  {
   "cell_type": "code",
   "execution_count": 78,
   "metadata": {},
   "outputs": [],
   "source": [
    "after = copy.deepcopy(list_answer)"
   ]
  },
  {
   "cell_type": "code",
   "execution_count": 79,
   "metadata": {},
   "outputs": [
    {
     "name": "stdout",
     "output_type": "stream",
     "text": [
      "[['ICNATL', 'ATLSFO', 'SFOATL', 'ATLICN', 'ICNSFO'], ['ICNATL', 'ATLICN', 'ICNSFO', 'SFOATL', 'ATLSFO'], ['ICNSFO', 'SFOATL', 'ATLICN', 'ICNATL', 'ATLSFO']]\n"
     ]
    }
   ],
   "source": [
    "for i in range(len(list_answer)) :\n",
    "    b = Counter(list_answer[i])\n",
    "    \n",
    "    if len(b-a) > 0 :\n",
    "        after.remove(list_answer[i])\n",
    "        \n",
    "print(after)"
   ]
  },
  {
   "cell_type": "code",
   "execution_count": 80,
   "metadata": {},
   "outputs": [
    {
     "name": "stdout",
     "output_type": "stream",
     "text": [
      "['ICNATL', 'ATLICN', 'ICNSFO', 'SFOATL', 'ATLSFO']\n"
     ]
    }
   ],
   "source": [
    "after.sort()\n",
    "\n",
    "answer = []\n",
    "for i in range(len(after[0])) :\n",
    "    answer.append(after[0][i][0:3])\n",
    "    \n",
    "answer.append(after[0][len(after[0])-1][3:])\n",
    "print(answer)"
   ]
  },
  {
   "cell_type": "code",
   "execution_count": null,
   "metadata": {},
   "outputs": [],
   "source": [
    "# def find_path(graph, start, end, result, length) :\n",
    "#     values = list(graph.items())\n",
    "#     seq = {}\n",
    "#     index = {}\n",
    "#     for i in range(len(values)) :\n",
    "#         list_ = []\n",
    "#         for j in range(len(values[i][1])) :\n",
    "#             list_.append(j)\n",
    "#         seq[values[i][0]] = list_\n",
    "    \n",
    "#     queue = [(start, [start], seq[start])]\n",
    "    \n",
    "#     while queue :\n",
    "#         print(\"---------------------------------------\")\n",
    "#         print(\"queue: \", queue)\n",
    "#         n = queue[0][0]\n",
    "#         path = queue[0][1]\n",
    "#         index[n] = queue.pop(0)[2]\n",
    "        \n",
    "#         if n == end and len(path) == length :\n",
    "#             result.append(path)\n",
    "#         else :\n",
    "#             for j in range(len(graph[n])) :\n",
    "#                 print(\"++\")\n",
    "# #                 print(\"queue: \", queue)\n",
    "#                 if graph[n][j] not in path :\n",
    "# #                     print(\"graph[n][j]: \", graph[n][j])\n",
    "#                     queue.append((graph[n][j], path+[graph[n][j]], seq[graph[n][j]]))\n",
    "# #                     print(\"path: \", path)\n",
    "#                     index[n].pop(0)\n",
    "# #                     print(\"after pop: \", index[n])\n",
    "# #                 else :\n",
    "# #                     if len(index[n]) > 0 :\n",
    "# #                         queue.append((graph[n][j], path+[graph[n][j]], seq[graph[n][j]]))\n",
    "# #                         index[n].pop(0)\n",
    "#     return"
   ]
  },
  {
   "cell_type": "code",
   "execution_count": 85,
   "metadata": {},
   "outputs": [],
   "source": [
    "from collections import Counter\n",
    "import copy\n",
    "\n",
    "def find_path(graph, start, end, result, length) :   \n",
    "    queue = [(start, [start])]\n",
    "    \n",
    "    while queue :\n",
    "        seq = []\n",
    "        n, path = queue.pop(0)\n",
    "        \n",
    "        if len(path) > 1 :\n",
    "            for i in range(len(path)-1) :\n",
    "                seq.append([path[i], path[i+1]])\n",
    "        \n",
    "        if n == end and len(path) == length :\n",
    "            result.append(path)\n",
    "        else :\n",
    "            for j in range(len(graph[n])) :\n",
    "                if graph[n][j] not in path :\n",
    "                    queue.append((graph[n][j], path+[graph[n][j]]))\n",
    "                else :\n",
    "                    if [n, graph[n][j]] not in seq :\n",
    "                        queue.append((graph[n][j], path+[graph[n][j]]))\n",
    "    return\n",
    "\n",
    "def solution(tickets) :\n",
    "    waypoint = []\n",
    "    for i in range(len(tickets)) :\n",
    "        waypoint.append(tickets[i][1])\n",
    "\n",
    "    values = [[] for col in range(len(waypoint))]\n",
    "\n",
    "    waypoint = []\n",
    "    graph_root = []\n",
    "    for i in range(len(tickets)) :\n",
    "        waypoint.append(tickets[i][1])\n",
    "        graph_root.append(tickets[i][0] + tickets[i][1])\n",
    "\n",
    "    for i in range(len(waypoint)) :\n",
    "        for j in range(len(tickets)) :\n",
    "            if waypoint[i] == tickets[j][0] :\n",
    "                values[i].append(tickets[j])\n",
    "\n",
    "    graph_value = [[] for col in range(len(values))]\n",
    "    for i in range(len(values)) :\n",
    "        for j in range(len(values[i])) :\n",
    "            inputs = ''\n",
    "            for k in range(len(values[i][j])) :\n",
    "                 inputs += values[i][j][k]\n",
    "            graph_value[i].append(inputs)\n",
    "        graph_value[i].sort()\n",
    "\n",
    "    graph = {}\n",
    "    for i in range(len(waypoint)) :\n",
    "        graph[graph_root[i]] = graph_value[i]\n",
    "        \n",
    "    candidates = []\n",
    "    for i in range(len(tickets)) :\n",
    "        if tickets[i][0] == 'ICN' :\n",
    "            candidates.append(tickets[i][0]+tickets[i][1])\n",
    "\n",
    "    candidates.sort()\n",
    "    \n",
    "    list_answer = []\n",
    "    for i in range(len(candidates)) :\n",
    "        for j in range(len(graph_root)) :\n",
    "            result = []\n",
    "            find_path(graph, candidates[i], graph_root[j], result, len(tickets))\n",
    "            for k in range(len(result)) :\n",
    "                if len(result[k]) == len(tickets) :\n",
    "                    list_answer.append(result[k])\n",
    "                    \n",
    "    after = copy.deepcopy(list_answer)\n",
    "    a = Counter(graph_root)\n",
    "    for i in range(len(list_answer)) :\n",
    "        b = Counter(list_answer[i])\n",
    "\n",
    "        if len(b-a) > 0 :\n",
    "            after.remove(list_answer[i])\n",
    "    \n",
    "    after.sort()\n",
    "\n",
    "    answer = []\n",
    "    for i in range(len(after[0])) :\n",
    "        answer.append(after[0][i][0:3])\n",
    "\n",
    "    answer.append(after[0][len(after[0])-1][3:])\n",
    "    \n",
    "    return answer"
   ]
  },
  {
   "cell_type": "code",
   "execution_count": 86,
   "metadata": {},
   "outputs": [],
   "source": [
    "tickets = [[\"ICN\", \"JFK\"], [\"HND\", \"IAD\"], [\"JFK\", \"HND\"], [\"ICN\", \"JFK\"], [\"IAD\", \"ICN\"]]\n",
    "# tickets = [[\"ICN\", \"JFK\"], [\"HND\", \"IAD\"], [\"JFK\", \"HND\"]]\n",
    "tickets = [[\"ICN\", \"SFO\"], [\"ICN\", \"ATL\"], [\"SFO\", \"ATL\"], [\"ATL\", \"ICN\"], [\"ATL\", \"SFO\"]]\n",
    "# tickets = [[\"ICN\", \"BOO\"], [\"ICN\", \"COO\"], [\"COO\", \"DOO\"], [\"DOO\", \"COO\"], [\"BOO\", \"DOO\"], [\"DOO\", \"BOO\"], [\"BOO\", \"ICN\"], [\"COO\", \"BOO\"]]\n",
    "# tickets = [[\"ICN\", \"COO\"], [\"ICN\", \"BOO\"], [\"COO\", \"ICN\"], [\"BOO\", \"DOO\"]]"
   ]
  },
  {
   "cell_type": "code",
   "execution_count": 87,
   "metadata": {},
   "outputs": [
    {
     "data": {
      "text/plain": [
       "['ICN', 'ATL', 'ICN', 'SFO', 'ATL', 'SFO']"
      ]
     },
     "execution_count": 87,
     "metadata": {},
     "output_type": "execute_result"
    }
   ],
   "source": [
    "solution(tickets)"
   ]
  },
  {
   "cell_type": "code",
   "execution_count": 18,
   "metadata": {},
   "outputs": [],
   "source": [
    "visited = []\n",
    "\n",
    "def DFS(graph, root, visited) :\n",
    "        \n",
    "    visited.append(root)\n",
    "    counter_root = Counter(graph[root])\n",
    "    counter_visited = Counter(visited)\n",
    "    visit_seq = len(list(counter_root - counter_visited))\n",
    "    \n",
    "    if visit_seq != 0 :\n",
    "        for node in graph[root] : \n",
    "            if node not in visited :\n",
    "                print(\"node: \", node)\n",
    "                DFS(graph, node, visited)\n",
    "            else :\n",
    "                if graph[root].count(node) > 1 :\n",
    "                    graph[root].remove(node)\n",
    "                    DFS(graph, node, visited)\n",
    "    else :\n",
    "        if len(visited) == len(tickets) :\n",
    "            return\n",
    "        else :\n",
    "            visited.remove(root)\n",
    "            \n",
    "    return"
   ]
  },
  {
   "cell_type": "code",
   "execution_count": 19,
   "metadata": {},
   "outputs": [
    {
     "name": "stdout",
     "output_type": "stream",
     "text": [
      "node:  BOODOO\n",
      "['ICNBOO']\n"
     ]
    }
   ],
   "source": [
    "DFS(graph, root, visited)\n",
    "print(visited)"
   ]
  },
  {
   "cell_type": "code",
   "execution_count": 20,
   "metadata": {},
   "outputs": [],
   "source": [
    "def BFS(graph, root) :\n",
    "    visit = []\n",
    "    queue = []\n",
    "    \n",
    "    queue.append(root)\n",
    "    \n",
    "    while queue :\n",
    "        node = queue.pop(0)\n",
    "        if node not in visit :\n",
    "            visit.append(node)\n",
    "            queue.extend(graph[node])\n",
    "            \n",
    "    return visit"
   ]
  },
  {
   "cell_type": "code",
   "execution_count": 21,
   "metadata": {},
   "outputs": [
    {
     "data": {
      "text/plain": [
       "['ICNBOO', 'BOODOO']"
      ]
     },
     "execution_count": 21,
     "metadata": {},
     "output_type": "execute_result"
    }
   ],
   "source": [
    "BFS(graph, root)"
   ]
  },
  {
   "cell_type": "code",
   "execution_count": 29,
   "metadata": {},
   "outputs": [],
   "source": [
    "visited = []\n",
    "\n",
    "def DFS(graph, root, visited) :\n",
    "        \n",
    "    visited.append(root)\n",
    "    \n",
    "    for node in graph[root] :\n",
    "        if node not in visited :\n",
    "            DFS(graph, node, visited)\n",
    "        elif graph_root.count(DFS) > 1 :\n",
    "            DFS(graph, node, visited)            \n",
    "            \n",
    "    return\n",
    "\n",
    "DFS(graph, root, visited)\n",
    "\n",
    "print(visited)"
   ]
  },
  {
   "cell_type": "code",
   "execution_count": 128,
   "metadata": {},
   "outputs": [
    {
     "name": "stdout",
     "output_type": "stream",
     "text": [
      "['ICNATL', 'ATLICN', 'ICNSFO', 'SFOATL', 'ATLSFO']\n"
     ]
    }
   ],
   "source": [
    "print(visited)"
   ]
  },
  {
   "cell_type": "code",
   "execution_count": 21,
   "metadata": {},
   "outputs": [],
   "source": [
    "candidates = []\n",
    "\n",
    "for i in range(len(tickets)) :\n",
    "    if tickets[i][0] == 'ICN' :\n",
    "        candidates.append(tickets[i][0]+tickets[i][1])\n",
    "        \n",
    "candidates.sort()\n",
    "root = candidates[0]"
   ]
  },
  {
   "cell_type": "code",
   "execution_count": 26,
   "metadata": {},
   "outputs": [],
   "source": [
    "answer = []\n",
    "visited = []\n",
    "\n",
    "DFS(graph, root, visited)\n",
    "\n",
    "for i in range(len(visited)) :\n",
    "    answer.append(visited[i][0:3])\n",
    "    \n",
    "answer.append(visited[len(visited)-1][3:])"
   ]
  },
  {
   "cell_type": "code",
   "execution_count": 27,
   "metadata": {},
   "outputs": [
    {
     "name": "stdout",
     "output_type": "stream",
     "text": [
      "['ICN', 'JFK', 'HND', 'IAD']\n"
     ]
    }
   ],
   "source": [
    "print(answer)"
   ]
  },
  {
   "cell_type": "code",
   "execution_count": 2,
   "metadata": {},
   "outputs": [],
   "source": [
    "from collections import Counter\n",
    "\n",
    "def DFS(graph, root, visited, graph_root) :\n",
    "        \n",
    "    visited.append(root)\n",
    "    counter_root = Counter(graph[root])\n",
    "    counter_visited = Counter(visited)\n",
    "    visit_seq = len(list(counter_root - counter_visited))\n",
    "    \n",
    "    if visit_seq != 0 :\n",
    "        for node in graph[root] : \n",
    "            if node not in visited :\n",
    "                DFS(graph, node, visited, graph_root)\n",
    "            else :\n",
    "                if graph[root].count(node) > 1 :\n",
    "                    graph[root].remove(node)\n",
    "                    DFS(graph, node, visited, graph_root)\n",
    "    else :\n",
    "        if len(visited) == len(graph_root) :\n",
    "            return\n",
    "        else :\n",
    "            visited.remove(root)\n",
    "\n",
    "def solution(tickets) :\n",
    "    answer = []\n",
    "    visited = []\n",
    "    \n",
    "    waypoint = []\n",
    "    \n",
    "    for i in range(len(tickets)) :\n",
    "        waypoint.append(tickets[i][1])\n",
    "        \n",
    "    values = [[] for col in range(len(waypoint))]\n",
    "\n",
    "    graph_root = []\n",
    "\n",
    "    for i in range(len(tickets)) :\n",
    "        graph_root.append(tickets[i][0] + tickets[i][1])\n",
    "\n",
    "    for i in range(len(waypoint)) :\n",
    "        for j in range(len(tickets)) :\n",
    "            if waypoint[i] == tickets[j][0] :\n",
    "                values[i].append(tickets[j])\n",
    "\n",
    "    graph_value = [[] for col in range(len(values))]\n",
    "\n",
    "    for i in range(len(values)) :\n",
    "        for j in range(len(values[i])) :\n",
    "            inputs = ''\n",
    "            for k in range(len(values[i][j])) :\n",
    "                 inputs += values[i][j][k]\n",
    "            graph_value[i].append(inputs)\n",
    "        graph_value[i].sort()\n",
    "\n",
    "    graph = {}\n",
    "\n",
    "    for i in range(len(waypoint)) :\n",
    "        graph[graph_root[i]] = graph_value[i]\n",
    "        \n",
    "        candidates = []\n",
    "\n",
    "    for i in range(len(tickets)) :\n",
    "        if tickets[i][0] == 'ICN' :\n",
    "            candidates.append(tickets[i][0]+tickets[i][1])\n",
    "\n",
    "    candidates.sort()\n",
    "    root = candidates[0]\n",
    "    \n",
    "    DFS(graph, root, visited, graph_root)\n",
    "\n",
    "    for i in range(len(visited)) :\n",
    "        answer.append(visited[i][0:3])\n",
    "\n",
    "    answer.append(visited[len(visited)-1][3:])\n",
    "    \n",
    "    return answer"
   ]
  },
  {
   "cell_type": "code",
   "execution_count": 3,
   "metadata": {},
   "outputs": [],
   "source": [
    "tickets = [[\"ICN\", \"JFK\"], [\"HND\", \"IAD\"], [\"JFK\", \"HND\"], [\"ICN\", \"JFK\"], [\"IAD\", \"ICN\"]]\n",
    "tickets = [[\"ICN\", \"COO\"], [\"ICN\", \"BOO\"], [\"COO\", \"ICN\"], [\"BOO\", \"DOO\"]]\n",
    "# tickets = [[\"ICN\", \"SFO\"], [\"ICN\", \"ATL\"], [\"SFO\", \"ATL\"], [\"ATL\", \"ICN\"], [\"ATL\", \"SFO\"], [\"SFO\", \"ATL\"]]\n",
    "# tickets = [[\"ICN\", \"JFK\"], [\"JFK\", \"ICN\"], [\"ICN\", \"JFK\"], [\"JFK\", \"ICN\"], [\"ICN\", \"JFK\"], [\"JFK\", \"ICN\"]]\n",
    "# tickets = [[\"ICN\", \"BOO\"], [\"ICN\", \"COO\"], [\"COO\", \"DOO\"], [\"DOO\", \"COO\"], [\"BOO\", \"DOO\"], [\"DOO\", \"BOO\"], [\"BOO\", \"ICN\"], [\"COO\", \"BOO\"]]"
   ]
  },
  {
   "cell_type": "code",
   "execution_count": 4,
   "metadata": {},
   "outputs": [
    {
     "data": {
      "text/plain": [
       "['ICN', 'BOO']"
      ]
     },
     "execution_count": 4,
     "metadata": {},
     "output_type": "execute_result"
    }
   ],
   "source": [
    "solution(tickets)"
   ]
  },
  {
   "cell_type": "code",
   "execution_count": null,
   "metadata": {},
   "outputs": [],
   "source": []
  }
 ],
 "metadata": {
  "kernelspec": {
   "display_name": "Python 3",
   "language": "python",
   "name": "python3"
  },
  "language_info": {
   "codemirror_mode": {
    "name": "ipython",
    "version": 3
   },
   "file_extension": ".py",
   "mimetype": "text/x-python",
   "name": "python",
   "nbconvert_exporter": "python",
   "pygments_lexer": "ipython3",
   "version": "3.7.3"
  }
 },
 "nbformat": 4,
 "nbformat_minor": 2
}
