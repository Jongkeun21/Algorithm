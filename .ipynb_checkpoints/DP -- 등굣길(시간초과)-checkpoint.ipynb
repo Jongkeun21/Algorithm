{
 "cells": [
  {
   "cell_type": "code",
   "execution_count": 7,
   "metadata": {},
   "outputs": [],
   "source": [
    "def operater(list, m, n, puddles) :\n",
    "    result = []\n",
    "    correct = 0\n",
    "    \n",
    "    for idx in list :\n",
    "        if [idx[0]+1,idx[1]] not in puddles :\n",
    "            result.append([idx[0]+1,idx[1]])\n",
    "        if [idx[0],idx[1]+1] not in puddles :\n",
    "            result.append([idx[0],idx[1]+1])\n",
    "        if [idx[0]+1,idx[1]] == [m,n] or [idx[0],idx[1]+1] == [m,n] :\n",
    "            correct += 1\n",
    "        \n",
    "    return result, correct%1000000007"
   ]
  },
  {
   "cell_type": "code",
   "execution_count": 4,
   "metadata": {},
   "outputs": [],
   "source": [
    "def solution(m, n, puddles) :\n",
    "    count = 2\n",
    "    dic = {1:[[1,1]]}\n",
    "    route = 0\n",
    "    \n",
    "    while route == 0 :\n",
    "        dic[count], route = operater(dic[count-1], m, n, puddles)\n",
    "        count += 1\n",
    "            \n",
    "    answer = route\n",
    "    \n",
    "    return answer"
   ]
  },
  {
   "cell_type": "code",
   "execution_count": 1,
   "metadata": {},
   "outputs": [],
   "source": [
    "m = 4\n",
    "n = 3\n",
    "puddles = [[2,2]]"
   ]
  },
  {
   "cell_type": "code",
   "execution_count": 6,
   "metadata": {},
   "outputs": [
    {
     "data": {
      "text/plain": [
       "4"
      ]
     },
     "execution_count": 6,
     "metadata": {},
     "output_type": "execute_result"
    }
   ],
   "source": [
    "solution(m, n, puddles)"
   ]
  },
  {
   "cell_type": "code",
   "execution_count": 52,
   "metadata": {},
   "outputs": [],
   "source": [
    "dic = {}"
   ]
  },
  {
   "cell_type": "code",
   "execution_count": 53,
   "metadata": {},
   "outputs": [],
   "source": [
    "for i in range(1,m+1) :\n",
    "    for j in range(1,n+1) :\n",
    "        final = []\n",
    "        \n",
    "        if i == m and j != n :\n",
    "             children = [[i,j+1]]\n",
    "        elif j == n and i != m:\n",
    "            children = [[i+1,j]]\n",
    "        elif i != m and j != n :\n",
    "            children = [[i+1,j],[i,j+1]]\n",
    "         \n",
    "        for child in children :\n",
    "            if child not in puddles :\n",
    "                final.append(child)\n",
    "        \n",
    "        dic[(i,j)] = final"
   ]
  },
  {
   "cell_type": "code",
   "execution_count": 54,
   "metadata": {},
   "outputs": [
    {
     "data": {
      "text/plain": [
       "{(1, 1): [[2, 1], [1, 2]],\n",
       " (1, 2): [[1, 3]],\n",
       " (1, 3): [[2, 3]],\n",
       " (2, 1): [[3, 1]],\n",
       " (2, 2): [[3, 2], [2, 3]],\n",
       " (2, 3): [[3, 3]],\n",
       " (3, 1): [[4, 1], [3, 2]],\n",
       " (3, 2): [[4, 2], [3, 3]],\n",
       " (3, 3): [[4, 3]],\n",
       " (4, 1): [[4, 2]],\n",
       " (4, 2): [[4, 3]],\n",
       " (4, 3): [[4, 3]]}"
      ]
     },
     "execution_count": 54,
     "metadata": {},
     "output_type": "execute_result"
    }
   ],
   "source": [
    "dic"
   ]
  },
  {
   "cell_type": "code",
   "execution_count": 55,
   "metadata": {},
   "outputs": [],
   "source": [
    "def BFS_path(graph, start, end) :\n",
    "    result = []\n",
    "    queue = [(start, [start])]\n",
    "    \n",
    "    while queue :\n",
    "        node, path = queue.pop(0)\n",
    "        \n",
    "        if node == end :\n",
    "            result.append(path)\n",
    "        else :\n",
    "            for m in graph[node] :\n",
    "                m = tuple(m)\n",
    "                if m not in path :\n",
    "                    queue.append((m, path+[m]))\n",
    "                    \n",
    "    return result"
   ]
  },
  {
   "cell_type": "code",
   "execution_count": 56,
   "metadata": {},
   "outputs": [],
   "source": [
    "routes = BFS_path(dic, (1,1), (m,n))"
   ]
  },
  {
   "cell_type": "code",
   "execution_count": 57,
   "metadata": {},
   "outputs": [
    {
     "data": {
      "text/plain": [
       "[[(1, 1), (2, 1), (3, 1), (4, 1), (4, 2), (4, 3)],\n",
       " [(1, 1), (2, 1), (3, 1), (3, 2), (4, 2), (4, 3)],\n",
       " [(1, 1), (2, 1), (3, 1), (3, 2), (3, 3), (4, 3)],\n",
       " [(1, 1), (1, 2), (1, 3), (2, 3), (3, 3), (4, 3)]]"
      ]
     },
     "execution_count": 57,
     "metadata": {},
     "output_type": "execute_result"
    }
   ],
   "source": [
    "routes"
   ]
  },
  {
   "cell_type": "code",
   "execution_count": null,
   "metadata": {},
   "outputs": [],
   "source": [
    "def BFS_path(graph, start, end) :\n",
    "    result = []\n",
    "    queue = [(start, [start])]\n",
    "    \n",
    "    while queue :\n",
    "        node, path = queue.pop(0)\n",
    "        \n",
    "        if node == end :\n",
    "            result.append(path)\n",
    "        else :\n",
    "            for m in graph[node] :\n",
    "                m = tuple(m)\n",
    "                if m not in path :\n",
    "                    queue.append((m, path+[m]))\n",
    "                    \n",
    "    return result\n",
    "\n",
    "def solution(m, n, puddles) :\n",
    "    dic = {}\n",
    "    \n",
    "    for i in range(1,m+1) :\n",
    "        for j in range(1,n+1) :\n",
    "            final = []\n",
    "\n",
    "            if i == m and j != n :\n",
    "                 children = [[i,j+1]]\n",
    "            elif j == n and i != m:\n",
    "                children = [[i+1,j]]\n",
    "            elif i != m and j != n :\n",
    "                children = [[i+1,j],[i,j+1]]\n",
    "\n",
    "            for child in children :\n",
    "                if child not in puddles :\n",
    "                    final.append(child)\n",
    "\n",
    "            dic[(i,j)] = final\n",
    "            \n",
    "    routes = BFS_path(dic, (1,1), (m,n))\n",
    "    answer = len(routes)%1000000007\n",
    "    \n",
    "    return answer"
   ]
  }
 ],
 "metadata": {
  "kernelspec": {
   "display_name": "Python 3",
   "language": "python",
   "name": "python3"
  },
  "language_info": {
   "codemirror_mode": {
    "name": "ipython",
    "version": 3
   },
   "file_extension": ".py",
   "mimetype": "text/x-python",
   "name": "python",
   "nbconvert_exporter": "python",
   "pygments_lexer": "ipython3",
   "version": "3.7.3"
  }
 },
 "nbformat": 4,
 "nbformat_minor": 2
}
