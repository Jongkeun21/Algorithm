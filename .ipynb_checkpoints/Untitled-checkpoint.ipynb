{
 "cells": [
  {
   "cell_type": "code",
   "execution_count": 5,
   "metadata": {},
   "outputs": [],
   "source": [
    "import heapq"
   ]
  },
  {
   "cell_type": "code",
   "execution_count": 6,
   "metadata": {},
   "outputs": [],
   "source": [
    "operations = [\"I 16\",\"D 1\"]\n",
    "# return [0,0]"
   ]
  },
  {
   "cell_type": "code",
   "execution_count": 11,
   "metadata": {},
   "outputs": [],
   "source": [
    "operations = [\"I 7\",\"I 5\",\"I -5\",\"D -1\"]"
   ]
  },
  {
   "cell_type": "code",
   "execution_count": 12,
   "metadata": {},
   "outputs": [],
   "source": [
    "queue = []"
   ]
  },
  {
   "cell_type": "code",
   "execution_count": 13,
   "metadata": {},
   "outputs": [],
   "source": [
    "for string in operations :\n",
    "    command, num = string.split()\n",
    "    num = int(num)\n",
    "    \n",
    "    if command == 'I' :\n",
    "        if not queue :\n",
    "            queue.append(num)\n",
    "        else :\n",
    "            if queue[-1] < num :\n",
    "                queue.append(num)\n",
    "            else :\n",
    "                heapq.heappush(queue, num)\n",
    "                \n",
    "    elif command == 'D' :\n",
    "        if num == 1 :\n",
    "            queue.pop()\n",
    "        else :\n",
    "            heapq.heappop(queue)\n",
    "            \n",
    "if queue :\n",
    "    max_ = max(queue)\n",
    "    min_ = heapq.heappop(queue)\n",
    "    \n",
    "    answer = [max_, min_]\n",
    "else :\n",
    "    answer = [0, 0]"
   ]
  },
  {
   "cell_type": "code",
   "execution_count": 14,
   "metadata": {},
   "outputs": [
    {
     "data": {
      "text/plain": [
       "[7, 5]"
      ]
     },
     "execution_count": 14,
     "metadata": {},
     "output_type": "execute_result"
    }
   ],
   "source": [
    "answer"
   ]
  },
  {
   "cell_type": "code",
   "execution_count": 2,
   "metadata": {},
   "outputs": [],
   "source": [
    "from itertools import product"
   ]
  },
  {
   "cell_type": "code",
   "execution_count": 3,
   "metadata": {},
   "outputs": [],
   "source": [
    "user_id = [\"frodo\", \"fradi\", \"crodo\", \"abc123\", \"frodoc\"]\n",
    "banned_id = [\"fr*d*\", \"abc1**\"]\n",
    "# return 2"
   ]
  },
  {
   "cell_type": "code",
   "execution_count": 6,
   "metadata": {},
   "outputs": [],
   "source": [
    "def solution(user_id, banned_id) :\n",
    "    jail = []\n",
    "\n",
    "    for banned in banned_id :\n",
    "        candi = []\n",
    "\n",
    "        for user in user_id :\n",
    "            if len(banned) == len(user) :\n",
    "                flag = True\n",
    "\n",
    "                for i in range(len(banned)) :\n",
    "                    if banned[i] != '*' and banned[i] != user[i] :\n",
    "                        flag = False\n",
    "                        break\n",
    "\n",
    "                if flag :\n",
    "                    candi.append(user)\n",
    "\n",
    "        jail.append(candi)\n",
    "\n",
    "    result = list(product(*jail))\n",
    "\n",
    "    answer = []\n",
    "\n",
    "    for _tuple in result :\n",
    "        last = set(_tuple)\n",
    "#         print(last)\n",
    "\n",
    "        if len(last) == len(banned_id) and not last in answer :\n",
    "            answer.append(last)\n",
    "            \n",
    "    return len(answer)"
   ]
  },
  {
   "cell_type": "code",
   "execution_count": 7,
   "metadata": {},
   "outputs": [
    {
     "data": {
      "text/plain": [
       "2"
      ]
     },
     "execution_count": 7,
     "metadata": {},
     "output_type": "execute_result"
    }
   ],
   "source": [
    "solution(user_id, banned_id)"
   ]
  },
  {
   "cell_type": "code",
   "execution_count": 24,
   "metadata": {},
   "outputs": [
    {
     "data": {
      "text/plain": [
       "[{'abc123', 'frodo'}, {'abc123', 'fradi'}, {'abc123', 'frodoc'}]"
      ]
     },
     "execution_count": 24,
     "metadata": {},
     "output_type": "execute_result"
    }
   ],
   "source": [
    "answer"
   ]
  },
  {
   "cell_type": "code",
   "execution_count": null,
   "metadata": {},
   "outputs": [],
   "source": []
  }
 ],
 "metadata": {
  "kernelspec": {
   "display_name": "Python 3",
   "language": "python",
   "name": "python3"
  },
  "language_info": {
   "codemirror_mode": {
    "name": "ipython",
    "version": 3
   },
   "file_extension": ".py",
   "mimetype": "text/x-python",
   "name": "python",
   "nbconvert_exporter": "python",
   "pygments_lexer": "ipython3",
   "version": "3.5.2"
  }
 },
 "nbformat": 4,
 "nbformat_minor": 2
}
