{
 "cells": [
  {
   "cell_type": "code",
   "execution_count": 64,
   "metadata": {},
   "outputs": [
    {
     "name": "stdout",
     "output_type": "stream",
     "text": [
      "false\n",
      "118\n",
      "997\n"
     ]
    }
   ],
   "source": [
    "phone_book = [\"97674223\", \"1195524421\", \"118\", \"997\", \"999823\", \"9998\"]\n",
    "\n",
    "def solution(phone_book) :\n",
    "    phone_book.sort()\n",
    "    min = phone_book[0]\n",
    "    min_sec = phone_book[0]\n",
    "    total = 0\n",
    "    \n",
    "    for i in range(len(phone_book)-1) :\n",
    "        if len(phone_book[i+1]) < len(min) :\n",
    "            min = phone_book[i+1]\n",
    "        if len(phone_book[i+1]) == len(min) :\n",
    "            min_sec = phone_book[i+1]\n",
    "    \n",
    "    for j in range(len(phone_book)) :\n",
    "        if phone_book[j] != min and phone_book[j] != min_sec:\n",
    "            for k in range(len(min)) :\n",
    "                if phone_book[j][k] == min[k] or phone_book[j][k] == min_sec[k]:\n",
    "                    total += 1\n",
    "                \n",
    "    if total < len(min) :\n",
    "        print(\"true\")\n",
    "    else :\n",
    "        print(\"false\")\n",
    "        \n",
    "    print(min)\n",
    "    print(min_sec)\n",
    "    \n",
    "solution(phone_book)"
   ]
  },
  {
   "cell_type": "code",
   "execution_count": 139,
   "metadata": {},
   "outputs": [
    {
     "name": "stdout",
     "output_type": "stream",
     "text": [
      "min :  123\n",
      "max :  456\n",
      "min :  456\n",
      "max :  789\n",
      "True\n"
     ]
    }
   ],
   "source": [
    "phone_book = [\"97674223\", \"1195524421\", \"118\", \"997\", \"999823\", \"9998\"]\n",
    "phone_book = [\"123\", \"456\", \"789\"]\n",
    "# phone_book = [\"12\", \"123\", \"1235\", \"567\", \"88\"]\n",
    "# phone_book = [\"119\", \"97674223\", \"1195524421\"]\n",
    "\n",
    "def solution(phone_book) :\n",
    "    phone_book.sort()\n",
    "    min = 0\n",
    "    max = 0\n",
    "            \n",
    "    for i in range(len(phone_book)-1) :\n",
    "        total = 0\n",
    "        min = phone_book[i]\n",
    "        max = phone_book[i+1]\n",
    "        \n",
    "        if len(min) > len(max) :\n",
    "            min = phone_book[i+1]\n",
    "            max = phone_book[i]\n",
    "        \n",
    "        for j in range(len(min)) :\n",
    "            if max[j] == min[j] :\n",
    "                total += 1\n",
    "                \n",
    "        if total < len(min) :\n",
    "            answer = True\n",
    "        else :\n",
    "            answer = False\n",
    "            break\n",
    "            \n",
    "solution(phone_book)"
   ]
  },
  {
   "cell_type": "code",
   "execution_count": 121,
   "metadata": {},
   "outputs": [
    {
     "name": "stdout",
     "output_type": "stream",
     "text": [
      "temp 1195524421\n",
      "comp 97674223\n",
      "temp 1195524421\n",
      "comp 1195524421\n",
      "temp 1195524421\n",
      "comp 118\n",
      "temp 1195524421\n",
      "comp 997\n",
      "temp 1195524421\n",
      "comp 999823\n",
      "temp 1195524421\n",
      "comp 9998\n",
      "false\n"
     ]
    }
   ],
   "source": [
    "phone_book = [\"97674223\", \"1195524421\", \"118\", \"997\", \"999823\", \"9998\"]\n",
    "# phone_book = [\"123\", \"456\", \"789\"]\n",
    "# phone_book = [\"12\", \"123\", \"1235\", \"567\", \"88\"]\n",
    "# phone_book = [\"119\", \"97674223\", \"1195524421\"]\n",
    "\n",
    "def solution(phone_book) :\n",
    "    min = phone_book[0]\n",
    "    total = 0\n",
    "    count = 1\n",
    "    temp = phone_book[count]\n",
    "        \n",
    "    for i in range(len(phone_book)-1) :\n",
    "        if len(phone_book[i+1]) <= len(min) :\n",
    "            min = phone_book[i+1]\n",
    "            \n",
    "    for j in range(len(phone_book)) :\n",
    "        comp = phone_book[j]\n",
    "        if int(comp) == int(temp) :\n",
    "            count += 1\n",
    "        print(\"temp\", temp)\n",
    "        print(\"comp\", comp)\n",
    "            \n",
    "        for k in range(len(min)) :\n",
    "            if temp[k] == comp[k] :\n",
    "                total += 1\n",
    "                \n",
    "    if total < 2*len(min) :\n",
    "        print(\"true\")\n",
    "    else :\n",
    "        print(\"false\")\n",
    "    \n",
    "#     for j in range(len(phone_book)) :\n",
    "#         comp = phone_book[j]\n",
    "        \n",
    "solution(phone_book)"
   ]
  },
  {
   "cell_type": "code",
   "execution_count": null,
   "metadata": {},
   "outputs": [],
   "source": [
    "phone_book = [\"97674223\", \"1195524421\", \"118\", \"997\", \"999823\", \"9998\"]\n",
    "# phone_book = [\"123\", \"456\", \"789\"]\n",
    "# phone_book = [\"12\", \"123\", \"1235\", \"567\", \"88\"]\n",
    "# phone_book = [\"119\", \"97674223\", \"1195524421\"]\n",
    "\n",
    "def solution(phone_book) :\n",
    "    min = phone_book[0]\n",
    "    total = 0\n",
    "        \n",
    "    for i in range(len(phone_book)-1) :\n",
    "        if len(phone_book[i+1]) <= len(min) :\n",
    "            min = phone_book[i+1]\n",
    "            \n",
    "    for j in range(len(phone_book)) :\n",
    "        comp = phone_book[j]\n",
    "        \n",
    "        for k in range(len(min)) :\n",
    "            if comp != phone_book[j]\n",
    "    \n",
    "#     for j in range(len(phone_book)) :\n",
    "#         comp = phone_book[j]\n",
    "        \n",
    "        \n",
    "            \n",
    "solution(phone_book)"
   ]
  },
  {
   "cell_type": "code",
   "execution_count": null,
   "metadata": {},
   "outputs": [],
   "source": [
    "a = \"11923\"\n",
    "b = \"1192\"\n",
    "result = 0\n",
    "\n",
    "for i in range(len(b)) :\n",
    "    if a[i] == b[i] :\n",
    "        result += 1\n",
    "        \n",
    "if result == len(b) :\n",
    "    print(\"true\")"
   ]
  },
  {
   "cell_type": "code",
   "execution_count": 59,
   "metadata": {},
   "outputs": [
    {
     "name": "stdout",
     "output_type": "stream",
     "text": [
      "true\n",
      "123\n",
      "789\n"
     ]
    }
   ],
   "source": [
    "phone_book = [\"123\", \"456\", \"789\"]\n",
    "\n",
    "def solution(phone_book) :\n",
    "    phone_book.sort()\n",
    "    min = phone_book[0]\n",
    "    min_sec = phone_book[0]\n",
    "    total = 0\n",
    "    \n",
    "    for i in range(len(phone_book)-1) :\n",
    "        if len(phone_book[i+1]) < len(min) :\n",
    "            min = phone_book[i+1]\n",
    "        if len(phone_book[i+1]) == len(min) :\n",
    "            min_sec = phone_book[i+1]\n",
    "    \n",
    "    for j in range(len(phone_book)) :\n",
    "        if phone_book[j] != min and phone_book[j] != min_sec:\n",
    "            for k in range(len(min)) :\n",
    "                if phone_book[j][k] == min[k] or phone_book[j][k] == min_sec[k]:\n",
    "                    total += 1\n",
    "                \n",
    "    if total < len(min) :\n",
    "        print(\"true\")\n",
    "    else :\n",
    "        print(\"false\")\n",
    "        \n",
    "    print(min)\n",
    "    print(min_sec)\n",
    "    \n",
    "solution(phone_book)"
   ]
  },
  {
   "cell_type": "code",
   "execution_count": 60,
   "metadata": {},
   "outputs": [
    {
     "name": "stdout",
     "output_type": "stream",
     "text": [
      "false\n",
      "12\n",
      "88\n"
     ]
    }
   ],
   "source": [
    "phone_book = [\"12\", \"123\", \"1235\", \"567\", \"88\"]\n",
    "\n",
    "def solution(phone_book) :\n",
    "    phone_book.sort()\n",
    "    min = phone_book[0]\n",
    "    min_sec = phone_book[0]\n",
    "    total = 0\n",
    "    \n",
    "    for i in range(len(phone_book)-1) :\n",
    "        if len(phone_book[i+1]) < len(min) :\n",
    "            min = phone_book[i+1]\n",
    "        if len(phone_book[i+1]) == len(min) :\n",
    "            min_sec = phone_book[i+1]\n",
    "    \n",
    "    for j in range(len(phone_book)) :\n",
    "        if phone_book[j] != min and phone_book[j] != min_sec:\n",
    "            for k in range(len(min)) :\n",
    "                if phone_book[j][k] == min[k] or phone_book[j][k] == min_sec[k]:\n",
    "                    total += 1\n",
    "                \n",
    "    if total < len(min) :\n",
    "        print(\"true\")\n",
    "    else :\n",
    "        print(\"false\")\n",
    "        \n",
    "    print(min)\n",
    "    print(min_sec)\n",
    "    \n",
    "solution(phone_book)"
   ]
  },
  {
   "cell_type": "code",
   "execution_count": 14,
   "metadata": {},
   "outputs": [
    {
     "name": "stdout",
     "output_type": "stream",
     "text": [
      "true\n"
     ]
    }
   ],
   "source": [
    "a = \"11923\"\n",
    "b = \"1192\"\n",
    "result = 0\n",
    "\n",
    "for i in range(len(b)) :\n",
    "    if a[i] == b[i] :\n",
    "        result += 1\n",
    "        \n",
    "if result == len(b) :\n",
    "    print(\"true\")"
   ]
  },
  {
   "cell_type": "code",
   "execution_count": 62,
   "metadata": {},
   "outputs": [
    {
     "ename": "IndexError",
     "evalue": "list index out of range",
     "output_type": "error",
     "traceback": [
      "\u001b[1;31m---------------------------------------------------------------------------\u001b[0m",
      "\u001b[1;31mIndexError\u001b[0m                                Traceback (most recent call last)",
      "\u001b[1;32m<ipython-input-62-cc05dced8ed0>\u001b[0m in \u001b[0;36m<module>\u001b[1;34m\u001b[0m\n\u001b[0;32m      5\u001b[0m \u001b[0mi\u001b[0m \u001b[1;33m=\u001b[0m \u001b[1;36m0\u001b[0m\u001b[1;33m\u001b[0m\u001b[1;33m\u001b[0m\u001b[0m\n\u001b[0;32m      6\u001b[0m \u001b[1;32mwhile\u001b[0m \u001b[0mi\u001b[0m\u001b[1;33m<\u001b[0m\u001b[0mlen\u001b[0m\u001b[1;33m(\u001b[0m\u001b[0mphone_book\u001b[0m\u001b[1;33m)\u001b[0m \u001b[1;33m:\u001b[0m\u001b[1;33m\u001b[0m\u001b[1;33m\u001b[0m\u001b[0m\n\u001b[1;32m----> 7\u001b[1;33m     \u001b[1;32mif\u001b[0m \u001b[0mlen\u001b[0m\u001b[1;33m(\u001b[0m\u001b[0mphone_book\u001b[0m\u001b[1;33m[\u001b[0m\u001b[0mi\u001b[0m\u001b[1;33m]\u001b[0m\u001b[1;33m)\u001b[0m\u001b[1;33m<=\u001b[0m\u001b[0mlen\u001b[0m\u001b[1;33m(\u001b[0m\u001b[0mphone_book\u001b[0m\u001b[1;33m[\u001b[0m\u001b[0mi\u001b[0m\u001b[1;33m+\u001b[0m\u001b[1;36m1\u001b[0m\u001b[1;33m]\u001b[0m\u001b[1;33m)\u001b[0m \u001b[1;33m:\u001b[0m\u001b[1;33m\u001b[0m\u001b[1;33m\u001b[0m\u001b[0m\n\u001b[0m\u001b[0;32m      8\u001b[0m         \u001b[1;32mif\u001b[0m \u001b[0mphone_book\u001b[0m\u001b[1;33m[\u001b[0m\u001b[0mi\u001b[0m\u001b[1;33m]\u001b[0m \u001b[1;33m==\u001b[0m \u001b[0mphone_book\u001b[0m\u001b[1;33m[\u001b[0m\u001b[0mi\u001b[0m\u001b[1;33m+\u001b[0m\u001b[1;36m1\u001b[0m\u001b[1;33m]\u001b[0m\u001b[1;33m[\u001b[0m\u001b[1;36m0\u001b[0m\u001b[1;33m:\u001b[0m\u001b[0mlen\u001b[0m\u001b[1;33m(\u001b[0m\u001b[0mphone_book\u001b[0m\u001b[1;33m[\u001b[0m\u001b[0mi\u001b[0m\u001b[1;33m]\u001b[0m\u001b[1;33m)\u001b[0m\u001b[1;33m]\u001b[0m \u001b[1;33m:\u001b[0m\u001b[1;33m\u001b[0m\u001b[1;33m\u001b[0m\u001b[0m\n\u001b[0;32m      9\u001b[0m             \u001b[0manswer\u001b[0m \u001b[1;33m=\u001b[0m \u001b[1;32mFalse\u001b[0m\u001b[1;33m\u001b[0m\u001b[1;33m\u001b[0m\u001b[0m\n",
      "\u001b[1;31mIndexError\u001b[0m: list index out of range"
     ]
    }
   ],
   "source": [
    "phone_book = [\"119\", \"97674223\", \"1195524421\"]\n",
    "\n",
    "phone_book.sort()\n",
    "num = phone_book[0]\n",
    "i = 0\n",
    "while i<len(phone_book) :\n",
    "    if len(phone_book[i])<=len(phone_book[i+1]) :\n",
    "        if phone_book[i] == phone_book[i+1][0:len(phone_book[i])] :\n",
    "            answer = False\n",
    "            i = i + 1\n",
    "        elif i == len(phone_book)-1 :\n",
    "            answer = True\n",
    "            break\n",
    "    else :\n",
    "        i = i+1\n",
    "                              \n",
    "print (answer)\n",
    "print (len(phone_book))"
   ]
  }
 ],
 "metadata": {
  "kernelspec": {
   "display_name": "Python 3",
   "language": "python",
   "name": "python3"
  },
  "language_info": {
   "codemirror_mode": {
    "name": "ipython",
    "version": 3
   },
   "file_extension": ".py",
   "mimetype": "text/x-python",
   "name": "python",
   "nbconvert_exporter": "python",
   "pygments_lexer": "ipython3",
   "version": "3.7.3"
  }
 },
 "nbformat": 4,
 "nbformat_minor": 2
}
