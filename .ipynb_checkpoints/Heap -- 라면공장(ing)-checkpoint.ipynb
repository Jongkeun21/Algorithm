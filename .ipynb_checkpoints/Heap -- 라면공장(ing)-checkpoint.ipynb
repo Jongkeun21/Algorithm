{
 "cells": [
  {
   "cell_type": "code",
   "execution_count": null,
   "metadata": {},
   "outputs": [],
   "source": []
  },
  {
   "cell_type": "code",
   "execution_count": null,
   "metadata": {},
   "outputs": [],
   "source": []
  },
  {
   "cell_type": "code",
   "execution_count": null,
   "metadata": {},
   "outputs": [],
   "source": []
  },
  {
   "cell_type": "code",
   "execution_count": null,
   "metadata": {},
   "outputs": [],
   "source": []
  },
  {
   "cell_type": "code",
   "execution_count": null,
   "metadata": {},
   "outputs": [],
   "source": []
  },
  {
   "cell_type": "code",
   "execution_count": null,
   "metadata": {},
   "outputs": [],
   "source": []
  },
  {
   "cell_type": "code",
   "execution_count": null,
   "metadata": {},
   "outputs": [],
   "source": []
  },
  {
   "cell_type": "code",
   "execution_count": null,
   "metadata": {},
   "outputs": [],
   "source": []
  },
  {
   "cell_type": "code",
   "execution_count": null,
   "metadata": {},
   "outputs": [],
   "source": []
  },
  {
   "cell_type": "code",
   "execution_count": null,
   "metadata": {},
   "outputs": [],
   "source": []
  },
  {
   "cell_type": "code",
   "execution_count": null,
   "metadata": {},
   "outputs": [],
   "source": []
  },
  {
   "cell_type": "code",
   "execution_count": null,
   "metadata": {},
   "outputs": [],
   "source": []
  },
  {
   "cell_type": "code",
   "execution_count": null,
   "metadata": {},
   "outputs": [],
   "source": []
  },
  {
   "cell_type": "code",
   "execution_count": null,
   "metadata": {},
   "outputs": [],
   "source": []
  },
  {
   "cell_type": "code",
   "execution_count": null,
   "metadata": {},
   "outputs": [],
   "source": []
  },
  {
   "cell_type": "code",
   "execution_count": null,
   "metadata": {},
   "outputs": [],
   "source": []
  },
  {
   "cell_type": "code",
   "execution_count": null,
   "metadata": {},
   "outputs": [],
   "source": []
  },
  {
   "cell_type": "code",
   "execution_count": null,
   "metadata": {},
   "outputs": [],
   "source": []
  },
  {
   "cell_type": "code",
   "execution_count": null,
   "metadata": {},
   "outputs": [],
   "source": []
  },
  {
   "cell_type": "code",
   "execution_count": null,
   "metadata": {},
   "outputs": [],
   "source": []
  },
  {
   "cell_type": "code",
   "execution_count": null,
   "metadata": {},
   "outputs": [],
   "source": []
  },
  {
   "cell_type": "code",
   "execution_count": null,
   "metadata": {},
   "outputs": [],
   "source": []
  },
  {
   "cell_type": "markdown",
   "metadata": {},
   "source": [
    "현재 공장에 남아있는 밀가루 수량 stock\n",
    "밀가루 공급 일정 dates\n",
    "해당 시점에 공급 가능한 밀가루 수량 supplies\n",
    "공급받을 수 있는 시점 k"
   ]
  },
  {
   "cell_type": "code",
   "execution_count": 154,
   "metadata": {},
   "outputs": [],
   "source": [
    "stock = 4\n",
    "dates = [4,10,15]\n",
    "supplies = [20,5,10]\n",
    "k = 30\n",
    "# return 2"
   ]
  },
  {
   "cell_type": "markdown",
   "metadata": {},
   "source": [
    "최소한의 공급으로 k 만큼 수량 확보하면 됨\n",
    "중간중간 dates와 supplies 생각해서 수량 받을지 말지 계산하고"
   ]
  },
  {
   "cell_type": "code",
   "execution_count": 18,
   "metadata": {},
   "outputs": [],
   "source": [
    "stock = 4\n",
    "dates = [4,10,15]\n",
    "supplies = [20,5,10]\n",
    "k = 30\n",
    "# return 2"
   ]
  },
  {
   "cell_type": "code",
   "execution_count": 82,
   "metadata": {},
   "outputs": [],
   "source": [
    "stock = 4\n",
    "dates = [1,2,3,4]\n",
    "supplies = [1,1,1,1]\n",
    "k = 6\n",
    "# return 2"
   ]
  },
  {
   "cell_type": "code",
   "execution_count": 70,
   "metadata": {},
   "outputs": [],
   "source": [
    "stock = 4\n",
    "dates = [4,10,15]\n",
    "supplies = [20,5,10]\n",
    "k = 30\n",
    "# return 2"
   ]
  },
  {
   "cell_type": "code",
   "execution_count": 83,
   "metadata": {},
   "outputs": [],
   "source": [
    "import heapq\n",
    "\n",
    "def solution(stock, dates, supplies, k) :\n",
    "    answer = 0\n",
    "    dates.append(k)\n",
    "    supplies.append(0)\n",
    "    date = dates.pop(0)\n",
    "    supply = supplies.pop(0)\n",
    "    remain = stock-date\n",
    "    storage = []\n",
    "\n",
    "    while dates:\n",
    "        if remain >= dates[0]-date :\n",
    "            storage.append((-1)*supply)\n",
    "        else :\n",
    "            answer += 1\n",
    "            remain += supply\n",
    "\n",
    "        remain -= dates[0]-date\n",
    "        date = dates.pop(0)\n",
    "        supply = supplies.pop(0)\n",
    "        \n",
    "    while remain < 0 :\n",
    "        remain += heapq.heappop(storage)*(-1)\n",
    "        answer +1\n",
    "    \n",
    "    return answer"
   ]
  },
  {
   "cell_type": "code",
   "execution_count": 84,
   "metadata": {},
   "outputs": [
    {
     "data": {
      "text/plain": [
       "1"
      ]
     },
     "execution_count": 84,
     "metadata": {},
     "output_type": "execute_result"
    }
   ],
   "source": [
    "solution(stock, dates, supplies, k)"
   ]
  },
  {
   "cell_type": "code",
   "execution_count": 31,
   "metadata": {},
   "outputs": [],
   "source": [
    "dates.append(k)\n",
    "supplies.append(0)"
   ]
  },
  {
   "cell_type": "code",
   "execution_count": 32,
   "metadata": {},
   "outputs": [],
   "source": [
    "date = dates.pop(0)\n",
    "supply = supplies.pop(0)\n",
    "remain = stock-date\n",
    "storage = []"
   ]
  },
  {
   "cell_type": "code",
   "execution_count": 33,
   "metadata": {},
   "outputs": [
    {
     "name": "stdout",
     "output_type": "stream",
     "text": [
      "date:  4  supply:  20  remain:  0  dates:  [10, 15, 30] supplies:  [5, 10, 0]\n"
     ]
    }
   ],
   "source": [
    "print(\"date: \", date, \" supply: \", supply, \" remain: \", remain, \" dates: \", dates, \"supplies: \", supplies)"
   ]
  },
  {
   "cell_type": "code",
   "execution_count": 42,
   "metadata": {},
   "outputs": [
    {
     "name": "stdout",
     "output_type": "stream",
     "text": [
      "!!\n"
     ]
    }
   ],
   "source": [
    "if remain >= dates[0]-date :\n",
    "    storage.append(supply)\n",
    "else :\n",
    "    print(\"!!\")\n",
    "    remain += supply"
   ]
  },
  {
   "cell_type": "code",
   "execution_count": 43,
   "metadata": {},
   "outputs": [
    {
     "name": "stdout",
     "output_type": "stream",
     "text": [
      "date:  15  supply:  10  remain:  19  dates:  [30] supplies:  [0]\n"
     ]
    }
   ],
   "source": [
    "print(\"date: \", date, \" supply: \", supply, \" remain: \", remain, \" dates: \", dates, \"supplies: \", supplies)"
   ]
  },
  {
   "cell_type": "code",
   "execution_count": 44,
   "metadata": {},
   "outputs": [],
   "source": [
    "remain -= dates[0]-date\n",
    "date = dates.pop(0)\n",
    "supply = supplies.pop(0)"
   ]
  },
  {
   "cell_type": "code",
   "execution_count": 45,
   "metadata": {},
   "outputs": [
    {
     "name": "stdout",
     "output_type": "stream",
     "text": [
      "date:  30  supply:  0  remain:  4  dates:  [] supplies:  []\n"
     ]
    }
   ],
   "source": [
    "print(\"date: \", date, \" supply: \", supply, \" remain: \", remain, \" dates: \", dates, \"supplies: \", supplies)"
   ]
  },
  {
   "cell_type": "code",
   "execution_count": 99,
   "metadata": {},
   "outputs": [],
   "source": [
    "import heapq\n",
    "\n",
    "def solution(stock, dates, supplies, k) :\n",
    "    answer = 0\n",
    "    stock = 4\n",
    "    dates = [1,2,3,4]\n",
    "    supplies = [1,1,1,1]\n",
    "    k = 6\n",
    "    # return 2\n",
    "\n",
    "    dates.append(k)\n",
    "    supplies.append(0)\n",
    "    date = dates.pop(0)\n",
    "    supply = supplies.pop(0)\n",
    "    remain = stock-date\n",
    "    storage = []\n",
    "\n",
    "    while dates :\n",
    "        if remain >= dates[0]-date :\n",
    "            storage.append((-1)*supply)\n",
    "        else :\n",
    "            answer += 1\n",
    "            remain += supply\n",
    "\n",
    "        remain -= dates[0]-date\n",
    "        date = dates.pop(0)\n",
    "        supply = supplies.pop(0)\n",
    "        \n",
    "    while remain < 0 :\n",
    "        remain += (-1)*heapq.heappop(storage)\n",
    "        answer += 1\n",
    "        \n",
    "    return answer"
   ]
  },
  {
   "cell_type": "code",
   "execution_count": 100,
   "metadata": {},
   "outputs": [],
   "source": [
    "stock = 4\n",
    "dates = [4,10,15]\n",
    "supplies = [20,5,10]\n",
    "k = 30\n",
    "# return 2"
   ]
  },
  {
   "cell_type": "code",
   "execution_count": 97,
   "metadata": {},
   "outputs": [],
   "source": [
    "stock = 4\n",
    "dates = [1,2,3,4]\n",
    "supplies = [1,1,1,1]\n",
    "k = 6\n",
    "# return 2"
   ]
  }
 ],
 "metadata": {
  "kernelspec": {
   "display_name": "Python 3",
   "language": "python",
   "name": "python3"
  },
  "language_info": {
   "codemirror_mode": {
    "name": "ipython",
    "version": 3
   },
   "file_extension": ".py",
   "mimetype": "text/x-python",
   "name": "python",
   "nbconvert_exporter": "python",
   "pygments_lexer": "ipython3",
   "version": "3.7.3"
  }
 },
 "nbformat": 4,
 "nbformat_minor": 2
}
