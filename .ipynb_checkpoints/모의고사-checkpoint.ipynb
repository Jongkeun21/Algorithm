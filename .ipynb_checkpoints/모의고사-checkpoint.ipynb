{
 "cells": [
  {
   "cell_type": "code",
   "execution_count": 57,
   "metadata": {},
   "outputs": [],
   "source": [
    "# answers = [1,2,3,4,5,1,2,3,4,5,1,2,3,4,5,1,2,3,4,5,1,2,3,4,5,1,2,3,4,5,1,2,3,4,5,1,2,3,4,5,1,2,3,4,5,1,2,3,4,5,1,2,3,4,5]\n",
    "# answers = [1,3,2,4,2,1,3,2,4,2,1,3,2,4,2,1,3,2,4,2,1,3,2,4,2,1,3,2,4,2,1,3,2,4,2]\n",
    "# answers = [1,2,3,4,5,1,2,3,4,5]\n",
    "answers = [1,3,2,4,2,1,3,2,4,2,1,3,2,4,2,1,3,2,4,2,1,3,2,4,2,1,3,2,4,2,1,3,2,4,2,1,3,2,4,2,1,3,2,4,2,1,3,2,4,2,1,3,2,4,2,1,3,2,4,2,1,3,2,4,2,3,3,1,1,2,2,4,4,5,5,3,3,1,1,2,2,4,4,5,5,3,3,1,1,2,2,4,4,5,5,4,2,1,3,2,4,2,1,2,3,1,4,2,5,4,3,5,2,5,3,2,4,5,1,2,3,4,2,3,5,2,3,5,2,5,3,3,4,4,2,2,3,1,4,2,3,4]\n",
    "# answers = [1,2,3]\n",
    "# answers = [3,3,1,1,2,2,4,4,5,5]\n",
    "# answers = [1,1,1]\n",
    "# answers = [2,1,2,3,2,4,2,5]\n",
    "# answers = [4,2,2,1]\n",
    "# answers = [4]"
   ]
  },
  {
   "cell_type": "code",
   "execution_count": 58,
   "metadata": {},
   "outputs": [
    {
     "name": "stdout",
     "output_type": "stream",
     "text": [
      "3\n"
     ]
    }
   ],
   "source": [
    "student = [[] for row in range(3)]\n",
    "student[0] = [1,2,3,4,5]\n",
    "student[1] = [2,1,2,3,2,4,2,5]\n",
    "student[2] = [3,3,1,1,2,2,4,4,5,5]\n",
    "\n",
    "for i in range(3) :\n",
    "    while len(student[i]) < len(answers) :\n",
    "        student[i] += student[i]\n",
    "\n",
    "print(len(student))"
   ]
  },
  {
   "cell_type": "code",
   "execution_count": 59,
   "metadata": {},
   "outputs": [
    {
     "name": "stdout",
     "output_type": "stream",
     "text": [
      "[36, 38, 28]\n"
     ]
    }
   ],
   "source": [
    "score = [0 for col in range(3)]\n",
    "for k in range(3) :\n",
    "    for i in range(len(answers)) :\n",
    "        if answers[i] == student[k][i] :\n",
    "            score[k] += 1\n",
    "            \n",
    "print(score)"
   ]
  },
  {
   "cell_type": "code",
   "execution_count": 70,
   "metadata": {},
   "outputs": [
    {
     "name": "stdout",
     "output_type": "stream",
     "text": [
      "[1]\n"
     ]
    }
   ],
   "source": [
    "findMax = score[0]\n",
    "draw = []\n",
    "\n",
    "for i in range(len(score)-1) :\n",
    "    if findMax < score[i+1] :\n",
    "        findMax = score[i+1]\n",
    "\n",
    "for j in range(len(score)) :\n",
    "    if score[j] == findMax :\n",
    "        draw.append(j+1)\n",
    "    \n",
    "# draw.sort()\n",
    "print(draw)"
   ]
  },
  {
   "cell_type": "code",
   "execution_count": null,
   "metadata": {},
   "outputs": [],
   "source": []
  }
 ],
 "metadata": {
  "kernelspec": {
   "display_name": "Python 3",
   "language": "python",
   "name": "python3"
  },
  "language_info": {
   "codemirror_mode": {
    "name": "ipython",
    "version": 3
   },
   "file_extension": ".py",
   "mimetype": "text/x-python",
   "name": "python",
   "nbconvert_exporter": "python",
   "pygments_lexer": "ipython3",
   "version": "3.7.3"
  }
 },
 "nbformat": 4,
 "nbformat_minor": 2
}
