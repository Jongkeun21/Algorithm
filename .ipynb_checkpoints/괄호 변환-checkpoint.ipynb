{
 "cells": [
  {
   "cell_type": "code",
   "execution_count": 1,
   "metadata": {},
   "outputs": [],
   "source": [
    "def solution(p) :\n",
    "    answer = ''\n",
    "    \n",
    "    return answer"
   ]
  },
  {
   "cell_type": "code",
   "execution_count": 23,
   "metadata": {},
   "outputs": [],
   "source": [
    "p = \")(\"\n",
    "p = \"()))((()\""
   ]
  },
  {
   "cell_type": "code",
   "execution_count": 10,
   "metadata": {},
   "outputs": [
    {
     "data": {
      "text/plain": [
       "')('"
      ]
     },
     "execution_count": 10,
     "metadata": {},
     "output_type": "execute_result"
    }
   ],
   "source": [
    "p[:2]"
   ]
  },
  {
   "cell_type": "code",
   "execution_count": 31,
   "metadata": {},
   "outputs": [
    {
     "name": "stdout",
     "output_type": "stream",
     "text": [
      "right:  ['()']   // balance:  []\n"
     ]
    }
   ],
   "source": [
    "# right = 올바른 문자열\n",
    "# balance = 균형잡힌 문자열\n",
    "\n",
    "right = []\n",
    "balance = []\n",
    "\n",
    "u = \"\"\n",
    "if len(p) > 1 :\n",
    "    for i in range(0, len(p)+1, 2) :\n",
    "        u = p[:i]\n",
    "        \n",
    "        if len(u) > 1 and u.count('(') == u.count(')') :\n",
    "            if u[0] == '(' :\n",
    "                right.append(u)\n",
    "                # v를 가지고 다시 시작\n",
    "            else :\n",
    "                # 새로운 문자열 만들기 시작함.\n",
    "            break"
   ]
  },
  {
   "cell_type": "code",
   "execution_count": 33,
   "metadata": {},
   "outputs": [
    {
     "name": "stdout",
     "output_type": "stream",
     "text": [
      "(())))\n"
     ]
    }
   ],
   "source": [
    "s = \"(((())))\"\n",
    "ss = \"((\"\n",
    "print(s[len(ss):])"
   ]
  },
  {
   "cell_type": "code",
   "execution_count": 34,
   "metadata": {},
   "outputs": [],
   "source": [
    "u = []\n",
    "v = []"
   ]
  },
  {
   "cell_type": "code",
   "execution_count": null,
   "metadata": {},
   "outputs": [],
   "source": [
    "# u가 올바른 괄호 문자열일 때, -> v에 대해 재귀적 수행 => v를 다시 u, v로 분리\n",
    "# u가 올바른 괄호 문자열이 아닐 때, -> 새로운 문자열 생성\n",
    "# 수행한 결과 문자열을 u에 붙인 후 반환"
   ]
  },
  {
   "cell_type": "code",
   "execution_count": null,
   "metadata": {},
   "outputs": [],
   "source": [
    "def recursive(string, u=[], v=[]) :\n",
    "    if len(string) < 1 :\n",
    "        return u[len(u)-1]\n",
    "    else :\n",
    "        for i in range(0, len(string)+1, 2):\n",
    "            new = string[:i]\n",
    "\n",
    "            # u, v 분리\n",
    "            if len(new) > 1 and new.count('(') == new.count(')') :\n",
    "                u.append(new)\n",
    "                v.append(string[len(new):])\n",
    "                recurvise(v)\n",
    "\n",
    "                # u가 올바른 괄호 문자열일 때, v에 대해서 재귀적 수행\n",
    "                if new[0] == '(' :\n",
    "\n",
    "                # u가 올바른 괄호 문자열이 아닐 때, 새로운 문자열 생성\n",
    "                else :\n",
    "                "
   ]
  },
  {
   "cell_type": "code",
   "execution_count": null,
   "metadata": {},
   "outputs": [],
   "source": [
    "# 새로운 문자열 생성\n",
    "def makeNewString(u, v) :\n",
    "    recursive(v)\n",
    "    "
   ]
  }
 ],
 "metadata": {
  "kernelspec": {
   "display_name": "Python 3",
   "language": "python",
   "name": "python3"
  },
  "language_info": {
   "codemirror_mode": {
    "name": "ipython",
    "version": 3
   },
   "file_extension": ".py",
   "mimetype": "text/x-python",
   "name": "python",
   "nbconvert_exporter": "python",
   "pygments_lexer": "ipython3",
   "version": "3.7.3"
  }
 },
 "nbformat": 4,
 "nbformat_minor": 2
}
