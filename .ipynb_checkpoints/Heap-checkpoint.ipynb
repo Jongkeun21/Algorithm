{
 "cells": [
  {
   "cell_type": "code",
   "execution_count": 59,
   "metadata": {},
   "outputs": [],
   "source": [
    "array = [16, 4, 10, 14, 7, 9, 3, 2, 8, 1]\n",
    "array = [1, 2, 3, 4, 5, 6, 7, 8, 9, 10]"
   ]
  },
  {
   "cell_type": "code",
   "execution_count": 60,
   "metadata": {},
   "outputs": [],
   "source": [
    "def maxHeapify(array, index) :\n",
    "    max = index\n",
    "    left = 2*index+1\n",
    "    right = 2*index+2\n",
    "    \n",
    "    if left < len(array) and array[left] > array[max] :\n",
    "        max = left\n",
    "        \n",
    "    if right < len(array) and array[right] > array[max] :\n",
    "        max = right\n",
    "        \n",
    "    if max != index :\n",
    "        array[max], array[index] = array[index], array[max]\n",
    "        maxHeapify(array, max)"
   ]
  },
  {
   "cell_type": "code",
   "execution_count": 64,
   "metadata": {},
   "outputs": [],
   "source": [
    "def sortMax(array) :\n",
    "    for i in range(len(array)//2-1, -1, -1) :\n",
    "        maxHeapify(array, i)\n",
    "        \n",
    "    return array"
   ]
  },
  {
   "cell_type": "code",
   "execution_count": 70,
   "metadata": {},
   "outputs": [
    {
     "data": {
      "text/plain": [
       "[10, 9, 7, 8, 5, 6, 3, 1, 4, 2]"
      ]
     },
     "execution_count": 70,
     "metadata": {},
     "output_type": "execute_result"
    }
   ],
   "source": [
    "sortMax(array)"
   ]
  },
  {
   "cell_type": "code",
   "execution_count": 63,
   "metadata": {},
   "outputs": [],
   "source": [
    "def minHeapify(array, index) :\n",
    "    min = index\n",
    "    left = index*2+1\n",
    "    right = index*2+2\n",
    "    \n",
    "    if left < len(array) and array[left] < array[min] :\n",
    "        min = left\n",
    "        \n",
    "    if right < len(array) and array[right] < array[min] :\n",
    "        min = right\n",
    "        \n",
    "    if min != index :\n",
    "        array[min], array[index] = array[index], array[min]\n",
    "        minHeapify(array, min)"
   ]
  },
  {
   "cell_type": "code",
   "execution_count": 68,
   "metadata": {},
   "outputs": [],
   "source": [
    "def sortMin(array) :\n",
    "    for i in range(len(array)//2-1, -1, -1) :\n",
    "        minHeapify(array, i)\n",
    "        \n",
    "    return array"
   ]
  },
  {
   "cell_type": "code",
   "execution_count": 71,
   "metadata": {},
   "outputs": [
    {
     "data": {
      "text/plain": [
       "[1, 2, 3, 4, 5, 6, 7, 8, 9, 10]"
      ]
     },
     "execution_count": 71,
     "metadata": {},
     "output_type": "execute_result"
    }
   ],
   "source": [
    "sortMin(array)"
   ]
  }
 ],
 "metadata": {
  "kernelspec": {
   "display_name": "Python 3",
   "language": "python",
   "name": "python3"
  },
  "language_info": {
   "codemirror_mode": {
    "name": "ipython",
    "version": 3
   },
   "file_extension": ".py",
   "mimetype": "text/x-python",
   "name": "python",
   "nbconvert_exporter": "python",
   "pygments_lexer": "ipython3",
   "version": "3.7.3"
  }
 },
 "nbformat": 4,
 "nbformat_minor": 2
}
