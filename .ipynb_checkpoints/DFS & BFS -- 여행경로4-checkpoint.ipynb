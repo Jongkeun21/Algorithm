{
 "cells": [
  {
   "cell_type": "code",
   "execution_count": 8,
   "metadata": {},
   "outputs": [],
   "source": [
    "def BFS_path(graph, start, goal) :\n",
    "    queue = [(start, [start])]\n",
    "    result = []\n",
    "    \n",
    "    while queue :\n",
    "        node, path = queue.pop(0)\n",
    "        \n",
    "        if node == goal :\n",
    "            result.append(path)\n",
    "        else :\n",
    "            for m in graph[node] :\n",
    "                if m not in path :\n",
    "                    queue.append((m, path+[m]))\n",
    "                \n",
    "    return result\n",
    "\n",
    "def solution(tickets) :\n",
    "    answer = []\n",
    "    node = []\n",
    "    candidate = []\n",
    "    graph = {}\n",
    "    \n",
    "    for point in tickets :\n",
    "        node.append(point[0]+point[1])\n",
    "    \n",
    "    for i in range(len(node)) :\n",
    "        value = []\n",
    "\n",
    "        for j in range(len(node)) :\n",
    "            if i != j and node[i][3:] == node[j][:3] :\n",
    "                value.append(node[j])\n",
    "\n",
    "        graph[node[i]] = value\n",
    "        \n",
    "    routes = []\n",
    "\n",
    "    for start in graph.keys() :\n",
    "        for end in graph.keys() :\n",
    "            if start != end :\n",
    "                routes += BFS_path(graph, start, end)\n",
    "                \n",
    "    for route in routes :\n",
    "        if len(route) == len(graph.keys()) :\n",
    "            candidate.append(route)\n",
    "        \n",
    "    print(candidate)\n",
    "    \n",
    "    final = sorted(candidate)[0]\n",
    "    \n",
    "    for k in range(len(final)) :\n",
    "        answer.append(final[k][:3])\n",
    "        if k == len(final)-1 :\n",
    "            answer.append(final[k][3:])\n",
    "    \n",
    "    return answer"
   ]
  },
  {
   "cell_type": "code",
   "execution_count": 9,
   "metadata": {},
   "outputs": [
    {
     "name": "stdout",
     "output_type": "stream",
     "text": [
      "[]\n"
     ]
    },
    {
     "ename": "IndexError",
     "evalue": "list index out of range",
     "output_type": "error",
     "traceback": [
      "\u001b[0;31m---------------------------------------------------------------------------\u001b[0m",
      "\u001b[0;31mIndexError\u001b[0m                                Traceback (most recent call last)",
      "\u001b[0;32m<ipython-input-9-7d19d29a8466>\u001b[0m in \u001b[0;36m<module>\u001b[0;34m\u001b[0m\n\u001b[0;32m----> 1\u001b[0;31m \u001b[0msolution\u001b[0m\u001b[0;34m(\u001b[0m\u001b[0mtickets\u001b[0m\u001b[0;34m)\u001b[0m\u001b[0;34m\u001b[0m\u001b[0m\n\u001b[0m",
      "\u001b[0;32m<ipython-input-8-79159d0cb3de>\u001b[0m in \u001b[0;36msolution\u001b[0;34m(tickets)\u001b[0m\n\u001b[1;32m     43\u001b[0m     \u001b[0mprint\u001b[0m\u001b[0;34m(\u001b[0m\u001b[0mcandidate\u001b[0m\u001b[0;34m)\u001b[0m\u001b[0;34m\u001b[0m\u001b[0m\n\u001b[1;32m     44\u001b[0m \u001b[0;34m\u001b[0m\u001b[0m\n\u001b[0;32m---> 45\u001b[0;31m     \u001b[0mfinal\u001b[0m \u001b[0;34m=\u001b[0m \u001b[0msorted\u001b[0m\u001b[0;34m(\u001b[0m\u001b[0mcandidate\u001b[0m\u001b[0;34m)\u001b[0m\u001b[0;34m[\u001b[0m\u001b[0;36m0\u001b[0m\u001b[0;34m]\u001b[0m\u001b[0;34m\u001b[0m\u001b[0m\n\u001b[0m\u001b[1;32m     46\u001b[0m \u001b[0;34m\u001b[0m\u001b[0m\n\u001b[1;32m     47\u001b[0m     \u001b[0;32mfor\u001b[0m \u001b[0mk\u001b[0m \u001b[0;32min\u001b[0m \u001b[0mrange\u001b[0m\u001b[0;34m(\u001b[0m\u001b[0mlen\u001b[0m\u001b[0;34m(\u001b[0m\u001b[0mfinal\u001b[0m\u001b[0;34m)\u001b[0m\u001b[0;34m)\u001b[0m \u001b[0;34m:\u001b[0m\u001b[0;34m\u001b[0m\u001b[0m\n",
      "\u001b[0;31mIndexError\u001b[0m: list index out of range"
     ]
    }
   ],
   "source": [
    "solution(tickets)"
   ]
  },
  {
   "cell_type": "code",
   "execution_count": 2,
   "metadata": {},
   "outputs": [],
   "source": [
    "tickets = [[\"ICN\", \"SFO\"], [\"ICN\", \"ATL\"], [\"SFO\", \"ATL\"], [\"ATL\", \"ICN\"], [\"ATL\", \"SFO\"]]"
   ]
  },
  {
   "cell_type": "code",
   "execution_count": 1,
   "metadata": {},
   "outputs": [],
   "source": [
    "def BFS_path(graph, start, goal) :\n",
    "    queue = [(start, [start])]\n",
    "    result = []\n",
    "    \n",
    "    while queue :\n",
    "        node, path = queue.pop(0)\n",
    "        \n",
    "        if node == goal :\n",
    "            result.append(path)\n",
    "        else :\n",
    "            for m in graph[node] :\n",
    "                if m not in path :\n",
    "                    queue.append((m, path+[m]))\n",
    "                \n",
    "    return result"
   ]
  },
  {
   "cell_type": "code",
   "execution_count": null,
   "metadata": {},
   "outputs": [],
   "source": []
  },
  {
   "cell_type": "code",
   "execution_count": 12,
   "metadata": {},
   "outputs": [],
   "source": [
    "node = []\n",
    "\n",
    "for point in tickets :\n",
    "    node.append(point[0]+point[1])\n",
    "    \n",
    "candidate = []\n",
    "graph = {}\n",
    "\n",
    "for i in range(len(node)) :\n",
    "    value = []\n",
    "\n",
    "    for j in range(len(node)) :\n",
    "        if i != j and node[i][3:] == node[j][:3] :\n",
    "            value.append(node[j])\n",
    "\n",
    "    graph[node[i]] = value\n",
    "\n",
    "routes = []"
   ]
  },
  {
   "cell_type": "code",
   "execution_count": 14,
   "metadata": {},
   "outputs": [
    {
     "data": {
      "text/plain": [
       "['ICNSFO', 'ICNATL', 'SFOATL', 'ATLICN', 'ATLSFO']"
      ]
     },
     "execution_count": 14,
     "metadata": {},
     "output_type": "execute_result"
    }
   ],
   "source": [
    "node"
   ]
  },
  {
   "cell_type": "code",
   "execution_count": 15,
   "metadata": {},
   "outputs": [
    {
     "data": {
      "text/plain": [
       "{'ATLICN': ['ICNSFO', 'ICNATL'],\n",
       " 'ATLSFO': ['SFOATL'],\n",
       " 'ICNATL': ['ATLICN', 'ATLSFO'],\n",
       " 'ICNSFO': ['SFOATL'],\n",
       " 'SFOATL': ['ATLICN', 'ATLSFO']}"
      ]
     },
     "execution_count": 15,
     "metadata": {},
     "output_type": "execute_result"
    }
   ],
   "source": [
    "graph"
   ]
  },
  {
   "cell_type": "code",
   "execution_count": 16,
   "metadata": {},
   "outputs": [],
   "source": [
    "for start in graph.keys() :\n",
    "    for end in graph.keys() :\n",
    "        if start != end :\n",
    "            routes += BFS_path(graph, start, end)"
   ]
  },
  {
   "cell_type": "code",
   "execution_count": 17,
   "metadata": {},
   "outputs": [],
   "source": [
    "for route in routes :\n",
    "    if len(route) == len(graph.keys()) :\n",
    "        candidate.append(route)"
   ]
  },
  {
   "cell_type": "code",
   "execution_count": 18,
   "metadata": {},
   "outputs": [],
   "source": [
    "routes = []\n",
    "\n",
    "for start in graph.keys() :\n",
    "    for end in graph.keys() :\n",
    "        if start != end :\n",
    "            routes += BFS_path(graph, start, end)"
   ]
  },
  {
   "cell_type": "code",
   "execution_count": 21,
   "metadata": {},
   "outputs": [],
   "source": [
    "candidate = []\n",
    "\n",
    "for route in routes :\n",
    "    if len(route) == len(graph.keys()) :\n",
    "        candidate.append(route)"
   ]
  },
  {
   "cell_type": "code",
   "execution_count": 22,
   "metadata": {},
   "outputs": [
    {
     "data": {
      "text/plain": [
       "[['ICNATL', 'ATLICN', 'ICNSFO', 'SFOATL', 'ATLSFO'],\n",
       " ['ICNATL', 'ATLSFO', 'SFOATL', 'ATLICN', 'ICNSFO'],\n",
       " ['ICNSFO', 'SFOATL', 'ATLICN', 'ICNATL', 'ATLSFO']]"
      ]
     },
     "execution_count": 22,
     "metadata": {},
     "output_type": "execute_result"
    }
   ],
   "source": [
    "candidate"
   ]
  },
  {
   "cell_type": "code",
   "execution_count": 23,
   "metadata": {},
   "outputs": [],
   "source": [
    "final = sorted(candidate)[0]"
   ]
  },
  {
   "cell_type": "code",
   "execution_count": 24,
   "metadata": {},
   "outputs": [],
   "source": [
    "result = []\n",
    "\n",
    "for k in range(len(final)) :\n",
    "    result.append(final[k][:3])\n",
    "    if k == len(final)-1 :\n",
    "        result.append(final[k][3:])"
   ]
  },
  {
   "cell_type": "code",
   "execution_count": 25,
   "metadata": {},
   "outputs": [
    {
     "data": {
      "text/plain": [
       "['ICN', 'ATL', 'ICN', 'SFO', 'ATL', 'SFO']"
      ]
     },
     "execution_count": 25,
     "metadata": {},
     "output_type": "execute_result"
    }
   ],
   "source": [
    "result"
   ]
  },
  {
   "cell_type": "code",
   "execution_count": null,
   "metadata": {},
   "outputs": [],
   "source": []
  }
 ],
 "metadata": {
  "kernelspec": {
   "display_name": "Python 3",
   "language": "python",
   "name": "python3"
  },
  "language_info": {
   "codemirror_mode": {
    "name": "ipython",
    "version": 3
   },
   "file_extension": ".py",
   "mimetype": "text/x-python",
   "name": "python",
   "nbconvert_exporter": "python",
   "pygments_lexer": "ipython3",
   "version": "3.7.3"
  }
 },
 "nbformat": 4,
 "nbformat_minor": 2
}
