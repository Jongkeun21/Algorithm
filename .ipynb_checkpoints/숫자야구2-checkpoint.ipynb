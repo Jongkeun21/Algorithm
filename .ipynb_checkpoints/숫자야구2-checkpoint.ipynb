{
 "cells": [
  {
   "cell_type": "code",
   "execution_count": 118,
   "metadata": {},
   "outputs": [],
   "source": [
    "from itertools import permutations\n",
    "from collections import Counter"
   ]
  },
  {
   "cell_type": "code",
   "execution_count": 119,
   "metadata": {},
   "outputs": [],
   "source": [
    "baseball = [[123,1,1],[356,1,0],[327,2,0],[489,0,1]]\n",
    "inputs = \"123456789\""
   ]
  },
  {
   "cell_type": "code",
   "execution_count": 120,
   "metadata": {},
   "outputs": [
    {
     "name": "stdout",
     "output_type": "stream",
     "text": [
      "[['1', '2', '3'], ['3', '5', '6'], ['3', '2', '7'], ['4', '8', '9']]\n",
      "[1, 1, 2, 0]\n",
      "[1, 0, 0, 1]\n"
     ]
    }
   ],
   "source": [
    "numbers = []\n",
    "strikes = []\n",
    "balls = []\n",
    "\n",
    "for i in range(len(baseball)) :\n",
    "    numbers.append(list(Counter(str(baseball[i][0]))))\n",
    "    strikes.append(baseball[i][1])\n",
    "    balls.append(baseball[i][2])\n",
    "    \n",
    "print(numbers)\n",
    "print(strikes)\n",
    "print(balls)"
   ]
  },
  {
   "cell_type": "markdown",
   "metadata": {},
   "source": [
    " ### 가능한 모든 숫자 만들기 (out 인 경우 포함)"
   ]
  },
  {
   "cell_type": "code",
   "execution_count": 121,
   "metadata": {},
   "outputs": [
    {
     "name": "stdout",
     "output_type": "stream",
     "text": [
      "504\n"
     ]
    }
   ],
   "source": [
    "inputs = list(inputs)\n",
    "# kinds = list(map(''.join, permutations(inputs, 3)))\n",
    "kinds = [[] for col in range(len(baseball))]\n",
    "for i in range(len(baseball)) :\n",
    "    if baseball[i][1] + baseball[i][2] == 3 :\n",
    "        kinds[i] += list(map(''.join, permutations(baseball[i][0], 3)))\n",
    "    else :\n",
    "        kinds[i] += list(map(''.join, permutations(inputs, 3)))\n",
    "        \n",
    "# able = list(set(kinds[0])&set(kinds[1])&set(kinds[2])&set(kinds[3]))\n",
    "# print(len(able))\n",
    "able = set(kinds[0])\n",
    "for j in range(len(kinds)-1) :\n",
    "    able &= set(kinds[j+1])\n",
    "able = list(able)\n",
    "print(len(able))"
   ]
  },
  {
   "cell_type": "markdown",
   "metadata": {},
   "source": [
    "### ball 빼기"
   ]
  },
  {
   "cell_type": "code",
   "execution_count": 122,
   "metadata": {},
   "outputs": [
    {
     "name": "stdout",
     "output_type": "stream",
     "text": [
      "first:  148\n",
      "able:  356\n"
     ]
    }
   ],
   "source": [
    "first = []\n",
    "for i in range(len(baseball)) :\n",
    "    if baseball[i][1] == 0 and baseball[i][2] != 0 :\n",
    "        for j in range(len(numbers[i])) :\n",
    "            for k in range(len(able)) :\n",
    "                if numbers[i][j] == able[k][j] :\n",
    "                    first.append(able[k])\n",
    "                    \n",
    "first = list(set(first))    # must delete\n",
    "print(\"first: \", len(first))  # must delete\n",
    "able = list(set(able)-set(first))\n",
    "print(\"able: \", len(able))# must delete"
   ]
  },
  {
   "cell_type": "markdown",
   "metadata": {},
   "source": [
    "### 가능한 숫자만 뽑기"
   ]
  },
  {
   "cell_type": "code",
   "execution_count": 123,
   "metadata": {},
   "outputs": [
    {
     "name": "stdout",
     "output_type": "stream",
     "text": [
      "['21', '72', '13', '37', '27', '31', '12', '32', '23', '73']\n"
     ]
    }
   ],
   "source": [
    "second = []\n",
    "for i in range(len(baseball)) :\n",
    "    if baseball[i][1] + baseball[i][2] == 2 :\n",
    "        second += list(map(''.join, permutations(str(baseball[i][0]), 2)))\n",
    "\n",
    "second = list(set(second))\n",
    "print(second)"
   ]
  },
  {
   "cell_type": "code",
   "execution_count": 124,
   "metadata": {
    "scrolled": true
   },
   "outputs": [
    {
     "name": "stdout",
     "output_type": "stream",
     "text": [
      "104\n"
     ]
    }
   ],
   "source": [
    "listA = []\n",
    "for j in range(len(second)) :\n",
    "    for k in range(len(able)) :\n",
    "        if second[j] in able[k] :\n",
    "            listA.append(able[k])\n",
    "            \n",
    "listA = list(set(listA))\n",
    "print(len(listA))"
   ]
  },
  {
   "cell_type": "code",
   "execution_count": 125,
   "metadata": {},
   "outputs": [
    {
     "name": "stdout",
     "output_type": "stream",
     "text": [
      "6\n"
     ]
    }
   ],
   "source": [
    "fourth = []\n",
    "for i in range(len(baseball)) :\n",
    "    if baseball[i][1] + baseball[i][2] == 1 :\n",
    "        fourth += list(map(''.join, permutations(str(baseball[i][0]), 1)))\n",
    "        \n",
    "fourth = list(set(fourth))\n",
    "print(len(fourth))"
   ]
  },
  {
   "cell_type": "code",
   "execution_count": 126,
   "metadata": {},
   "outputs": [
    {
     "name": "stdout",
     "output_type": "stream",
     "text": [
      "350\n"
     ]
    }
   ],
   "source": [
    "listB = []\n",
    "for j in range(len(fourth)) :\n",
    "    for k in range(len(able)) :\n",
    "        if fourth[j] in able[k] :\n",
    "            listB.append(able[k])\n",
    "            \n",
    "listB = list(set(listB))\n",
    "print(len(listB))"
   ]
  },
  {
   "cell_type": "code",
   "execution_count": 127,
   "metadata": {},
   "outputs": [
    {
     "name": "stdout",
     "output_type": "stream",
     "text": [
      "98\n"
     ]
    }
   ],
   "source": [
    "listC = list(set(listA) & set(listB) & set(able))\n",
    "print(len(listC))"
   ]
  },
  {
   "cell_type": "code",
   "execution_count": null,
   "metadata": {},
   "outputs": [],
   "source": []
  }
 ],
 "metadata": {
  "kernelspec": {
   "display_name": "Python 3",
   "language": "python",
   "name": "python3"
  },
  "language_info": {
   "codemirror_mode": {
    "name": "ipython",
    "version": 3
   },
   "file_extension": ".py",
   "mimetype": "text/x-python",
   "name": "python",
   "nbconvert_exporter": "python",
   "pygments_lexer": "ipython3",
   "version": "3.7.3"
  }
 },
 "nbformat": 4,
 "nbformat_minor": 2
}
