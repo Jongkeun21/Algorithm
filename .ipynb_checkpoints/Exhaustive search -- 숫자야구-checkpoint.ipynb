{
 "cells": [
  {
   "cell_type": "code",
   "execution_count": 1,
   "metadata": {},
   "outputs": [],
   "source": [
    "from itertools import permutations\n",
    "from collections import Counter"
   ]
  },
  {
   "cell_type": "code",
   "execution_count": 2,
   "metadata": {},
   "outputs": [],
   "source": [
    "baseball = [[123,1,1],[356,1,0],[327,2,0],[489,0,1]]\n",
    "inputs = \"123456789\""
   ]
  },
  {
   "cell_type": "code",
   "execution_count": 3,
   "metadata": {},
   "outputs": [],
   "source": [
    "numbers = []\n",
    "strikes = []\n",
    "balls = []\n",
    "\n",
    "for i in range(len(baseball)) :\n",
    "    numbers.append(list(Counter(str(baseball[i][0]))))\n",
    "    strikes.append(baseball[i][1])\n",
    "    balls.append(baseball[i][2])"
   ]
  },
  {
   "cell_type": "code",
   "execution_count": 4,
   "metadata": {},
   "outputs": [
    {
     "name": "stdout",
     "output_type": "stream",
     "text": [
      "[['3', '2', '1'], ['3', '5', '6'], ['3', '7', '2'], ['8', '4', '9']]\n"
     ]
    }
   ],
   "source": [
    "print(numbers)"
   ]
  },
  {
   "cell_type": "code",
   "execution_count": 203,
   "metadata": {},
   "outputs": [],
   "source": [
    "listA = list(inputs)\n",
    "\n",
    "for j in range(len(numbers)) :\n",
    "    temp = numbers[j]\n",
    "    sumTemp = strikes[j]+balls[j]\n",
    "    for k in range(len(numbers)) :\n",
    "        count = []\n",
    "        another = list(inputs)\n",
    "        if k != j :\n",
    "            if len(set(temp)-set(numbers[k])) == 3 and sumTemp+strikes[k]+balls[k] == 3 :\n",
    "                count += temp\n",
    "                count += numbers[k]\n",
    "                for num in count :\n",
    "                    if str(num) in another :\n",
    "                        another.remove(str(num))\n",
    "                listA = list(set(listA)-set(another))\n",
    "    if sumTemp == 0 :\n",
    "        for k in range(len(numbers[j])) :\n",
    "            if numbers[j][k] in result :\n",
    "                listA.remove(numbers[j][k])\n",
    "    \n",
    "listA.sort() "
   ]
  },
  {
   "cell_type": "code",
   "execution_count": 194,
   "metadata": {},
   "outputs": [
    {
     "name": "stdout",
     "output_type": "stream",
     "text": [
      "['234', '238', '239', '243', '248', '249', '283', '284', '289', '293', '294', '298', '324', '328', '329', '342', '348', '349', '382', '384', '389', '392', '394', '398', '423', '428', '429', '432', '438', '439', '482', '483', '489', '492', '493', '498', '823', '824', '829', '832', '834', '839', '842', '843', '849', '892', '893', '894', '923', '924', '928', '932', '934', '938', '942', '943', '948', '982', '983', '984']\n"
     ]
    }
   ],
   "source": [
    "first = list(map(''.join, permutations(listA, 3)))\n",
    "print(first)"
   ]
  },
  {
   "cell_type": "code",
   "execution_count": 195,
   "metadata": {},
   "outputs": [
    {
     "name": "stdout",
     "output_type": "stream",
     "text": [
      "23489\n"
     ]
    }
   ],
   "source": [
    "listA = ''.join(listA)\n",
    "print(listA)"
   ]
  },
  {
   "cell_type": "code",
   "execution_count": 196,
   "metadata": {},
   "outputs": [
    {
     "name": "stdout",
     "output_type": "stream",
     "text": [
      "['1', '5', '6', '7']\n"
     ]
    }
   ],
   "source": [
    "never = list(set(inputs)-set(listA))\n",
    "never.sort()\n",
    "print(never)"
   ]
  },
  {
   "cell_type": "code",
   "execution_count": 197,
   "metadata": {},
   "outputs": [
    {
     "name": "stdout",
     "output_type": "stream",
     "text": [
      "[[], [], [], []]\n",
      "[['1', '2', '3'], ['3', '5', '6'], ['3', '2', '7'], ['4', '8', '9']]\n",
      "[['0', '2', '3'], ['3', '0', '0'], ['3', '2', '0'], ['4', '8', '9']]\n"
     ]
    }
   ],
   "source": [
    "newNum = [[] for col in range(len(numbers))]\n",
    "for k in range(len(newNum)) :\n",
    "    newNum[k] += numbers[k]\n",
    "    for l in range(3) :\n",
    "        for num in never :\n",
    "            if num == newNum[k][l] :\n",
    "                newNum[k][l] = '0'"
   ]
  },
  {
   "cell_type": "code",
   "execution_count": 62,
   "metadata": {},
   "outputs": [],
   "source": [
    "# for i in range(len(numbers)) :\n",
    "#     std = []\n",
    "#     if strikes[i] + balls[i] == 3 :\n",
    "#         print(\"3\")\n",
    "#     else :\n",
    "#         for j in range(len(numbers[j])) :\n",
    "#             if numbers[i][j] != '0' and strikes[i] + balls[i] == 2 :\n",
    "#                 std.append(numbers[i][j])\n",
    "#             elif numbers[i][j] != '0' and strikes[i] + balls[i] == 1 :\n",
    "#                 std.append(numbers[i][j])            \n",
    "#     print(std)"
   ]
  },
  {
   "cell_type": "code",
   "execution_count": 156,
   "metadata": {},
   "outputs": [],
   "source": [
    "# std = ['3']\n",
    "# remainList = []\n",
    "# listKinds = list(map(''.join, permutations(std, len(std))))\n",
    "# print(listKinds)\n",
    "# delList = [[] for col in range(len(listKinds))]\n",
    "# for j in range(len(listKinds)) :\n",
    "#     print(\"j: \", j)\n",
    "#     for k in range(len(first)) :\n",
    "#         if not listKinds[j] in first[k] :\n",
    "#             print(\"listKinds[j]: \", listKinds[j])\n",
    "#             delList[j].append(first[k])\n",
    "#             print(\"delList[j]: \", delList[j])\n",
    "\n",
    "#     for l in range(len(delList[j])) :\n",
    "#         if listKinds[len(listKinds)-1-j] in delList[j][l] :\n",
    "#             print(\"l: \", l)\n",
    "#             remainList.append(delList[j][l])\n",
    "# print(std)\n",
    "# print(\"strikes + balls = 1\")\n",
    "# print(\"count: \", count)\n",
    "# print(remainList)"
   ]
  },
  {
   "cell_type": "markdown",
   "metadata": {},
   "source": [
    "하위 순환 - 1B, 1S 무시 가능"
   ]
  },
  {
   "cell_type": "code",
   "execution_count": 198,
   "metadata": {},
   "outputs": [
    {
     "name": "stdout",
     "output_type": "stream",
     "text": [
      "['932', '283', '432', '923', '329', '243', '324', '423', '234', '832', '293', '342', '328', '382', '238', '239', '823', '392']\n"
     ]
    }
   ],
   "source": [
    "# strikes + balls == 2 & 3\n",
    "std = []\n",
    "listB = []\n",
    "listC = []\n",
    "for i in range(len(numbers[0])) :\n",
    "    if newNum[0][i] != '0' :\n",
    "        std.append(newNum[0][i])\n",
    "    for num in std :\n",
    "        for j in range(len(first)) :\n",
    "            if not str(num) in first[j] :\n",
    "                listB.append(first[j])\n",
    "listC = list(set(first)-set(listB))\n",
    "print(listC)"
   ]
  },
  {
   "cell_type": "markdown",
   "metadata": {},
   "source": [
    "스트라이크"
   ]
  },
  {
   "cell_type": "code",
   "execution_count": 200,
   "metadata": {},
   "outputs": [
    {
     "name": "stdout",
     "output_type": "stream",
     "text": [
      "['324', '328', '329']\n"
     ]
    }
   ],
   "source": [
    "listD = []\n",
    "for i in range(len(strikes)) :\n",
    "    if strikes[i] == 3 :\n",
    "        listD.append(numbers[i])\n",
    "    elif strikes[i] == 2 :\n",
    "        for j in range(len(newNum[i])) :\n",
    "            if newNum[i][j] != '0' :\n",
    "                for k in range(len(listC)) :\n",
    "                    if listC[k][j] != newNum[i][j] :\n",
    "                        listD.append(listC[k])\n",
    "        listC = list(set(listC)-set(listD))\n",
    "        print(listC)"
   ]
  },
  {
   "cell_type": "markdown",
   "metadata": {},
   "source": [
    "볼"
   ]
  },
  {
   "cell_type": "code",
   "execution_count": 202,
   "metadata": {},
   "outputs": [
    {
     "name": "stdout",
     "output_type": "stream",
     "text": [
      "['328', '324']\n"
     ]
    }
   ],
   "source": [
    "listE = []\n",
    "for i in range(len(balls)) :\n",
    "    if strikes[i] == 0 and balls[i] != 0:\n",
    "        for j in range(len(newNum[i])) :\n",
    "            if newNum[i][j] != '0' :\n",
    "                for k in range(len(listC)) :\n",
    "                    if listC[k][j] == newNum[i][j] :\n",
    "                        listE.append(listC[k])\n",
    "        listC = list(set(listC)-set(listE))\n",
    "        print(listC)"
   ]
  },
  {
   "cell_type": "code",
   "execution_count": 206,
   "metadata": {},
   "outputs": [],
   "source": [
    "from itertools import permutations\n",
    "from collections import Counter\n",
    "\n",
    "def solution(baseball) :\n",
    "    answer = 0\n",
    "    inputs = \"123456789\"\n",
    "    \n",
    "    numbers = []\n",
    "    strikes = []\n",
    "    balls = []\n",
    "\n",
    "    for i in range(len(baseball)) :\n",
    "        numbers.append(list(Counter(str(baseball[i][0]))))\n",
    "        strikes.append(baseball[i][1])\n",
    "        balls.append(baseball[i][2])\n",
    "\n",
    "    listA = list(inputs)\n",
    "\n",
    "    for j in range(len(numbers)) :\n",
    "        temp = numbers[j]\n",
    "        sumTemp = strikes[j]+balls[j]\n",
    "        for k in range(len(numbers)) :\n",
    "            count = []\n",
    "            another = list(inputs)\n",
    "            if k != j :\n",
    "                if len(set(temp)-set(numbers[k])) == 3 and sumTemp+strikes[k]+balls[k] == 3 :\n",
    "                    count += temp\n",
    "                    count += numbers[k]\n",
    "                    for num in count :\n",
    "                        if str(num) in another :\n",
    "                            another.remove(str(num))\n",
    "                    listA = list(set(listA)-set(another))\n",
    "        if sumTemp == 0 :\n",
    "            for k in range(len(numbers[j])) :\n",
    "                if numbers[j][k] in result :\n",
    "                    listA.remove(numbers[j][k])\n",
    "\n",
    "    listA.sort()\n",
    "    \n",
    "    first = list(map(''.join, permutations(listA, 3)))\n",
    "    listA = ''.join(listA)\n",
    "    never = list(set(inputs)-set(listA))\n",
    "    never.sort()\n",
    "    \n",
    "    newNum = [[] for col in range(len(numbers))]\n",
    "    for k in range(len(newNum)) :\n",
    "        newNum[k] += numbers[k]\n",
    "        for l in range(3) :\n",
    "            for num in never :\n",
    "                if num == newNum[k][l] :\n",
    "                    newNum[k][l] = '0'\n",
    "                    \n",
    "    std = []\n",
    "    listB = []\n",
    "    listC = []\n",
    "    for i in range(len(numbers[0])) :\n",
    "        if newNum[0][i] != '0' :\n",
    "            std.append(newNum[0][i])\n",
    "        for num in std :\n",
    "            for j in range(len(first)) :\n",
    "                if not str(num) in first[j] :\n",
    "                    listB.append(first[j])\n",
    "    listC = list(set(first)-set(listB))\n",
    "    listD = []\n",
    "    for i in range(len(strikes)) :\n",
    "        if strikes[i] == 3 :\n",
    "            listD.append(numbers[i])\n",
    "        elif strikes[i] == 2 :\n",
    "            for j in range(len(newNum[i])) :\n",
    "                if newNum[i][j] != '0' :\n",
    "                    for k in range(len(listC)) :\n",
    "                        if listC[k][j] != newNum[i][j] :\n",
    "                            listD.append(listC[k])\n",
    "            listC = list(set(listC)-set(listD))\n",
    "    \n",
    "    listE = []\n",
    "    for i in range(len(balls)) :\n",
    "        if strikes[i] == 0 and balls[i] != 0:\n",
    "            for j in range(len(newNum[i])) :\n",
    "                if newNum[i][j] != '0' :\n",
    "                    for k in range(len(listC)) :\n",
    "                        if listC[k][j] == newNum[i][j] :\n",
    "                            listE.append(listC[k])\n",
    "            listC = list(set(listC)-set(listE))\n",
    "    \n",
    "    answer = len(listC)\n",
    "    return answer"
   ]
  },
  {
   "cell_type": "code",
   "execution_count": 207,
   "metadata": {},
   "outputs": [
    {
     "name": "stdout",
     "output_type": "stream",
     "text": [
      "['328', '324']\n"
     ]
    }
   ],
   "source": [
    "baseball = [[123,1,1],[356,1,0],[327,2,0],[489,0,1]]\n",
    "print(solution(baseball))"
   ]
  },
  {
   "cell_type": "code",
   "execution_count": 166,
   "metadata": {},
   "outputs": [],
   "source": [
    "# remainList = []\n",
    "# for count in range(len(baseball)) :\n",
    "#     # strikes + balls = 3\n",
    "#     std = []\n",
    "    \n",
    "#     if strikes[count] + balls[count] == 3 :\n",
    "#         for i in range(len(newNum[count])) :\n",
    "#             if newNum[count][i] != '0' :\n",
    "#                 std.append(newNum[count][i])\n",
    "#         listKinds = list(map(''.join, permutations(std, len(std))))\n",
    "\n",
    "#         delList = [[] for col in range(len(listKinds))]\n",
    "\n",
    "#         for j in range(len(listKinds)) :\n",
    "#             for k in range(len(first)) :\n",
    "#                 if not listKinds[j] in first[k] :\n",
    "#                     delList[j].append(first[k])\n",
    "\n",
    "#             for l in range(len(delList[j])) :\n",
    "#                 if listKinds[len(listKinds)-1-j] in delList[j][l] :\n",
    "#                     remainList.append(delList[j][l])\n",
    "\n",
    "#         print(\"strikes + balls = 3\")\n",
    "#         print(remainList)\n",
    "#     # strikes + balls = 2\n",
    "#     elif strikes[count] + balls[count] == 2 :\n",
    "#         for i in range(len(newNum[count])) :\n",
    "#             if newNum[count][i] != '0' :\n",
    "#                 std.append(newNum[count][i])\n",
    "\n",
    "#         listKinds = list(map(''.join, permutations(std, len(std))))\n",
    "\n",
    "#         delList = [[] for col in range(len(listKinds))]\n",
    "\n",
    "#         for j in range(len(listKinds)) :\n",
    "#             for k in range(len(first)) :\n",
    "#                 if not listKinds[j] in first[k] :\n",
    "#                     delList[j].append(first[k])\n",
    "\n",
    "#             for l in range(len(delList[j])) :\n",
    "#                 if listKinds[len(listKinds)-1-j] in delList[j][l] :\n",
    "#                     remainList.append(delList[j][l])\n",
    "\n",
    "#         print(\"strikes + balls = 2\")\n",
    "#         print(remainList)\n",
    "#     # strikes + balls = 1\n",
    "#     elif strikes[count] + balls[count] == 1 :\n",
    "#         for i in range(len(newNum[count])) :\n",
    "#             if newNum[count][i] != '0' :\n",
    "#                 std.append(newNum[count][i])\n",
    "\n",
    "#         listKinds = list(map(''.join, permutations(std, len(std))))\n",
    "#         delList = [[] for col in range(len(listKinds))]\n",
    "#         for j in range(len(listKinds)) :\n",
    "#             for k in range(len(first)) :\n",
    "#                 if not listKinds[j] in first[k] :\n",
    "#                     delList[j].append(first[k])\n",
    "        \n",
    "#             for l in range(len(delList[j])) :\n",
    "#                 if listKinds[len(listKinds)-1-j] in delList[j][l] :\n",
    "#                     remainList.append(delList[j][l])\n",
    "#         print(\"strikes + balls = 1\")\n",
    "#         print(remainList)\n",
    "#     # strikes + balls = 0\n",
    "#     elif strikes[count] + balls[count] == 0 :\n",
    "#         for i in range(len(numbers[count])) :\n",
    "#             if numbers[count][i] != '0' :\n",
    "#                 std.append(numbers[count][i])\n",
    "\n",
    "#         listKinds = list(map(''.join, permutations(std, len(std))))\n",
    "\n",
    "#         delList = [[] for col in range(len(listKinds))]\n",
    "\n",
    "#         for j in range(len(listKinds)) :\n",
    "#             for k in range(len(first)) :\n",
    "#                 if not listKinds[j] in first[k] :\n",
    "#                     delList[j].append(first[k])\n",
    "\n",
    "#             for l in range(len(delList[j])) :\n",
    "#                 if listKinds[len(listKinds)-1-j] in delList[j][l] :\n",
    "#                     remainList.append(delList[j][l])\n",
    "\n",
    "#         print(\"strikes + balls = 0\")\n",
    "#         print(remainList)\n",
    "        \n",
    "# print(\"-------------------------------------------------------------------------------\")\n",
    "# remainList = list(set(remainList))\n",
    "# print(remainList)"
   ]
  },
  {
   "cell_type": "code",
   "execution_count": 167,
   "metadata": {},
   "outputs": [],
   "source": [
    "# print(delList)"
   ]
  },
  {
   "cell_type": "code",
   "execution_count": 168,
   "metadata": {},
   "outputs": [],
   "source": [
    "# listD = []\n",
    "# for i in range(len(listKinds)) :\n",
    "#     for j in range(len(delList[i])) :\n",
    "#         if listKinds[len(listKinds)-1-i] in delList[i][j] :\n",
    "#             listD.append(delList[i][j])\n",
    "            \n",
    "# print(listD)"
   ]
  },
  {
   "cell_type": "code",
   "execution_count": 169,
   "metadata": {},
   "outputs": [],
   "source": [
    "# # print(delList)\n",
    "# listB = []\n",
    "# for i in range(len(delList[0])) :\n",
    "#     if listKinds[1] in delList[0][i] :\n",
    "#         listB.append(delList[0][i])\n",
    "        \n",
    "# print(listB)\n",
    "\n",
    "# listC = []\n",
    "# for i in range(len(delList[1])) :\n",
    "#     if listKinds[0] in delList[1][i] :\n",
    "#         listC.append(delList[1][i])\n",
    "        \n",
    "# print(listC)\n",
    "\n",
    "# listD = listB + listC\n",
    "# print(listD)"
   ]
  },
  {
   "cell_type": "code",
   "execution_count": 170,
   "metadata": {},
   "outputs": [],
   "source": [
    "# listDel = [[] for col in range(len(numbers))]\n",
    "# listRes = [[] for col in range(3)]\n",
    "\n",
    "# for i in range(len(numbers)) :\n",
    "#     std = []\n",
    "#     items = []\n",
    "#     if strikes[i] + balls[i] == 3 :\n",
    "#         for j in range(len(numbers[j])) :\n",
    "#             std.append(numbers[i][j])\n",
    "#         listDel[i] += list(map(''.join, permutations(std, len(std))))\n",
    "#     elif strikes[i] + balls[i] == 2 :\n",
    "#         for j in range(len(numbers[j])) :\n",
    "#             if numbers[i][j] != '0' :\n",
    "#                 std.append(numbers[i][j])\n",
    "#         listDel[i] += list(map(''.join, permutations(std, len(std))))\n",
    "#         for l in range(len(listDel[i])) :\n",
    "#             for m in range(len(first)) :\n",
    "#                 if listDel[i][l] in first[m] :\n",
    "#                     items.append(first[m])\n",
    "#         print(\"items: \", items)\n",
    "#         listRes[i] += items\n",
    "        \n",
    "# #     elif strikes[i] + balls[i] == 1 :\n",
    "# #         for j in range(len(numbers[j])) :\n",
    "# #             if numbers[i][j] != '0' :\n",
    "# #                 std.append(numbers[i][j])\n",
    "# #         listDel[i] += list(map(''.join, permutations(std, len(std))))\n",
    "# #         for l in range(len(listDel[i])) :\n",
    "# #             for m in range(len(first)) :\n",
    "# #                 if listDel[i][l] in first[m] :\n",
    "# #                     items.append(first[m])\n",
    "# #         print(\"items: \", items)\n",
    "# #         listRes[i] += items\n",
    "\n",
    "        \n",
    "# print(listDel)\n",
    "# print(listRes)"
   ]
  },
  {
   "cell_type": "code",
   "execution_count": 171,
   "metadata": {},
   "outputs": [],
   "source": [
    "# for j in range(len(numbers)) :\n",
    "#     for k in range(len(numbers[j])) :\n",
    "#         listDel = []\n",
    "#         if strikes[j]+balls[j] == 2 and numbers[j][k] != '0' :\n",
    "#             print(numbers[j][k])\n",
    "#             print(\"---------------------\")\n",
    "#             for i in range(len(first)) :\n",
    "#                 if not numbers[j][k] in first[i] :\n",
    "#                     listDel.append(first[i])\n",
    "#             print(listDel)\n",
    "#             print(\"=============================\")"
   ]
  },
  {
   "cell_type": "code",
   "execution_count": 253,
   "metadata": {},
   "outputs": [],
   "source": [
    "def findMax(arr) :\n",
    "    high = 0\n",
    "    max = arr[0]\n",
    "    for i in range(len(arr)-1) :\n",
    "        if max < arr[i+1] :\n",
    "            max = arr[i+1]\n",
    "            high = i+1\n",
    "            \n",
    "    return high"
   ]
  },
  {
   "cell_type": "code",
   "execution_count": null,
   "metadata": {},
   "outputs": [],
   "source": []
  }
 ],
 "metadata": {
  "kernelspec": {
   "display_name": "Python 3",
   "language": "python",
   "name": "python3"
  },
  "language_info": {
   "codemirror_mode": {
    "name": "ipython",
    "version": 3
   },
   "file_extension": ".py",
   "mimetype": "text/x-python",
   "name": "python",
   "nbconvert_exporter": "python",
   "pygments_lexer": "ipython3",
   "version": "3.7.3"
  }
 },
 "nbformat": 4,
 "nbformat_minor": 2
}
