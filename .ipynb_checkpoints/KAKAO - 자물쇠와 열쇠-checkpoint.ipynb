{
 "cells": [
  {
   "cell_type": "code",
   "execution_count": 1,
   "metadata": {},
   "outputs": [],
   "source": [
    "def solution(key, lock) :\n",
    "    answer = True\n",
    "    \n",
    "    return answer"
   ]
  },
  {
   "cell_type": "code",
   "execution_count": 190,
   "metadata": {},
   "outputs": [],
   "source": [
    "key = [[0,0,0], [1,0,0], [0,1,1]]\n",
    "lock = [[1,1,1], [1,1,0], [1,0,1]]"
   ]
  },
  {
   "cell_type": "code",
   "execution_count": 161,
   "metadata": {},
   "outputs": [],
   "source": [
    "import numpy as np"
   ]
  },
  {
   "cell_type": "code",
   "execution_count": 162,
   "metadata": {},
   "outputs": [],
   "source": [
    "# key 회전\n",
    "def rotate(key) :\n",
    "    result = []\n",
    "    num = len(key)\n",
    "    \n",
    "    # key의 데이터를 flat하게 나열\n",
    "    key = np.array(key)\n",
    "    key = list(key.reshape(len(key)**2))\n",
    "    \n",
    "    # 나열한 데이터를 재정렬(회전)\n",
    "    for i in range(int(len(key)**0.5)) :\n",
    "        data = []\n",
    "        for j in range(0, len(key), num) :\n",
    "            data.append(key[int(len(key)-len(key)**0.5)+2*i-(i+j)])\n",
    "        result.append(data)\n",
    "    \n",
    "    return result"
   ]
  },
  {
   "cell_type": "code",
   "execution_count": 163,
   "metadata": {},
   "outputs": [
    {
     "data": {
      "text/plain": [
       "[[0, 0, 0, 0, 0, 0, 0],\n",
       " [0, 0, 0, 0, 0, 0, 0],\n",
       " [0, 0, 0, 0, 0, 0, 0],\n",
       " [0, 0, 0, 0, 0, 0, 0],\n",
       " [0, 0, 0, 0, 0, 0, 0],\n",
       " [0, 0, 0, 0, 0, 0, 0],\n",
       " [0, 0, 0, 0, 0, 0, 0]]"
      ]
     },
     "execution_count": 163,
     "metadata": {},
     "output_type": "execute_result"
    }
   ],
   "source": [
    "new_lock = [[0 for col in range(len(lock)+(2*(len(key)-1)))] for col in range(len(lock)+(2*(len(key)-1)))]\n",
    "new_lock"
   ]
  },
  {
   "cell_type": "code",
   "execution_count": 204,
   "metadata": {},
   "outputs": [],
   "source": [
    "def padding(key, lock) :\n",
    "    padding = len(key)-1\n",
    "    \n",
    "    new_lock = [[1 for col in range(len(lock)+(2*padding))] for col in range(len(lock)+(2*padding))]\n",
    "    \n",
    "    for i in range(len(lock)) :\n",
    "        for j in range(len(lock)) :\n",
    "            new_lock[padding+i][padding+j] = lock[i][j]\n",
    "    \n",
    "    return new_lock"
   ]
  },
  {
   "cell_type": "code",
   "execution_count": 205,
   "metadata": {},
   "outputs": [],
   "source": [
    "def separate(key, new_lock, row, col) :\n",
    "    sep_lock = []\n",
    "    \n",
    "    for i in range(len(key)) :\n",
    "        result = []\n",
    "        for j in range(len(key)) :\n",
    "            result.append(new_lock[row+i][col+j])\n",
    "            \n",
    "        sep_lock.append(result)\n",
    "    \n",
    "    return sep_lock"
   ]
  },
  {
   "cell_type": "code",
   "execution_count": 239,
   "metadata": {},
   "outputs": [],
   "source": [
    "def compare(key, lock) :\n",
    "    total_ = []\n",
    "    \n",
    "    for i in range(len(key)) :\n",
    "        for j in range(len(key)) :\n",
    "            total_.append(key[i][j]+lock[i][j])\n",
    "        \n",
    "    return total_"
   ]
  },
  {
   "cell_type": "code",
   "execution_count": 229,
   "metadata": {},
   "outputs": [
    {
     "data": {
      "text/plain": [
       "[[0, 0, 0], [1, 0, 0], [0, 1, 1]]"
      ]
     },
     "execution_count": 229,
     "metadata": {},
     "output_type": "execute_result"
    }
   ],
   "source": [
    "key"
   ]
  },
  {
   "cell_type": "code",
   "execution_count": 230,
   "metadata": {},
   "outputs": [
    {
     "data": {
      "text/plain": [
       "[[1, 0, 0], [0, 0, 0], [0, 0, 0]]"
      ]
     },
     "execution_count": 230,
     "metadata": {},
     "output_type": "execute_result"
    }
   ],
   "source": [
    "sep_lock"
   ]
  },
  {
   "cell_type": "code",
   "execution_count": 237,
   "metadata": {},
   "outputs": [
    {
     "name": "stdout",
     "output_type": "stream",
     "text": [
      "key:  0   //    lock:  1\n",
      "key:  0   //    lock:  0\n",
      "key:  0   //    lock:  0\n",
      "key:  1   //    lock:  0\n",
      "key:  0   //    lock:  0\n",
      "key:  0   //    lock:  0\n",
      "key:  0   //    lock:  0\n",
      "key:  1   //    lock:  0\n",
      "key:  1   //    lock:  0\n"
     ]
    },
    {
     "data": {
      "text/plain": [
       "[1, 0, 0, 1, 0, 0, 0, 1, 1]"
      ]
     },
     "execution_count": 237,
     "metadata": {},
     "output_type": "execute_result"
    }
   ],
   "source": [
    "total__ = 0\n",
    "total__ = compare(key, sep_lock)\n",
    "total__"
   ]
  },
  {
   "cell_type": "code",
   "execution_count": 240,
   "metadata": {},
   "outputs": [],
   "source": [
    "answer = False\n",
    "\n",
    "new_lock = padding(key, lock)\n",
    "sum_list = []\n",
    "\n",
    "for i in range(4) :\n",
    "    for j in range(len(new_lock)-(len(key)-1)) :\n",
    "        for k in range(len(new_lock)-(len(key)-1)) :\n",
    "            sep_lock = separate(key, new_lock, j, k)\n",
    "            total_sum = compare(key, new_lock)\n",
    "            \n",
    "            if not 0 in total_sum :\n",
    "                answer = True\n",
    "                break;\n",
    "    \n",
    "    key = rotate(key)"
   ]
  },
  {
   "cell_type": "code",
   "execution_count": 145,
   "metadata": {},
   "outputs": [],
   "source": [
    "def sliding_window(key, lock, array, num=0, row=0, col=0) :\n",
    "    new_lock = add_padding(lock, key)\n",
    "    \n",
    "    if num != 0 :\n",
    "        key = rotate(key)\n",
    "        \n",
    "    if num > 3:\n",
    "        array.append(\"False\")\n",
    "        return \n",
    "    \n",
    "    sep_lock = separate(key, new_lock, row, col)\n",
    "    \n",
    "    total_sum = []\n",
    "    \n",
    "    for i in range(len(key)) :\n",
    "        for j in range(len(key)) :\n",
    "            total_sum.append(key[i][j] + sep_lock[i][j])\n",
    "                \n",
    "    if 2 in total_sum :            \n",
    "        row += 1\n",
    "        if row > len(lock)+2*(len(key)-1)-(len(key)-1) :\n",
    "            row = 0\n",
    "            col += 1\n",
    "            \n",
    "        if col > len(lock)+2*(len(key)-1)-(len(key)-1) :\n",
    "            row = 0\n",
    "            col = 0\n",
    "            num += 1\n",
    "            \n",
    "        sliding_window(key, lock, array, num, row, col)\n",
    "        \n",
    "    else :\n",
    "        array.append(\"True\")\n",
    "        return "
   ]
  },
  {
   "cell_type": "code",
   "execution_count": 148,
   "metadata": {},
   "outputs": [],
   "source": [
    "def solution(key, lock) :\n",
    "    array = []\n",
    "    sliding_window(key, lock, array, 0)\n",
    "    \n",
    "    if array[0] == \"True\" :\n",
    "        answer = True\n",
    "    else :\n",
    "        answer = False\n",
    "    \n",
    "    return answer"
   ]
  },
  {
   "cell_type": "code",
   "execution_count": 151,
   "metadata": {},
   "outputs": [
    {
     "data": {
      "text/plain": [
       "True"
      ]
     },
     "execution_count": 151,
     "metadata": {},
     "output_type": "execute_result"
    }
   ],
   "source": [
    "solution(key, lock)"
   ]
  },
  {
   "cell_type": "code",
   "execution_count": null,
   "metadata": {},
   "outputs": [],
   "source": []
  }
 ],
 "metadata": {
  "kernelspec": {
   "display_name": "Python 3",
   "language": "python",
   "name": "python3"
  },
  "language_info": {
   "codemirror_mode": {
    "name": "ipython",
    "version": 3
   },
   "file_extension": ".py",
   "mimetype": "text/x-python",
   "name": "python",
   "nbconvert_exporter": "python",
   "pygments_lexer": "ipython3",
   "version": "3.7.3"
  }
 },
 "nbformat": 4,
 "nbformat_minor": 2
}
