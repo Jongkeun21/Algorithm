{
 "cells": [
  {
   "cell_type": "code",
   "execution_count": 1,
   "metadata": {},
   "outputs": [],
   "source": [
    "def solution(key, lock) :\n",
    "    answer = True\n",
    "    \n",
    "    return answer"
   ]
  },
  {
   "cell_type": "code",
   "execution_count": 118,
   "metadata": {},
   "outputs": [],
   "source": [
    "# key의 1이 lock의 0에 맞춰지면 True\n",
    "key = [[0,0,0], [1,0,0], [0,1,1]]\n",
    "lock = [[1,1,1], [1,1,0], [1,0,1]]"
   ]
  },
  {
   "cell_type": "code",
   "execution_count": 25,
   "metadata": {},
   "outputs": [],
   "source": [
    "import numpy as np"
   ]
  },
  {
   "cell_type": "code",
   "execution_count": 119,
   "metadata": {},
   "outputs": [],
   "source": [
    "# key 회전\n",
    "def rotate(key) :\n",
    "    result = []\n",
    "    # key의 데이터를 flat하게 나열\n",
    "    key = np.array(key)\n",
    "    key = list(key.reshape(len(key)**2))\n",
    "    \n",
    "    # 나열한 데이터를 재정렬(회전)\n",
    "    for i in range(int(len(key)**0.5)) :\n",
    "        data = []\n",
    "        for j in range(0, len(key), 3) :\n",
    "            data.append(key[int(len(key)-len(key)**0.5)+2*i-(i+j)])\n",
    "        result.append(data)\n",
    "    \n",
    "    return result"
   ]
  },
  {
   "cell_type": "code",
   "execution_count": 120,
   "metadata": {},
   "outputs": [
    {
     "data": {
      "text/plain": [
       "[[0, 1, 0], [1, 0, 0], [1, 0, 0]]"
      ]
     },
     "execution_count": 120,
     "metadata": {},
     "output_type": "execute_result"
    }
   ],
   "source": [
    "result = rotate(key)\n",
    "result"
   ]
  },
  {
   "cell_type": "code",
   "execution_count": null,
   "metadata": {},
   "outputs": [],
   "source": []
  }
 ],
 "metadata": {
  "kernelspec": {
   "display_name": "Python 3",
   "language": "python",
   "name": "python3"
  },
  "language_info": {
   "codemirror_mode": {
    "name": "ipython",
    "version": 3
   },
   "file_extension": ".py",
   "mimetype": "text/x-python",
   "name": "python",
   "nbconvert_exporter": "python",
   "pygments_lexer": "ipython3",
   "version": "3.7.3"
  }
 },
 "nbformat": 4,
 "nbformat_minor": 2
}
