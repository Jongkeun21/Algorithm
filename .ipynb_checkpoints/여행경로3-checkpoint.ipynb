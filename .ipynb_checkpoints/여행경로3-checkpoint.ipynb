{
 "cells": [
  {
   "cell_type": "code",
   "execution_count": 16,
   "metadata": {},
   "outputs": [],
   "source": [
    "def find_path(graph, start) :\n",
    "    queue = [(start, [start])]\n",
    "    result = []\n",
    "    \n",
    "    while queue :\n",
    "        n, path = queue.pop(0)\n",
    "        if len(path) == len(graph)+1 :\n",
    "            result.append(path)\n",
    "        else :\n",
    "            for i in graph[n] :\n",
    "                if i not in path :\n",
    "                    queue.append((i, path+[i]))\n",
    "    return result"
   ]
  },
  {
   "cell_type": "code",
   "execution_count": 18,
   "metadata": {},
   "outputs": [],
   "source": [
    "tickets = [[\"ICN\", \"JFK\"], [\"HND\", \"IAD\"], [\"JFK\", \"HND\"], [\"ICN\", \"JFK\"], [\"IAD\", \"ICN\"]]\n",
    "# tickets = [[\"ICN\", \"SFO\"], [\"ICN\", \"ATL\"], [\"SFO\", \"ATL\"], [\"ATL\", \"ICN\"], [\"ATL\", \"SFO\"]]\n",
    "tickets = [[\"ICN\", \"BOO\"], [\"ICN\", \"COO\"], [\"COO\", \"DOO\"], [\"DOO\", \"COO\"], [\"BOO\", \"DOO\"], [\"DOO\", \"BOO\"], [\"BOO\", \"ICN\"], [\"COO\", \"BOO\"]]\n",
    "tickets = [[\"ICN\", \"COO\"], [\"ICN\", \"BOO\"], [\"COO\", \"ICN\"], [\"BOO\", \"DOO\"]]"
   ]
  },
  {
   "cell_type": "code",
   "execution_count": 19,
   "metadata": {},
   "outputs": [
    {
     "data": {
      "text/plain": [
       "['COO', 'BOO', 'ICN', 'DOO']"
      ]
     },
     "execution_count": 19,
     "metadata": {},
     "output_type": "execute_result"
    }
   ],
   "source": [
    "waypoint = []\n",
    "for i in range(len(tickets)) :\n",
    "    waypoint.append(tickets[i][1])\n",
    "    \n",
    "waypoint"
   ]
  },
  {
   "cell_type": "code",
   "execution_count": 24,
   "metadata": {},
   "outputs": [
    {
     "data": {
      "text/plain": [
       "['COO', 'BOO', 'ICN', 'DOO']"
      ]
     },
     "execution_count": 24,
     "metadata": {},
     "output_type": "execute_result"
    }
   ],
   "source": [
    "dic = {}\n",
    "dic_key = []\n",
    "dic_value = []\n",
    "for i in range(len(tickets)) :\n",
    "    dic_key.append(tickets[i][0])\n",
    "    dic_value.append(tickets[i][1])\n",
    "    \n",
    "dic_key = list(set(dic_key))\n",
    "dic_key\n",
    "dic_value"
   ]
  },
  {
   "cell_type": "code",
   "execution_count": 4,
   "metadata": {},
   "outputs": [],
   "source": [
    "values = [[] for col in range(len(waypoint))]\n",
    "\n",
    "waypoint = []\n",
    "for i in range(len(tickets)) :\n",
    "    waypoint.append(tickets[i][1])\n",
    "\n",
    "graph_root = []\n",
    "\n",
    "for i in range(len(tickets)) :\n",
    "    graph_root.append(tickets[i][0] + tickets[i][1])\n",
    "\n",
    "for i in range(len(waypoint)) :\n",
    "    for j in range(len(tickets)) :\n",
    "        if waypoint[i] == tickets[j][0] :\n",
    "            values[i].append(tickets[j])"
   ]
  },
  {
   "cell_type": "code",
   "execution_count": 7,
   "metadata": {},
   "outputs": [
    {
     "data": {
      "text/plain": [
       "['ICNCOO', 'ICNBOO', 'COOICN', 'BOODOO']"
      ]
     },
     "execution_count": 7,
     "metadata": {},
     "output_type": "execute_result"
    }
   ],
   "source": [
    "graph_root"
   ]
  },
  {
   "cell_type": "code",
   "execution_count": 9,
   "metadata": {},
   "outputs": [],
   "source": [
    "graph_value = [[] for col in range(len(values))]\n",
    "\n",
    "for i in range(len(values)) :\n",
    "    for j in range(len(values[i])) :\n",
    "        inputs = ''\n",
    "        for k in range(len(values[i][j])) :\n",
    "             inputs += values[i][j][k]\n",
    "        graph_value[i].append(inputs)\n",
    "    graph_value[i].sort()"
   ]
  },
  {
   "cell_type": "code",
   "execution_count": 10,
   "metadata": {},
   "outputs": [
    {
     "data": {
      "text/plain": [
       "[['COOICN'], ['BOODOO'], ['ICNBOO', 'ICNCOO'], []]"
      ]
     },
     "execution_count": 10,
     "metadata": {},
     "output_type": "execute_result"
    }
   ],
   "source": [
    "graph_value"
   ]
  },
  {
   "cell_type": "code",
   "execution_count": 11,
   "metadata": {},
   "outputs": [],
   "source": [
    "graph = {}\n",
    "\n",
    "for i in range(len(waypoint)) :\n",
    "    graph[graph_root[i]] = graph_value[i]"
   ]
  },
  {
   "cell_type": "code",
   "execution_count": 12,
   "metadata": {},
   "outputs": [
    {
     "data": {
      "text/plain": [
       "{'ICNCOO': ['COOICN'],\n",
       " 'ICNBOO': ['BOODOO'],\n",
       " 'COOICN': ['ICNBOO', 'ICNCOO'],\n",
       " 'BOODOO': []}"
      ]
     },
     "execution_count": 12,
     "metadata": {},
     "output_type": "execute_result"
    }
   ],
   "source": [
    "graph"
   ]
  },
  {
   "cell_type": "code",
   "execution_count": 17,
   "metadata": {},
   "outputs": [
    {
     "ename": "KeyError",
     "evalue": "'ICN'",
     "output_type": "error",
     "traceback": [
      "\u001b[1;31m---------------------------------------------------------------------------\u001b[0m",
      "\u001b[1;31mKeyError\u001b[0m                                  Traceback (most recent call last)",
      "\u001b[1;32m<ipython-input-17-ef503f885c06>\u001b[0m in \u001b[0;36m<module>\u001b[1;34m\u001b[0m\n\u001b[1;32m----> 1\u001b[1;33m \u001b[0mfind_path\u001b[0m\u001b[1;33m(\u001b[0m\u001b[0mgraph\u001b[0m\u001b[1;33m,\u001b[0m \u001b[1;34m'ICN'\u001b[0m\u001b[1;33m)\u001b[0m\u001b[1;33m\u001b[0m\u001b[1;33m\u001b[0m\u001b[0m\n\u001b[0m",
      "\u001b[1;32m<ipython-input-16-5e6f61843e41>\u001b[0m in \u001b[0;36mfind_path\u001b[1;34m(graph, start)\u001b[0m\n\u001b[0;32m      8\u001b[0m             \u001b[0mresult\u001b[0m\u001b[1;33m.\u001b[0m\u001b[0mappend\u001b[0m\u001b[1;33m(\u001b[0m\u001b[0mpath\u001b[0m\u001b[1;33m)\u001b[0m\u001b[1;33m\u001b[0m\u001b[1;33m\u001b[0m\u001b[0m\n\u001b[0;32m      9\u001b[0m         \u001b[1;32melse\u001b[0m \u001b[1;33m:\u001b[0m\u001b[1;33m\u001b[0m\u001b[1;33m\u001b[0m\u001b[0m\n\u001b[1;32m---> 10\u001b[1;33m             \u001b[1;32mfor\u001b[0m \u001b[0mi\u001b[0m \u001b[1;32min\u001b[0m \u001b[0mgraph\u001b[0m\u001b[1;33m[\u001b[0m\u001b[0mn\u001b[0m\u001b[1;33m]\u001b[0m \u001b[1;33m:\u001b[0m\u001b[1;33m\u001b[0m\u001b[1;33m\u001b[0m\u001b[0m\n\u001b[0m\u001b[0;32m     11\u001b[0m                 \u001b[1;32mif\u001b[0m \u001b[0mi\u001b[0m \u001b[1;32mnot\u001b[0m \u001b[1;32min\u001b[0m \u001b[0mpath\u001b[0m \u001b[1;33m:\u001b[0m\u001b[1;33m\u001b[0m\u001b[1;33m\u001b[0m\u001b[0m\n\u001b[0;32m     12\u001b[0m                     \u001b[0mqueue\u001b[0m\u001b[1;33m.\u001b[0m\u001b[0mappend\u001b[0m\u001b[1;33m(\u001b[0m\u001b[1;33m(\u001b[0m\u001b[0mi\u001b[0m\u001b[1;33m,\u001b[0m \u001b[0mpath\u001b[0m\u001b[1;33m+\u001b[0m\u001b[1;33m[\u001b[0m\u001b[0mi\u001b[0m\u001b[1;33m]\u001b[0m\u001b[1;33m)\u001b[0m\u001b[1;33m)\u001b[0m\u001b[1;33m\u001b[0m\u001b[1;33m\u001b[0m\u001b[0m\n",
      "\u001b[1;31mKeyError\u001b[0m: 'ICN'"
     ]
    }
   ],
   "source": [
    "find_path(graph, 'ICN')"
   ]
  },
  {
   "cell_type": "code",
   "execution_count": null,
   "metadata": {},
   "outputs": [],
   "source": []
  }
 ],
 "metadata": {
  "kernelspec": {
   "display_name": "Python 3",
   "language": "python",
   "name": "python3"
  },
  "language_info": {
   "codemirror_mode": {
    "name": "ipython",
    "version": 3
   },
   "file_extension": ".py",
   "mimetype": "text/x-python",
   "name": "python",
   "nbconvert_exporter": "python",
   "pygments_lexer": "ipython3",
   "version": "3.7.3"
  }
 },
 "nbformat": 4,
 "nbformat_minor": 2
}
