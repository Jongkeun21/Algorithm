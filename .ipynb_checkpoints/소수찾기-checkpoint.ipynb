{
 "cells": [
  {
   "cell_type": "code",
   "execution_count": 55,
   "metadata": {},
   "outputs": [
    {
     "name": "stdout",
     "output_type": "stream",
     "text": [
      "[[], [], []]\n",
      "[[('1',), ('7',), ('8',)], [('1', '7'), ('1', '8'), ('7', '1'), ('7', '8'), ('8', '1'), ('8', '7')], [('1', '7', '8'), ('1', '8', '7'), ('7', '1', '8'), ('7', '8', '1'), ('8', '1', '7'), ('8', '7', '1')]]\n"
     ]
    }
   ],
   "source": [
    "from itertools import permutations\n",
    "\n",
    "numbers = \"178\"\n",
    "kinds = [[] for col in range(len(numbers))]\n",
    "print(kinds)\n",
    "\n",
    "\n",
    "for i in range(len(numbers)) :\n",
    "    kinds[i] = list(permutations(numbers,i+1))\n",
    "\n",
    "print(kinds)"
   ]
  },
  {
   "cell_type": "code",
   "execution_count": null,
   "metadata": {},
   "outputs": [],
   "source": []
  }
 ],
 "metadata": {
  "kernelspec": {
   "display_name": "Python 3",
   "language": "python",
   "name": "python3"
  },
  "language_info": {
   "codemirror_mode": {
    "name": "ipython",
    "version": 3
   },
   "file_extension": ".py",
   "mimetype": "text/x-python",
   "name": "python",
   "nbconvert_exporter": "python",
   "pygments_lexer": "ipython3",
   "version": "3.7.3"
  }
 },
 "nbformat": 4,
 "nbformat_minor": 2
}
