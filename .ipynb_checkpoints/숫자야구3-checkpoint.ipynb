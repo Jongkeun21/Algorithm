{
 "cells": [
  {
   "cell_type": "code",
   "execution_count": 48,
   "metadata": {},
   "outputs": [],
   "source": [
    "baseball = [[123,1,1],[356,1,0],[327,2,0],[489,0,1]]"
   ]
  },
  {
   "cell_type": "code",
   "execution_count": 49,
   "metadata": {},
   "outputs": [],
   "source": [
    "from itertools import permutations\n",
    "from collections import Counter"
   ]
  },
  {
   "cell_type": "code",
   "execution_count": 50,
   "metadata": {},
   "outputs": [],
   "source": [
    "inputs = \"123456789\"\n",
    "inputs = list(inputs)\n",
    "allKinds = list(map(''.join, permutations(inputs, 3)))\n",
    "# result => 최종 배열\n",
    "result = []\n",
    "\n",
    "# score => 세 자리의 수\n",
    "score = []\n",
    "for i in range(len(baseball)) :\n",
    "    score.append(str(baseball[i][0]))"
   ]
  },
  {
   "cell_type": "code",
   "execution_count": 51,
   "metadata": {},
   "outputs": [
    {
     "name": "stdout",
     "output_type": "stream",
     "text": [
      "['123', '356', '327', '489']\n"
     ]
    }
   ],
   "source": [
    "print(score)"
   ]
  },
  {
   "cell_type": "code",
   "execution_count": 52,
   "metadata": {},
   "outputs": [
    {
     "name": "stdout",
     "output_type": "stream",
     "text": [
      "504\n"
     ]
    }
   ],
   "source": [
    "print(len(allKinds))"
   ]
  },
  {
   "cell_type": "markdown",
   "metadata": {},
   "source": [
    "## Strikes + balls = 3"
   ]
  },
  {
   "cell_type": "code",
   "execution_count": 53,
   "metadata": {},
   "outputs": [
    {
     "name": "stdout",
     "output_type": "stream",
     "text": [
      "[]\n",
      "[]\n"
     ]
    }
   ],
   "source": [
    "first = []\n",
    "second = []\n",
    "\n",
    "for i in range(len(baseball)) :\n",
    "    if baseball[i][1] + baseball[i][2] == 3 :\n",
    "        # Strikes = 3, balls = 0\n",
    "        if baseball[i][1] == 3 :\n",
    "            result.append(score[i])\n",
    "        # Strikes = 1, balls = 2\n",
    "        elif baseball[i][1] == 1 :\n",
    "            listA = []\n",
    "            listADel = []\n",
    "            listA += list(map(''.join, permutations(score[i], 3)))\n",
    "            for j in range(len(listA)) :\n",
    "                if listA[j][0] == score[i][0] :\n",
    "                    if listA[j][1] == score[i][1] or listA[j][2] == score[i][2] :\n",
    "                        listADel.append(listA[j])\n",
    "                elif listA[j][1] == score[i][1] :\n",
    "                    if listA[j][0] == score[i][0] or listA[j][2] == score[i][2] :\n",
    "                        listADel.append(listA[j])\n",
    "                elif listA[j][2] == score[i][2] :\n",
    "                    if listA[j][1] == score[i][1] or listA[j][0] == score[i][0] :\n",
    "                        listADel.append(listA[j])\n",
    "                else :\n",
    "                    listADel.append(listA[j])\n",
    "            first += list(set(listA)-set(listADel))\n",
    "        # Strikes = 0, balls = 3\n",
    "        elif baseball[i][1] == 0 :\n",
    "            listB = []\n",
    "            listBDel = []\n",
    "            listB += list(map(''.join, permutations(score[0], 3)))\n",
    "\n",
    "            for j in range(len(listB)) :\n",
    "                if listB[j][0] == score[0][0] :\n",
    "                    listBDel.append(listB[j])\n",
    "                elif listB[j][1] == score[0][1] :\n",
    "                    listBDel.append(listB[j])\n",
    "                elif listB[j][2] == score[0][2] :\n",
    "                    listBDel.append(listB[j])\n",
    "            second += list(set(listB)-set(listBDel))\n",
    "            \n",
    "first = list(set(first))\n",
    "second = list(set(second))\n",
    "print(first)\n",
    "print(second)"
   ]
  },
  {
   "cell_type": "code",
   "execution_count": 54,
   "metadata": {},
   "outputs": [
    {
     "name": "stdout",
     "output_type": "stream",
     "text": [
      "['123', '132', '213', '231', '312', '321']\n",
      "['132', '213', '321']\n"
     ]
    }
   ],
   "source": [
    "listA = []\n",
    "listADel = []\n",
    "listA += list(map(''.join, permutations(score[0], 3)))\n",
    "print(listA)\n",
    "\n",
    "for i in range(len(listA)) :\n",
    "    if listA[i][0] == score[0][0] :\n",
    "        if listA[i][1] == score[0][1] or listA[i][2] == score[0][2] :\n",
    "            listADel.append(listA[i])\n",
    "    elif listA[i][1] == score[0][1] :\n",
    "        if listA[i][0] == score[0][0] or listA[i][2] == score[0][2] :\n",
    "            listADel.append(listA[i])\n",
    "    elif listA[i][2] == score[0][2] :\n",
    "        if listA[i][0] == score[0][0] or listA[i][1] == score[0][1] :\n",
    "            listADel.append(listA[i])\n",
    "    else :\n",
    "        listADel.append(listA[i])\n",
    "        \n",
    "listA = list(set(listA)-set(listADel))\n",
    "print(listA)"
   ]
  },
  {
   "cell_type": "code",
   "execution_count": 55,
   "metadata": {},
   "outputs": [
    {
     "name": "stdout",
     "output_type": "stream",
     "text": [
      "['123', '132', '213', '231', '312', '321']\n",
      "['312', '231']\n"
     ]
    }
   ],
   "source": [
    "listB = []\n",
    "listBDel = []\n",
    "listB += list(map(''.join, permutations(score[0], 3)))\n",
    "print(listB)\n",
    "\n",
    "for j in range(len(listB)) :\n",
    "    if listB[j][0] == score[0][0] :\n",
    "        listBDel.append(listB[j])\n",
    "    elif listB[j][1] == score[0][1] :\n",
    "        listBDel.append(listB[j])\n",
    "    elif listB[j][2] == score[0][2] :\n",
    "        listBDel.append(listB[j])\n",
    "listB = list(set(listB)-set(listBDel))\n",
    "print(listB)"
   ]
  },
  {
   "cell_type": "markdown",
   "metadata": {},
   "source": [
    "## Strikes + Balls = 2"
   ]
  },
  {
   "cell_type": "code",
   "execution_count": 63,
   "metadata": {},
   "outputs": [],
   "source": [
    "allKinds = list(set(allKinds)-set(score))\n",
    "third = []\n",
    "\n",
    "for i in range(len(baseball)) :\n",
    "    if baseball[i][1] + baseball[i][2] == 2 :\n",
    "        # Strikes = 2, balls = 0\n",
    "        if baseball[i][1] == 2 :\n",
    "            for j in range(len(allKinds)) :\n",
    "                if allKinds[j][0] != score[i][0] and allKinds[j][1] != score[i][1] :\n",
    "                    listADel.append(allKinds[j])\n",
    "                elif allKinds[j][0] != score[i][0] and allKinds[j][2] != score[i][2] :\n",
    "                    listADel.append(allKinds[j]) \n",
    "                elif allKinds[j][1] != score[i][1] and allKinds[j][2] != score[i][2] :\n",
    "                    listADel.append(allKinds[j])\n",
    "            third = list(set(listADel))\n",
    "            print(third)\n",
    "        # Strikes = 1, balls = 1\n",
    "        # Strikes = 0, balls = 2"
   ]
  },
  {
   "cell_type": "markdown",
   "metadata": {},
   "source": [
    "    Strikes = 2, balls = 0"
   ]
  },
  {
   "cell_type": "code",
   "execution_count": 62,
   "metadata": {},
   "outputs": [],
   "source": [
    "print(score[2])\n",
    "allKinds = list(set(allKinds)-set(score))\n",
    "third = []\n",
    "listADel = []\n",
    "\n",
    "for i in range(len(allKinds)) :\n",
    "    if allKinds[i][0] != score[2][0] and allKinds[i][1] != score[2][1] :\n",
    "        listADel.append(allKinds[i])\n",
    "    elif allKinds[i][0] != score[2][0] and allKinds[i][2] != score[2][2] :\n",
    "        listADel.append(allKinds[i]) \n",
    "    elif allKinds[i][1] != score[2][1] and allKinds[i][2] != score[2][2] :\n",
    "        listADel.append(allKinds[i])\n",
    "        \n",
    "third = list(set(listADel))\n",
    "print(third)"
   ]
  },
  {
   "cell_type": "markdown",
   "metadata": {},
   "source": [
    "    Strikes = 1, balls = 1"
   ]
  },
  {
   "cell_type": "code",
   "execution_count": 66,
   "metadata": {},
   "outputs": [
    {
     "name": "stdout",
     "output_type": "stream",
     "text": [
      "123\n"
     ]
    }
   ],
   "source": [
    "print(score[0])\n",
    "allKinds = list(set(allKinds)-set(score))\n",
    "fourth = []\n",
    "listADel = []\n",
    "\n",
    "for j in range(len(allKinds)) :\n",
    "    if allKinds[j][0] == score[0][0] :\n",
    "        if allKinds[j][1] != score[0][2] :\n",
    "            listADel.append(allKinds[j])\n",
    "        elif allKinds[j][2] != score[0][1] :\n",
    "            listADel.append(allKinds[j])\n",
    "    elif allKinds[i][1] == score[0][1] :\n",
    "        if allKinds[j][0] != score[0][2] :\n",
    "            listADel.append(allKinds[j])\n",
    "        elif allKinds[j]"
   ]
  },
  {
   "cell_type": "code",
   "execution_count": null,
   "metadata": {},
   "outputs": [],
   "source": []
  }
 ],
 "metadata": {
  "kernelspec": {
   "display_name": "Python 3",
   "language": "python",
   "name": "python3"
  },
  "language_info": {
   "codemirror_mode": {
    "name": "ipython",
    "version": 3
   },
   "file_extension": ".py",
   "mimetype": "text/x-python",
   "name": "python",
   "nbconvert_exporter": "python",
   "pygments_lexer": "ipython3",
   "version": "3.7.0"
  }
 },
 "nbformat": 4,
 "nbformat_minor": 2
}
