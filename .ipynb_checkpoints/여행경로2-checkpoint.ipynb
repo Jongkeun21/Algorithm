{
 "cells": [
  {
   "cell_type": "code",
   "execution_count": 117,
   "metadata": {},
   "outputs": [],
   "source": [
    "tickets = [[\"ICN\", \"JFK\"], [\"HND\", \"IAD\"], [\"JFK\", \"HND\"]]\n",
    "tickets = [[\"ICN\", \"SFO\"], [\"ICN\", \"ATL\"], [\"SFO\", \"ATL\"], [\"ATL\", \"ICN\"], [\"ATL\", \"SFO\"]]"
   ]
  },
  {
   "cell_type": "code",
   "execution_count": 118,
   "metadata": {},
   "outputs": [
    {
     "data": {
      "text/plain": [
       "['SFO', 'ATL', 'ATL', 'ICN', 'SFO', 'ATL']"
      ]
     },
     "execution_count": 118,
     "metadata": {},
     "output_type": "execute_result"
    }
   ],
   "source": [
    "waypoint = []\n",
    "for i in range(len(tickets)) :\n",
    "    waypoint.append(tickets[i][1])\n",
    "    \n",
    "waypoint"
   ]
  },
  {
   "cell_type": "code",
   "execution_count": 119,
   "metadata": {},
   "outputs": [],
   "source": [
    "values = [[] for col in range(len(waypoint))]"
   ]
  },
  {
   "cell_type": "code",
   "execution_count": 120,
   "metadata": {},
   "outputs": [],
   "source": [
    "waypoint = []\n",
    "for i in range(len(tickets)) :\n",
    "    waypoint.append(tickets[i][1])\n",
    "\n",
    "graph_root = []\n",
    "\n",
    "for i in range(len(tickets)) :\n",
    "    graph_root.append(tickets[i][0] + tickets[i][1])\n",
    "\n",
    "for i in range(len(waypoint)) :\n",
    "    for j in range(len(tickets)) :\n",
    "        if waypoint[i] == tickets[j][0] :\n",
    "            values[i].append(tickets[j])"
   ]
  },
  {
   "cell_type": "code",
   "execution_count": 121,
   "metadata": {},
   "outputs": [
    {
     "data": {
      "text/plain": [
       "[['SFOATL'],\n",
       " ['ATLICN', 'ATLSFO'],\n",
       " ['ATLICN', 'ATLSFO'],\n",
       " ['ICNATL', 'ICNATL', 'ICNSFO'],\n",
       " ['SFOATL'],\n",
       " ['ATLICN', 'ATLSFO']]"
      ]
     },
     "execution_count": 121,
     "metadata": {},
     "output_type": "execute_result"
    }
   ],
   "source": [
    "graph_value = [[] for col in range(len(values))]\n",
    "\n",
    "for i in range(len(values)) :\n",
    "    for j in range(len(values[i])) :\n",
    "        inputs = ''\n",
    "        for k in range(len(values[i][j])) :\n",
    "             inputs += values[i][j][k]\n",
    "        graph_value[i].append(inputs)\n",
    "        graph_value[i].sort()\n",
    "\n",
    "graph_value"
   ]
  },
  {
   "cell_type": "code",
   "execution_count": 122,
   "metadata": {},
   "outputs": [],
   "source": [
    "graph = {}\n",
    "\n",
    "for i in range(len(waypoint)) :\n",
    "    graph[graph_root[i]] = graph_value[i]"
   ]
  },
  {
   "cell_type": "code",
   "execution_count": 123,
   "metadata": {},
   "outputs": [
    {
     "data": {
      "text/plain": [
       "{'ATLICN': ['ICNATL', 'ICNATL', 'ICNSFO'],\n",
       " 'ATLSFO': ['SFOATL'],\n",
       " 'ICNATL': ['ATLICN', 'ATLSFO'],\n",
       " 'ICNSFO': ['SFOATL'],\n",
       " 'SFOATL': ['ATLICN', 'ATLSFO']}"
      ]
     },
     "execution_count": 123,
     "metadata": {},
     "output_type": "execute_result"
    }
   ],
   "source": [
    "graph"
   ]
  },
  {
   "cell_type": "code",
   "execution_count": 124,
   "metadata": {},
   "outputs": [],
   "source": [
    "def BFS(graph, root) :\n",
    "    visit = []\n",
    "    queue = []\n",
    "    \n",
    "    queue.append(root)\n",
    "    \n",
    "    while queue :\n",
    "        node = queue.pop(0)\n",
    "        if node not in visit :\n",
    "            visit.append(node)\n",
    "            queue.extend(graph[node])\n",
    "            \n",
    "    return visit"
   ]
  },
  {
   "cell_type": "code",
   "execution_count": 125,
   "metadata": {},
   "outputs": [
    {
     "data": {
      "text/plain": [
       "['ICNATL', 'ATLICN', 'ATLSFO', 'ICNSFO', 'SFOATL']"
      ]
     },
     "execution_count": 125,
     "metadata": {},
     "output_type": "execute_result"
    }
   ],
   "source": [
    "BFS(graph, 'ICNATL')"
   ]
  },
  {
   "cell_type": "code",
   "execution_count": 126,
   "metadata": {},
   "outputs": [],
   "source": [
    "visited = []\n",
    "\n",
    "def DFS(graph, root, visited) :\n",
    "        \n",
    "    visited.append(root)\n",
    "    \n",
    "    for node in graph[root] :\n",
    "        if node not in visited :\n",
    "            DFS(graph, node, visited)\n",
    "            \n",
    "    return"
   ]
  },
  {
   "cell_type": "code",
   "execution_count": 127,
   "metadata": {},
   "outputs": [],
   "source": [
    "DFS(graph, root, visited)"
   ]
  },
  {
   "cell_type": "code",
   "execution_count": 128,
   "metadata": {},
   "outputs": [
    {
     "name": "stdout",
     "output_type": "stream",
     "text": [
      "['ICNATL', 'ATLICN', 'ICNSFO', 'SFOATL', 'ATLSFO']\n"
     ]
    }
   ],
   "source": [
    "print(visited)"
   ]
  },
  {
   "cell_type": "code",
   "execution_count": 129,
   "metadata": {},
   "outputs": [],
   "source": [
    "candidates = []\n",
    "\n",
    "for i in range(len(tickets)) :\n",
    "    if tickets[i][0] == 'ICN' :\n",
    "        candidates.append(tickets[i][0]+tickets[i][1])\n",
    "        \n",
    "candidates.sort()\n",
    "root = candidates[0]"
   ]
  },
  {
   "cell_type": "code",
   "execution_count": 131,
   "metadata": {},
   "outputs": [],
   "source": [
    "answer = []\n",
    "visited = []\n",
    "\n",
    "DFS(graph, root, visited)\n",
    "\n",
    "for i in range(len(visited)) :\n",
    "    answer.append(visited[i][0:3])\n",
    "    \n",
    "answer.append(visited[len(visited)-1][3:])"
   ]
  },
  {
   "cell_type": "code",
   "execution_count": 132,
   "metadata": {},
   "outputs": [
    {
     "name": "stdout",
     "output_type": "stream",
     "text": [
      "['ICN', 'ATL', 'ICN', 'SFO', 'ATL', 'SFO']\n"
     ]
    }
   ],
   "source": [
    "print(answer)"
   ]
  },
  {
   "cell_type": "code",
   "execution_count": 134,
   "metadata": {},
   "outputs": [],
   "source": [
    "def DFS(graph, root, visited) :\n",
    "        \n",
    "    visited.append(root)\n",
    "    \n",
    "    for node in graph[root] :\n",
    "        if node not in visited :\n",
    "            DFS(graph, node, visited)\n",
    "            \n",
    "    return\n",
    "\n",
    "def solution(tickets) :\n",
    "    answer = []\n",
    "    visited = []\n",
    "    \n",
    "    waypoint = []\n",
    "    \n",
    "    for i in range(len(tickets)) :\n",
    "        waypoint.append(tickets[i][1])\n",
    "        \n",
    "    values = [[] for col in range(len(waypoint))]\n",
    "\n",
    "    graph_root = []\n",
    "\n",
    "    for i in range(len(tickets)) :\n",
    "        graph_root.append(tickets[i][0] + tickets[i][1])\n",
    "\n",
    "    for i in range(len(waypoint)) :\n",
    "        for j in range(len(tickets)) :\n",
    "            if waypoint[i] == tickets[j][0] :\n",
    "                values[i].append(tickets[j])\n",
    "\n",
    "    graph_value = [[] for col in range(len(values))]\n",
    "\n",
    "    for i in range(len(values)) :\n",
    "        for j in range(len(values[i])) :\n",
    "            inputs = ''\n",
    "            for k in range(len(values[i][j])) :\n",
    "                 inputs += values[i][j][k]\n",
    "            graph_value[i].append(inputs)\n",
    "\n",
    "    graph_value\n",
    "\n",
    "    graph = {}\n",
    "\n",
    "    for i in range(len(waypoint)) :\n",
    "        graph[graph_root[i]] = graph_value[i]\n",
    "        \n",
    "        candidates = []\n",
    "\n",
    "    for i in range(len(tickets)) :\n",
    "        if tickets[i][0] == 'ICN' :\n",
    "            candidates.append(tickets[i][0]+tickets[i][1])\n",
    "\n",
    "    candidates.sort()\n",
    "    root = candidates[0]\n",
    "    \n",
    "    DFS(graph, root, visited)\n",
    "\n",
    "    for i in range(len(visited)) :\n",
    "        answer.append(visited[i][0:3])\n",
    "\n",
    "    answer.append(visited[len(visited)-1][3:])\n",
    "    \n",
    "    return answer"
   ]
  },
  {
   "cell_type": "code",
   "execution_count": 144,
   "metadata": {},
   "outputs": [],
   "source": [
    "tickets = [[\"ICN\", \"JFK\"], [\"HND\", \"IAD\"], [\"JFK\", \"HND\"], [\"ICN\", \"JFK\"], [\"IAD\", \"ICN\"]]\n",
    "# tickets = [[\"ICN\", \"SFO\"], [\"ICN\", \"ATL\"], [\"SFO\", \"ATL\"], [\"ATL\", \"ICN\"], [\"ATL\", \"SFO\"], [\"ATL\", \"SFO\"]]"
   ]
  },
  {
   "cell_type": "code",
   "execution_count": 145,
   "metadata": {},
   "outputs": [
    {
     "data": {
      "text/plain": [
       "['ICN', 'JFK', 'HND', 'IAD', 'ICN']"
      ]
     },
     "execution_count": 145,
     "metadata": {},
     "output_type": "execute_result"
    }
   ],
   "source": [
    "solution(tickets)"
   ]
  },
  {
   "cell_type": "markdown",
   "metadata": {},
   "source": [
    "ICN에서 다시 JFK로 가야됨"
   ]
  }
 ],
 "metadata": {
  "kernelspec": {
   "display_name": "Python 3",
   "language": "python",
   "name": "python3"
  },
  "language_info": {
   "codemirror_mode": {
    "name": "ipython",
    "version": 3
   },
   "file_extension": ".py",
   "mimetype": "text/x-python",
   "name": "python",
   "nbconvert_exporter": "python",
   "pygments_lexer": "ipython3",
   "version": "3.5.2"
  }
 },
 "nbformat": 4,
 "nbformat_minor": 2
}
