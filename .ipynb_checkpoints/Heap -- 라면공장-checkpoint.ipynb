{
 "cells": [
  {
   "cell_type": "code",
   "execution_count": 25,
   "metadata": {},
   "outputs": [],
   "source": [
    "def solution(stock, dates, supplies, k) :\n",
    "    answer = 0\n",
    "    dates.insert(0, 0)\n",
    "    dates.append(k-1)\n",
    "    supplies.insert(0, 0)\n",
    "    \n",
    "    for i in range(len(supplies)) :\n",
    "        if stock-(dates[i+1]-dates[i]) <= 0 :\n",
    "            stock = stock-(dates[i+1]-dates[i])+supplies[i]\n",
    "            answer += 1\n",
    "        else :\n",
    "            stock = stock-(dates[i+1]-dates[i])\n",
    "    \n",
    "    return answer-1"
   ]
  },
  {
   "cell_type": "code",
   "execution_count": 26,
   "metadata": {},
   "outputs": [],
   "source": [
    "stock = 4\n",
    "dates = [4,10,15]\n",
    "supplies = [20,5,10]\n",
    "k = 30"
   ]
  },
  {
   "cell_type": "code",
   "execution_count": 27,
   "metadata": {},
   "outputs": [
    {
     "data": {
      "text/plain": [
       "2"
      ]
     },
     "execution_count": 27,
     "metadata": {},
     "output_type": "execute_result"
    }
   ],
   "source": [
    "solution(stock, dates, supplies, k)"
   ]
  },
  {
   "cell_type": "code",
   "execution_count": 19,
   "metadata": {},
   "outputs": [],
   "source": [
    "dates.insert(0, 0)\n",
    "dates.append(k)"
   ]
  },
  {
   "cell_type": "code",
   "execution_count": 20,
   "metadata": {},
   "outputs": [],
   "source": [
    "supplies.insert(0, 0)"
   ]
  },
  {
   "cell_type": "code",
   "execution_count": 21,
   "metadata": {},
   "outputs": [
    {
     "name": "stdout",
     "output_type": "stream",
     "text": [
      "stock:  0\n",
      "stock:  14\n",
      "stock:  9\n",
      "stock:  4\n"
     ]
    }
   ],
   "source": [
    "for i in range(len(supplies)) :\n",
    "    if stock-(dates[i+1]-dates[i]) <= 0 :\n",
    "        stock = stock-(dates[i+1]-dates[i])+supplies[i]\n",
    "    else :\n",
    "        stock = stock-(dates[i+1]-dates[i])\n",
    "        \n",
    "    print(\"stock: \", stock)"
   ]
  },
  {
   "cell_type": "code",
   "execution_count": null,
   "metadata": {},
   "outputs": [],
   "source": []
  },
  {
   "cell_type": "code",
   "execution_count": null,
   "metadata": {},
   "outputs": [],
   "source": []
  },
  {
   "cell_type": "code",
   "execution_count": null,
   "metadata": {},
   "outputs": [],
   "source": []
  },
  {
   "cell_type": "code",
   "execution_count": null,
   "metadata": {},
   "outputs": [],
   "source": []
  },
  {
   "cell_type": "code",
   "execution_count": null,
   "metadata": {},
   "outputs": [],
   "source": []
  }
 ],
 "metadata": {
  "kernelspec": {
   "display_name": "Python 3",
   "language": "python",
   "name": "python3"
  },
  "language_info": {
   "codemirror_mode": {
    "name": "ipython",
    "version": 3
   },
   "file_extension": ".py",
   "mimetype": "text/x-python",
   "name": "python",
   "nbconvert_exporter": "python",
   "pygments_lexer": "ipython3",
   "version": "3.7.3"
  }
 },
 "nbformat": 4,
 "nbformat_minor": 2
}
