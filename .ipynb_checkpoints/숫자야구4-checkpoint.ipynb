{
 "cells": [
  {
   "cell_type": "code",
   "execution_count": 85,
   "metadata": {},
   "outputs": [],
   "source": [
    "from itertools import permutations\n",
    "from collections import Counter"
   ]
  },
  {
   "cell_type": "code",
   "execution_count": 86,
   "metadata": {},
   "outputs": [],
   "source": [
    "baseball = [[123,1,1],[356,1,0],[327,2,0],[489,0,1]]"
   ]
  },
  {
   "cell_type": "code",
   "execution_count": 87,
   "metadata": {},
   "outputs": [
    {
     "name": "stdout",
     "output_type": "stream",
     "text": [
      "['1', '2', '3', '4', '5', '6', '7', '8', '9']\n"
     ]
    }
   ],
   "source": [
    "inputs = list(\"123456789\")\n",
    "print(inputs)"
   ]
  },
  {
   "cell_type": "code",
   "execution_count": 88,
   "metadata": {},
   "outputs": [
    {
     "name": "stdout",
     "output_type": "stream",
     "text": [
      "scores:   [['1', '2', '3'], ['3', '5', '6'], ['3', '2', '7'], ['4', '8', '9']]\n",
      "strikes:  [1, 1, 2, 0]\n",
      "balls:    [1, 0, 0, 1]\n"
     ]
    }
   ],
   "source": [
    "scores = []\n",
    "strikes = []\n",
    "balls = []\n",
    "\n",
    "for i in range(len(baseball)) :\n",
    "    scores.append(list(str(baseball[i][0])))\n",
    "    strikes.append(baseball[i][1])\n",
    "    balls.append(baseball[i][2])\n",
    "    \n",
    "print(\"scores:  \", scores)\n",
    "print(\"strikes: \", strikes)\n",
    "print(\"balls:   \", balls)"
   ]
  },
  {
   "cell_type": "code",
   "execution_count": 89,
   "metadata": {},
   "outputs": [],
   "source": [
    "kinds = list(map(''.join, permutations(inputs, 3)))"
   ]
  },
  {
   "cell_type": "code",
   "execution_count": 90,
   "metadata": {},
   "outputs": [],
   "source": [
    "possible = []\n",
    "for i in range(len(kinds)) :\n",
    "    stkCnt = [0 for col in range(len(scores))]\n",
    "    balCnt = [0 for col in range(len(scores))]\n",
    "    for j in range(len(kinds[i])) :\n",
    "        for k in range(len(scores)) :\n",
    "            if kinds[i][j] == scores[k][j] :\n",
    "                stkCnt[k] += 1\n",
    "            elif kinds[i][j] in scores[k] :\n",
    "                balCnt[k] += 1\n",
    "    if stkCnt == strikes and balCnt == balls :\n",
    "        possible.append(kinds[i])"
   ]
  },
  {
   "cell_type": "code",
   "execution_count": 91,
   "metadata": {},
   "outputs": [
    {
     "name": "stdout",
     "output_type": "stream",
     "text": [
      "['324', '328']\n"
     ]
    }
   ],
   "source": [
    "print(possible)"
   ]
  },
  {
   "cell_type": "code",
   "execution_count": 92,
   "metadata": {},
   "outputs": [],
   "source": [
    "def solutions(baseball) :\n",
    "    scores = []\n",
    "    strikes = []\n",
    "    balls = []\n",
    "    possible = []\n",
    "    \n",
    "    kinds = list(map(''.join, permutations(inputs, 3)))\n",
    "\n",
    "    for i in range(len(baseball)) :\n",
    "        scores.append(list(str(baseball[i][0])))\n",
    "        strikes.append(baseball[i][1])\n",
    "        balls.append(baseball[i][2])\n",
    "\n",
    "    for i in range(len(kinds)) :\n",
    "        stkCnt = [0 for col in range(len(scores))]\n",
    "        balCnt = [0 for col in range(len(scores))]\n",
    "        for j in range(len(kinds[i])) :\n",
    "            for k in range(len(scores)) :\n",
    "                if kinds[i][j] == scores[k][j] :\n",
    "                    stkCnt[k] += 1\n",
    "                elif kinds[i][j] in scores[k] :\n",
    "                    balCnt[k] += 1\n",
    "        if stkCnt == strikes and balCnt == balls :\n",
    "            possible.append(kinds[i])\n",
    "    \n",
    "    answer = len(possible)\n",
    "    return answer"
   ]
  },
  {
   "cell_type": "code",
   "execution_count": 93,
   "metadata": {},
   "outputs": [],
   "source": [
    "baseball = [[123,1,1],[356,1,0],[327,2,0],[489,0,1]]"
   ]
  },
  {
   "cell_type": "code",
   "execution_count": 94,
   "metadata": {},
   "outputs": [
    {
     "name": "stdout",
     "output_type": "stream",
     "text": [
      "2\n"
     ]
    }
   ],
   "source": [
    "print(solutions(baseball))"
   ]
  },
  {
   "cell_type": "code",
   "execution_count": 54,
   "metadata": {},
   "outputs": [
    {
     "name": "stdout",
     "output_type": "stream",
     "text": [
      "[3, 1, 1, 0, 1]\n",
      "[0, 0, 1, 0, 1]\n"
     ]
    }
   ],
   "source": [
    "print(stkCnt)\n",
    "print(balCnt)"
   ]
  },
  {
   "cell_type": "code",
   "execution_count": null,
   "metadata": {},
   "outputs": [],
   "source": [
    "for i in range(len(kinds)) :\n",
    "    for j in range(len(kinds[i])) :\n",
    "        stkCnt = [[0] for col in range(len(scores))]\n",
    "        ballCnt = [[0] for col in range(len(scores))]\n",
    "        for k in range(len(scores)) :\n",
    "            if kinds[i][j] == scores[k][j] :\n",
    "                stkCnt[k] += 1\n",
    "            elif kinds[i][j] in scores[k] :\n",
    "                ballCnt[k] += 1"
   ]
  },
  {
   "cell_type": "code",
   "execution_count": 24,
   "metadata": {},
   "outputs": [
    {
     "name": "stdout",
     "output_type": "stream",
     "text": [
      "kinds[i]:  123\n",
      "strikes:  3\n",
      "balls:  0\n",
      "-----------------------------------------------------\n",
      "kinds[i]:  124\n",
      "strikes:  0\n",
      "balls:  0\n",
      "-----------------------------------------------------\n",
      "kinds[i]:  125\n",
      "strikes:  0\n",
      "balls:  1\n",
      "-----------------------------------------------------\n",
      "kinds[i]:  126\n",
      "strikes:  0\n",
      "balls:  0\n",
      "-----------------------------------------------------\n",
      "kinds[i]:  127\n",
      "strikes:  0\n",
      "balls:  1\n",
      "-----------------------------------------------------\n"
     ]
    }
   ],
   "source": [
    "for i in range(5) :\n",
    "    strikes = 0\n",
    "    balls = 0\n",
    "    for j in range(len(kinds[i])) :\n",
    "        if kinds[i][j] == scores[i][j] :\n",
    "            strikes += 1\n",
    "        elif kinds[i][j] in scores[i] :\n",
    "            balls += 1\n",
    "    print(\"kinds[i]: \", kinds[i])\n",
    "    print(\"strikes: \", strikes)\n",
    "    print(\"balls: \", balls)\n",
    "    print(\"-----------------------------------------------------\")"
   ]
  },
  {
   "cell_type": "code",
   "execution_count": null,
   "metadata": {},
   "outputs": [],
   "source": []
  }
 ],
 "metadata": {
  "kernelspec": {
   "display_name": "Python 3",
   "language": "python",
   "name": "python3"
  },
  "language_info": {
   "codemirror_mode": {
    "name": "ipython",
    "version": 3
   },
   "file_extension": ".py",
   "mimetype": "text/x-python",
   "name": "python",
   "nbconvert_exporter": "python",
   "pygments_lexer": "ipython3",
   "version": "3.5.2"
  }
 },
 "nbformat": 4,
 "nbformat_minor": 2
}
