{
 "cells": [
  {
   "cell_type": "code",
   "execution_count": 1,
   "metadata": {},
   "outputs": [],
   "source": [
    "def solution(s) :\n",
    "    answer = 0\n",
    "    return answer"
   ]
  },
  {
   "cell_type": "code",
   "execution_count": 108,
   "metadata": {},
   "outputs": [],
   "source": [
    "s = \"aabbaccc\"\n",
    "s = \"abcabcdede\""
   ]
  },
  {
   "cell_type": "code",
   "execution_count": 118,
   "metadata": {},
   "outputs": [],
   "source": [
    "def recursive(s, seq, count, term, answer, total=0) :\n",
    "    if total == 0 :\n",
    "        total = \"\"\n",
    "        \n",
    "    if seq < len(s) :\n",
    "        result = initialize(seq, term)\n",
    "        \n",
    "        if s[result[0]:result[1]] == s[result[1]:result[2]] :\n",
    "            count += 1\n",
    "#             print(\"s[result[0]:result[1]]: \", s[result[0]:result[1]], \"  //  s[result[1]:result[2]]: \", s[result[1]:result[2]])\n",
    "#             print(\"count: \", count)\n",
    "        else :\n",
    "            if count > 1 :\n",
    "                result = str(count)+s[result[0]:result[1]]\n",
    "                total += result\n",
    "            else :\n",
    "                total += s[result[0]:result[1]]\n",
    "                \n",
    "            count = 1\n",
    "            print(\"answer: \", total)\n",
    "            \n",
    "        recursive(s, seq+1, count, term, answer, total)\n",
    "    else :\n",
    "        answer.append(total)\n",
    "        return "
   ]
  },
  {
   "cell_type": "code",
   "execution_count": 27,
   "metadata": {},
   "outputs": [],
   "source": [
    "def initialize(point, term) :\n",
    "    start = point\n",
    "    waypoint = start + term\n",
    "    end = waypoint + term\n",
    "    \n",
    "    result = [start, waypoint, end]\n",
    "    \n",
    "    return result"
   ]
  },
  {
   "cell_type": "code",
   "execution_count": 10,
   "metadata": {},
   "outputs": [],
   "source": [
    "count = 0\n",
    "term = 1\n",
    "result = initialize(0, term)\n",
    "\n",
    "if s[result[0]:result[1]] == s[result[1]:result[2]] :\n",
    "    count += 1\n",
    "else :\n",
    "    initialize(result[0]+term)"
   ]
  },
  {
   "cell_type": "code",
   "execution_count": 119,
   "metadata": {},
   "outputs": [
    {
     "name": "stdout",
     "output_type": "stream",
     "text": [
      "answer:  ab\n",
      "answer:  abbc\n",
      "answer:  abbcca\n",
      "answer:  abbccaab\n",
      "answer:  abbccaabbc\n",
      "answer:  abbccaabbccd\n",
      "answer:  abbccaabbccd2ed\n",
      "answer:  abbccaabbccd2edde\n",
      "answer:  abbccaabbccd2eddee\n"
     ]
    }
   ],
   "source": [
    "answer = []\n",
    "recursive(s=s, seq=0, count=1, term=2, answer=answer)"
   ]
  },
  {
   "cell_type": "code",
   "execution_count": 117,
   "metadata": {},
   "outputs": [
    {
     "name": "stdout",
     "output_type": "stream",
     "text": [
      "['2ed']\n"
     ]
    }
   ],
   "source": [
    "print(answer)"
   ]
  },
  {
   "cell_type": "code",
   "execution_count": 111,
   "metadata": {},
   "outputs": [
    {
     "name": "stdout",
     "output_type": "stream",
     "text": [
      "answer:  1a\n",
      "answer:  1a1b\n",
      "answer:  1a1b1c\n",
      "answer:  1a1b1c1a\n",
      "answer:  1a1b1c1a1b\n",
      "answer:  1a1b1c1a1b1c\n",
      "answer:  1a1b1c1a1b1c1d\n",
      "answer:  1a1b1c1a1b1c1d1e\n",
      "answer:  1a1b1c1a1b1c1d1e1d\n",
      "answer:  1a1b1c1a1b1c1d1e1d1e\n",
      "answer:  1ab\n",
      "answer:  1ab1bc\n",
      "answer:  1ab1bc1ca\n",
      "answer:  1ab1bc1ca1ab\n",
      "answer:  1ab1bc1ca1ab1bc\n",
      "answer:  1ab1bc1ca1ab1bc1cd\n",
      "answer:  1ab1bc1ca1ab1bc1cd2ed\n",
      "answer:  1ab1bc1ca1ab1bc1cd2ed1de\n",
      "answer:  1ab1bc1ca1ab1bc1cd2ed1de1e\n",
      "answer:  2bca\n",
      "answer:  2bca1cab\n",
      "answer:  2bca1cab1abc\n",
      "answer:  2bca1cab1abc1bcd\n",
      "answer:  2bca1cab1abc1bcd1cde\n",
      "answer:  2bca1cab1abc1bcd1cde1ded\n",
      "answer:  2bca1cab1abc1bcd1cde1ded1ede\n",
      "answer:  2bca1cab1abc1bcd1cde1ded1ede1de\n",
      "answer:  2bca1cab1abc1bcd1cde1ded1ede1de1e\n",
      "answer:  1abca\n",
      "answer:  1abca1bcab\n",
      "answer:  1abca1bcab1cabc\n",
      "answer:  1abca1bcab1cabc1abcd\n",
      "answer:  1abca1bcab1cabc1abcd1bcde\n",
      "answer:  1abca1bcab1cabc1abcd1bcde1cded\n",
      "answer:  1abca1bcab1cabc1abcd1bcde1cded1dede\n",
      "answer:  1abca1bcab1cabc1abcd1bcde1cded1dede1ede\n",
      "answer:  1abca1bcab1cabc1abcd1bcde1cded1dede1ede1de\n",
      "answer:  1abca1bcab1cabc1abcd1bcde1cded1dede1ede1de1e\n",
      "answer:  1abcab\n",
      "answer:  1abcab1bcabc\n",
      "answer:  1abcab1bcabc1cabcd\n",
      "answer:  1abcab1bcabc1cabcd1abcde\n",
      "answer:  1abcab1bcabc1cabcd1abcde1bcded\n",
      "answer:  1abcab1bcabc1cabcd1abcde1bcded1cdede\n",
      "answer:  1abcab1bcabc1cabcd1abcde1bcded1cdede1dede\n",
      "answer:  1abcab1bcabc1cabcd1abcde1bcded1cdede1dede1ede\n",
      "answer:  1abcab1bcabc1cabcd1abcde1bcded1cdede1dede1ede1de\n",
      "answer:  1abcab1bcabc1cabcd1abcde1bcded1cdede1dede1ede1de1e\n"
     ]
    }
   ],
   "source": [
    "find_answer = []\n",
    "\n",
    "for i in range(1, int(len(s)/2)+1) :\n",
    "    answer = []\n",
    "    recursive(s, 0, 1, i, answer)\n",
    "    find_answer.append(answer)"
   ]
  },
  {
   "cell_type": "code",
   "execution_count": 112,
   "metadata": {},
   "outputs": [
    {
     "name": "stdout",
     "output_type": "stream",
     "text": [
      "[['1a1b1c1a1b1c1d1e1d1e'], ['1ab1bc1ca1ab1bc1cd2ed1de1e'], ['2bca1cab1abc1bcd1cde1ded1ede1de1e'], ['1abca1bcab1cabc1abcd1bcde1cded1dede1ede1de1e'], ['1abcab1bcabc1cabcd1abcde1bcded1cdede1dede1ede1de1e']]\n"
     ]
    }
   ],
   "source": [
    "print(find_answer)"
   ]
  },
  {
   "cell_type": "code",
   "execution_count": null,
   "metadata": {},
   "outputs": [],
   "source": []
  }
 ],
 "metadata": {
  "kernelspec": {
   "display_name": "Python 3",
   "language": "python",
   "name": "python3"
  },
  "language_info": {
   "codemirror_mode": {
    "name": "ipython",
    "version": 3
   },
   "file_extension": ".py",
   "mimetype": "text/x-python",
   "name": "python",
   "nbconvert_exporter": "python",
   "pygments_lexer": "ipython3",
   "version": "3.7.0"
  }
 },
 "nbformat": 4,
 "nbformat_minor": 2
}
