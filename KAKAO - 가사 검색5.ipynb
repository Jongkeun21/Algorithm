{
 "cells": [
  {
   "cell_type": "code",
   "execution_count": 22,
   "metadata": {},
   "outputs": [],
   "source": [
    "class Node(object) :\n",
    "    def __init__(self, key) :\n",
    "        self.key = key\n",
    "        self.count = {}\n",
    "        self.children = {}"
   ]
  },
  {
   "cell_type": "code",
   "execution_count": 2,
   "metadata": {},
   "outputs": [],
   "source": [
    "words = [\"frodo\", \"front\", \"frost\", \"frozen\", \"frame\", \"kakao\"]\n",
    "queries = [\"fro??\", \"????o\", \"fr???\", \"fro???\", \"pro?\"]"
   ]
  },
  {
   "cell_type": "code",
   "execution_count": 75,
   "metadata": {},
   "outputs": [
    {
     "data": {
      "text/plain": [
       "'frodo'"
      ]
     },
     "execution_count": 75,
     "metadata": {},
     "output_type": "execute_result"
    }
   ],
   "source": [
    "words[0][-1::-1]\n",
    "words[0]"
   ]
  },
  {
   "cell_type": "code",
   "execution_count": 82,
   "metadata": {},
   "outputs": [],
   "source": [
    "class Trie(object) :\n",
    "    def __init__(self) :\n",
    "        self.head = Node(None)\n",
    "        \n",
    "    def insert(self, string) :\n",
    "        curr_node = self.head\n",
    "        \n",
    "        for char in string :\n",
    "            if char not in curr_node.children :\n",
    "                curr_node.children[char] = Node(char)\n",
    "                curr_node.count[char] = 1\n",
    "            else :\n",
    "                curr_node.count[char] += 1\n",
    "                \n",
    "            curr_node = curr_node.children[char]\n",
    "            \n",
    "    def getCount(self, query) :\n",
    "        curr_node = self.head\n",
    "        \n",
    "        if query == '' :\n",
    "            return sum(list(curr_node.count.values()))\n",
    "        else :\n",
    "            for char in query :\n",
    "                if char in curr_node.children :\n",
    "                    count = curr_node.count[char]\n",
    "                    curr_node = curr_node.children[char]\n",
    "                else :\n",
    "                    return 0\n",
    "\n",
    "            return count"
   ]
  },
  {
   "cell_type": "code",
   "execution_count": 71,
   "metadata": {},
   "outputs": [],
   "source": [
    "lengthList = []\n",
    "\n",
    "for word in words :\n",
    "    lengthList.append(len(word))\n",
    "    \n",
    "lengthList = set(lengthList)"
   ]
  },
  {
   "cell_type": "code",
   "execution_count": 74,
   "metadata": {},
   "outputs": [],
   "source": [
    "TrieDic = {}\n",
    "revTrieDic = {}\n",
    "\n",
    "for num in lengthList :\n",
    "    TrieDic[num] = Trie()\n",
    "    revTrieDic[num] = Trie()"
   ]
  },
  {
   "cell_type": "code",
   "execution_count": 76,
   "metadata": {},
   "outputs": [],
   "source": [
    "for word in words :\n",
    "    TrieDic.get(len(word)).insert(word)\n",
    "    revTrieDic.get(len(word)).insert(word[-1::-1])"
   ]
  },
  {
   "cell_type": "code",
   "execution_count": 88,
   "metadata": {},
   "outputs": [
    {
     "name": "stdout",
     "output_type": "stream",
     "text": [
      "query:  fro??   //  len(query):  5   //  query.replace('?',''):  fro\n",
      "query:  ????o   //  len(query):  5   //  query.replace('?',''):  o\n",
      "query:  fr???   //  len(query):  5   //  query.replace('?',''):  fr\n",
      "query:  fro???   //  len(query):  6   //  query.replace('?',''):  fro\n"
     ]
    }
   ],
   "source": [
    "answer = []\n",
    "\n",
    "for query in queries :\n",
    "    if len(query) in lengthList :\n",
    "        print(\"query: \", query, \"  //  len(query): \", len(query), \"  //  query.replace('?',''): \", query.replace('?',''))\n",
    "        if query[0] == '?' :\n",
    "            query = query[-1::-1]\n",
    "            answer.append(revTrieDic.get(len(query)).getCount(query.replace('?','')))\n",
    "        else :\n",
    "            answer.append(TrieDic.get(len(query)).getCount(query.replace('?','')))\n",
    "    else :\n",
    "        answer.append(0)"
   ]
  },
  {
   "cell_type": "code",
   "execution_count": 89,
   "metadata": {},
   "outputs": [
    {
     "data": {
      "text/plain": [
       "[3, 2, 4, 1, 0]"
      ]
     },
     "execution_count": 89,
     "metadata": {},
     "output_type": "execute_result"
    }
   ],
   "source": [
    "answer"
   ]
  },
  {
   "cell_type": "code",
   "execution_count": null,
   "metadata": {},
   "outputs": [],
   "source": [
    "def solution(words, queries) :\n",
    "    lengthList = []\n",
    "\n",
    "    for word in words :\n",
    "        lengthList.append(len(word))\n",
    "\n",
    "    lengthList = set(lengthList)\n",
    "    \n",
    "    TrieDic = {}\n",
    "    revTrieDic = {}\n",
    "\n",
    "    for num in lengthList :\n",
    "        TrieDic[num] = Trie()\n",
    "        revTrieDic[num] = Trie()\n",
    "        \n",
    "    for word in words :\n",
    "        TrieDic.get(len(word)).insert(word)\n",
    "        revTrieDic.get(len(word)).insert(word[-1::-1])\n",
    "        \n",
    "    answer = []\n",
    "\n",
    "    for query in queries :\n",
    "        if len(query) in lengthList :\n",
    "#             print(\"query: \", query, \"  //  len(query): \", len(query), \"  //  query.replace('?',''): \", query.replace('?',''))\n",
    "            if query[0] == '?' :\n",
    "                query = query[-1::-1]\n",
    "                answer.append(revTrieDic.get(len(query)).getCount(query.replace('?','')))\n",
    "            else :\n",
    "                answer.append(TrieDic.get(len(query)).getCount(query.replace('?','')))\n",
    "        else :\n",
    "            answer.append(0)\n",
    "            \n",
    "    return answer"
   ]
  }
 ],
 "metadata": {
  "kernelspec": {
   "display_name": "Python 3",
   "language": "python",
   "name": "python3"
  },
  "language_info": {
   "codemirror_mode": {
    "name": "ipython",
    "version": 3
   },
   "file_extension": ".py",
   "mimetype": "text/x-python",
   "name": "python",
   "nbconvert_exporter": "python",
   "pygments_lexer": "ipython3",
   "version": "3.7.3"
  }
 },
 "nbformat": 4,
 "nbformat_minor": 2
}
