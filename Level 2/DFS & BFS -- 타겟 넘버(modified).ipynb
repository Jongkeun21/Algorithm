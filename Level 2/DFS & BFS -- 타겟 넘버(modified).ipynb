{
 "cells": [
  {
   "cell_type": "code",
   "execution_count": null,
   "metadata": {},
   "outputs": [],
   "source": [
    "def solution(numbers, target) :\n",
    "    operator = [1, -1]\n",
    "    stack = [0+(numbers[0]*operator[i]) for i in range(len(operator))]\n",
    "    i = 1\n",
    "    \n",
    "    while i < len(numbers) :\n",
    "        result = []\n",
    "        \n",
    "        while stack :\n",
    "            num = stack.pop()\n",
    "            \n",
    "            for k in range(2) :\n",
    "                result.append(num+(numbers[i]*operator[k]))\n",
    "                \n",
    "        stack += result\n",
    "        i += 1\n",
    "        \n",
    "    return stack.count(target)"
   ]
  }
 ],
 "metadata": {
  "kernelspec": {
   "display_name": "Python 3",
   "language": "python",
   "name": "python3"
  },
  "language_info": {
   "codemirror_mode": {
    "name": "ipython",
    "version": 3
   },
   "file_extension": ".py",
   "mimetype": "text/x-python",
   "name": "python",
   "nbconvert_exporter": "python",
   "pygments_lexer": "ipython3",
   "version": "3.5.2"
  }
 },
 "nbformat": 4,
 "nbformat_minor": 2
}
