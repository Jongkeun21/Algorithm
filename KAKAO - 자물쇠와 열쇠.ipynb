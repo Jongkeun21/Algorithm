{
 "cells": [
  {
   "cell_type": "code",
   "execution_count": 1,
   "metadata": {},
   "outputs": [],
   "source": [
    "import numpy as np"
   ]
  },
  {
   "cell_type": "code",
   "execution_count": 2,
   "metadata": {},
   "outputs": [],
   "source": [
    "# key 회전\n",
    "def rotate(key) :\n",
    "    result = []\n",
    "    num = len(key)\n",
    "    \n",
    "    # key의 데이터를 flat하게 나열\n",
    "    key = np.array(key)\n",
    "    key = list(key.reshape(len(key)**2))\n",
    "    \n",
    "    # 나열한 데이터를 재정렬(회전)\n",
    "    for i in range(int(len(key)**0.5)) :\n",
    "        data = []\n",
    "        for j in range(0, len(key), num) :\n",
    "            data.append(key[int(len(key)-len(key)**0.5)+2*i-(i+j)])\n",
    "        result.append(data)\n",
    "    \n",
    "    return result"
   ]
  },
  {
   "cell_type": "code",
   "execution_count": 3,
   "metadata": {},
   "outputs": [],
   "source": [
    "def padding(key, lock) :\n",
    "    padding = len(key)-1\n",
    "    \n",
    "    new_lock = [[5 for col in range(len(lock)+(2*padding))] for col in range(len(lock)+(2*padding))]\n",
    "    \n",
    "    for i in range(len(lock)) :\n",
    "        for j in range(len(lock)) :\n",
    "            new_lock[padding+i][padding+j] = lock[i][j]\n",
    "    \n",
    "    return new_lock"
   ]
  },
  {
   "cell_type": "code",
   "execution_count": 4,
   "metadata": {},
   "outputs": [],
   "source": [
    "def separate(key, new_lock, row, col) :\n",
    "    sep_lock = []\n",
    "    \n",
    "    for i in range(len(key)) :\n",
    "        result = []\n",
    "        for j in range(len(key)) :\n",
    "            result.append(new_lock[row+i][col+j])\n",
    "            \n",
    "        sep_lock.append(result)\n",
    "    \n",
    "    return sep_lock"
   ]
  },
  {
   "cell_type": "code",
   "execution_count": 5,
   "metadata": {},
   "outputs": [],
   "source": [
    "def flatten(lock) :\n",
    "    lock = np.array(lock)\n",
    "    lock = list(lock.reshape(len(lock)**2))\n",
    "    \n",
    "    return lock"
   ]
  },
  {
   "cell_type": "code",
   "execution_count": 23,
   "metadata": {},
   "outputs": [],
   "source": [
    "key = [[0,0,0], [1,0,0], [0,1,1]]\n",
    "lock = [[1,1,1], [1,1,0], [1,0,1]]"
   ]
  },
  {
   "cell_type": "code",
   "execution_count": 24,
   "metadata": {
    "scrolled": false
   },
   "outputs": [
    {
     "name": "stdout",
     "output_type": "stream",
     "text": [
      "i:  0   // j:  0   // k:  0\n",
      "i:  0   // j:  0   // k:  1\n",
      "i:  0   // j:  0   // k:  2\n",
      "i:  0   // j:  0   // k:  3\n",
      "i:  0   // j:  1   // k:  0\n",
      "i:  0   // j:  1   // k:  1\n",
      "i:  0   // j:  1   // k:  2\n",
      "i:  0   // j:  1   // k:  3\n",
      "i:  0   // j:  2   // k:  0\n",
      "i:  0   // j:  2   // k:  1\n",
      "i:  0   // j:  2   // k:  2\n",
      "i:  0   // j:  2   // k:  3\n",
      "i:  0   // j:  3   // k:  0\n",
      "i:  0   // j:  3   // k:  1\n",
      "i:  0   // j:  3   // k:  2\n",
      "i:  0   // j:  3   // k:  3\n",
      "i:  1   // j:  0   // k:  0\n",
      "i:  1   // j:  0   // k:  1\n",
      "i:  1   // j:  0   // k:  2\n",
      "i:  1   // j:  0   // k:  3\n",
      "i:  1   // j:  1   // k:  0\n",
      "i:  1   // j:  1   // k:  1\n",
      "i:  1   // j:  1   // k:  2\n",
      "i:  1   // j:  1   // k:  3\n",
      "i:  1   // j:  2   // k:  0\n",
      "i:  1   // j:  2   // k:  1\n",
      "i:  1   // j:  2   // k:  2\n",
      "i:  1   // j:  2   // k:  3\n",
      "i:  1   // j:  3   // k:  0\n",
      "i:  1   // j:  3   // k:  1\n",
      "i:  1   // j:  3   // k:  2\n",
      "i:  1   // j:  3   // k:  3\n"
     ]
    }
   ],
   "source": [
    "new_lock = padding(key, lock)\n",
    "lock_flat = flatten(lock)\n",
    "\n",
    "answer = False\n",
    "\n",
    "for i in range(4) :\n",
    "    first = False\n",
    "    key_flat = flatten(key)\n",
    "    \n",
    "    for j in range(len(new_lock)-(len(key)-1)-1) :\n",
    "        second = False\n",
    "        \n",
    "        for k in range(len(new_lock)-(len(key)-1)-1) :\n",
    "            print(\"i: \", i, \"  // j: \", j, \"  // k: \", k)\n",
    "            \n",
    "            sep = separate(key, new_lock, j, k)\n",
    "            sep_flat = flatten(sep)\n",
    "            \n",
    "            if sep_flat.count(0) == lock_flat.count(0) :\n",
    "                sum_ = []\n",
    "\n",
    "                for l in range(len(sep_flat)) :\n",
    "                    sum_.append(sep_flat[l]+key_flat[l])\n",
    "                \n",
    "                if not 0 in sum_ :\n",
    "                    answer = True\n",
    "                    second = True\n",
    "                    first = True\n",
    "                    break       \n",
    "        if second :\n",
    "            break\n",
    "            \n",
    "    if first :\n",
    "        break\n",
    "            \n",
    "    key = rotate(key)"
   ]
  },
  {
   "cell_type": "code",
   "execution_count": 12,
   "metadata": {},
   "outputs": [
    {
     "name": "stdout",
     "output_type": "stream",
     "text": [
      "False\n"
     ]
    }
   ],
   "source": [
    "print(answer)"
   ]
  },
  {
   "cell_type": "code",
   "execution_count": 39,
   "metadata": {},
   "outputs": [],
   "source": [
    "def solution(key, lock) :\n",
    "    new_lock = padding(key, lock)\n",
    "    lock_flat = flatten(lock)\n",
    "\n",
    "    answer = False\n",
    "    \n",
    "    for i in range(4) :\n",
    "        first = False\n",
    "        key_flat = flatten(key)\n",
    "        \n",
    "        if key_flat.count(0) == len(key_flat) :\n",
    "            answer = False\n",
    "            break\n",
    "\n",
    "        for j in range(len(new_lock)-(len(key)-1)-1) :\n",
    "            second = False\n",
    "\n",
    "            for k in range(len(new_lock)-(len(key)-1)-1) :\n",
    "                sep = separate(key, new_lock, j, k)\n",
    "                sep_flat = flatten(sep)\n",
    "\n",
    "                if sep_flat.count(0) == lock_flat.count(0) :\n",
    "                    sum_ = []\n",
    "\n",
    "                    for l in range(len(sep_flat)) :\n",
    "                        if sep_flat[l] < 5 :\n",
    "                            sum_.append(sep_flat[l]+key_flat[l])                          \n",
    "                    \n",
    "                    count = 0\n",
    "                    \n",
    "                    for m in range(len(sum_)) :\n",
    "                        if sum_[m] == 1 :\n",
    "                            count += 1\n",
    "                            \n",
    "                    if count == len(sum_) :\n",
    "                        answer = True\n",
    "                        second = True\n",
    "                        first = True\n",
    "                        break\n",
    "                        \n",
    "            if second :\n",
    "                break\n",
    "\n",
    "        if first :\n",
    "            break\n",
    "\n",
    "        key = rotate(key)\n",
    "\n",
    "    return answer"
   ]
  },
  {
   "cell_type": "code",
   "execution_count": 69,
   "metadata": {},
   "outputs": [],
   "source": [
    "key = [[1,1,1], [1,1,1], [1,1,0]]\n",
    "lock = [[1,1,1], [1,1,1], [1,1,1]]"
   ]
  },
  {
   "cell_type": "code",
   "execution_count": 70,
   "metadata": {},
   "outputs": [
    {
     "data": {
      "text/plain": [
       "True"
      ]
     },
     "execution_count": 70,
     "metadata": {},
     "output_type": "execute_result"
    }
   ],
   "source": [
    "solution(key, lock)"
   ]
  },
  {
   "cell_type": "code",
   "execution_count": 33,
   "metadata": {},
   "outputs": [],
   "source": [
    "key = [[0,0,0], [1,0,0], [0,1,1]]\n",
    "lock = [[1,1,1], [1,1,0], [1,0,1]]"
   ]
  },
  {
   "cell_type": "code",
   "execution_count": 9,
   "metadata": {},
   "outputs": [
    {
     "data": {
      "text/plain": [
       "[[5, 5, 5, 5, 5, 5, 5],\n",
       " [5, 5, 5, 5, 5, 5, 5],\n",
       " [5, 5, 1, 1, 1, 5, 5],\n",
       " [5, 5, 1, 1, 0, 5, 5],\n",
       " [5, 5, 1, 0, 1, 5, 5],\n",
       " [5, 5, 5, 5, 5, 5, 5],\n",
       " [5, 5, 5, 5, 5, 5, 5]]"
      ]
     },
     "execution_count": 9,
     "metadata": {},
     "output_type": "execute_result"
    }
   ],
   "source": [
    "new_lock = padding(key, lock)\n",
    "new_lock"
   ]
  },
  {
   "cell_type": "code",
   "execution_count": 10,
   "metadata": {},
   "outputs": [],
   "source": [
    "key = rotate(key)"
   ]
  },
  {
   "cell_type": "code",
   "execution_count": 11,
   "metadata": {},
   "outputs": [],
   "source": [
    "lock_flat = flatten(lock)"
   ]
  },
  {
   "cell_type": "code",
   "execution_count": 12,
   "metadata": {},
   "outputs": [
    {
     "data": {
      "text/plain": [
       "5"
      ]
     },
     "execution_count": 12,
     "metadata": {},
     "output_type": "execute_result"
    }
   ],
   "source": [
    "len(new_lock)-(len(key)-1)"
   ]
  },
  {
   "cell_type": "code",
   "execution_count": null,
   "metadata": {},
   "outputs": [],
   "source": [
    "new_lock = padding(key, lock)\n",
    "lock_flat = flatten(lock)\n",
    "\n",
    "for i in range(4) :\n",
    "    for j in range(len(new_lock)-(len(key)-1)-1) :\n",
    "        for k in range(len(new_lock)-(len(key)-1)-1) :\n",
    "            sep = separate(key, new_lock, j, k)\n",
    "            sep_flat = flatten(sep)\n",
    "            \n",
    "            if sep_flat.count(0) == lock_flat.count(0) :\n",
    "                sum_ = []\n",
    "                key_flat = flatten(key)\n",
    "\n",
    "                for i in range(len(sep_flat)) :\n",
    "                    sum_.append(sep_flat[i]+key_flat[i])\n",
    "\n",
    "                if not 0 in sum_ :\n",
    "                    answer = True\n",
    "                    break\n",
    "            \n",
    "    key = rotate(key)"
   ]
  },
  {
   "cell_type": "code",
   "execution_count": 46,
   "metadata": {},
   "outputs": [],
   "source": [
    "# new_lock = padding(key, lock)\n",
    "# lock_flat = flatten(lock)\n",
    "\n",
    "# def sliding(key, new_lock, lock_flat, count, row, col, result) :    \n",
    "#     if row > len(new_lock)-(len(key)-1)-1 :\n",
    "#         row = 0\n",
    "#         col += 1\n",
    "\n",
    "#     if col > len(new_lock)-(len(key)-1)-1 :\n",
    "#         col = 0\n",
    "#         count += 1\n",
    "    \n",
    "#     if count != 0 :\n",
    "#         key = rotate(key)\n",
    "        \n",
    "# #     print(\"row: \", row, \"col: \", col, \"count: \", count)\n",
    "        \n",
    "#     if count > 4 :\n",
    "# #         print(\"finish\")\n",
    "#         result.append(False)\n",
    "#         return\n",
    "    \n",
    "#     sep = separate(key, new_lock, row, col)\n",
    "#     sep_flat = flatten(sep)\n",
    "\n",
    "#     if sep_flat.count(0) != lock_flat.count(0) :\n",
    "#         sliding(key, new_lock, lock_flat, count, row+1, col, result)\n",
    "        \n",
    "#     else :\n",
    "#         sum_ = []\n",
    "#         key_flat = flatten(key)\n",
    "        \n",
    "#         for i in range(len(sep_flat)) :\n",
    "#             sum_.append(sep_flat[i]+key_flat[i])\n",
    "            \n",
    "#         if not 0 in sum_ :\n",
    "# #             print(\"True\")\n",
    "# #             print(\"sep: \", sep, \"  //   key: \", key)\n",
    "#             result.append(True)\n",
    "#             return\n",
    "#         else :\n",
    "#             sliding(key, new_lock, lock_flat, count, row+1, col, result)"
   ]
  },
  {
   "cell_type": "code",
   "execution_count": 4,
   "metadata": {},
   "outputs": [],
   "source": [
    "# key 회전\n",
    "def rotate(key) :\n",
    "    result = []\n",
    "    num = len(key)\n",
    "    \n",
    "    # key의 데이터를 flat하게 나열\n",
    "    key = np.array(key)\n",
    "    key = list(key.reshape(len(key)**2))\n",
    "    \n",
    "    # 나열한 데이터를 재정렬(회전)\n",
    "    for i in range(int(len(key)**0.5)) :\n",
    "        data = []\n",
    "        for j in range(0, len(key), num) :\n",
    "            data.append(key[int(len(key)-len(key)**0.5)+2*i-(i+j)])\n",
    "        result.append(data)\n",
    "    \n",
    "    return result"
   ]
  },
  {
   "cell_type": "code",
   "execution_count": 5,
   "metadata": {},
   "outputs": [],
   "source": [
    "def padding(key, lock) :\n",
    "    padding = len(key)-1\n",
    "    \n",
    "    new_lock = [[5 for col in range(len(lock)+(2*padding))] for col in range(len(lock)+(2*padding))]\n",
    "    \n",
    "    for i in range(len(lock)) :\n",
    "        for j in range(len(lock)) :\n",
    "            new_lock[padding+i][padding+j] = lock[i][j]\n",
    "    \n",
    "    return new_lock"
   ]
  },
  {
   "cell_type": "code",
   "execution_count": 6,
   "metadata": {},
   "outputs": [],
   "source": [
    "def separate(key, new_lock, row, col) :\n",
    "    sep_lock = []\n",
    "    \n",
    "    for i in range(len(key)) :\n",
    "        result = []\n",
    "        for j in range(len(key)) :\n",
    "            result.append(new_lock[row+i][col+j])\n",
    "            \n",
    "        sep_lock.append(result)\n",
    "    \n",
    "    return sep_lock"
   ]
  },
  {
   "cell_type": "code",
   "execution_count": 10,
   "metadata": {},
   "outputs": [],
   "source": [
    "import matplotlib.pyplot as plt"
   ]
  },
  {
   "cell_type": "code",
   "execution_count": 7,
   "metadata": {},
   "outputs": [],
   "source": [
    "def flatten(lock) :\n",
    "    lock = np.array(lock)\n",
    "    lock = list(lock.reshape(len(lock)**2))\n",
    "    \n",
    "    return lock"
   ]
  },
  {
   "cell_type": "code",
   "execution_count": 145,
   "metadata": {},
   "outputs": [],
   "source": [
    "def sliding_window(key, lock, array, num=0, row=0, col=0) :\n",
    "    new_lock = add_padding(lock, key)\n",
    "    \n",
    "    if num != 0 :\n",
    "        key = rotate(key)\n",
    "        \n",
    "    if num > 3:\n",
    "        array.append(\"False\")\n",
    "        return \n",
    "    \n",
    "    sep_lock = separate(key, new_lock, row, col)\n",
    "    \n",
    "    total_sum = []\n",
    "    \n",
    "    for i in range(len(key)) :\n",
    "        for j in range(len(key)) :\n",
    "            total_sum.append(key[i][j] + sep_lock[i][j])\n",
    "                \n",
    "    if 2 in total_sum :            \n",
    "        row += 1\n",
    "        if row > len(lock)+2*(len(key)-1)-(len(key)-1) :\n",
    "            row = 0\n",
    "            col += 1\n",
    "            \n",
    "        if col > len(lock)+2*(len(key)-1)-(len(key)-1) :\n",
    "            row = 0\n",
    "            col = 0\n",
    "            num += 1\n",
    "            \n",
    "        sliding_window(key, lock, array, num, row, col)\n",
    "        \n",
    "    else :\n",
    "        array.append(\"True\")\n",
    "        return "
   ]
  },
  {
   "cell_type": "code",
   "execution_count": null,
   "metadata": {},
   "outputs": [],
   "source": []
  }
 ],
 "metadata": {
  "kernelspec": {
   "display_name": "Python 3",
   "language": "python",
   "name": "python3"
  },
  "language_info": {
   "codemirror_mode": {
    "name": "ipython",
    "version": 3
   },
   "file_extension": ".py",
   "mimetype": "text/x-python",
   "name": "python",
   "nbconvert_exporter": "python",
   "pygments_lexer": "ipython3",
   "version": "3.7.0"
  }
 },
 "nbformat": 4,
 "nbformat_minor": 2
}
