{
 "cells": [
  {
   "cell_type": "code",
   "execution_count": 249,
   "metadata": {},
   "outputs": [],
   "source": [
    "from itertools import permutations\n",
    "from collections import Counter"
   ]
  },
  {
   "cell_type": "code",
   "execution_count": 250,
   "metadata": {},
   "outputs": [],
   "source": [
    "baseball = [[123,1,1],[356,1,0],[327,2,0],[489,0,1]]\n",
    "inputs = \"123456789\""
   ]
  },
  {
   "cell_type": "code",
   "execution_count": 251,
   "metadata": {},
   "outputs": [
    {
     "name": "stdout",
     "output_type": "stream",
     "text": [
      "[['1', '2', '3'], ['3', '5', '6'], ['3', '2', '7'], ['4', '8', '9']]\n",
      "[1, 1, 2, 0]\n",
      "[1, 0, 0, 1]\n"
     ]
    }
   ],
   "source": [
    "numbers = []\n",
    "\n",
    "for i in range(len(baseball)) :\n",
    "    numbers.append(list(Counter(str(baseball[i][0]))))"
   ]
  },
  {
   "cell_type": "markdown",
   "metadata": {},
   "source": [
    " ### 가능한 모든 숫자 만들기  =>  3 strikes or out"
   ]
  },
  {
   "cell_type": "code",
   "execution_count": 252,
   "metadata": {},
   "outputs": [
    {
     "name": "stdout",
     "output_type": "stream",
     "text": [
      "504\n"
     ]
    }
   ],
   "source": [
    "inputs = list(inputs)\n",
    "# kinds = list(map(''.join, permutations(inputs, 3)))\n",
    "kinds = [[] for col in range(len(baseball))]\n",
    "for i in range(len(baseball)) :\n",
    "    if baseball[i][1] + baseball[i][2] == 3 :\n",
    "        kinds[i] += list(map(''.join, permutations(baseball[i][0], 3)))\n",
    "    else :\n",
    "        kinds[i] += list(map(''.join, permutations(inputs, 3)))\n",
    "        \n",
    "able = set(kinds[0])\n",
    "for j in range(len(kinds)-1) :\n",
    "    able &= set(kinds[j+1])\n",
    "able = list(able)"
   ]
  },
  {
   "cell_type": "markdown",
   "metadata": {},
   "source": [
    "### 3 ball"
   ]
  },
  {
   "cell_type": "code",
   "execution_count": 253,
   "metadata": {},
   "outputs": [
    {
     "name": "stdout",
     "output_type": "stream",
     "text": [
      "able:  356\n"
     ]
    }
   ],
   "source": [
    "first = []\n",
    "for i in range(len(baseball)) :\n",
    "    if baseball[i][1] == 0 and baseball[i][2] != 0 :\n",
    "        for j in range(len(numbers[i])) :\n",
    "            for k in range(len(able)) :\n",
    "                if numbers[i][j] == able[k][j] :\n",
    "                    first.append(able[k])\n",
    "\n",
    "if len(first) != 0 :                    \n",
    "    able = list(set(able)-set(first))"
   ]
  },
  {
   "cell_type": "markdown",
   "metadata": {},
   "source": [
    "### strikes + balls = 2"
   ]
  },
  {
   "cell_type": "markdown",
   "metadata": {},
   "source": [
    "    1 strike 1 ball"
   ]
  },
  {
   "cell_type": "markdown",
   "metadata": {},
   "source": [
    "### 수정해야됨"
   ]
  },
  {
   "cell_type": "code",
   "execution_count": 254,
   "metadata": {},
   "outputs": [
    {
     "name": "stdout",
     "output_type": "stream",
     "text": [
      "second:  ['526', '963', '721', '893', '673', '158', '524', '147', '853', '653', '763', '513', '625', '827', '168', '192', '134', '136', '527', '327', '273', '324', '725', '724', '953', '826', '162', '928', '521', '628', '328', '293', '194', '172', '528', '713', '146', '743', '253', '154', '926', '195', '178', '627', '925', '325', '197', '873', '643', '138', '825', '326', '196', '924', '863', '543', '913', '156', '243', '148', '167', '137', '152', '728', '198', '145', '824', '135', '621', '176', '726', '943', '563', '142', '175', '593', '263', '174', '753', '693', '157', '573', '793', '843', '973', '613', '813', '927', '821', '165', '164', '921', '624']\n",
      "------------------------------------------------------------------------------------------------------------------\n",
      "['526', '963', '721', '893', '673', '158', '524', '147', '853', '653', '763', '513', '625', '827', '168', '192', '134', '136', '527', '327', '273', '324', '725', '724', '953', '826', '162', '928', '521', '628', '328', '293', '194', '172', '528', '713', '146', '743', '253', '154', '926', '195', '178', '627', '925', '325', '197', '873', '643', '138', '825', '326', '196', '924', '863', '543', '913', '156', '243', '148', '167', '137', '152', '728', '198', '145', '824', '135', '621', '176', '726', '943', '563', '142', '175', '593', '263', '174', '753', '693', '157', '573', '793', '843', '973', '613', '813', '927', '821', '165', '164', '921', '624']\n"
     ]
    }
   ],
   "source": [
    "second = []\n",
    "for i in range(len(baseball)) :\n",
    "    if baseball[i][1] + baseball[i][2] == 2 :\n",
    "        if baseball[i][1] == 1 :\n",
    "            for j in range(len(able)) :\n",
    "                if numbers[i][0] == able[j][0] :\n",
    "                    if numbers[i][1] != able[j][1] and not numbers[i][2] in able[j] :\n",
    "                        second.append(able[j])\n",
    "                    elif numbers[i][2] != able[j][2] and not numbers[i][1] in able[j] :\n",
    "                        second.append(able[j])\n",
    "                elif numbers[i][1] == able[j][1] :\n",
    "                    if numbers[i][0] != able[j][0] and not numbers[i][2] in able[j] :\n",
    "                        second.append(able[j])\n",
    "                    elif numbers[i][2] != able[j][2] and not numbers[i][0] in able[j] :\n",
    "                        second.append(able[j])\n",
    "                elif numbers[i][2] == able[j][2] :\n",
    "                    if numbers[i][1] != able[j][1] and not numbers[i][0] in able[j] :\n",
    "                        second.append(able[j])\n",
    "                    elif numbers[i][0] != able[j][0] and not numbers[i][1] in able[j] :\n",
    "                        second.append(able[j])\n",
    "            \n",
    "if len(second) != 0 :\n",
    "    able = list(set(able)&set(second))"
   ]
  },
  {
   "cell_type": "markdown",
   "metadata": {},
   "source": [
    "    2 balls"
   ]
  },
  {
   "cell_type": "code",
   "execution_count": 255,
   "metadata": {},
   "outputs": [
    {
     "name": "stdout",
     "output_type": "stream",
     "text": [
      "[]\n",
      "['526', '963', '721', '893', '673', '158', '524', '147', '853', '653', '763', '513', '625', '827', '168', '192', '134', '136', '527', '327', '273', '324', '725', '724', '953', '826', '162', '928', '521', '628', '328', '293', '194', '172', '528', '713', '146', '743', '253', '154', '926', '195', '178', '627', '925', '325', '197', '873', '643', '138', '825', '326', '196', '924', '863', '543', '913', '156', '243', '148', '167', '137', '152', '728', '198', '145', '824', '135', '621', '176', '726', '943', '563', '142', '175', '593', '263', '174', '753', '693', '157', '573', '793', '843', '973', '613', '813', '927', '821', '165', '164', '921', '624']\n"
     ]
    }
   ],
   "source": [
    "third = [] \n",
    "for i in range(len(baseball)) :\n",
    "    if baseball[i][1] + baseball[i][2] == 2 :\n",
    "        if baseball[i][1] == 0 :\n",
    "            for j in range(len(able)) :\n",
    "                if numbers[i][0] in able[j] and numbers[i][1] in able[j] and not numbers[i][2] in able[j] :\n",
    "                    third.append(able[j])\n",
    "                elif numbers[i][0] in able[j] and numbers[i][2] in able[j] and not numbers[i][1] in able[j] :\n",
    "                    third.append(able[j])\n",
    "                elif numbers[i][1] in able[j] and numbers[i][2] in able[j] and not numbers[i][0] in able[j] :\n",
    "                    third.append(able[j])\n",
    "\n",
    "if len(third) != 0 :\n",
    "    able = list(set(able)&set(third))"
   ]
  },
  {
   "cell_type": "code",
   "execution_count": 256,
   "metadata": {},
   "outputs": [],
   "source": [
    "# third = []\n",
    "# for i in range(len(baseball)) :\n",
    "#     if baseball[i][1] + baseball[i][2] == 2 :\n",
    "#         if baseball[i][1] == 0 :\n",
    "#             third += list(map(''.join, permutations(numbers[i], 2)))\n",
    "\n",
    "# third = list(set(third))\n",
    "# print(third)\n",
    "# if len(third) != 0 :\n",
    "#     able = list(set(able)&set(third))\n",
    "# print(able)"
   ]
  },
  {
   "cell_type": "markdown",
   "metadata": {},
   "source": [
    "    2 strikes"
   ]
  },
  {
   "cell_type": "code",
   "execution_count": 257,
   "metadata": {},
   "outputs": [
    {
     "name": "stdout",
     "output_type": "stream",
     "text": [
      "['326', '627', '325', '328', '527', '327', '324', '927', '827']\n"
     ]
    }
   ],
   "source": [
    "fourth = []\n",
    "for j in range(len(baseball)) :\n",
    "    if baseball[j][1] + baseball[j][2] == 2 :\n",
    "        if baseball[j][2] == 0 :\n",
    "            for i in range(len(able)) :\n",
    "                if numbers[j][1] != able[i][1] and numbers[j][2] != able[i][2] :\n",
    "                    fourth.append(able[i])\n",
    "                elif numbers[j][0] != able[i][0] and numbers[j][2] != able[i][2] :\n",
    "                    fourth.append(able[i])\n",
    "                elif numbers[j][0] != able[i][0] and numbers[j][1] != able[i][1] :\n",
    "                    fourth.append(able[i])\n",
    "\n",
    "able = list(set(able)-set(fourth))"
   ]
  },
  {
   "cell_type": "markdown",
   "metadata": {},
   "source": [
    "### strikes + balls = 1"
   ]
  },
  {
   "cell_type": "markdown",
   "metadata": {},
   "source": [
    "    1 strike 0 ball"
   ]
  },
  {
   "cell_type": "code",
   "execution_count": 263,
   "metadata": {},
   "outputs": [
    {
     "name": "stdout",
     "output_type": "stream",
     "text": [
      "[['324', '328', '327'], [], []]\n",
      "['324', '328', '327']\n"
     ]
    }
   ],
   "source": [
    "fifth = [[] for col in range(3)]            \n",
    "for i in range(len(baseball)) :\n",
    "    if baseball[i][2] == 0 and baseball[i][1] == 1 :\n",
    "        for j in range(len(able)) :\n",
    "            if numbers[i][0] == able[j][0] and not numbers[i][1] in able[j] and not numbers[i][2] in able[j] :\n",
    "                fifth[0].append(able[j])\n",
    "            elif numbers[i][1] == able[j][1] and not numbers[i][0] in able[j] and not numbers[i][2] in able[j] :\n",
    "                fifth[1].append(able[j])\n",
    "            elif numbers[i][2] == listC[j][2] and not numbers[i][0] in able[j] and not numbers[i][1] in able[j] :\n",
    "                fifth[2].append(able[j])\n",
    "\n",
    "listA = []\n",
    "for i in range(3) :\n",
    "    listA += fifth[i]"
   ]
  },
  {
   "cell_type": "markdown",
   "metadata": {},
   "source": [
    "    0 strike 1 ball"
   ]
  },
  {
   "cell_type": "code",
   "execution_count": 262,
   "metadata": {},
   "outputs": [
    {
     "name": "stdout",
     "output_type": "stream",
     "text": [
      "['328', '324']\n"
     ]
    }
   ],
   "source": [
    "sixth = []\n",
    "for i in range(len(baseball)) :\n",
    "    if baseball[i][2] == 1 and baseball[i][1] == 0 :\n",
    "        for j in range(len(listA)) :\n",
    "            if numbers[i][0] in listA[j] and not numbers[i][1] in listA[j] and not numbers[i][2] in listA[j] :\n",
    "                sixth.append(listA[j])\n",
    "            elif numbers[i][1] in listA[j] and not numbers[i][2] in listA[j] and not numbers[i][0] in listA[j] :\n",
    "                sixth.append(listA[j])\n",
    "            elif numbers[i][2] in listA[j] and not numbers[i][1] in listA[j] and not numbers[i][0] in listA[j] :\n",
    "                sixth.append(listA[j])\n",
    "                \n",
    "print(sixth)"
   ]
  },
  {
   "cell_type": "markdown",
   "metadata": {},
   "source": [
    "# final"
   ]
  },
  {
   "cell_type": "code",
   "execution_count": 266,
   "metadata": {},
   "outputs": [],
   "source": [
    "from itertools import permutations\n",
    "from collections import Counter\n",
    "\n",
    "def solution(baseball) :\n",
    "    inputs = \"123456789\"\n",
    "    numbers = []\n",
    "\n",
    "    for i in range(len(baseball)) :\n",
    "        numbers.append(list(Counter(str(baseball[i][0]))))\n",
    "        \n",
    "    inputs = list(inputs)\n",
    "    kinds = [[] for col in range(len(baseball))]\n",
    "    for i in range(len(baseball)) :\n",
    "        if baseball[i][1] + baseball[i][2] == 3 :\n",
    "            kinds[i] += list(map(''.join, permutations(baseball[i][0], 3)))\n",
    "        else :\n",
    "            kinds[i] += list(map(''.join, permutations(inputs, 3)))\n",
    "\n",
    "    able = set(kinds[0])\n",
    "    for j in range(len(kinds)-1) :\n",
    "        able &= set(kinds[j+1])\n",
    "    able = list(able)\n",
    "    \n",
    "    first = []\n",
    "    for i in range(len(baseball)) :\n",
    "        if baseball[i][1] == 0 and baseball[i][2] != 0 :\n",
    "            for j in range(len(numbers[i])) :\n",
    "                for k in range(len(able)) :\n",
    "                    if numbers[i][j] == able[k][j] :\n",
    "                        first.append(able[k])\n",
    "\n",
    "    if len(first) != 0 :                    \n",
    "        able = list(set(able)-set(first))\n",
    "        \n",
    "    second = []\n",
    "    for i in range(len(baseball)) :\n",
    "        if baseball[i][1] + baseball[i][2] == 2 :\n",
    "            if baseball[i][1] == 1 :\n",
    "                for j in range(len(able)) :\n",
    "                    if numbers[i][0] == able[j][0] :\n",
    "                        if numbers[i][1] != able[j][1] and not numbers[i][2] in able[j] :\n",
    "                            second.append(able[j])\n",
    "                        elif numbers[i][2] != able[j][2] and not numbers[i][1] in able[j] :\n",
    "                            second.append(able[j])\n",
    "                    elif numbers[i][1] == able[j][1] :\n",
    "                        if numbers[i][0] != able[j][0] and not numbers[i][2] in able[j] :\n",
    "                            second.append(able[j])\n",
    "                        elif numbers[i][2] != able[j][2] and not numbers[i][0] in able[j] :\n",
    "                            second.append(able[j])\n",
    "                    elif numbers[i][2] == able[j][2] :\n",
    "                        if numbers[i][1] != able[j][1] and not numbers[i][0] in able[j] :\n",
    "                            second.append(able[j])\n",
    "                        elif numbers[i][0] != able[j][0] and not numbers[i][1] in able[j] :\n",
    "                            second.append(able[j])\n",
    "\n",
    "    if len(second) != 0 :\n",
    "        able = list(set(able)&set(second))\n",
    "        \n",
    "    third = [] \n",
    "    for i in range(len(baseball)) :\n",
    "        if baseball[i][1] + baseball[i][2] == 2 :\n",
    "            if baseball[i][1] == 0 :\n",
    "                for j in range(len(able)) :\n",
    "                    if numbers[i][0] in able[j] and numbers[i][1] in able[j] and not numbers[i][2] in able[j] :\n",
    "                        third.append(able[j])\n",
    "                    elif numbers[i][0] in able[j] and numbers[i][2] in able[j] and not numbers[i][1] in able[j] :\n",
    "                        third.append(able[j])\n",
    "                    elif numbers[i][1] in able[j] and numbers[i][2] in able[j] and not numbers[i][0] in able[j] :\n",
    "                        third.append(able[j])\n",
    "\n",
    "    if len(third) != 0 :\n",
    "        able = list(set(able)&set(third))        \n",
    "        \n",
    "    fourth = []\n",
    "    for j in range(len(baseball)) :\n",
    "        if baseball[j][1] + baseball[j][2] == 2 :\n",
    "            if baseball[j][2] == 0 :\n",
    "                for i in range(len(able)) :\n",
    "                    if numbers[j][1] != able[i][1] and numbers[j][2] != able[i][2] :\n",
    "                        fourth.append(able[i])\n",
    "                    elif numbers[j][0] != able[i][0] and numbers[j][2] != able[i][2] :\n",
    "                        fourth.append(able[i])\n",
    "                    elif numbers[j][0] != able[i][0] and numbers[j][1] != able[i][1] :\n",
    "                        fourth.append(able[i])\n",
    "\n",
    "    able = list(set(able)-set(fourth))\n",
    "    \n",
    "    fifth = [[] for col in range(3)]            \n",
    "    for i in range(len(baseball)) :\n",
    "        if baseball[i][2] == 0 and baseball[i][1] == 1 :\n",
    "            for j in range(len(able)) :\n",
    "                if numbers[i][0] == able[j][0] and not numbers[i][1] in able[j] and not numbers[i][2] in able[j] :\n",
    "                    fifth[0].append(able[j])\n",
    "                elif numbers[i][1] == able[j][1] and not numbers[i][0] in able[j] and not numbers[i][2] in able[j] :\n",
    "                    fifth[1].append(able[j])\n",
    "                elif numbers[i][2] == able[j][2] and not numbers[i][0] in able[j] and not numbers[i][1] in able[j] :\n",
    "                    fifth[2].append(able[j])\n",
    "\n",
    "    listA = []\n",
    "    for i in range(3) :\n",
    "        listA += fifth[i]\n",
    "        \n",
    "    sixth = []\n",
    "    for i in range(len(baseball)) :\n",
    "        if baseball[i][2] == 1 and baseball[i][1] == 0 :\n",
    "            for j in range(len(listA)) :\n",
    "                if numbers[i][0] in listA[j] and not numbers[i][1] in listA[j] and not numbers[i][2] in listA[j] :\n",
    "                    sixth.append(listA[j])\n",
    "                elif numbers[i][1] in listA[j] and not numbers[i][2] in listA[j] and not numbers[i][0] in listA[j] :\n",
    "                    sixth.append(listA[j])\n",
    "                elif numbers[i][2] in listA[j] and not numbers[i][1] in listA[j] and not numbers[i][0] in listA[j] :\n",
    "                    sixth.append(listA[j])\n",
    "\n",
    "    answer = len(sixth)\n",
    "    return answer"
   ]
  },
  {
   "cell_type": "markdown",
   "metadata": {},
   "source": [
    "# ======================================================"
   ]
  },
  {
   "cell_type": "code",
   "execution_count": 267,
   "metadata": {},
   "outputs": [
    {
     "name": "stdout",
     "output_type": "stream",
     "text": [
      "2\n"
     ]
    }
   ],
   "source": [
    "baseball = [[123,1,1],[356,1,0],[327,2,0],[489,0,1]]\n",
    "print(solution(baseball))"
   ]
  },
  {
   "cell_type": "code",
   "execution_count": 171,
   "metadata": {
    "scrolled": true
   },
   "outputs": [
    {
     "name": "stdout",
     "output_type": "stream",
     "text": [
      "104\n"
     ]
    }
   ],
   "source": [
    "# listA = []\n",
    "# for j in range(len(second)) :\n",
    "#     for k in range(len(able)) :\n",
    "#         if second[j] in able[k] :\n",
    "#             listA.append(able[k])\n",
    "            \n",
    "# listA = list(set(listA))\n",
    "# print(len(listA))"
   ]
  },
  {
   "cell_type": "code",
   "execution_count": 172,
   "metadata": {},
   "outputs": [
    {
     "name": "stdout",
     "output_type": "stream",
     "text": [
      "6\n"
     ]
    }
   ],
   "source": [
    "# fourth = []\n",
    "# for i in range(len(baseball)) :\n",
    "#     if baseball[i][1] + baseball[i][2] == 1 :\n",
    "#         fourth += list(map(''.join, permutations(str(baseball[i][0]), 1)))\n",
    "        \n",
    "# fourth = list(set(fourth))\n",
    "# print(len(fourth))"
   ]
  },
  {
   "cell_type": "code",
   "execution_count": 173,
   "metadata": {},
   "outputs": [
    {
     "name": "stdout",
     "output_type": "stream",
     "text": [
      "350\n"
     ]
    }
   ],
   "source": [
    "# listB = []\n",
    "# for j in range(len(fourth)) :\n",
    "#     for k in range(len(able)) :\n",
    "#         if fourth[j] in able[k] :\n",
    "#             listB.append(able[k])\n",
    "            \n",
    "# listB = list(set(listB))\n",
    "# print(len(listB))"
   ]
  },
  {
   "cell_type": "code",
   "execution_count": 174,
   "metadata": {},
   "outputs": [
    {
     "name": "stdout",
     "output_type": "stream",
     "text": [
      "['937', '837', '532', '572', '234', '723', '274', '512', '673', '931', '237', '537', '317', '513', '827', '134', '136', '527', '327', '273', '735', '324', '725', '235', '623', '724', '318', '238', '631', '125', '932', '371', '216', '312', '275', '521', '123', '823', '378', '328', '128', '523', '872', '375', '126', '316', '831', '374', '531', '713', '612', '912', '372', '627', '325', '124', '315', '873', '138', '326', '972', '913', '637', '832', '137', '314', '731', '728', '672', '135', '132', '173', '621', '812', '738', '726', '734', '923', '736', '276', '231', '321', '214', '573', '376', '215', '732', '613', '973', '813', '927', '213', '821', '921', '278', '218', '632', '236']\n"
     ]
    }
   ],
   "source": [
    "# listC = list(set(listA) & set(listB) & set(able))\n",
    "# print(listC)"
   ]
  },
  {
   "cell_type": "markdown",
   "metadata": {},
   "source": [
    "### 1 스트라이크 0 볼"
   ]
  },
  {
   "cell_type": "code",
   "execution_count": 175,
   "metadata": {},
   "outputs": [
    {
     "name": "stdout",
     "output_type": "stream",
     "text": [
      "[['317', '327', '324', '318', '371', '312', '378', '328', '374', '372', '314', '321'], [], ['216', '126', '726', '276']]\n"
     ]
    }
   ],
   "source": [
    "fifth = [[] for col in range(3)]            \n",
    "for i in range(len(baseball)) :\n",
    "    if baseball[i][2] == 0 :\n",
    "        if baseball[i][1] == 1 :\n",
    "            for j in range(len(listC)) :\n",
    "                if numbers[i][0] == listC[j][0] and not numbers[i][1] in listC[j] and not numbers[i][2] in listC[j] :\n",
    "                    fifth[0].append(listC[j])\n",
    "                elif numbers[i][1] == listC[j][1] and not numbers[i][0] in listC[j] and not numbers[i][2] in listC[j] :\n",
    "                    fifth[1].append(listC[j])\n",
    "                elif numbers[i][2] == listC[j][2] and not numbers[i][0] in listC[j] and not numbers[i][1] in listC[j] :\n",
    "                    fifth[2].append(listC[j])\n",
    "print(fifth)"
   ]
  },
  {
   "cell_type": "code",
   "execution_count": 177,
   "metadata": {},
   "outputs": [
    {
     "name": "stdout",
     "output_type": "stream",
     "text": [
      "['317', '327', '324', '318', '371', '312', '378', '328', '374', '372', '314', '321', '216', '126', '726', '276']\n"
     ]
    }
   ],
   "source": [
    "listE = []\n",
    "for i in range(3) :\n",
    "    listE += fifth[i]\n",
    "print(listE)"
   ]
  },
  {
   "cell_type": "code",
   "execution_count": 178,
   "metadata": {},
   "outputs": [],
   "source": [
    "# listE = list(set(listC)-set(listD))"
   ]
  },
  {
   "cell_type": "markdown",
   "metadata": {},
   "source": [
    "### 2 스트라이크"
   ]
  },
  {
   "cell_type": "code",
   "execution_count": 179,
   "metadata": {},
   "outputs": [
    {
     "name": "stdout",
     "output_type": "stream",
     "text": [
      "['317', '328', '327', '324', '321']\n"
     ]
    }
   ],
   "source": [
    "# sixth = []\n",
    "# for i in range(len(listE)) :\n",
    "#     if numbers[2][1] != listE[i][1] and numbers[2][2] != listE[i][2] :\n",
    "#         sixth.append(listE[i])\n",
    "#     elif numbers[2][0] != listE[i][0] and numbers[2][2] != listE[i][2] :\n",
    "#         sixth.append(listE[i])\n",
    "#     elif numbers[2][0] != listE[i][0] and numbers[2][1] != listE[i][1] :\n",
    "#         sixth.append(listE[i])\n",
    "\n",
    "# listE = list(set(listE)-set(sixth))\n",
    "# print(listE)"
   ]
  },
  {
   "cell_type": "markdown",
   "metadata": {},
   "source": [
    "### 불가능한 케이스"
   ]
  },
  {
   "cell_type": "code",
   "execution_count": 180,
   "metadata": {},
   "outputs": [
    {
     "name": "stdout",
     "output_type": "stream",
     "text": [
      "['123', '132', '213', '231', '312', '321', '356', '365', '536', '563', '635', '653', '327', '372', '237', '273', '732', '723', '489', '498', '849', '894', '948', '984']\n"
     ]
    }
   ],
   "source": [
    "seventh = []\n",
    "for i in range(len(baseball)) :\n",
    "    if baseball[i][1] + baseball[i][2] != 3 :\n",
    "        seventh += list(map(''.join, permutations(str(baseball[i][0]), 3)))\n",
    "print(seventh)"
   ]
  },
  {
   "cell_type": "code",
   "execution_count": 181,
   "metadata": {},
   "outputs": [
    {
     "name": "stdout",
     "output_type": "stream",
     "text": [
      "['324', '317', '328']\n"
     ]
    }
   ],
   "source": [
    "listE = list(set(listE)-set(seventh))\n",
    "print(listE)"
   ]
  },
  {
   "cell_type": "code",
   "execution_count": null,
   "metadata": {},
   "outputs": [],
   "source": []
  }
 ],
 "metadata": {
  "kernelspec": {
   "display_name": "Python 3",
   "language": "python",
   "name": "python3"
  },
  "language_info": {
   "codemirror_mode": {
    "name": "ipython",
    "version": 3
   },
   "file_extension": ".py",
   "mimetype": "text/x-python",
   "name": "python",
   "nbconvert_exporter": "python",
   "pygments_lexer": "ipython3",
   "version": "3.7.3"
  }
 },
 "nbformat": 4,
 "nbformat_minor": 2
}
