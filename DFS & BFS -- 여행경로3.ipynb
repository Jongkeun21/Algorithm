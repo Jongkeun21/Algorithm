{
 "cells": [
  {
   "cell_type": "code",
   "execution_count": 58,
   "metadata": {},
   "outputs": [],
   "source": [
    "from collections import Counter\n",
    "import copy"
   ]
  },
  {
   "cell_type": "code",
   "execution_count": 59,
   "metadata": {},
   "outputs": [],
   "source": [
    "tickets = [[\"ICN\", \"JFK\"], [\"HND\", \"IAD\"], [\"JFK\", \"HND\"], [\"ICN\", \"JFK\"], [\"IAD\", \"ICN\"]]\n",
    "# tickets = [[\"ICN\", \"JFK\"], [\"HND\", \"IAD\"], [\"JFK\", \"HND\"]]\n",
    "# tickets = [[\"ICN\", \"SFO\"], [\"ICN\", \"ATL\"], [\"SFO\", \"ATL\"], [\"ATL\", \"ICN\"], [\"ATL\", \"SFO\"]]\n",
    "# tickets = [[\"ICN\", \"BOO\"], [\"ICN\", \"COO\"], [\"COO\", \"DOO\"], [\"DOO\", \"COO\"], [\"BOO\", \"DOO\"], [\"DOO\", \"BOO\"], [\"BOO\", \"ICN\"], [\"COO\", \"BOO\"]]\n",
    "# tickets = [[\"ICN\", \"COO\"], [\"ICN\", \"BOO\"], [\"COO\", \"ICN\"], [\"BOO\", \"DOO\"]]"
   ]
  },
  {
   "cell_type": "code",
   "execution_count": 60,
   "metadata": {},
   "outputs": [],
   "source": [
    "waypoint = []\n",
    "graph_root = []\n",
    "\n",
    "for i in range(len(tickets)) :\n",
    "    waypoint.append(tickets[i][1])\n",
    "    graph_root.append(tickets[i][0] + tickets[i][1])\n",
    "    \n",
    "values = [[] for col in range(len(waypoint))]\n",
    "\n",
    "for i in range(len(waypoint)) :\n",
    "    for j in range(len(tickets)) :\n",
    "        if waypoint[i] == tickets[j][0] :\n",
    "            values[i].append(tickets[j])\n",
    "\n",
    "graph_value = [[] for col in range(len(values))]\n",
    "\n",
    "for i in range(len(values)) :\n",
    "    for j in range(len(values[i])) :\n",
    "        inputs = ''\n",
    "        for k in range(len(values[i][j])) :\n",
    "             inputs += values[i][j][k]\n",
    "        graph_value[i].append(inputs)\n",
    "\n",
    "graph = {}\n",
    "\n",
    "for i in range(len(waypoint)) :\n",
    "    graph[graph_root[i]] = graph_value[i]"
   ]
  },
  {
   "cell_type": "code",
   "execution_count": 61,
   "metadata": {},
   "outputs": [
    {
     "data": {
      "text/plain": [
       "['ICNJFK', 'HNDIAD', 'JFKHND', 'ICNJFK', 'IADICN']"
      ]
     },
     "execution_count": 61,
     "metadata": {},
     "output_type": "execute_result"
    }
   ],
   "source": [
    "graph_root"
   ]
  },
  {
   "cell_type": "code",
   "execution_count": 62,
   "metadata": {},
   "outputs": [
    {
     "data": {
      "text/plain": [
       "[['JFKHND'], ['IADICN'], ['HNDIAD'], ['JFKHND'], ['ICNJFK', 'ICNJFK']]"
      ]
     },
     "execution_count": 62,
     "metadata": {},
     "output_type": "execute_result"
    }
   ],
   "source": [
    "graph_value"
   ]
  },
  {
   "cell_type": "code",
   "execution_count": 63,
   "metadata": {},
   "outputs": [
    {
     "data": {
      "text/plain": [
       "{'ICNJFK': ['JFKHND'],\n",
       " 'HNDIAD': ['IADICN'],\n",
       " 'JFKHND': ['HNDIAD'],\n",
       " 'IADICN': ['ICNJFK', 'ICNJFK']}"
      ]
     },
     "execution_count": 63,
     "metadata": {},
     "output_type": "execute_result"
    }
   ],
   "source": [
    "graph"
   ]
  },
  {
   "cell_type": "code",
   "execution_count": 64,
   "metadata": {},
   "outputs": [],
   "source": [
    "candidates = []\n",
    "\n",
    "for i in range(len(tickets)) :\n",
    "    if tickets[i][0] == 'ICN' :\n",
    "        candidates.append(tickets[i][0]+tickets[i][1])"
   ]
  },
  {
   "cell_type": "code",
   "execution_count": 65,
   "metadata": {},
   "outputs": [
    {
     "data": {
      "text/plain": [
       "['ICNJFK', 'ICNJFK']"
      ]
     },
     "execution_count": 65,
     "metadata": {},
     "output_type": "execute_result"
    }
   ],
   "source": [
    "candidates"
   ]
  },
  {
   "cell_type": "code",
   "execution_count": 66,
   "metadata": {},
   "outputs": [],
   "source": [
    "def DFS_path(graph, start, end, paths, graph_root, visited=[], points=None) :\n",
    "    visited = visited + [start]\n",
    "    \n",
    "    if points == None :\n",
    "        cnt_graph = Counter(graph_root)\n",
    "        points = list(cnt_graph.elements())\n",
    "            \n",
    "        points.remove(start)\n",
    "    \n",
    "    if start == end :\n",
    "        paths.append(visited)\n",
    "        \n",
    "    for node in graph[start] :\n",
    "        if node in points :\n",
    "            points.remove(node)\n",
    "            DFS_path(graph, node, end, paths, graph_root, visited, points)"
   ]
  },
  {
   "cell_type": "code",
   "execution_count": 67,
   "metadata": {},
   "outputs": [
    {
     "name": "stdout",
     "output_type": "stream",
     "text": [
      "@@@@@@@@@@@@@@@@@@@@@@@@@@@@@@@@@@@@@@@@@@@@@@@@@@@@@@@@@@@@@@@@@@@@@@@\n",
      "paths:  [['ICNJFK'], ['ICNJFK', 'JFKHND', 'HNDIAD', 'IADICN', 'ICNJFK']]\n",
      "@@@@@@@@@@@@@@@@@@@@@@@@@@@@@@@@@@@@@@@@@@@@@@@@@@@@@@@@@@@@@@@@@@@@@@@\n",
      "paths:  [['ICNJFK', 'JFKHND', 'HNDIAD']]\n",
      "@@@@@@@@@@@@@@@@@@@@@@@@@@@@@@@@@@@@@@@@@@@@@@@@@@@@@@@@@@@@@@@@@@@@@@@\n",
      "paths:  [['ICNJFK', 'JFKHND']]\n",
      "@@@@@@@@@@@@@@@@@@@@@@@@@@@@@@@@@@@@@@@@@@@@@@@@@@@@@@@@@@@@@@@@@@@@@@@\n",
      "paths:  [['ICNJFK'], ['ICNJFK', 'JFKHND', 'HNDIAD', 'IADICN', 'ICNJFK']]\n",
      "@@@@@@@@@@@@@@@@@@@@@@@@@@@@@@@@@@@@@@@@@@@@@@@@@@@@@@@@@@@@@@@@@@@@@@@\n",
      "paths:  [['ICNJFK', 'JFKHND', 'HNDIAD', 'IADICN']]\n",
      "@@@@@@@@@@@@@@@@@@@@@@@@@@@@@@@@@@@@@@@@@@@@@@@@@@@@@@@@@@@@@@@@@@@@@@@\n",
      "paths:  [['ICNJFK'], ['ICNJFK', 'JFKHND', 'HNDIAD', 'IADICN', 'ICNJFK']]\n",
      "@@@@@@@@@@@@@@@@@@@@@@@@@@@@@@@@@@@@@@@@@@@@@@@@@@@@@@@@@@@@@@@@@@@@@@@\n",
      "paths:  [['ICNJFK', 'JFKHND', 'HNDIAD']]\n",
      "@@@@@@@@@@@@@@@@@@@@@@@@@@@@@@@@@@@@@@@@@@@@@@@@@@@@@@@@@@@@@@@@@@@@@@@\n",
      "paths:  [['ICNJFK', 'JFKHND']]\n",
      "@@@@@@@@@@@@@@@@@@@@@@@@@@@@@@@@@@@@@@@@@@@@@@@@@@@@@@@@@@@@@@@@@@@@@@@\n",
      "paths:  [['ICNJFK'], ['ICNJFK', 'JFKHND', 'HNDIAD', 'IADICN', 'ICNJFK']]\n",
      "@@@@@@@@@@@@@@@@@@@@@@@@@@@@@@@@@@@@@@@@@@@@@@@@@@@@@@@@@@@@@@@@@@@@@@@\n",
      "paths:  [['ICNJFK', 'JFKHND', 'HNDIAD', 'IADICN']]\n"
     ]
    }
   ],
   "source": [
    "list_answer = []\n",
    "\n",
    "for i in range(len(candidates)) :\n",
    "    for j in range(len(graph_root)) :\n",
    "        paths = []\n",
    "        DFS_path(graph, candidates[i], graph_root[j], paths, graph_root)\n",
    "        print(\"@@@@@@@@@@@@@@@@@@@@@@@@@@@@@@@@@@@@@@@@@@@@@@@@@@@@@@@@@@@@@@@@@@@@@@@\")\n",
    "        print(\"paths: \", paths)\n",
    "        for k in range(len(paths)) :\n",
    "            if len(paths[k]) == len(tickets) :\n",
    "                list_answer.append(paths[k])"
   ]
  },
  {
   "cell_type": "code",
   "execution_count": 70,
   "metadata": {},
   "outputs": [
    {
     "name": "stdout",
     "output_type": "stream",
     "text": [
      "[['ICNJFK', 'JFKHND', 'HNDIAD', 'IADICN', 'ICNJFK'], ['ICNJFK', 'JFKHND', 'HNDIAD', 'IADICN', 'ICNJFK'], ['ICNJFK', 'JFKHND', 'HNDIAD', 'IADICN', 'ICNJFK'], ['ICNJFK', 'JFKHND', 'HNDIAD', 'IADICN', 'ICNJFK']]\n"
     ]
    }
   ],
   "source": [
    "list_answer.sort()\n",
    "print(list_answer)"
   ]
  },
  {
   "cell_type": "code",
   "execution_count": 46,
   "metadata": {},
   "outputs": [
    {
     "name": "stdout",
     "output_type": "stream",
     "text": [
      "['ICN', 'JFK', 'HND', 'IAD', 'ICN', 'JFK']\n"
     ]
    }
   ],
   "source": [
    "answer = []\n",
    "for i in range(len(list_answer[0])) :\n",
    "    answer.append(list_answer[0][i][0:3])\n",
    "    \n",
    "answer.append(list_answer[0][len(list_answer[0])-1][3:])\n",
    "print(answer)"
   ]
  },
  {
   "cell_type": "code",
   "execution_count": 47,
   "metadata": {},
   "outputs": [],
   "source": [
    "from collections import Counter\n",
    "import copy\n",
    "\n",
    "def DFS_path(graph, start, end, paths, graph_root, visited=[], points=None) :\n",
    "    visited = visited + [start]\n",
    "    \n",
    "    if points == None :\n",
    "        cnt_graph = Counter(graph_root)\n",
    "        points = list(cnt_graph.elements()) \n",
    "        points.remove(start)\n",
    "    \n",
    "    if start == end :\n",
    "        paths.append(visited)\n",
    "        \n",
    "    for node in graph[start] :\n",
    "        if node in points :\n",
    "            points.remove(node)\n",
    "            DFS_path(graph, node, end, paths, graph_root, visited, points)\n",
    "\n",
    "def solution(tickets) :\n",
    "    waypoint = []\n",
    "    graph_root = []\n",
    "\n",
    "    for i in range(len(tickets)) :\n",
    "        waypoint.append(tickets[i][1])\n",
    "        graph_root.append(tickets[i][0] + tickets[i][1])\n",
    "\n",
    "    values = [[] for col in range(len(waypoint))]\n",
    "\n",
    "    for i in range(len(waypoint)) :\n",
    "        for j in range(len(tickets)) :\n",
    "            if waypoint[i] == tickets[j][0] :\n",
    "                values[i].append(tickets[j])\n",
    "\n",
    "    graph_value = [[] for col in range(len(values))]\n",
    "\n",
    "    for i in range(len(values)) :\n",
    "        for j in range(len(values[i])) :\n",
    "            inputs = ''\n",
    "            for k in range(len(values[i][j])) :\n",
    "                 inputs += values[i][j][k]\n",
    "            graph_value[i].append(inputs)\n",
    "        graph_value[i].sort()\n",
    "\n",
    "    graph = {}\n",
    "\n",
    "    for i in range(len(waypoint)) :\n",
    "        graph[graph_root[i]] = graph_value[i]\n",
    "        \n",
    "    candidates = []\n",
    "\n",
    "    for i in range(len(tickets)) :\n",
    "        if tickets[i][0] == 'ICN' :\n",
    "            candidates.append(tickets[i][0]+tickets[i][1])\n",
    "            \n",
    "    list_answer = []\n",
    "\n",
    "    for i in range(len(candidates)) :\n",
    "        for j in range(len(graph_root)) :\n",
    "            paths = []\n",
    "            DFS_path(graph, candidates[i], graph_root[j], paths, graph_root)\n",
    "            for k in range(len(paths)) :\n",
    "                if len(paths[k]) == len(tickets) :\n",
    "                    list_answer.append(paths[k])\n",
    "                    \n",
    "    list_answer.sort()\n",
    "    \n",
    "    answer = []\n",
    "    for i in range(len(list_answer[0])) :\n",
    "        answer.append(list_answer[0][i][0:3])\n",
    "\n",
    "    answer.append(list_answer[0][len(list_answer[0])-1][3:])\n",
    "    \n",
    "    return answer"
   ]
  },
  {
   "cell_type": "code",
   "execution_count": 71,
   "metadata": {},
   "outputs": [],
   "source": [
    "tickets = [[\"ICN\", \"JFK\"], [\"HND\", \"IAD\"], [\"JFK\", \"HND\"], [\"ICN\", \"JFK\"], [\"IAD\", \"ICN\"], [\"JFK\", \"HND\"]]\n",
    "# tickets = [[\"ICN\", \"JFK\"], [\"HND\", \"IAD\"], [\"JFK\", \"HND\"]]\n",
    "# tickets = [[\"ICN\", \"SFO\"], [\"ICN\", \"ATL\"], [\"SFO\", \"ATL\"], [\"ATL\", \"ICN\"], [\"ATL\", \"SFO\"]]\n",
    "# tickets = [[\"ICN\", \"BOO\"], [\"ICN\", \"COO\"], [\"COO\", \"DOO\"], [\"DOO\", \"COO\"], [\"BOO\", \"DOO\"], [\"DOO\", \"BOO\"], [\"BOO\", \"ICN\"], [\"COO\", \"BOO\"]]\n",
    "# tickets = [[\"ICN\", \"COO\"], [\"ICN\", \"BOO\"], [\"COO\", \"ICN\"], [\"BOO\", \"DOO\"]]"
   ]
  },
  {
   "cell_type": "code",
   "execution_count": 72,
   "metadata": {},
   "outputs": [
    {
     "data": {
      "text/plain": [
       "['ICN', 'JFK', 'HND', 'IAD', 'ICN', 'JFK', 'HND']"
      ]
     },
     "execution_count": 72,
     "metadata": {},
     "output_type": "execute_result"
    }
   ],
   "source": [
    "solution(tickets)"
   ]
  },
  {
   "cell_type": "code",
   "execution_count": null,
   "metadata": {},
   "outputs": [],
   "source": []
  }
 ],
 "metadata": {
  "kernelspec": {
   "display_name": "Python 3",
   "language": "python",
   "name": "python3"
  },
  "language_info": {
   "codemirror_mode": {
    "name": "ipython",
    "version": 3
   },
   "file_extension": ".py",
   "mimetype": "text/x-python",
   "name": "python",
   "nbconvert_exporter": "python",
   "pygments_lexer": "ipython3",
   "version": "3.7.3"
  }
 },
 "nbformat": 4,
 "nbformat_minor": 2
}
