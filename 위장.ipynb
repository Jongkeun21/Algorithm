{
 "cells": [
  {
   "cell_type": "code",
   "execution_count": 26,
   "metadata": {},
   "outputs": [],
   "source": [
    "clothes = [[\"yellow_hat\", \"headgear\"], [\"blue_sunglasses\", \"eyewear\"], [\"green_turban\", \"headgear\"]]\n",
    "clothes = [[\"crow_mask\", \"face\"], [\"blue_sunglasses\", \"face\"], [\"smoky_makeup\", \"face\"]]\n",
    "clothes = [[\"yellow_hat\", \"headgear\"], [\"blue_sunglasses\", \"eyewear\"], [\"green_turban\", \"headgear\"],\n",
    "           [\"red_sunglasses\", \"eyewear\"]]"
   ]
  },
  {
   "cell_type": "code",
   "execution_count": 27,
   "metadata": {},
   "outputs": [
    {
     "name": "stdout",
     "output_type": "stream",
     "text": [
      "[['yellow_hat', 'headgear'], ['blue_sunglasses', 'eyewear'], ['green_turban', 'headgear'], ['red_sunglasses', 'eyewear']]\n"
     ]
    }
   ],
   "source": [
    "print(clothes)"
   ]
  },
  {
   "cell_type": "code",
   "execution_count": 28,
   "metadata": {},
   "outputs": [
    {
     "name": "stdout",
     "output_type": "stream",
     "text": [
      "[['eyewear', 'blue_sunglasses'], ['eyewear', 'red_sunglasses'], ['headgear', 'green_turban'], ['headgear', 'yellow_hat']]\n"
     ]
    }
   ],
   "source": [
    "sortedClothes = []\n",
    "\n",
    "for j in range(len(clothes)) :\n",
    "    sortedClothes.append([clothes[j][1], clothes[j][0]])\n",
    "    \n",
    "sortedClothes.sort()\n",
    "print(sortedClothes)"
   ]
  },
  {
   "cell_type": "code",
   "execution_count": 29,
   "metadata": {},
   "outputs": [
    {
     "name": "stdout",
     "output_type": "stream",
     "text": [
      "0\n",
      "1\n"
     ]
    }
   ],
   "source": [
    "# count = 0\n",
    "# part = [0 for col in range(len(clothes))]\n",
    "# for k in range(len(sortedClothes)-1) :\n",
    "#     if sortedClothes[k][0] == sortedClothes[k+1][0] :\n",
    "#         part[count] += 1\n",
    "#         print(count)\n",
    "#     else :\n",
    "#         count += 1"
   ]
  },
  {
   "cell_type": "code",
   "execution_count": 30,
   "metadata": {},
   "outputs": [
    {
     "name": "stdout",
     "output_type": "stream",
     "text": [
      "0\n",
      "1\n",
      "[2, 2]\n"
     ]
    }
   ],
   "source": [
    "count = 0\n",
    "# part = [0 for col in range(count+1)]\n",
    "for k in range(len(sortedClothes)-1) :\n",
    "    if sortedClothes[k][0] != sortedClothes[k+1][0] :\n",
    "        count += 1\n",
    "\n",
    "num = 0\n",
    "part = [1 for col in range(count+1)]\n",
    "for k in range(len(sortedClothes)-1) :\n",
    "    if sortedClothes[k][0] == sortedClothes[k+1][0] :\n",
    "        part[num] += 1\n",
    "        print(num)\n",
    "    else :\n",
    "        num += 1\n",
    "        \n",
    "print(part)"
   ]
  },
  {
   "cell_type": "code",
   "execution_count": 31,
   "metadata": {},
   "outputs": [
    {
     "name": "stdout",
     "output_type": "stream",
     "text": [
      "9\n"
     ]
    }
   ],
   "source": [
    "result = 1\n",
    "\n",
    "for l in range(len(part)) :\n",
    "    result *= (part[l]+1)\n",
    "        \n",
    "print(result)"
   ]
  },
  {
   "cell_type": "code",
   "execution_count": 74,
   "metadata": {},
   "outputs": [
    {
     "name": "stdout",
     "output_type": "stream",
     "text": [
      "true:  headgear\n",
      "num:  0\n",
      "true:  eyewear\n",
      "num:  1\n",
      "true:  headgear\n",
      "num:  2\n",
      "true:  eyewear\n",
      "num:  3\n"
     ]
    }
   ],
   "source": [
    "sample = [\"1\", \"2\", \"3\", \"4\", \"5\"]\n",
    "\n",
    "num = 0\n",
    "count = 0\n",
    "part = [0 for col in range(5)]\n",
    "\n",
    "while num != len(clothes) :\n",
    "    for i in range(len(clothes)) :\n",
    "        if num != i and clothes[num][1] == clothes[i][1] :\n",
    "            print(\"true: \", clothes[i][1])\n",
    "            print(\"num: \", num)\n",
    "    \n",
    "    num += 1"
   ]
  },
  {
   "cell_type": "code",
   "execution_count": null,
   "metadata": {},
   "outputs": [],
   "source": [
    "\n"
   ]
  }
 ],
 "metadata": {
  "kernelspec": {
   "display_name": "Python 3",
   "language": "python",
   "name": "python3"
  },
  "language_info": {
   "codemirror_mode": {
    "name": "ipython",
    "version": 3
   },
   "file_extension": ".py",
   "mimetype": "text/x-python",
   "name": "python",
   "nbconvert_exporter": "python",
   "pygments_lexer": "ipython3",
   "version": "3.5.2"
  }
 },
 "nbformat": 4,
 "nbformat_minor": 2
}
