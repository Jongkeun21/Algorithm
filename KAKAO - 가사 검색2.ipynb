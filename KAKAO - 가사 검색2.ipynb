{
 "cells": [
  {
   "cell_type": "code",
   "execution_count": 1,
   "metadata": {},
   "outputs": [],
   "source": [
    "words = [\"frodo\", \"front\", \"frost\", \"frozen\", \"frame\", \"kakao\"]\n",
    "queries = [\"fro??\", \"????o\", \"fr???\", \"fro???\", \"pro?\"]"
   ]
  },
  {
   "cell_type": "code",
   "execution_count": 21,
   "metadata": {},
   "outputs": [],
   "source": [
    "class node(object): \n",
    "    def __init__(self, key, data=None) :\n",
    "        self.key = key\n",
    "        self.data = data\n",
    "        self.children = {}"
   ]
  },
  {
   "cell_type": "code",
   "execution_count": 49,
   "metadata": {},
   "outputs": [],
   "source": [
    "class trie(object) :\n",
    "    def __init__(self) :\n",
    "        self.head = node(None)\n",
    "        \n",
    "    def insert(self, string) :\n",
    "        curr_node = self.head\n",
    "        \n",
    "        for char in string :\n",
    "            if char not in curr_node.children :\n",
    "                curr_node.children[char] = node(char)\n",
    "                \n",
    "            curr_node = curr_node.children[char]\n",
    "        curr_node.data = string\n",
    "        \n",
    "    def search(self, string) :\n",
    "        curr_node = self.head\n",
    "        \n",
    "        for char in string :\n",
    "            if char in curr_node.children :\n",
    "                curr_node = curr_node.children[char]\n",
    "            else :\n",
    "                return False\n",
    "            \n",
    "        if (curr_node.data != None) :\n",
    "            return True\n",
    "        \n",
    "    def starts_with(self, prefix) :\n",
    "        curr_node = self.head\n",
    "        result = []\n",
    "        subtrie = None\n",
    "        \n",
    "        for char in prefix :\n",
    "            if char in curr_node.children :\n",
    "                curr_node = curr_node.children[char]\n",
    "                subtrie = curr_node\n",
    "            else :\n",
    "                return None\n",
    "            \n",
    "        queue = list(subtrie.children.values())\n",
    "        \n",
    "        while queue:\n",
    "            curr = queue.pop()\n",
    "            \n",
    "            if curr.data != None :\n",
    "                result.append(curr.data)\n",
    "                \n",
    "            queue += list(curr.children.values())\n",
    "            \n",
    "        return result"
   ]
  },
  {
   "cell_type": "code",
   "execution_count": null,
   "metadata": {},
   "outputs": [],
   "source": []
  }
 ],
 "metadata": {
  "kernelspec": {
   "display_name": "Python 3",
   "language": "python",
   "name": "python3"
  },
  "language_info": {
   "codemirror_mode": {
    "name": "ipython",
    "version": 3
   },
   "file_extension": ".py",
   "mimetype": "text/x-python",
   "name": "python",
   "nbconvert_exporter": "python",
   "pygments_lexer": "ipython3",
   "version": "3.7.3"
  }
 },
 "nbformat": 4,
 "nbformat_minor": 2
}
