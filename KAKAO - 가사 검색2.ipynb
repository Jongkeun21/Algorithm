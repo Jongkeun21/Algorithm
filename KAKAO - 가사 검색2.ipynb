{
 "cells": [
  {
   "cell_type": "code",
   "execution_count": 49,
   "metadata": {},
   "outputs": [],
   "source": [
    "words = [\"frodo\", \"front\", \"frost\", \"frozen\", \"frame\", \"kakao\"]\n",
    "queries = [\"fro??\", \"????o\", \"fr???\", \"fro???\", \"pro?\"]"
   ]
  },
  {
   "cell_type": "code",
   "execution_count": 50,
   "metadata": {},
   "outputs": [],
   "source": [
    "class node(object): \n",
    "    def __init__(self, key, data=None) :\n",
    "        self.key = key\n",
    "        self.data = data\n",
    "        self.children = {}"
   ]
  },
  {
   "cell_type": "code",
   "execution_count": 98,
   "metadata": {},
   "outputs": [],
   "source": [
    "class reverseTrie(object) :\n",
    "    def __init__(self) :\n",
    "        self.head = node(None)\n",
    "        \n",
    "    def insert(self, string) :\n",
    "        curr_node = self.head\n",
    "        \n",
    "        for i in range(len(string)) :\n",
    "            if string[len(string)-1-i] not in curr_node.children :\n",
    "                curr_node.children[string[len(string)-1-i]] = node(string[len(string)-1-i])\n",
    "                \n",
    "            curr_node = curr_node.children[string[len(string)-1-i]]\n",
    "        curr_node.data = string\n",
    "\n",
    "    def starts_with(self, string, length) :\n",
    "        curr_node = self.head\n",
    "        subtrie = None\n",
    "        result = []\n",
    "        \n",
    "        for char in string :\n",
    "            if char != '?' and char in curr_node.children :\n",
    "                curr_node = curr_node.children[char]\n",
    "                subtrie = curr_node\n",
    "            else :\n",
    "                return 0\n",
    "            \n",
    "        queue = list(subtrie.children.values())\n",
    "        \n",
    "        while queue: \n",
    "            curr = queue.pop()\n",
    "            if curr.data != None and len(curr.data) == length :\n",
    "                result.append(curr.data)\n",
    "            \n",
    "            queue += list(curr.children.values())\n",
    "          \n",
    "        return len(result)"
   ]
  },
  {
   "cell_type": "code",
   "execution_count": 99,
   "metadata": {},
   "outputs": [],
   "source": [
    "class trie(object) :\n",
    "    def __init__(self) :\n",
    "        self.head = node(None)\n",
    "        \n",
    "    def insert(self, string) :\n",
    "        curr_node = self.head\n",
    "        \n",
    "        for char in string :\n",
    "            if char not in curr_node.children :\n",
    "                curr_node.children[char] = node(char)\n",
    "                \n",
    "            curr_node = curr_node.children[char]\n",
    "        curr_node.data = string\n",
    "\n",
    "    def starts_with(self, string, length) :\n",
    "        curr_node = self.head\n",
    "        subtrie = None\n",
    "        result = []\n",
    "        \n",
    "        for char in string :\n",
    "            if char != '?' and char in curr_node.children :\n",
    "                curr_node = curr_node.children[char]\n",
    "                subtrie = curr_node\n",
    "            else :\n",
    "                return 0\n",
    "            \n",
    "        queue = list(subtrie.children.values())\n",
    "        \n",
    "        while queue: \n",
    "            curr = queue.pop()\n",
    "            if curr.data != None and len(curr.data) == length :\n",
    "                result.append(curr.data)\n",
    "            \n",
    "            queue += list(curr.children.values())\n",
    "          \n",
    "        return len(result)"
   ]
  },
  {
   "cell_type": "code",
   "execution_count": 1,
   "metadata": {},
   "outputs": [],
   "source": [
    "def find(words) :\n",
    "    status = 'prefix'\n",
    "    word = ''\n",
    "    \n",
    "    for i in range(len(words)) :\n",
    "        if words[i] != '?' :\n",
    "            word += words[i]\n",
    "        else :\n",
    "            if i == 0 :\n",
    "                status = 'suffix'\n",
    "    \n",
    "    return [status, word, len(words)]"
   ]
  },
  {
   "cell_type": "code",
   "execution_count": 101,
   "metadata": {},
   "outputs": [],
   "source": [
    "preTrie = trie()\n",
    "sufTrie = reverseTrie()"
   ]
  },
  {
   "cell_type": "code",
   "execution_count": 102,
   "metadata": {},
   "outputs": [],
   "source": [
    "for word in words :\n",
    "    preTrie.insert(word)\n",
    "    sufTrie.insert(word)"
   ]
  },
  {
   "cell_type": "code",
   "execution_count": 103,
   "metadata": {},
   "outputs": [],
   "source": [
    "result = []\n",
    "\n",
    "for query in queries :\n",
    "    status, string, length = find(query)\n",
    "    \n",
    "    if status == 'prefix' :\n",
    "        result.append(preTrie.starts_with(string, length))\n",
    "    else :\n",
    "        result.append(sufTrie.starts_with(string, length))"
   ]
  },
  {
   "cell_type": "code",
   "execution_count": 104,
   "metadata": {},
   "outputs": [
    {
     "data": {
      "text/plain": [
       "[3, 2, 4, 1, 0]"
      ]
     },
     "execution_count": 104,
     "metadata": {},
     "output_type": "execute_result"
    }
   ],
   "source": [
    "result"
   ]
  },
  {
   "cell_type": "code",
   "execution_count": 105,
   "metadata": {},
   "outputs": [],
   "source": [
    "def solution(words, queries) :\n",
    "    answer = []\n",
    "    \n",
    "    preTrie = trie()\n",
    "    sufTrie = reverseTrie()\n",
    "    \n",
    "    for word in words :\n",
    "        preTrie.insert(word)\n",
    "        sufTrie.insert(word)\n",
    "        \n",
    "    for query in queries :\n",
    "        status, string, length = find(query)\n",
    "\n",
    "        if status == 'prefix' :\n",
    "            answer.append(preTrie.starts_with(string, length))\n",
    "        else :\n",
    "            answer.append(sufTrie.starts_with(string, length))\n",
    "        \n",
    "    return answer"
   ]
  },
  {
   "cell_type": "code",
   "execution_count": null,
   "metadata": {},
   "outputs": [],
   "source": []
  }
 ],
 "metadata": {
  "kernelspec": {
   "display_name": "Python 3",
   "language": "python",
   "name": "python3"
  },
  "language_info": {
   "codemirror_mode": {
    "name": "ipython",
    "version": 3
   },
   "file_extension": ".py",
   "mimetype": "text/x-python",
   "name": "python",
   "nbconvert_exporter": "python",
   "pygments_lexer": "ipython3",
   "version": "3.7.3"
  }
 },
 "nbformat": 4,
 "nbformat_minor": 2
}
