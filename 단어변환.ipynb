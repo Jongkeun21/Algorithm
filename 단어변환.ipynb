{
 "cells": [
  {
   "cell_type": "code",
   "execution_count": 21,
   "metadata": {},
   "outputs": [],
   "source": [
    "begin = \"hit\"\n",
    "target = \"cog\"\n",
    "words = [\"hot\", \"dot\", \"dog\", \"lot\", \"log\", \"cog\"]"
   ]
  },
  {
   "cell_type": "code",
   "execution_count": 22,
   "metadata": {},
   "outputs": [],
   "source": [
    "words.insert(0, begin)\n",
    "# if not target in words => return 0"
   ]
  },
  {
   "cell_type": "code",
   "execution_count": 23,
   "metadata": {},
   "outputs": [
    {
     "name": "stdout",
     "output_type": "stream",
     "text": [
      "['hit', 'hot', 'dot', 'dog', 'lot', 'log', 'cog']\n"
     ]
    }
   ],
   "source": [
    "print(words)"
   ]
  },
  {
   "cell_type": "code",
   "execution_count": 24,
   "metadata": {},
   "outputs": [],
   "source": [
    "graph = [[] for col in range(len(words))]\n",
    "for i in range(len(words)) :\n",
    "#     graph[i].append(words[i])\n",
    "#     print(\"===================================\")\n",
    "#     print(\"words[i]: \", words[i])\n",
    "    for j in range(len(words)) :\n",
    "#         print(\"words[j]: \", words[j])\n",
    "        alpha = 0\n",
    "        if i != j :\n",
    "            for k in range(len(words[j])) :\n",
    "#                 print(\"words[j]: \", words[j], \"   words[i][k]: \", words[i][k])\n",
    "                alpha += words[j].count(words[i][k])\n",
    "#         print(\"alpha: \", alpha)\n",
    "        if alpha == 2 :\n",
    "            graph[i].append(words[j])\n",
    "#         print(\"--------------------------------------------------------------\")"
   ]
  },
  {
   "cell_type": "code",
   "execution_count": 25,
   "metadata": {},
   "outputs": [
    {
     "name": "stdout",
     "output_type": "stream",
     "text": [
      "[['hot'], ['hit', 'dot', 'lot'], ['hot', 'dog', 'lot'], ['dot', 'log', 'cog'], ['hot', 'dot', 'log'], ['dog', 'lot', 'cog'], ['dog', 'log']]\n"
     ]
    }
   ],
   "source": [
    "print(graph)"
   ]
  },
  {
   "cell_type": "code",
   "execution_count": 97,
   "metadata": {},
   "outputs": [],
   "source": [
    "def DFS_rec(graph, root, visited=None) :\n",
    "    if visited == None :\n",
    "        visited = []\n",
    "\n",
    "    for node in graph[root] :\n",
    "        if not node in visited :\n",
    "            print(\"node: \", node)\n",
    "            DFS_rec(graph, node, visited)\n",
    "\n",
    "    return visited"
   ]
  },
  {
   "cell_type": "code",
   "execution_count": 98,
   "metadata": {},
   "outputs": [
    {
     "data": {
      "text/plain": [
       "[0, 'hot', 0, 1, 2, 3, 5, 4, 6, 0]"
      ]
     },
     "execution_count": 98,
     "metadata": {},
     "output_type": "execute_result"
    }
   ],
   "source": [
    "DFS_rec(graph, 0, visited)"
   ]
  },
  {
   "cell_type": "code",
   "execution_count": null,
   "metadata": {},
   "outputs": [],
   "source": []
  }
 ],
 "metadata": {
  "kernelspec": {
   "display_name": "Python 3",
   "language": "python",
   "name": "python3"
  },
  "language_info": {
   "codemirror_mode": {
    "name": "ipython",
    "version": 3
   },
   "file_extension": ".py",
   "mimetype": "text/x-python",
   "name": "python",
   "nbconvert_exporter": "python",
   "pygments_lexer": "ipython3",
   "version": "3.7.3"
  }
 },
 "nbformat": 4,
 "nbformat_minor": 2
}
