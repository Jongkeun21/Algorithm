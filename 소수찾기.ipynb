{
 "cells": [
  {
   "cell_type": "code",
   "execution_count": 1,
   "metadata": {},
   "outputs": [],
   "source": [
    "from itertools import permutations"
   ]
  },
  {
   "cell_type": "code",
   "execution_count": 2,
   "metadata": {},
   "outputs": [],
   "source": [
    "numbers = \"17\"\n",
    "kinds = [[] for col in range(len(numbers))]"
   ]
  },
  {
   "cell_type": "code",
   "execution_count": 3,
   "metadata": {},
   "outputs": [],
   "source": [
    "result = []\n",
    "intRes = []\n",
    "\n",
    "for i in range(len(numbers)) :\n",
    "    kinds[i] = list(map(''.join, permutations(numbers, i+1)))\n",
    "    result += kinds[i]\n",
    "    \n",
    "result = list(set(result))"
   ]
  },
  {
   "cell_type": "code",
   "execution_count": 4,
   "metadata": {},
   "outputs": [
    {
     "name": "stdout",
     "output_type": "stream",
     "text": [
      "['1', '17', '7', '71']\n"
     ]
    }
   ],
   "source": [
    "print(result)"
   ]
  },
  {
   "cell_type": "code",
   "execution_count": 178,
   "metadata": {},
   "outputs": [
    {
     "name": "stdout",
     "output_type": "stream",
     "text": [
      "[71, 17, 7, 1]\n"
     ]
    }
   ],
   "source": [
    "for j in range(len(result)) :\n",
    "    intRes.append(int(result[j]))\n",
    "\n",
    "intRes = list(set(intRes)) # 중복제거\n",
    "intRes.sort(reverse=True)\n",
    "print(intRes)"
   ]
  },
  {
   "cell_type": "code",
   "execution_count": 181,
   "metadata": {},
   "outputs": [
    {
     "name": "stdout",
     "output_type": "stream",
     "text": [
      "71\n",
      "17\n",
      "7\n",
      "1\n",
      "[1]\n",
      "[71, 17, 7, 1]\n"
     ]
    }
   ],
   "source": [
    "count = []\n",
    "\n",
    "for num in intRes :\n",
    "    print(num)\n",
    "    if num == 0 or num == 1:\n",
    "        count.append(num)\n",
    "    else :\n",
    "        root = int(num ** 0.5)\n",
    "        for k in range(2, root+1) :\n",
    "            if num % k == 0 :\n",
    "                count.append(num)\n",
    "                break;\n",
    "            \n",
    "print(count)\n",
    "print(intRes)"
   ]
  },
  {
   "cell_type": "code",
   "execution_count": 182,
   "metadata": {},
   "outputs": [
    {
     "data": {
      "text/plain": [
       "3"
      ]
     },
     "execution_count": 182,
     "metadata": {},
     "output_type": "execute_result"
    }
   ],
   "source": [
    "len(list(set(intRes)-set(count)))"
   ]
  },
  {
   "cell_type": "code",
   "execution_count": 183,
   "metadata": {},
   "outputs": [],
   "source": [
    "def solution(numbers) :\n",
    "    kinds = [[] for col in range(len(numbers))]\n",
    "    \n",
    "    result = []\n",
    "    intRes = []\n",
    "\n",
    "    for i in range(len(numbers)) :\n",
    "        kinds[i] = list(map(''.join, permutations(numbers, i+1)))\n",
    "        result += kinds[i]\n",
    "\n",
    "    result = list(set(result))\n",
    "    \n",
    "    for j in range(len(result)) :\n",
    "        intRes.append(int(result[j]))\n",
    "\n",
    "    intRes = list(set(intRes)) # 중복제거\n",
    "    intRes.sort(reverse=True)\n",
    "    \n",
    "    count = []\n",
    "\n",
    "    for num in intRes :\n",
    "        if num == 0 or num == 1:\n",
    "            count.append(num)\n",
    "        else :\n",
    "            root = int(num ** 0.5)\n",
    "            for k in range(2, root+1) :\n",
    "                if num % k == 0 :\n",
    "                    count.append(num)\n",
    "                    break;\n",
    "                    \n",
    "    return len(list(set(intRes)-set(count)))"
   ]
  },
  {
   "cell_type": "code",
   "execution_count": 185,
   "metadata": {},
   "outputs": [
    {
     "name": "stdout",
     "output_type": "stream",
     "text": [
      "2\n"
     ]
    }
   ],
   "source": [
    "print(solution(\"011\"))"
   ]
  },
  {
   "cell_type": "code",
   "execution_count": null,
   "metadata": {},
   "outputs": [],
   "source": []
  }
 ],
 "metadata": {
  "kernelspec": {
   "display_name": "Python 3",
   "language": "python",
   "name": "python3"
  },
  "language_info": {
   "codemirror_mode": {
    "name": "ipython",
    "version": 3
   },
   "file_extension": ".py",
   "mimetype": "text/x-python",
   "name": "python",
   "nbconvert_exporter": "python",
   "pygments_lexer": "ipython3",
   "version": "3.5.2"
  }
 },
 "nbformat": 4,
 "nbformat_minor": 2
}
