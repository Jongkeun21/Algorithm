{
 "cells": [
  {
   "cell_type": "code",
   "execution_count": 1,
   "metadata": {},
   "outputs": [],
   "source": [
    "board = [[0,0,0,0,0,0,0,0,0,0],[0,0,0,0,0,0,0,0,0,0],[0,0,0,0,0,0,0,0,0,0],[0,0,0,0,0,0,0,0,0,0],[0,0,0,0,0,0,4,0,0,0],[0,0,0,0,0,4,4,0,0,0],[0,0,0,0,3,0,4,0,0,0],[0,0,0,2,3,0,0,0,5,5],[1,2,2,2,3,3,0,0,0,5],[1,1,1,0,0,0,0,0,0,5]]\n",
    "# return 2"
   ]
  },
  {
   "cell_type": "code",
   "execution_count": 2,
   "metadata": {},
   "outputs": [],
   "source": [
    "class Variables:\n",
    "    board = 0\n",
    "    coord = []"
   ]
  },
  {
   "cell_type": "code",
   "execution_count": 3,
   "metadata": {},
   "outputs": [],
   "source": [
    "N = len(board)\n",
    "Variables.board = board"
   ]
  },
  {
   "cell_type": "code",
   "execution_count": 4,
   "metadata": {},
   "outputs": [
    {
     "data": {
      "text/plain": [
       "[[0, 0, 0, 0, 0, 0, 0, 0, 0, 0],\n",
       " [0, 0, 0, 0, 0, 0, 0, 0, 0, 0],\n",
       " [0, 0, 0, 0, 0, 0, 0, 0, 0, 0],\n",
       " [0, 0, 0, 0, 0, 0, 0, 0, 0, 0],\n",
       " [0, 0, 0, 0, 0, 0, 4, 0, 0, 0],\n",
       " [0, 0, 0, 0, 0, 4, 4, 0, 0, 0],\n",
       " [0, 0, 0, 0, 3, 0, 4, 0, 0, 0],\n",
       " [0, 0, 0, 2, 3, 0, 0, 0, 5, 5],\n",
       " [1, 2, 2, 2, 3, 3, 0, 0, 0, 5],\n",
       " [1, 1, 1, 0, 0, 0, 0, 0, 0, 5]]"
      ]
     },
     "execution_count": 4,
     "metadata": {},
     "output_type": "execute_result"
    }
   ],
   "source": [
    "Variables.board"
   ]
  },
  {
   "cell_type": "code",
   "execution_count": 23,
   "metadata": {},
   "outputs": [
    {
     "name": "stdout",
     "output_type": "stream",
     "text": [
      "sets:  {0, 4}\n",
      "route:  [[[3, 6], [3, 7], [4, 6], [4, 7], [5, 6], [5, 7]]]\n",
      "shapeB,  0\n",
      "x:  3   y:  6   Variables.coord:  [[4, 6], [5, 6]]\n",
      "----------------------------------------------------------\n",
      "sets:  {0, 3, 4}\n",
      "route:  [[[4, 4], [4, 5], [5, 4], [5, 5], [6, 4], [6, 5]]]\n",
      "!!\n",
      "sets:  {0, 3, 4}\n",
      "route:  [[[5, 3], [5, 4], [5, 5], [6, 3], [6, 4], [6, 5]]]\n",
      "!!\n",
      "sets:  {0, 4}\n",
      "route:  [[[5, 6], [5, 7], [5, 8], [6, 6], [6, 7], [6, 8]]]\n",
      "!!\n",
      "sets:  {0, 4}\n",
      "route:  [[[5, 6], [5, 7], [6, 6], [6, 7], [7, 6], [7, 7]]]\n",
      "shapeB,  0\n",
      "x:  5   y:  6   Variables.coord:  [[5, 6], [6, 6]]\n",
      "----------------------------------------------------------\n",
      "sets:  {0, 1, 2}\n",
      "route:  [[[6, 0], [6, 1], [7, 0], [7, 1], [8, 0], [8, 1]]]\n",
      "!!\n",
      "sets:  {0, 2}\n",
      "route:  [[[6, 1], [6, 2], [7, 1], [7, 2], [8, 1], [8, 2]]]\n",
      "!!\n",
      "sets:  {0, 5}\n",
      "route:  [[[6, 7], [6, 8], [6, 9], [7, 7], [7, 8], [7, 9]]]\n",
      "shapeA,  0\n",
      "x:  6   y:  7   Variables.coord:  [[7, 8], [7, 9]]\n",
      "----------------------------------------------------------\n",
      "sets:  {0, 3}\n",
      "route:  [[[8, 4], [8, 5], [8, 6], [9, 4], [9, 5], [9, 6]]]\n",
      "shapeA,  0\n",
      "x:  8   y:  4   Variables.coord:  [[8, 4], [8, 5]]\n",
      "----------------------------------------------------------\n"
     ]
    }
   ],
   "source": [
    "for j in range(N) :\n",
    "    for i in range(N) :\n",
    "        if shapeA(j, i, board[i][j]) :\n",
    "            print(\"shapeA, \", board[i][j])\n",
    "            print(\"x: \", j, \"  y: \", i, \"  Variables.coord: \", Variables.coord)\n",
    "            print(\"----------------------------------------------------------\")\n",
    "        if shapeB(j, i, board[i][j]) :\n",
    "            print(\"shapeB, \", board[i][j])\n",
    "            print(\"x: \", j, \"  y: \", i, \"  Variables.coord: \", Variables.coord)\n",
    "            print(\"----------------------------------------------------------\")"
   ]
  },
  {
   "cell_type": "code",
   "execution_count": 18,
   "metadata": {},
   "outputs": [],
   "source": [
    "# 가로 직사각형\n",
    "def shapeA(y, x, num) :\n",
    "    count = 0\n",
    "    Variables.coord = []\n",
    "    route = []\n",
    "    \n",
    "    try :\n",
    "        sets = {Variables.board[y][x],Variables.board[y][x+1],Variables.board[y][x+2],\\\n",
    "                Variables.board[y+1][x],Variables.board[y+1][x+1],Variables.board[y+1][x+2]}\n",
    "        route.append([[y,x], [y, x+1], [y, x+2], [y+1, x], [y+1, x+1], [y+1, x+2]])\n",
    "        \n",
    "        if Variables.board[y][x] != num :\n",
    "            count += 1\n",
    "            Variables.coord.append([y, x])\n",
    "        if Variables.board[y][x+1] != num :\n",
    "            count += 1\n",
    "            Variables.coord.append([y, x+1])\n",
    "        if Variables.board[y][x+2] != num :\n",
    "            count += 1\n",
    "            Variables.coord.append([y, x+2])\n",
    "        if Variables.board[y+1][x] != num :\n",
    "            count += 1\n",
    "            Variables.coord.append([y+1, x])\n",
    "        if Variables.board[y+1][x+1] != num :\n",
    "            count += 1\n",
    "            Variables.coord.append([y+1, x+1])\n",
    "        if Variables.board[y+1][x+2] != num :\n",
    "            count += 1\n",
    "            Variables.coord.append([y+1, x+2])\n",
    "            \n",
    "        if count == 2 :\n",
    "            print(\"sets: \", sets)\n",
    "            print(\"route: \", route)\n",
    "            \n",
    "            if len(sets) == 2 and Variables.coord[0][0] == Variables.coord[1][0] and Variables.coord[0][1] != Variables.coord[1][1] :\n",
    "                \n",
    "                return True\n",
    "            else :\n",
    "                print(\"!!\")\n",
    "                Variables.coord = []\n",
    "                return False\n",
    "        else :\n",
    "            Variables.coord = []\n",
    "            return False\n",
    "    except :\n",
    "        Variables.coord = []\n",
    "        return False"
   ]
  },
  {
   "cell_type": "code",
   "execution_count": 19,
   "metadata": {},
   "outputs": [],
   "source": [
    "# 세로 직사각형\n",
    "def shapeB(y, x, num) :\n",
    "    count = 0\n",
    "    Variables.coord = []\n",
    "    route = []\n",
    "    \n",
    "    try :\n",
    "        sets = {Variables.board[y][x],Variables.board[y][x+1],Variables.board[y+1][x],\\\n",
    "                Variables.board[y+1][x+1],Variables.board[y+2][x],Variables.board[y+2][x+1]}\n",
    "        route.append([[y,x], [y, x+1], [y+1, x], [y+1, x+1], [y+2, x], [y+2, x+1]])\n",
    "        \n",
    "        if Variables.board[y][x] != num :\n",
    "            count += 1\n",
    "            Variables.coord.append([y, x])\n",
    "        if Variables.board[y][x+1] != num :\n",
    "            count += 1\n",
    "            Variables.coord.append([y, x+1])\n",
    "        if Variables.board[y+1][x] != num :\n",
    "            count += 1\n",
    "            Variables.coord.append([y+1, x])\n",
    "        if Variables.board[y+1][x+1] != num :\n",
    "            count += 1\n",
    "            Variables.coord.append([y+1, x+1])\n",
    "        if Variables.board[y+2][x] != num :\n",
    "            count += 1\n",
    "            Variables.coord.append([y+2, x])\n",
    "        if Variables.board[y+2][x+1] != num :\n",
    "            count += 1\n",
    "            Variables.coord.append([y+2, x+1])\n",
    "            \n",
    "        if count == 2 :\n",
    "            print(\"sets: \", sets)\n",
    "            print(\"route: \", route)\n",
    "            if len(sets) == 2 and Variables.coord[0][1] == Variables.coord[1][1] and Variables.coord[0][0] != Variables.coord[1][0] :\n",
    "                \n",
    "                return True\n",
    "            else :\n",
    "                print(\"!!\")\n",
    "                Variables.coord = []\n",
    "                return False\n",
    "        else :\n",
    "            Variables.coord = []\n",
    "            return False\n",
    "    except :\n",
    "        Variables.coord = []\n",
    "        return False"
   ]
  },
  {
   "cell_type": "code",
   "execution_count": null,
   "metadata": {},
   "outputs": [],
   "source": []
  }
 ],
 "metadata": {
  "kernelspec": {
   "display_name": "Python 3",
   "language": "python",
   "name": "python3"
  },
  "language_info": {
   "codemirror_mode": {
    "name": "ipython",
    "version": 3
   },
   "file_extension": ".py",
   "mimetype": "text/x-python",
   "name": "python",
   "nbconvert_exporter": "python",
   "pygments_lexer": "ipython3",
   "version": "3.5.2"
  }
 },
 "nbformat": 4,
 "nbformat_minor": 2
}
