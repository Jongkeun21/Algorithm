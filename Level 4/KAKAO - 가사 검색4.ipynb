{
 "cells": [
  {
   "cell_type": "code",
   "execution_count": 1,
   "metadata": {},
   "outputs": [],
   "source": [
    "words = [\"frodo\", \"front\", \"frost\", \"frozen\", \"frame\", \"kakao\"]\n",
    "queries = [\"fro??\", \"????o\", \"fr???\", \"fro???\", \"pro?\"]"
   ]
  },
  {
   "cell_type": "code",
   "execution_count": 2,
   "metadata": {},
   "outputs": [],
   "source": [
    "class Node(object) :\n",
    "    def __init__(self, key, data=None) :\n",
    "        self.key = key\n",
    "        self.data = data\n",
    "        self.children = {}"
   ]
  },
  {
   "cell_type": "code",
   "execution_count": 63,
   "metadata": {},
   "outputs": [],
   "source": [
    "class Trie(object) :\n",
    "    def __init__(self) :\n",
    "        self.head = Node(None)\n",
    "        \n",
    "    def insert(self, string) :\n",
    "        curr_node = self.head\n",
    "        \n",
    "        for char in string:\n",
    "            if char not in curr_node.children:\n",
    "                curr_node.children[char] = Node(char)\n",
    "            curr_node = curr_node.children[char]\n",
    "            \n",
    "        curr_node.data = string\n",
    "        \n",
    "    def starts_with(self, prefix):\n",
    "        curr_node = self.head\n",
    "        result = []\n",
    "        subtrie = None\n",
    "        \n",
    "        for char in prefix:\n",
    "            if char in curr_node.children:\n",
    "                curr_node = curr_node.children[char]  \n",
    "                subtrie = curr_node\n",
    "            else:\n",
    "                return 0\n",
    "            \n",
    "        queue = list(subtrie.children.values())\n",
    "        \n",
    "        while queue:\n",
    "            curr = queue.pop()\n",
    "            if curr.data != None:\n",
    "                result.append(curr.data)\n",
    "            \n",
    "            queue += list(curr.children.values())\n",
    "                \n",
    "        return len(result)"
   ]
  },
  {
   "cell_type": "code",
   "execution_count": 64,
   "metadata": {},
   "outputs": [],
   "source": [
    "class revTrie(object) :\n",
    "    def __init__(self) :\n",
    "        self.head = Node(None)\n",
    "        \n",
    "    def insert(self, string) :\n",
    "        curr_node = self.head\n",
    "        \n",
    "        for i in range(len(string)) :\n",
    "            if string[len(string)-1-i] not in curr_node.children:\n",
    "                curr_node.children[string[len(string)-1-i]] = Node(string[len(string)-1-i])\n",
    "            curr_node = curr_node.children[string[len(string)-1-i]]\n",
    "            \n",
    "        curr_node.data = string\n",
    "        \n",
    "    def starts_with(self, prefix):\n",
    "        curr_node = self.head\n",
    "        result = []\n",
    "        subtrie = None\n",
    "        \n",
    "        for char in prefix:\n",
    "            if char in curr_node.children:\n",
    "                curr_node = curr_node.children[char]  \n",
    "                subtrie = curr_node\n",
    "            else:\n",
    "                return 0\n",
    "            \n",
    "        queue = list(subtrie.children.values())\n",
    "        \n",
    "        while queue:\n",
    "            curr = queue.pop()\n",
    "            if curr.data != None:\n",
    "                result.append(curr.data)\n",
    "            \n",
    "            queue += list(curr.children.values())\n",
    "                \n",
    "        return len(result)"
   ]
  },
  {
   "cell_type": "code",
   "execution_count": 65,
   "metadata": {},
   "outputs": [
    {
     "data": {
      "text/plain": [
       "{5, 6}"
      ]
     },
     "execution_count": 65,
     "metadata": {},
     "output_type": "execute_result"
    }
   ],
   "source": [
    "lengthList = []\n",
    "\n",
    "for word in words :\n",
    "    lengthList.append(len(word))\n",
    "    \n",
    "lengthList = set(lengthList)"
   ]
  },
  {
   "cell_type": "code",
   "execution_count": 66,
   "metadata": {},
   "outputs": [],
   "source": [
    "TrieDic = {}\n",
    "revTrieDic = {}\n",
    "\n",
    "for num in lengthList :\n",
    "    TrieDic[num] = Trie()\n",
    "    revTrieDic[num] = revTrie()"
   ]
  },
  {
   "cell_type": "code",
   "execution_count": 67,
   "metadata": {},
   "outputs": [
    {
     "data": {
      "text/plain": [
       "{5: <__main__.Trie at 0x14e4e1a5e10>, 6: <__main__.Trie at 0x14e4e1a5208>}"
      ]
     },
     "execution_count": 67,
     "metadata": {},
     "output_type": "execute_result"
    }
   ],
   "source": [
    "TrieDic"
   ]
  },
  {
   "cell_type": "code",
   "execution_count": 68,
   "metadata": {},
   "outputs": [
    {
     "data": {
      "text/plain": [
       "{5: <__main__.revTrie at 0x14e4e1a5978>,\n",
       " 6: <__main__.revTrie at 0x14e4e1a50f0>}"
      ]
     },
     "execution_count": 68,
     "metadata": {},
     "output_type": "execute_result"
    }
   ],
   "source": [
    "revTrieDic"
   ]
  },
  {
   "cell_type": "code",
   "execution_count": 69,
   "metadata": {},
   "outputs": [],
   "source": [
    "for word in words :\n",
    "    TrieDic.get(len(word)).insert(word)\n",
    "    revTrieDic.get(len(word)).insert(word)"
   ]
  },
  {
   "cell_type": "code",
   "execution_count": 70,
   "metadata": {},
   "outputs": [],
   "source": [
    "words = [\"frodo\", \"front\", \"frost\", \"frozen\", \"frame\", \"kakao\"]\n",
    "queries = [\"fro??\", \"????o\", \"fr???\", \"fro???\", \"pro?\"]"
   ]
  },
  {
   "cell_type": "code",
   "execution_count": 71,
   "metadata": {},
   "outputs": [],
   "source": [
    "for query in queries :\n",
    "    string = ''\n",
    "    for char in query :\n",
    "        if char != '?' :\n",
    "            string += char"
   ]
  },
  {
   "cell_type": "code",
   "execution_count": 72,
   "metadata": {},
   "outputs": [],
   "source": [
    "def find(query) :\n",
    "    status = 'prefix'\n",
    "    string = ''\n",
    "    \n",
    "    for i in range(len(query)) :\n",
    "        if query[i] == '?' :\n",
    "            if i == 0 :\n",
    "                status = 'suffix'\n",
    "        else :\n",
    "            string += query[i]\n",
    "    \n",
    "    return [len(query), status, string]"
   ]
  },
  {
   "cell_type": "code",
   "execution_count": 73,
   "metadata": {},
   "outputs": [
    {
     "data": {
      "text/plain": [
       "[[5, 'prefix', 'fro'],\n",
       " [5, 'suffix', 'o'],\n",
       " [5, 'prefix', 'fr'],\n",
       " [6, 'prefix', 'fro'],\n",
       " [4, 'prefix', 'pro']]"
      ]
     },
     "execution_count": 73,
     "metadata": {},
     "output_type": "execute_result"
    }
   ],
   "source": [
    "result = []\n",
    "\n",
    "for query in queries :\n",
    "    length, status, string = find(query)\n",
    "    result.append([length, status, string])"
   ]
  },
  {
   "cell_type": "code",
   "execution_count": 74,
   "metadata": {},
   "outputs": [
    {
     "name": "stdout",
     "output_type": "stream",
     "text": [
      "result:  [5, 'prefix', 'fro']\n",
      "result:  [5, 'suffix', 'o']\n",
      "result:  [5, 'prefix', 'fr']\n",
      "result:  [6, 'prefix', 'fro']\n",
      "result:  [4, 'prefix', 'pro']\n"
     ]
    },
    {
     "data": {
      "text/plain": [
       "[3, 2, 4, 1, 0]"
      ]
     },
     "execution_count": 74,
     "metadata": {},
     "output_type": "execute_result"
    }
   ],
   "source": [
    "answer = []\n",
    "\n",
    "for j in range(len(result)) :  \n",
    "    if result[j][2] != '' :\n",
    "        if result[j][0] not in lengthList :\n",
    "            answer.append(0)\n",
    "        else :\n",
    "            if result[j][1] == 'prefix' :\n",
    "                answer.append(TrieDic.get(result[j][0]).starts_with(result[j][2]))\n",
    "            else :\n",
    "                answer.append(revTrieDic.get(result[j][0]).starts_with(result[j][2]))\n",
    "        \n",
    "    else :\n",
    "        num = 0\n",
    "        for word in words :\n",
    "            if len(word) == result[j][1] :\n",
    "                num += 1\n",
    "        \n",
    "        answer.append(num)\n",
    "answer"
   ]
  },
  {
   "cell_type": "code",
   "execution_count": null,
   "metadata": {},
   "outputs": [],
   "source": [
    "class Node(object) :\n",
    "    def __init__(self, key, data=None) :\n",
    "        self.key = key\n",
    "        self.data = data\n",
    "        self.children = {}\n",
    "        \n",
    "class Trie(object) :\n",
    "    def __init__(self) :\n",
    "        self.head = Node(None)\n",
    "        \n",
    "    def insert(self, string) :\n",
    "        curr_node = self.head\n",
    "        \n",
    "        for char in string:\n",
    "            if char not in curr_node.children:\n",
    "                curr_node.children[char] = Node(char)\n",
    "            curr_node = curr_node.children[char]\n",
    "            \n",
    "        curr_node.data = string\n",
    "        \n",
    "    def starts_with(self, prefix):\n",
    "        curr_node = self.head\n",
    "        result = []\n",
    "        subtrie = None\n",
    "        \n",
    "        for char in prefix:\n",
    "            if char in curr_node.children:\n",
    "                curr_node = curr_node.children[char]  \n",
    "                subtrie = curr_node\n",
    "            else:\n",
    "                return 0\n",
    "            \n",
    "        queue = list(subtrie.children.values())\n",
    "        \n",
    "        while queue:\n",
    "            curr = queue.pop()\n",
    "            if curr.data != None:\n",
    "                result.append(curr.data)\n",
    "            \n",
    "            queue += list(curr.children.values())\n",
    "                \n",
    "        return len(result)\n",
    "    \n",
    "class revTrie(object) :\n",
    "    def __init__(self) :\n",
    "        self.head = Node(None)\n",
    "        \n",
    "    def insert(self, string) :\n",
    "        curr_node = self.head\n",
    "        \n",
    "        for i in range(len(string)) :\n",
    "            if string[len(string)-1-i] not in curr_node.children:\n",
    "                curr_node.children[string[len(string)-1-i]] = Node(string[len(string)-1-i])\n",
    "            curr_node = curr_node.children[string[len(string)-1-i]]\n",
    "            \n",
    "        curr_node.data = string\n",
    "        \n",
    "    def starts_with(self, prefix):\n",
    "        curr_node = self.head\n",
    "        result = []\n",
    "        subtrie = None\n",
    "        \n",
    "        for char in prefix:\n",
    "            if char in curr_node.children:\n",
    "                curr_node = curr_node.children[char]  \n",
    "                subtrie = curr_node\n",
    "            else:\n",
    "                return 0\n",
    "            \n",
    "        queue = list(subtrie.children.values())\n",
    "        \n",
    "        while queue:\n",
    "            curr = queue.pop()\n",
    "            if curr.data != None:\n",
    "                result.append(curr.data)\n",
    "            \n",
    "            queue += list(curr.children.values())\n",
    "                \n",
    "        return len(result)\n",
    "\n",
    "def find(query) :\n",
    "    status = 'prefix'\n",
    "    string = ''\n",
    "    \n",
    "    for i in range(len(query)) :\n",
    "        if query[i] == '?' :\n",
    "            if i == 0 :\n",
    "                status = 'suffix'\n",
    "        else :\n",
    "            string += query[i]\n",
    "    \n",
    "    return [len(query), status, string]\n",
    "\n",
    "def solution(words, queries) :\n",
    "    lengthList = []\n",
    "\n",
    "    for word in words :\n",
    "        lengthList.append(len(word))\n",
    "\n",
    "    lengthList = set(lengthList)\n",
    "    \n",
    "    TrieDic = {}\n",
    "    revTrieDic = {}\n",
    "\n",
    "    for num in lengthList :\n",
    "        TrieDic[num] = Trie()\n",
    "        revTrieDic[num] = revTrie()\n",
    "        \n",
    "    for word in words :\n",
    "        TrieDic.get(len(word)).insert(word)\n",
    "        revTrieDic.get(len(word)).insert(word)  \n",
    "                \n",
    "    result = []\n",
    "\n",
    "    for query in queries :\n",
    "        length, status, string = find(query)\n",
    "        result.append([length, status, string])\n",
    "        \n",
    "    answer = []\n",
    "\n",
    "    for j in range(len(result)) :  \n",
    "        if result[j][2] != '' :\n",
    "            if result[j][0] not in lengthList :\n",
    "                answer.append(0)\n",
    "            else :\n",
    "                if result[j][1] == 'prefix' :\n",
    "                    answer.append(TrieDic.get(result[j][0]).starts_with(result[j][2]))\n",
    "                else :\n",
    "                    answer.append(revTrieDic.get(result[j][0]).starts_with(result[j][2]))\n",
    "\n",
    "        else :\n",
    "            num = 0\n",
    "            for word in words :\n",
    "                if len(word) == result[j][1] :\n",
    "                    num += 1\n",
    "\n",
    "            answer.append(num)\n",
    "\n",
    "    return answer"
   ]
  }
 ],
 "metadata": {
  "kernelspec": {
   "display_name": "Python 3",
   "language": "python",
   "name": "python3"
  },
  "language_info": {
   "codemirror_mode": {
    "name": "ipython",
    "version": 3
   },
   "file_extension": ".py",
   "mimetype": "text/x-python",
   "name": "python",
   "nbconvert_exporter": "python",
   "pygments_lexer": "ipython3",
   "version": "3.7.0"
  }
 },
 "nbformat": 4,
 "nbformat_minor": 2
}
