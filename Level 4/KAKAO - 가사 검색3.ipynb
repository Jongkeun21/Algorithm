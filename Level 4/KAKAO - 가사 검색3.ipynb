{
 "cells": [
  {
   "cell_type": "code",
   "execution_count": 126,
   "metadata": {},
   "outputs": [],
   "source": [
    "words = [\"frodo\", \"front\", \"frost\", \"frozen\", \"frame\", \"kakao\"]\n",
    "queries = [\"fro??\", \"????o\", \"fr???\", \"fro???\", \"pro?\"]"
   ]
  },
  {
   "cell_type": "code",
   "execution_count": 127,
   "metadata": {},
   "outputs": [],
   "source": [
    "class Node(object) :\n",
    "    def __init__(self, key, data=None) :\n",
    "        self.key = key\n",
    "        self.data = data\n",
    "        self.children = {}"
   ]
  },
  {
   "cell_type": "code",
   "execution_count": 136,
   "metadata": {},
   "outputs": [],
   "source": [
    "class Trie(object):\n",
    "    def __init__(self):\n",
    "        self.head = Node(None)\n",
    "    \n",
    "    def insert(self, string):\n",
    "        curr_node = self.head\n",
    "        \n",
    "        for char in string:\n",
    "            if char not in curr_node.children:\n",
    "                curr_node.children[char] = Node(char)\n",
    "                \n",
    "            curr_node = curr_node.children[char]\n",
    "            \n",
    "        curr_node.data = string\n",
    "        \n",
    "    def revInsert(self, string) :\n",
    "        curr_node = self.head\n",
    "        \n",
    "        for i in range(len(string)) :\n",
    "            if string[len(string)-1-i] not in curr_node.children:\n",
    "                curr_node.children[string[len(string)-1-i]] = Node(string[len(string)-1-i])\n",
    "                \n",
    "            curr_node = curr_node.children[string[len(string)-1-i]]\n",
    "            \n",
    "        curr_node.data = string\n",
    "        \n",
    "    def starts_with(self, prefix, length):\n",
    "        curr_node = self.head\n",
    "        result = []\n",
    "        subtrie = None\n",
    "        \n",
    "        for char in prefix:\n",
    "            if char in curr_node.children:\n",
    "                curr_node = curr_node.children[char]  \n",
    "                subtrie = curr_node\n",
    "            else:\n",
    "                return 0\n",
    "            \n",
    "        queue = list(subtrie.children.values())\n",
    "        \n",
    "        while queue:\n",
    "            curr = queue.pop()\n",
    "            if curr.data != None and len(curr.data) == length:\n",
    "                result.append(curr.data)\n",
    "            \n",
    "            queue += list(curr.children.values())\n",
    "            \n",
    "        return result"
   ]
  },
  {
   "cell_type": "code",
   "execution_count": 137,
   "metadata": {},
   "outputs": [],
   "source": [
    "ATrie = Trie()\n",
    "\n",
    "for word in words :\n",
    "    ATrie.insert(word)\n",
    "    ATrie.revInsert(word)"
   ]
  },
  {
   "cell_type": "code",
   "execution_count": null,
   "metadata": {},
   "outputs": [],
   "source": [
    "def find(queries) :\n",
    "    new_queries = [[] for col in range(len(queries))]\n",
    "    status = 'prefix'\n",
    "    \n",
    "    for i in range(len(queries)) :\n",
    "        if i == '?' :\n",
    "            if i == 0 :\n",
    "                \n",
    "        else :\n",
    "            "
   ]
  }
 ],
 "metadata": {
  "kernelspec": {
   "display_name": "Python 3",
   "language": "python",
   "name": "python3"
  },
  "language_info": {
   "codemirror_mode": {
    "name": "ipython",
    "version": 3
   },
   "file_extension": ".py",
   "mimetype": "text/x-python",
   "name": "python",
   "nbconvert_exporter": "python",
   "pygments_lexer": "ipython3",
   "version": "3.7.3"
  }
 },
 "nbformat": 4,
 "nbformat_minor": 2
}
