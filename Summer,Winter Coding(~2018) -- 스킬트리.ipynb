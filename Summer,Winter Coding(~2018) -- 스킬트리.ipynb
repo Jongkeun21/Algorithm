{
 "cells": [
  {
   "cell_type": "code",
   "execution_count": 23,
   "metadata": {},
   "outputs": [],
   "source": [
    "skill = \"CBD\"\n",
    "skill_trees = [\"BACDE\", \"CBADF\", \"AECB\", \"BDA\"]"
   ]
  },
  {
   "cell_type": "code",
   "execution_count": 13,
   "metadata": {},
   "outputs": [],
   "source": [
    "skill = \"ABC\"\n",
    "skill_trees = [\"TAC\"]"
   ]
  },
  {
   "cell_type": "code",
   "execution_count": 45,
   "metadata": {},
   "outputs": [],
   "source": [
    "class Node(object) :\n",
    "    def __init__(self, key) :\n",
    "        self.key = key\n",
    "#         self.flag = {}\n",
    "        self.children = {}\n",
    "\n",
    "class trie(object) :\n",
    "    def __init__(self) :\n",
    "        self.head = Node(None)\n",
    "        \n",
    "    def insert(self, skill) :\n",
    "        curr_node = self.head\n",
    "        \n",
    "        for char in skill :\n",
    "            if char not in curr_node.children :\n",
    "                curr_node.children[char] = Node(char)\n",
    "                \n",
    "            curr_node = curr_node.children[char]\n",
    "            \n",
    "    def confirm(self, skill, skill_tree) :\n",
    "        curr_node = self.head\n",
    "        flag = True\n",
    "        \n",
    "        for char in skill_tree :\n",
    "            if char in curr_node.children :\n",
    "                curr_node = curr_node.children[char]\n",
    "            else :\n",
    "                if char in skill :\n",
    "                    flag = False\n",
    "                    break\n",
    "                \n",
    "        return flag\n",
    "    \n",
    "def solution(skill, skill_trees) :\n",
    "    answer = 0\n",
    "    tree = trie()\n",
    "    \n",
    "    tree.insert(skill)\n",
    "    \n",
    "    for skill_tree in skill_trees :\n",
    "        flag = tree.confirm(skill, skill_tree)\n",
    "        \n",
    "        if flag :\n",
    "            answer += 1\n",
    "            \n",
    "    return answer"
   ]
  }
 ],
 "metadata": {
  "kernelspec": {
   "display_name": "Python 3",
   "language": "python",
   "name": "python3"
  },
  "language_info": {
   "codemirror_mode": {
    "name": "ipython",
    "version": 3
   },
   "file_extension": ".py",
   "mimetype": "text/x-python",
   "name": "python",
   "nbconvert_exporter": "python",
   "pygments_lexer": "ipython3",
   "version": "3.7.3"
  }
 },
 "nbformat": 4,
 "nbformat_minor": 2
}
