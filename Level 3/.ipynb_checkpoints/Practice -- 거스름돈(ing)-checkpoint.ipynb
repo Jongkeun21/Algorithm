{
 "cells": [
  {
   "cell_type": "code",
   "execution_count": 1,
   "metadata": {},
   "outputs": [],
   "source": [
    "n = 5\n",
    "money = [1,2,5]\n",
    "# return 4"
   ]
  },
  {
   "cell_type": "code",
   "execution_count": 7,
   "metadata": {},
   "outputs": [],
   "source": [
    "n = 21\n",
    "money = [3,8,9]"
   ]
  },
  {
   "cell_type": "code",
   "execution_count": 2,
   "metadata": {},
   "outputs": [],
   "source": [
    "import copy"
   ]
  },
  {
   "cell_type": "code",
   "execution_count": 3,
   "metadata": {},
   "outputs": [],
   "source": [
    "total = []\n",
    "\n",
    "for coin in money :\n",
    "    if not total :\n",
    "        col = [0 for _ in range(n+1)]\n",
    "    else :\n",
    "        col = copy.deepcopy(total[-1])\n",
    "    \n",
    "    for i in range(0, n+1) :\n",
    "        if i == 0 :\n",
    "            col[i] = 1\n",
    "        else :\n",
    "            if coin <= i:\n",
    "                col[i] += 1\n",
    "            \n",
    "    total.append(col)"
   ]
  },
  {
   "cell_type": "code",
   "execution_count": 4,
   "metadata": {},
   "outputs": [
    {
     "data": {
      "text/plain": [
       "[[1, 1, 1, 1, 1, 1], [1, 1, 2, 2, 2, 2], [1, 1, 2, 2, 2, 3]]"
      ]
     },
     "execution_count": 4,
     "metadata": {},
     "output_type": "execute_result"
    }
   ],
   "source": [
    "total"
   ]
  },
  {
   "cell_type": "code",
   "execution_count": 5,
   "metadata": {},
   "outputs": [],
   "source": [
    "for i in range(1, len(total)) :\n",
    "    for j in range(len(total[i])) :\n",
    "        if j >= money[i] :\n",
    "            total[i][j] = total[i-1][j] + total[i][j-money[i]]"
   ]
  },
  {
   "cell_type": "code",
   "execution_count": 6,
   "metadata": {},
   "outputs": [
    {
     "data": {
      "text/plain": [
       "[[1, 1, 1, 1, 1, 1], [1, 1, 2, 2, 3, 3], [1, 1, 2, 2, 2, 4]]"
      ]
     },
     "execution_count": 6,
     "metadata": {},
     "output_type": "execute_result"
    }
   ],
   "source": [
    "total"
   ]
  },
  {
   "cell_type": "code",
   "execution_count": null,
   "metadata": {},
   "outputs": [],
   "source": [
    "import copy\n",
    "\n",
    "def solution(n, money) :\n",
    "    total = []\n",
    "\n",
    "    for coin in money :\n",
    "        if not total :\n",
    "            col = [0 for _ in range(n+1)]\n",
    "        else :\n",
    "            col = copy.deepcopy(total[-1])\n",
    "\n",
    "        for i in range(0, n+1) :\n",
    "            if i == 0 :\n",
    "                col[i] = 1\n",
    "            else :\n",
    "                if coin <= i:\n",
    "                    col[i] += 1\n",
    "\n",
    "        total.append(col)\n",
    "        \n",
    "    for i in range(1, len(total)) :\n",
    "        for j in range(len(total[i])) :\n",
    "            if j >= money[i] :\n",
    "                total[i][j] = total[i-1][j] + total[i][j-money[i]]\n",
    "                \n",
    "    return total[-1][-1]"
   ]
  },
  {
   "cell_type": "code",
   "execution_count": null,
   "metadata": {},
   "outputs": [],
   "source": []
  }
 ],
 "metadata": {
  "kernelspec": {
   "display_name": "Python 3",
   "language": "python",
   "name": "python3"
  },
  "language_info": {
   "codemirror_mode": {
    "name": "ipython",
    "version": 3
   },
   "file_extension": ".py",
   "mimetype": "text/x-python",
   "name": "python",
   "nbconvert_exporter": "python",
   "pygments_lexer": "ipython3",
   "version": "3.7.3"
  }
 },
 "nbformat": 4,
 "nbformat_minor": 2
}
