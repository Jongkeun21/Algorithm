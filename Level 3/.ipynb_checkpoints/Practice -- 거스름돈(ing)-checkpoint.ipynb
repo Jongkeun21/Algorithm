{
 "cells": [
  {
   "cell_type": "code",
   "execution_count": 8,
   "metadata": {},
   "outputs": [],
   "source": [
    "n = 7\n",
    "money = [2,5]\n",
    "# return 1"
   ]
  },
  {
   "cell_type": "code",
   "execution_count": null,
   "metadata": {},
   "outputs": [],
   "source": []
  },
  {
   "cell_type": "code",
   "execution_count": null,
   "metadata": {},
   "outputs": [],
   "source": []
  },
  {
   "cell_type": "code",
   "execution_count": null,
   "metadata": {},
   "outputs": [],
   "source": []
  },
  {
   "cell_type": "code",
   "execution_count": null,
   "metadata": {},
   "outputs": [],
   "source": []
  },
  {
   "cell_type": "code",
   "execution_count": null,
   "metadata": {},
   "outputs": [],
   "source": []
  },
  {
   "cell_type": "code",
   "execution_count": null,
   "metadata": {},
   "outputs": [],
   "source": []
  },
  {
   "cell_type": "code",
   "execution_count": null,
   "metadata": {},
   "outputs": [],
   "source": []
  },
  {
   "cell_type": "code",
   "execution_count": null,
   "metadata": {},
   "outputs": [],
   "source": []
  },
  {
   "cell_type": "code",
   "execution_count": null,
   "metadata": {},
   "outputs": [],
   "source": []
  },
  {
   "cell_type": "code",
   "execution_count": 2,
   "metadata": {},
   "outputs": [],
   "source": [
    "class variables:\n",
    "    n = 0\n",
    "    money = []\n",
    "    dic = {0: 1}"
   ]
  },
  {
   "cell_type": "code",
   "execution_count": 3,
   "metadata": {},
   "outputs": [],
   "source": [
    "variables.n = n\n",
    "variables.money = sorted(money, reverse=True)"
   ]
  },
  {
   "cell_type": "code",
   "execution_count": 4,
   "metadata": {},
   "outputs": [],
   "source": [
    "def cal(num) :\n",
    "    if num in variables.dic :\n",
    "        return variables.dic[num]\n",
    "    \n",
    "    variables.dic[num] = 0\n",
    "    \n",
    "    for coin in variables.money :        \n",
    "        if coin <= num :\n",
    "            if coin == 1 :\n",
    "                variables.dic[num] += 1\n",
    "            elif coin == num :\n",
    "                variables.dic[num] += 1\n",
    "            else :\n",
    "                remain = num-coin\n",
    "                variables.dic[num] += cal(remain)\n",
    "    \n",
    "    return variables.dic[num]"
   ]
  },
  {
   "cell_type": "code",
   "execution_count": 13,
   "metadata": {},
   "outputs": [
    {
     "data": {
      "text/plain": [
       "2"
      ]
     },
     "execution_count": 13,
     "metadata": {},
     "output_type": "execute_result"
    }
   ],
   "source": [
    "cal(n)"
   ]
  },
  {
   "cell_type": "code",
   "execution_count": null,
   "metadata": {},
   "outputs": [],
   "source": [
    "class variables:\n",
    "    n = 0\n",
    "    money = []\n",
    "    dic = {0: 1}\n",
    "\n",
    "def cal(num) :\n",
    "    if num in variables.dic :\n",
    "        return variables.dic[num]\n",
    "    \n",
    "    variables.dic[num] = 0\n",
    "    \n",
    "    for coin in variables.money :        \n",
    "        if coin <= num :\n",
    "            if coin == 1 :\n",
    "                variables.dic[num] += 1\n",
    "            elif coin == num :\n",
    "                variables.dic[num] += 1\n",
    "            else :\n",
    "                remain = num-coin\n",
    "                variables.dic[num] += cal(remain)\n",
    "    \n",
    "    return variables.dic[num]\n",
    "\n",
    "def solution(n, money) :\n",
    "    variables.n = n\n",
    "    variables.money = sorted(money, reverse=True)\n",
    "    \n",
    "    return cal(n)"
   ]
  }
 ],
 "metadata": {
  "kernelspec": {
   "display_name": "Python 3",
   "language": "python",
   "name": "python3"
  },
  "language_info": {
   "codemirror_mode": {
    "name": "ipython",
    "version": 3
   },
   "file_extension": ".py",
   "mimetype": "text/x-python",
   "name": "python",
   "nbconvert_exporter": "python",
   "pygments_lexer": "ipython3",
   "version": "3.5.2"
  }
 },
 "nbformat": 4,
 "nbformat_minor": 2
}
