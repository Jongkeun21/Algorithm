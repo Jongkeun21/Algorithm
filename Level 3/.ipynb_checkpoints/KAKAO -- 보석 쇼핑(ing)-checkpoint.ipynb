{
 "cells": [
  {
   "cell_type": "code",
   "execution_count": 44,
   "metadata": {},
   "outputs": [],
   "source": [
    "gems = [\"XYZ\", \"YY\", \"XYZ\", \"YY\", \"XYZ\", \"YY\"]\n",
    "gems = [\"DIA\", \"RUBY\", \"RUBY\", \"DIA\", \"DIA\", \"EMERALD\", \"SAPPHIRE\", \"DIA\"]\n",
    "# gems = [\"AA\", \"AB\", \"AC\", \"AA\", \"AC\"]\n",
    "# gems = [\"ZZZ\", \"YYY\", \"NNNN\", \"YYY\", \"BBB\"]"
   ]
  },
  {
   "cell_type": "code",
   "execution_count": 45,
   "metadata": {},
   "outputs": [],
   "source": [
    "def solution(gems) :\n",
    "    dic = {}\n",
    "    result = []\n",
    "    kinds = len(set(gems))\n",
    "    mins = float('inf')\n",
    "    flag = False\n",
    "    \n",
    "    for idx, gem in enumerate(gems) :\n",
    "        dic[gem] = idx\n",
    "        \n",
    "        if not flag and len(dic) == kinds :\n",
    "            flag = True\n",
    "            \n",
    "        if flag :\n",
    "            head = min(dic.values())+1\n",
    "            tail = max(dic.values())+1\n",
    "            flag = False\n",
    "            \n",
    "            if mins > tail-head  :\n",
    "                mins = tail-head\n",
    "                result = [head, tail]\n",
    "            \n",
    "    return result"
   ]
  },
  {
   "cell_type": "code",
   "execution_count": 46,
   "metadata": {},
   "outputs": [
    {
     "data": {
      "text/plain": [
       "[1, 7]"
      ]
     },
     "execution_count": 46,
     "metadata": {},
     "output_type": "execute_result"
    }
   ],
   "source": [
    "solution(gems)"
   ]
  },
  {
   "cell_type": "code",
   "execution_count": null,
   "metadata": {},
   "outputs": [],
   "source": []
  }
 ],
 "metadata": {
  "kernelspec": {
   "display_name": "Python 3",
   "language": "python",
   "name": "python3"
  },
  "language_info": {
   "codemirror_mode": {
    "name": "ipython",
    "version": 3
   },
   "file_extension": ".py",
   "mimetype": "text/x-python",
   "name": "python",
   "nbconvert_exporter": "python",
   "pygments_lexer": "ipython3",
   "version": "3.5.2"
  }
 },
 "nbformat": 4,
 "nbformat_minor": 2
}
