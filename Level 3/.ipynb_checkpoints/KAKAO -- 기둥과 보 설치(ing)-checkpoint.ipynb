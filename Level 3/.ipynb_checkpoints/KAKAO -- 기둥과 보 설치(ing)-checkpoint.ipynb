{
 "cells": [
  {
   "cell_type": "markdown",
   "metadata": {},
   "source": [
    "1. 기둥은 바닥 위에 있거나 보의 한쪽 끝 부분 위에 있거나, 또는 다른 기둥 위에 있어야 함.\n",
    "2. 보는 한쪽 끝 부분이 기둥 위에 있거나, 또는 양쪽 끝 부분이 다른 보와 동시에 연결되어 있어야 함.\n",
    "3. 보는 좌표를 기준으로 오른쪽, 기둥은 위쪽 방향으로 설치 또는 삭제"
   ]
  },
  {
   "cell_type": "code",
   "execution_count": 7,
   "metadata": {},
   "outputs": [],
   "source": [
    "def column(x, y) :\n",
    "    result = False\n",
    "    \n",
    "    if (y == 0) or ('1' in variable.table[y][x]) or ('0' in variable.table[y][x]) :\n",
    "        result = True\n",
    "        \n",
    "    return result"
   ]
  },
  {
   "cell_type": "code",
   "execution_count": 31,
   "metadata": {},
   "outputs": [],
   "source": [
    "def beam(x, y) :\n",
    "    result = False\n",
    "    \n",
    "    if ('0' in variable.table[y][x] or '0' in variable.table[y][x+1]):\n",
    "        result = True\n",
    "        \n",
    "    if ('1' in variable.table[y][x] and '1' in variable.table[y][x+1]) :\n",
    "        result = True\n",
    "        \n",
    "    return result"
   ]
  },
  {
   "cell_type": "markdown",
   "metadata": {},
   "source": [
    "[x, y, a, b]\n",
    "--> x, y는 각각 가로 좌표, 세로 좌표\n",
    "--> a는 구조물의 종류를 나타냄, 0-기둥, 1-보\n",
    "--> b는 삭제할 지, 설치할 지를 나타냄, 0-삭제, 1-설치\n",
    "\n",
    "ex_ [1,1,0,1] --> [1,1]의 위치에 기둥을 설치\n",
    "\n",
    "C - 기둥(Column), B - 보(Beam)"
   ]
  },
  {
   "cell_type": "code",
   "execution_count": 1,
   "metadata": {},
   "outputs": [],
   "source": [
    "n = 5\n",
    "build_frame = [[0,0,0,1],[2,0,0,1],[4,0,0,1],[0,1,1,1],[1,1,1,1],[2,1,1,1],[3,1,1,1],[2,0,0,0],[1,1,1,0],[2,2,0,1]]\n",
    "# return [[0,0,0],[0,1,1],[1,1,1],[2,1,1],[3,1,1],[4,0,0]]"
   ]
  },
  {
   "cell_type": "code",
   "execution_count": 2,
   "metadata": {},
   "outputs": [],
   "source": [
    "class variable :\n",
    "    length = 0\n",
    "    table = []"
   ]
  },
  {
   "cell_type": "code",
   "execution_count": 113,
   "metadata": {},
   "outputs": [],
   "source": [
    "for x,y,a,b in build_frame :\n",
    "    if b == 0 :\n",
    "        delete(x,y,a)\n",
    "    else :\n",
    "        setup(x,y,a)"
   ]
  },
  {
   "cell_type": "code",
   "execution_count": 117,
   "metadata": {},
   "outputs": [],
   "source": [
    "variable.length = n\n",
    "variable.table = [['xxx' for _ in range(n+1)] for _ in range(n+1)]"
   ]
  },
  {
   "cell_type": "code",
   "execution_count": 131,
   "metadata": {},
   "outputs": [],
   "source": [
    "setup(2,0,0)"
   ]
  },
  {
   "cell_type": "code",
   "execution_count": 135,
   "metadata": {},
   "outputs": [],
   "source": [
    "delete(2,0,0)"
   ]
  },
  {
   "cell_type": "code",
   "execution_count": 136,
   "metadata": {},
   "outputs": [
    {
     "data": {
      "text/plain": [
       "[['x0x', 'xxx', 'x0x', 'xxx', 'x0x', 'xxx'],\n",
       " ['x01', '1x1', '101', '1x1', '10x', 'xxx'],\n",
       " ['xxx', 'xxx', 'xxx', 'xxx', 'xxx', 'xxx'],\n",
       " ['xxx', 'xxx', 'xxx', 'xxx', 'xxx', 'xxx'],\n",
       " ['xxx', 'xxx', 'xxx', 'xxx', 'xxx', 'xxx'],\n",
       " ['xxx', 'xxx', 'xxx', 'xxx', 'xxx', 'xxx']]"
      ]
     },
     "execution_count": 136,
     "metadata": {},
     "output_type": "execute_result"
    }
   ],
   "source": [
    "variable.table"
   ]
  },
  {
   "cell_type": "code",
   "execution_count": 34,
   "metadata": {},
   "outputs": [],
   "source": [
    "def setup(x,y,a) :\n",
    "    if a == 0 and column(x,y) :\n",
    "        variable.table[y][x] = variable.table[y][x][0]+'0'+variable.table[y][x][2]\n",
    "        variable.table[y+1][x] = variable.table[y+1][x][0]+'0'+variable.table[y+1][x][2]\n",
    "        \n",
    "    elif a == 1 and beam(x,y) :\n",
    "        variable.table[y][x] = variable.table[y][x][0]+variable.table[y][x][1]+'1'\n",
    "        variable.table[y][x+1] = '1'+variable.table[y][x+1][1]+variable.table[y][x+1][2]"
   ]
  },
  {
   "cell_type": "code",
   "execution_count": 95,
   "metadata": {},
   "outputs": [],
   "source": [
    "def delete(x,y,a) :\n",
    "    if a == 0 :\n",
    "        beforeC = [variable.table[y][x], variable.table[y+1][x]]\n",
    "        variable.table[y][x] = variable.table[y][x][0]+'x'+variable.table[y][x][2]\n",
    "        variable.table[y+1][x] = variable.table[y+1][x][0]+'x'+variable.table[y+1][x][2]\n",
    "    else :\n",
    "        beforeB = [variable.table[y][x], variable.table[y][x+1]]\n",
    "        variable.table[y][x] = variable.table[y][x][0]+variable.table[y][x][1]+'x'\n",
    "        variable.table[y][x+1]  = 'x'+variable.table[y][x+1][1]+variable.table[y][x+1][2]\n",
    "    \n",
    "    boolean = True\n",
    "    \n",
    "    for i in range(variable.length) :\n",
    "        for j in range(variable.length) :\n",
    "            if not column(x,y) or not beam(x,y) :\n",
    "                boolean = False\n",
    "                break\n",
    "                    \n",
    "    if not boolean :        \n",
    "        if a == 0 :\n",
    "            variable.table[y][x] = beforeC[0]\n",
    "            variable.table[y+1][x] = beforeC[1]\n",
    "        else :\n",
    "            variable.table[y][x] = beforeC[0]\n",
    "            variable.table[y][x+1] = beforeB[1]"
   ]
  }
 ],
 "metadata": {
  "kernelspec": {
   "display_name": "Python 3",
   "language": "python",
   "name": "python3"
  },
  "language_info": {
   "codemirror_mode": {
    "name": "ipython",
    "version": 3
   },
   "file_extension": ".py",
   "mimetype": "text/x-python",
   "name": "python",
   "nbconvert_exporter": "python",
   "pygments_lexer": "ipython3",
   "version": "3.5.2"
  }
 },
 "nbformat": 4,
 "nbformat_minor": 2
}
