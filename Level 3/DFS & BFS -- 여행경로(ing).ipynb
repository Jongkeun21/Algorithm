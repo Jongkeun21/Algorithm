{
 "cells": [
  {
   "cell_type": "code",
   "execution_count": 1,
   "metadata": {},
   "outputs": [],
   "source": [
    "tickets = [[\"ICN\", \"JFK\"], [\"HND\", \"IAD\"], [\"JFK\", \"HND\"]]\n",
    "# return [\"ICN\", \"JFK\", \"HND\", \"IAD\"]"
   ]
  },
  {
   "cell_type": "code",
   "execution_count": 1,
   "metadata": {},
   "outputs": [],
   "source": [
    "tickets = [[\"ICN\", \"SFO\"], [\"ICN\", \"ATL\"], [\"SFO\", \"ATL\"], [\"ATL\", \"ICN\"], [\"ATL\",\"SFO\"]]\n",
    "# return [\"ICN\", \"ATL\", \"ICN\", \"SFO\", \"ATL\", \"SFO\"]"
   ]
  },
  {
   "cell_type": "code",
   "execution_count": 1,
   "metadata": {},
   "outputs": [],
   "source": [
    "tickets = [[\"ICN\", \"SFO\"], [\"SFO\", \"ICN\"], [\"ICN\", \"SFO\"],[\"SFO\", \"QRE\"]]"
   ]
  },
  {
   "cell_type": "code",
   "execution_count": 2,
   "metadata": {},
   "outputs": [],
   "source": [
    "from collections import defaultdict"
   ]
  },
  {
   "cell_type": "code",
   "execution_count": 3,
   "metadata": {},
   "outputs": [],
   "source": [
    "def dfs_paths(graph, departure, arrival, flag) :\n",
    "    stack = [(departure, [departure])]\n",
    "    result = []\n",
    "\n",
    "    while stack :\n",
    "        n, path = stack.pop()\n",
    "        \n",
    "        if n == arrival and len(path) == flag :\n",
    "            result.append(path)\n",
    "            break\n",
    "        else:\n",
    "            for m in graph[n] :\n",
    "                if m not in path :\n",
    "                    stack.append((m, path + [m]))\n",
    "                else :\n",
    "                    if path.count(m) != graph[n].count(m) :\n",
    "                        stack.append((m, path + [m]))\n",
    "                \n",
    "    return result"
   ]
  },
  {
   "cell_type": "code",
   "execution_count": 13,
   "metadata": {},
   "outputs": [],
   "source": [
    "length = len(tickets)\n",
    "dic = defaultdict(list)\n",
    "departure = set()\n",
    "arrival = set()\n",
    "flag = len(tickets)"
   ]
  },
  {
   "cell_type": "code",
   "execution_count": 14,
   "metadata": {},
   "outputs": [],
   "source": [
    "for i in tickets :\n",
    "    for j in tickets :\n",
    "        if i[0] == 'ICN' :\n",
    "            departure.add(i[0]+i[1])\n",
    "            \n",
    "        if i[1] == j[0] :\n",
    "            dic[i[0]+i[1]] += [j[0]+j[1]]\n",
    "            \n",
    "        arrival.add(j[0]+j[1])"
   ]
  },
  {
   "cell_type": "code",
   "execution_count": 15,
   "metadata": {},
   "outputs": [
    {
     "data": {
      "text/plain": [
       "{'ICNSFO'}"
      ]
     },
     "execution_count": 15,
     "metadata": {},
     "output_type": "execute_result"
    }
   ],
   "source": [
    "departure"
   ]
  },
  {
   "cell_type": "code",
   "execution_count": 16,
   "metadata": {},
   "outputs": [
    {
     "data": {
      "text/plain": [
       "{'ICNSFO', 'SFOICN', 'SFOQRE'}"
      ]
     },
     "execution_count": 16,
     "metadata": {},
     "output_type": "execute_result"
    }
   ],
   "source": [
    "arrival"
   ]
  },
  {
   "cell_type": "code",
   "execution_count": 17,
   "metadata": {},
   "outputs": [
    {
     "data": {
      "text/plain": [
       "defaultdict(list,\n",
       "            {'ICNSFO': ['SFOICN', 'SFOQRE', 'SFOICN', 'SFOQRE'],\n",
       "             'SFOICN': ['ICNSFO', 'ICNSFO']})"
      ]
     },
     "execution_count": 17,
     "metadata": {},
     "output_type": "execute_result"
    }
   ],
   "source": [
    "dic"
   ]
  },
  {
   "cell_type": "code",
   "execution_count": 19,
   "metadata": {},
   "outputs": [
    {
     "name": "stdout",
     "output_type": "stream",
     "text": [
      "[['ICNSFO', 'SFOICN', 'ICNSFO', 'SFOICN']]\n",
      "[['ICNSFO', 'SFOICN', 'ICNSFO', 'SFOQRE']]\n"
     ]
    }
   ],
   "source": [
    "routes = []\n",
    "for point in departure :\n",
    "    for goal in arrival :\n",
    "        if point != goal :\n",
    "            route = dfs_paths(dic, point, goal, flag)\n",
    "            print(route)\n",
    "            if route :\n",
    "                routes += route"
   ]
  },
  {
   "cell_type": "code",
   "execution_count": 20,
   "metadata": {},
   "outputs": [
    {
     "data": {
      "text/plain": [
       "[['ICNSFO', 'SFOICN', 'ICNSFO', 'SFOICN'],\n",
       " ['ICNSFO', 'SFOICN', 'ICNSFO', 'SFOQRE']]"
      ]
     },
     "execution_count": 20,
     "metadata": {},
     "output_type": "execute_result"
    }
   ],
   "source": [
    "routes.sort()\n",
    "routes"
   ]
  },
  {
   "cell_type": "code",
   "execution_count": 10,
   "metadata": {},
   "outputs": [],
   "source": [
    "answer = ['ICN']\n",
    "for airport in routes[0] :\n",
    "    answer.append(airport[3:])"
   ]
  },
  {
   "cell_type": "code",
   "execution_count": 11,
   "metadata": {},
   "outputs": [
    {
     "data": {
      "text/plain": [
       "['ICN', 'ATL', 'ICN', 'SFO', 'ATL', 'SFO']"
      ]
     },
     "execution_count": 11,
     "metadata": {},
     "output_type": "execute_result"
    }
   ],
   "source": [
    "answer"
   ]
  },
  {
   "cell_type": "code",
   "execution_count": null,
   "metadata": {},
   "outputs": [],
   "source": []
  }
 ],
 "metadata": {
  "kernelspec": {
   "display_name": "Python 3",
   "language": "python",
   "name": "python3"
  },
  "language_info": {
   "codemirror_mode": {
    "name": "ipython",
    "version": 3
   },
   "file_extension": ".py",
   "mimetype": "text/x-python",
   "name": "python",
   "nbconvert_exporter": "python",
   "pygments_lexer": "ipython3",
   "version": "3.7.3"
  }
 },
 "nbformat": 4,
 "nbformat_minor": 2
}
