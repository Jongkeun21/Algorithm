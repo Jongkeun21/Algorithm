{
 "cells": [
  {
   "cell_type": "code",
   "execution_count": 32,
   "metadata": {},
   "outputs": [],
   "source": [
    "n = 3\n",
    "k = 5\n",
    "# return [3,1,2]"
   ]
  },
  {
   "cell_type": "code",
   "execution_count": 33,
   "metadata": {},
   "outputs": [],
   "source": [
    "from itertools import permutations\n",
    "\n",
    "def solution(n, k) :\n",
    "    candi = [i+1 for i in range(n)]\n",
    "    result = list(permutations(candi, n))\n",
    "    \n",
    "    return list(result[k-1])"
   ]
  },
  {
   "cell_type": "code",
   "execution_count": 34,
   "metadata": {},
   "outputs": [
    {
     "data": {
      "text/plain": [
       "[3, 1, 2]"
      ]
     },
     "execution_count": 34,
     "metadata": {},
     "output_type": "execute_result"
    }
   ],
   "source": [
    "solution(n, k)"
   ]
  },
  {
   "cell_type": "code",
   "execution_count": 35,
   "metadata": {},
   "outputs": [],
   "source": [
    "class variables:\n",
    "    dic = {0: 1, 1: 1}"
   ]
  },
  {
   "cell_type": "code",
   "execution_count": 36,
   "metadata": {},
   "outputs": [
    {
     "data": {
      "text/plain": [
       "[1, 2, 3]"
      ]
     },
     "execution_count": 36,
     "metadata": {},
     "output_type": "execute_result"
    }
   ],
   "source": [
    "array = [i+1 for i in range(n)]\n",
    "array"
   ]
  },
  {
   "cell_type": "code",
   "execution_count": 37,
   "metadata": {},
   "outputs": [],
   "source": [
    "def factorial(n) :\n",
    "    if n in variables.dic :\n",
    "        return variables.dic[n]\n",
    "    else :\n",
    "        return factorial(n-1)*n"
   ]
  },
  {
   "cell_type": "code",
   "execution_count": 38,
   "metadata": {},
   "outputs": [
    {
     "name": "stdout",
     "output_type": "stream",
     "text": [
      "n:  3 k:  5   num:  2   q:  2   r:  1   array:  [1, 2, 3] answer:  []\n",
      "n:  2 k:  1   num:  1   q:  1   r:  0   array:  [1, 2] answer:  [3]\n"
     ]
    }
   ],
   "source": [
    "answer = []\n",
    "\n",
    "while n > 1 :\n",
    "    num = factorial(n-1)\n",
    "    q, r = k//num, k%num\n",
    "    \n",
    "#     print(\"n: \", n,  \"k: \", k, \"  num: \", num, \"  q: \", q, \"  r: \", r, \"  array: \", array, \"answer: \", answer)\n",
    "    \n",
    "    if q == 1 :\n",
    "        answer += array\n",
    "    else :\n",
    "        if r == 0 :\n",
    "            answer += array[::-1]\n",
    "            break\n",
    "        else :\n",
    "            answer.append(array[q])\n",
    "            array.pop(q)\n",
    "    \n",
    "    n -= 1\n",
    "    k = r"
   ]
  },
  {
   "cell_type": "code",
   "execution_count": 39,
   "metadata": {},
   "outputs": [
    {
     "data": {
      "text/plain": [
       "[3, 1, 2]"
      ]
     },
     "execution_count": 39,
     "metadata": {},
     "output_type": "execute_result"
    }
   ],
   "source": [
    "answer"
   ]
  },
  {
   "cell_type": "code",
   "execution_count": null,
   "metadata": {},
   "outputs": [],
   "source": [
    "class variables :\n",
    "    dic = {0: 1, 1: 1}\n",
    "\n",
    "def factorial(n) :\n",
    "    if n in variables.dic :\n",
    "        return variables.dic[n]\n",
    "    else :\n",
    "        return factorial(n-1)*n    \n",
    "\n",
    "def solution(n, k) :\n",
    "    array = [i+1 for i in range(n)]\n",
    "    answer = []\n",
    "\n",
    "    while n > 1 :\n",
    "        num = factorial(n-1)\n",
    "        q, r = k//num, k%num\n",
    "\n",
    "    #     print(\"n: \", n,  \"k: \", k, \"  num: \", num, \"  q: \", q, \"  r: \", r, \"  array: \", array, \"answer: \", answer)\n",
    "\n",
    "        if q == 1 :\n",
    "            answer += array\n",
    "        else :\n",
    "            if r == 0 :\n",
    "                answer += array[::-1]\n",
    "                break\n",
    "            else :\n",
    "                answer.append(array[q])\n",
    "                array.pop(q)\n",
    "\n",
    "        n -= 1\n",
    "        k = r\n",
    "        \n",
    "    return answer"
   ]
  }
 ],
 "metadata": {
  "kernelspec": {
   "display_name": "Python 3",
   "language": "python",
   "name": "python3"
  },
  "language_info": {
   "codemirror_mode": {
    "name": "ipython",
    "version": 3
   },
   "file_extension": ".py",
   "mimetype": "text/x-python",
   "name": "python",
   "nbconvert_exporter": "python",
   "pygments_lexer": "ipython3",
   "version": "3.5.2"
  }
 },
 "nbformat": 4,
 "nbformat_minor": 2
}
