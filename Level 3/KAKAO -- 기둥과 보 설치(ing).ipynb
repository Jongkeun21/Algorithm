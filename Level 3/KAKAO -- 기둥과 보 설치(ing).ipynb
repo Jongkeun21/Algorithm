{
 "cells": [
  {
   "cell_type": "markdown",
   "metadata": {},
   "source": [
    "1. 기둥은 바닥 위에 있거나 보의 한쪽 끝 부분 위에 있거나, 또는 다른 기둥 위에 있어야 함.\n",
    "2. 보는 한쪽 끝 부분이 기둥 위에 있거나, 또는 양쪽 끝 부분이 다른 보와 동시에 연결되어 있어야 함.\n",
    "3. 보는 좌표를 기준으로 오른쪽, 기둥은 위쪽 방향으로 설치 또는 삭제"
   ]
  },
  {
   "cell_type": "markdown",
   "metadata": {},
   "source": [
    "[x, y, a, b]\n",
    "--> x, y는 각각 가로 좌표, 세로 좌표\n",
    "--> a는 구조물의 종류를 나타냄, 0-기둥, 1-보\n",
    "--> b는 삭제할 지, 설치할 지를 나타냄, 0-삭제, 1-설치\n",
    "\n",
    "ex_ [1,1,0,1] --> [1,1]의 위치에 기둥을 설치\n",
    "\n",
    "C - 기둥(Column), B - 보(Beam)"
   ]
  },
  {
   "cell_type": "code",
   "execution_count": 1,
   "metadata": {},
   "outputs": [],
   "source": [
    "n = 5\n",
    "build_frame = [[0,0,0,1],[2,0,0,1],[4,0,0,1],[0,1,1,1],[1,1,1,1],[2,1,1,1],[3,1,1,1],[2,0,0,0],[1,1,1,0],[2,2,0,1]]\n",
    "# return [[0,0,0],[0,1,1],[1,1,1],[2,1,1],[3,1,1],[4,0,0]]"
   ]
  },
  {
   "cell_type": "code",
   "execution_count": 2,
   "metadata": {},
   "outputs": [],
   "source": [
    "class static:\n",
    "    limit = 0\n",
    "    table = []"
   ]
  },
  {
   "cell_type": "code",
   "execution_count": 21,
   "metadata": {},
   "outputs": [],
   "source": [
    "static.table = [['xx' for _ in range(n+1)] for _ in range(n+1)]\n",
    "static.limit = n"
   ]
  },
  {
   "cell_type": "code",
   "execution_count": 24,
   "metadata": {},
   "outputs": [
    {
     "data": {
      "text/plain": [
       "[['11', 'xx', '11', 'xx', '11', 'xx'],\n",
       " ['10', '00', '00', '00', '01', 'xx'],\n",
       " ['xx', 'xx', 'xx', 'xx', 'xx', 'xx'],\n",
       " ['xx', 'xx', 'xx', 'xx', 'xx', 'xx'],\n",
       " ['xx', 'xx', 'xx', 'xx', 'xx', 'xx'],\n",
       " ['xx', 'xx', 'xx', 'xx', 'xx', 'xx']]"
      ]
     },
     "execution_count": 24,
     "metadata": {},
     "output_type": "execute_result"
    }
   ],
   "source": [
    "static.table"
   ]
  },
  {
   "cell_type": "code",
   "execution_count": 18,
   "metadata": {},
   "outputs": [],
   "source": [
    "def setup(x, y, structure) :\n",
    "    if structure == 'C' :\n",
    "        if y == 0 :\n",
    "            static.table[y][x], static.table[y+1][x] = '11', '11'\n",
    "        elif '1' in static.table[y][x] :\n",
    "            static.table[y+1][x] = '11'\n",
    "    else :\n",
    "        if ('1' in static.table[y][x]) or ('1' in static.table[y][x+1]) :\n",
    "            static.table[y][x], static.table[y][x+1] = static.table[y][x][0]+'0', '0'+static.table[y][x+1][1]\n",
    "        elif ('0' in static.table[y][x][0]) and ('0' in static.table[y][x+1]) :\n",
    "            static.table[y][x], static.table[y][x+1] = static.table[y][x][0]+'0', '0'+static.table[y][x+1][1]"
   ]
  },
  {
   "cell_type": "code",
   "execution_count": null,
   "metadata": {},
   "outputs": [],
   "source": [
    "def delete(x, y, structure) :\n",
    "    if structure == 'C' :\n",
    "        if static.table[y+1][x] == '00' :\n",
    "            \n",
    "    else :\n",
    "        "
   ]
  },
  {
   "cell_type": "code",
   "execution_count": 23,
   "metadata": {},
   "outputs": [],
   "source": [
    "for x, y, a, b in build_frame :\n",
    "    if a == 0 :\n",
    "        structure = 'C'\n",
    "    else :\n",
    "        structure = 'B'\n",
    "        \n",
    "    if b == 1 :\n",
    "        setup(x, y, structure)"
   ]
  },
  {
   "cell_type": "code",
   "execution_count": null,
   "metadata": {},
   "outputs": [],
   "source": []
  }
 ],
 "metadata": {
  "kernelspec": {
   "display_name": "Python 3",
   "language": "python",
   "name": "python3"
  },
  "language_info": {
   "codemirror_mode": {
    "name": "ipython",
    "version": 3
   },
   "file_extension": ".py",
   "mimetype": "text/x-python",
   "name": "python",
   "nbconvert_exporter": "python",
   "pygments_lexer": "ipython3",
   "version": "3.7.3"
  }
 },
 "nbformat": 4,
 "nbformat_minor": 2
}
