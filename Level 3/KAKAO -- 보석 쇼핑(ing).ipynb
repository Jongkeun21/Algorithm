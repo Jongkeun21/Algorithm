{
 "cells": [
  {
   "cell_type": "code",
   "execution_count": 50,
   "metadata": {},
   "outputs": [],
   "source": [
    "import copy\n",
    "\n",
    "def solution(gems) :\n",
    "    dic = {}\n",
    "\n",
    "    for gem in gems :\n",
    "        dic[gem] = True\n",
    "        \n",
    "    length = len(gems)\n",
    "    kinds = len(dic)\n",
    "    result = []\n",
    "    \n",
    "    point = -1\n",
    "    \n",
    "    while point < length-kinds :\n",
    "        point += 1        \n",
    "        falseCnt = 0\n",
    "        trueCnt = 0\n",
    "        end = 0\n",
    "        start = 0\n",
    "        endFlag = False\n",
    "        startFlag = False\n",
    "        dic_ = copy.deepcopy(dic)\n",
    "        \n",
    "        for j in range(point, length) :\n",
    "            if dic_[gems[j]] :\n",
    "                falseCnt += 1\n",
    "                dic_[gems[j]] = False\n",
    "\n",
    "                if falseCnt == kinds :\n",
    "                    end = j\n",
    "                    endFlag = True\n",
    "                    break\n",
    "\n",
    "        if endFlag :\n",
    "            for k in range(end, point-1, -1) :                \n",
    "                if not dic_[gems[k]] :\n",
    "                    trueCnt += 1\n",
    "                    dic_[gems[k]] = True\n",
    "\n",
    "                    if trueCnt == kinds :\n",
    "                        start = k\n",
    "                        point = start\n",
    "                        startFlag = True\n",
    "                        break\n",
    "\n",
    "            if startFlag :\n",
    "                result.append([start+1, end+1])\n",
    "    \n",
    "    result.sort(key=lambda x: x[1]-x[0])\n",
    "    \n",
    "    return result"
   ]
  },
  {
   "cell_type": "code",
   "execution_count": 200,
   "metadata": {},
   "outputs": [],
   "source": [
    "gems = [\"XYZ\", \"YY\", \"XYZ\", \"YY\", \"XYZ\", \"YY\"]\n",
    "# gems = [\"DIA\", \"RUBY\", \"RUBY\", \"DIA\", \"DIA\", \"EMERALD\", \"SAPPHIRE\", \"DIA\"]\n",
    "# gems = [\"AA\", \"AB\", \"AC\", \"AA\", \"AC\"]\n",
    "# gems = [\"ZZZ\", \"YYY\", \"NNNN\", \"YYY\", \"BBB\"]"
   ]
  },
  {
   "cell_type": "code",
   "execution_count": 201,
   "metadata": {},
   "outputs": [
    {
     "data": {
      "text/plain": [
       "[[1, 2], [2, 3], [3, 4], [4, 5], [5, 6]]"
      ]
     },
     "execution_count": 201,
     "metadata": {},
     "output_type": "execute_result"
    }
   ],
   "source": [
    "solution(gems)"
   ]
  },
  {
   "cell_type": "code",
   "execution_count": 202,
   "metadata": {},
   "outputs": [],
   "source": [
    "dic = {}\n",
    "\n",
    "for gem in gems :\n",
    "    dic[gem] = True\n",
    "\n",
    "length = len(gems)\n",
    "kinds = len(dic)\n",
    "result = []"
   ]
  },
  {
   "cell_type": "code",
   "execution_count": 203,
   "metadata": {},
   "outputs": [
    {
     "data": {
      "text/plain": [
       "{'XYZ': True, 'YY': True}"
      ]
     },
     "execution_count": 203,
     "metadata": {},
     "output_type": "execute_result"
    }
   ],
   "source": [
    "dic"
   ]
  },
  {
   "cell_type": "code",
   "execution_count": 204,
   "metadata": {},
   "outputs": [],
   "source": [
    "head = 0\n",
    "tail = len(gems)\n",
    "falseCnt = 0"
   ]
  },
  {
   "cell_type": "code",
   "execution_count": 205,
   "metadata": {},
   "outputs": [],
   "source": [
    "import copy"
   ]
  },
  {
   "cell_type": "code",
   "execution_count": 206,
   "metadata": {},
   "outputs": [],
   "source": [
    "dic_ = copy.deepcopy(dic)"
   ]
  },
  {
   "cell_type": "code",
   "execution_count": 207,
   "metadata": {},
   "outputs": [],
   "source": [
    "for i in range(head, tail) :\n",
    "    if dic_[gems[i]] :\n",
    "        dic_[gems[i]] = False\n",
    "        falseCnt += 1\n",
    "        \n",
    "        if falseCnt == len(dic) :\n",
    "            tail = i\n",
    "            break"
   ]
  },
  {
   "cell_type": "code",
   "execution_count": 208,
   "metadata": {},
   "outputs": [],
   "source": [
    "window = tail"
   ]
  },
  {
   "cell_type": "code",
   "execution_count": 209,
   "metadata": {},
   "outputs": [
    {
     "data": {
      "text/plain": [
       "{'XYZ': False, 'YY': False}"
      ]
     },
     "execution_count": 209,
     "metadata": {},
     "output_type": "execute_result"
    }
   ],
   "source": [
    "dic_"
   ]
  },
  {
   "cell_type": "code",
   "execution_count": 210,
   "metadata": {},
   "outputs": [],
   "source": [
    "for j in range(tail, len(gems)) :\n",
    "    trueCnt = 0\n",
    "    startFlag = False\n",
    "    dic_ = copy.deepcopy(dic)\n",
    "    \n",
    "    for k in range(window+1) :\n",
    "        if dic_[gems[j-k]] :\n",
    "            dic_[gems[j-k]] = False\n",
    "            trueCnt += 1\n",
    "            \n",
    "            if trueCnt == len(dic) :\n",
    "                head = j-k\n",
    "                startFlag = True\n",
    "                break\n",
    "        \n",
    "    if startFlag :\n",
    "        result.append([head+1, j+1])"
   ]
  },
  {
   "cell_type": "code",
   "execution_count": 211,
   "metadata": {},
   "outputs": [
    {
     "data": {
      "text/plain": [
       "[]"
      ]
     },
     "execution_count": 211,
     "metadata": {},
     "output_type": "execute_result"
    }
   ],
   "source": [
    "result"
   ]
  },
  {
   "cell_type": "code",
   "execution_count": null,
   "metadata": {},
   "outputs": [],
   "source": []
  },
  {
   "cell_type": "code",
   "execution_count": null,
   "metadata": {},
   "outputs": [],
   "source": []
  }
 ],
 "metadata": {
  "kernelspec": {
   "display_name": "Python 3",
   "language": "python",
   "name": "python3"
  },
  "language_info": {
   "codemirror_mode": {
    "name": "ipython",
    "version": 3
   },
   "file_extension": ".py",
   "mimetype": "text/x-python",
   "name": "python",
   "nbconvert_exporter": "python",
   "pygments_lexer": "ipython3",
   "version": "3.5.2"
  }
 },
 "nbformat": 4,
 "nbformat_minor": 2
}
