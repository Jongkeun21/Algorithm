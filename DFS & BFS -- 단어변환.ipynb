{
 "cells": [
  {
   "cell_type": "code",
   "execution_count": 32,
   "metadata": {},
   "outputs": [],
   "source": [
    "# begin = \"hit\"\n",
    "# target = \"cog\"\n",
    "# words = [\"hot\", \"dot\", \"dog\", \"lot\", \"log\", \"cog\"]"
   ]
  },
  {
   "cell_type": "code",
   "execution_count": 57,
   "metadata": {},
   "outputs": [],
   "source": [
    "begin = \"hit\"\n",
    "target = \"hhh\"\n",
    "words = [\"hhh\",\"hht\"]"
   ]
  },
  {
   "cell_type": "code",
   "execution_count": 58,
   "metadata": {},
   "outputs": [],
   "source": [
    "words.insert(0, begin)\n",
    "# if not target in words => return 0"
   ]
  },
  {
   "cell_type": "code",
   "execution_count": 59,
   "metadata": {},
   "outputs": [
    {
     "name": "stdout",
     "output_type": "stream",
     "text": [
      "['hit', 'hhh', 'hht']\n"
     ]
    }
   ],
   "source": [
    "print(words)"
   ]
  },
  {
   "cell_type": "code",
   "execution_count": 60,
   "metadata": {},
   "outputs": [],
   "source": [
    "graph = [[] for col in range(len(words))]\n",
    "\n",
    "for i in range(len(words)) :\n",
    "    for j in range(len(words)) :\n",
    "        alpha = 0\n",
    "        if i != j :\n",
    "            for k in range(len(words[j])) :\n",
    "                if words[j][k] == words[i][k] :\n",
    "                    alpha += 1\n",
    "            if alpha == len(words[i])-1 :\n",
    "                graph[i].append(words[j])"
   ]
  },
  {
   "cell_type": "code",
   "execution_count": 61,
   "metadata": {},
   "outputs": [
    {
     "data": {
      "text/plain": [
       "[['hht'], ['hht'], ['hit', 'hhh']]"
      ]
     },
     "execution_count": 61,
     "metadata": {},
     "output_type": "execute_result"
    }
   ],
   "source": [
    "graph"
   ]
  },
  {
   "cell_type": "code",
   "execution_count": 62,
   "metadata": {},
   "outputs": [
    {
     "data": {
      "text/plain": [
       "{'hit': ['hht'], 'hhh': ['hht'], 'hht': ['hit', 'hhh']}"
      ]
     },
     "execution_count": 62,
     "metadata": {},
     "output_type": "execute_result"
    }
   ],
   "source": [
    "dic = {}\n",
    "for i in range(len(words)) :\n",
    "    dic[words[i]] = graph[i]\n",
    "\n",
    "dic"
   ]
  },
  {
   "cell_type": "code",
   "execution_count": 63,
   "metadata": {},
   "outputs": [],
   "source": [
    "def find_path(dic, start, end) :\n",
    "    queue = [(start, [start])]\n",
    "    result = []\n",
    "    \n",
    "    while queue :\n",
    "        n, path = queue.pop(0)\n",
    "        if n == end :\n",
    "            result.append(path)\n",
    "        else :\n",
    "            for i in dic[n] :\n",
    "                if i not in path :\n",
    "                    queue.append((i, path+[i]))\n",
    "    return result"
   ]
  },
  {
   "cell_type": "code",
   "execution_count": 64,
   "metadata": {},
   "outputs": [
    {
     "name": "stdout",
     "output_type": "stream",
     "text": [
      "[['hit', 'hht', 'hhh']]\n",
      "2\n"
     ]
    }
   ],
   "source": [
    "route = find_path(dic, begin, target)\n",
    "\n",
    "print(route)\n",
    "\n",
    "answer = len(route[0])-1\n",
    "print(answer)"
   ]
  },
  {
   "cell_type": "code",
   "execution_count": null,
   "metadata": {},
   "outputs": [],
   "source": []
  },
  {
   "cell_type": "code",
   "execution_count": 31,
   "metadata": {},
   "outputs": [],
   "source": [
    "def find_path(dic, start, end) :\n",
    "    queue = [(start, [start])]\n",
    "    result = []\n",
    "    \n",
    "    while queue :\n",
    "        n, path = queue.pop(0)\n",
    "        if n == end :\n",
    "            result.append(path)\n",
    "        else :\n",
    "            for i in dic[n] :\n",
    "                if i not in path :\n",
    "                    queue.append((i, path+[i]))\n",
    "    return result\n",
    "\n",
    "def solution(begin, target, words):\n",
    "    answer = 0\n",
    "    words.insert(0, begin)\n",
    "    \n",
    "    graph = [[] for col in range(len(words))]\n",
    "\n",
    "    for i in range(len(words)) :\n",
    "        for j in range(len(words)) :\n",
    "            alpha = 0\n",
    "            if i != j :\n",
    "                for k in range(len(words[j])) :\n",
    "                    if words[j][k] == words[i][k] :\n",
    "                        alpha += 1\n",
    "                if alpha == len(words[i])-1 :\n",
    "                    graph[i].append(words[j])\n",
    "                \n",
    "    dic = {}\n",
    "    for i in range(len(words)) :\n",
    "        dic[words[i]] = graph[i]\n",
    "    \n",
    "    route = find_path(dic, begin, target)\n",
    "    \n",
    "    if len(route) > 0 :\n",
    "        answer = len(route[0])-1\n",
    "    \n",
    "    return answer"
   ]
  },
  {
   "cell_type": "code",
   "execution_count": 27,
   "metadata": {},
   "outputs": [],
   "source": [
    "def find_path(dic, start, end) :\n",
    "    queue = [(start, [start])]\n",
    "    result = []\n",
    "    \n",
    "    while queue :\n",
    "        n, path = queue.pop(0)\n",
    "        if n == end :\n",
    "            result.append(path)\n",
    "        else :\n",
    "            for i in dic[n] :\n",
    "                if i not in path :\n",
    "                    queue.append((i, path+[i]))\n",
    "    return result"
   ]
  },
  {
   "cell_type": "code",
   "execution_count": 28,
   "metadata": {},
   "outputs": [],
   "source": [
    "route = find_path(dic, begin, target)\n",
    "\n",
    "print(route)\n",
    "\n",
    "answer = len(route[0])-1\n",
    "print(answer)"
   ]
  },
  {
   "cell_type": "code",
   "execution_count": 222,
   "metadata": {},
   "outputs": [
    {
     "name": "stdout",
     "output_type": "stream",
     "text": [
      "[['hit', 'hot', 'dot', 'dog', 'log', 'cog'], ['hit', 'hot', 'dot', 'dog', 'cog'], ['hit', 'hot', 'dot', 'lot', 'log', 'dog', 'cog'], ['hit', 'hot', 'dot', 'lot', 'log', 'cog'], ['hit', 'hot', 'lot', 'dot', 'dog', 'log', 'cog'], ['hit', 'hot', 'lot', 'dot', 'dog', 'cog'], ['hit', 'hot', 'lot', 'log', 'dog', 'cog'], ['hit', 'hot', 'lot', 'log', 'cog']]\n"
     ]
    }
   ],
   "source": [
    "paths = []\n",
    "def BFS_path(dic, start, end, path=[]) :\n",
    "    path = path + [start]\n",
    "    \n",
    "    if start == end :\n",
    "        paths.append(path)\n",
    "        \n",
    "    queue = [start]\n",
    "    \n",
    "    while queue :\n",
    "        vertex = queue.pop(0)\n",
    "        for node in dic[vertex] :\n",
    "            if node not in path :\n",
    "                BFS_path(dic, node, end, path)\n",
    "\n",
    "BFS_path(dic, begin, target)\n",
    "\n",
    "print(paths)"
   ]
  },
  {
   "cell_type": "code",
   "execution_count": 223,
   "metadata": {},
   "outputs": [
    {
     "name": "stdout",
     "output_type": "stream",
     "text": [
      "[5, 5, 6, 6, 6, 6, 7, 7]\n"
     ]
    }
   ],
   "source": [
    "length = []\n",
    "for i in range(len(paths)) :\n",
    "    length.append(len(paths[i])) \n",
    "length.sort()\n",
    "\n",
    "print(length)"
   ]
  },
  {
   "cell_type": "code",
   "execution_count": 187,
   "metadata": {},
   "outputs": [
    {
     "data": {
      "text/plain": [
       "[['hit', 'hht'], ['hhh'], ['hht', 'hhh']]"
      ]
     },
     "execution_count": 187,
     "metadata": {},
     "output_type": "execute_result"
    }
   ],
   "source": [
    "graph"
   ]
  },
  {
   "cell_type": "code",
   "execution_count": 188,
   "metadata": {},
   "outputs": [
    {
     "data": {
      "text/plain": [
       "{'hit': ['hit', 'hht'], 'hhh': ['hhh'], 'hht': ['hht', 'hhh']}"
      ]
     },
     "execution_count": 188,
     "metadata": {},
     "output_type": "execute_result"
    }
   ],
   "source": [
    "dic = {}\n",
    "for i in range(len(words)) :\n",
    "    dic[words[i]] = graph[i]\n",
    "\n",
    "dic"
   ]
  },
  {
   "cell_type": "code",
   "execution_count": 140,
   "metadata": {},
   "outputs": [],
   "source": [
    "def BFS(dic, start_node) :\n",
    "    visit = list()\n",
    "    queue = list()\n",
    "    \n",
    "    queue.append(start_node)\n",
    "    \n",
    "    while queue :\n",
    "        node = queue.pop(0)\n",
    "        if node not in visit :\n",
    "            visit.append(node)\n",
    "            queue.extend(dic[node])\n",
    "            \n",
    "    return visit"
   ]
  },
  {
   "cell_type": "code",
   "execution_count": 141,
   "metadata": {},
   "outputs": [
    {
     "data": {
      "text/plain": [
       "['hit', 'hot', 'dot', 'lot', 'dog', 'log', 'cog']"
      ]
     },
     "execution_count": 141,
     "metadata": {},
     "output_type": "execute_result"
    }
   ],
   "source": [
    "BFS(dic, words[0])"
   ]
  },
  {
   "cell_type": "code",
   "execution_count": 146,
   "metadata": {},
   "outputs": [],
   "source": [
    "paths = []\n",
    "def BFS_path(dic, start, end, path=[]) :\n",
    "    path = path + [start]\n",
    "    \n",
    "    if start == end :\n",
    "        paths.append(path)\n",
    "        \n",
    "    queue = [start]\n",
    "    \n",
    "    while queue :\n",
    "        vertex = queue.pop(0)\n",
    "        for node in dic[vertex] :\n",
    "            if node not in path :\n",
    "                BFS_path(dic, node, end, path)\n",
    "\n",
    "BFS_path(dic, begin, target)\n",
    "\n",
    "print(paths)"
   ]
  },
  {
   "cell_type": "code",
   "execution_count": 152,
   "metadata": {},
   "outputs": [],
   "source": [
    "length = []\n",
    "for i in range(len(paths)) :\n",
    "    length.append(len(paths[i])) \n",
    "length.sort()\n",
    "\n",
    "print(length)"
   ]
  },
  {
   "cell_type": "code",
   "execution_count": 154,
   "metadata": {},
   "outputs": [],
   "source": [
    "paths = []\n",
    "def DFS_path(dic, start, end, visited=[]) :\n",
    "    visited = visited + [start]\n",
    "    \n",
    "    if start == end :\n",
    "        paths.append(visited)\n",
    "        \n",
    "    for node in dic[start] :\n",
    "        if node not in visited :\n",
    "            DFS_path(dic, node, end, visited)"
   ]
  },
  {
   "cell_type": "code",
   "execution_count": 155,
   "metadata": {},
   "outputs": [
    {
     "name": "stdout",
     "output_type": "stream",
     "text": [
      "[['hit', 'hot', 'dot', 'dog', 'log', 'cog'], ['hit', 'hot', 'dot', 'dog', 'cog'], ['hit', 'hot', 'dot', 'lot', 'log', 'dog', 'cog'], ['hit', 'hot', 'dot', 'lot', 'log', 'cog'], ['hit', 'hot', 'lot', 'dot', 'dog', 'log', 'cog'], ['hit', 'hot', 'lot', 'dot', 'dog', 'cog'], ['hit', 'hot', 'lot', 'log', 'dog', 'cog'], ['hit', 'hot', 'lot', 'log', 'cog']]\n"
     ]
    }
   ],
   "source": [
    "DFS_path(dic, begin, target)\n",
    "print(paths)"
   ]
  },
  {
   "cell_type": "code",
   "execution_count": 156,
   "metadata": {},
   "outputs": [
    {
     "name": "stdout",
     "output_type": "stream",
     "text": [
      "[5, 5, 6, 6, 6, 6, 7, 7]\n"
     ]
    }
   ],
   "source": [
    "length = []\n",
    "for i in range(len(paths)) :\n",
    "    length.append(len(paths[i]))\n",
    "length.sort()\n",
    "print(length)"
   ]
  },
  {
   "cell_type": "code",
   "execution_count": 229,
   "metadata": {},
   "outputs": [],
   "source": [
    "begin = \"hit\"\n",
    "target = \"hhh\"\n",
    "words = [\"hhh\",\"hht\"]"
   ]
  },
  {
   "cell_type": "code",
   "execution_count": 230,
   "metadata": {},
   "outputs": [],
   "source": [
    "paths = []\n",
    "def DFS_path(dic, start, end, visited=[]) :\n",
    "    visited = visited + [start]\n",
    "    \n",
    "    if start == end :\n",
    "        paths.append(visited)\n",
    "        \n",
    "    for node in dic[start] :\n",
    "        if node not in visited :\n",
    "            DFS_path(dic, node, end, visited)\n",
    "\n",
    "def solution(begin, target, words):\n",
    "    answer = 0\n",
    "    words.insert(0, begin)\n",
    "    \n",
    "    graph = [[] for col in range(len(words))]\n",
    "\n",
    "    for i in range(len(words)) :\n",
    "        for j in range(len(words)) :\n",
    "            alpha = 0\n",
    "            if i != j :\n",
    "                for k in range(len(words[j])) :\n",
    "                    if words[j][k] == words[i][k] :\n",
    "                        alpha += 1\n",
    "                if alpha == 2 :\n",
    "                    graph[i].append(words[j])\n",
    "                \n",
    "    dic = {}\n",
    "    for i in range(len(words)) :\n",
    "        dic[words[i]] = graph[i]\n",
    "    \n",
    "    DFS_path(dic, begin, target)\n",
    "    \n",
    "    length = []\n",
    "    for i in range(len(paths)) :\n",
    "        length.append(len(paths[i]))\n",
    "    length.sort()\n",
    "    \n",
    "    if len(length) > 0 :\n",
    "        answer = length[0] - 1\n",
    "    \n",
    "    return answer"
   ]
  },
  {
   "cell_type": "code",
   "execution_count": 231,
   "metadata": {},
   "outputs": [
    {
     "data": {
      "text/plain": [
       "2"
      ]
     },
     "execution_count": 231,
     "metadata": {},
     "output_type": "execute_result"
    }
   ],
   "source": [
    "solution(begin, target, words)"
   ]
  },
  {
   "cell_type": "code",
   "execution_count": null,
   "metadata": {},
   "outputs": [],
   "source": [
    "paths = []\n",
    "def BFS_path(dic, start, end, path=[]) :\n",
    "    path = path + [start]\n",
    "    \n",
    "    if start == end :\n",
    "        paths.append(path)\n",
    "        \n",
    "    queue = [start]\n",
    "    \n",
    "    while queue :\n",
    "        vertex = queue.pop(0)\n",
    "        for node in dic[vertex] :\n",
    "            if node not in path :\n",
    "                BFS_path(dic, node, end, path)\n",
    "                \n",
    "def solution(begin, target, words):\n",
    "    answer = 0\n",
    "    words.insert(0, begin)\n",
    "    \n",
    "    graph = [[] for col in range(len(words))]\n",
    "    for i in range(len(words)) :\n",
    "        for j in range(len(words)) :\n",
    "            alpha = 0\n",
    "            if i != j :\n",
    "                for k in range(len(words[j])) :\n",
    "                    alpha += words[j].count(words[i][k])\n",
    "            if alpha == 2 :\n",
    "                graph[i].append(words[j])\n",
    "                \n",
    "    dic = {}\n",
    "    for i in range(len(words)) :\n",
    "        dic[words[i]] = graph[i]\n",
    "    \n",
    "    BFS_path(dic, begin, target)\n",
    "    \n",
    "    length = []\n",
    "    for i in range(len(paths)) :\n",
    "        length.append(len(paths[i]))\n",
    "    length.sort()\n",
    "    \n",
    "    if len(length) > 0 :\n",
    "        answer = length[0] - 1\n",
    "    else :\n",
    "        answer = 0\n",
    "    \n",
    "    return answer"
   ]
  },
  {
   "cell_type": "code",
   "execution_count": 86,
   "metadata": {},
   "outputs": [],
   "source": [
    "visit = list()\n",
    "stack = list()\n",
    "\n",
    "def DFS(dic, start_node) :    \n",
    "    stack.append(start_node)\n",
    "        \n",
    "    while stack :\n",
    "        node = stack.pop()\n",
    "        if node not in visit :\n",
    "            visit.append(node)\n",
    "            stack.extend(dic[node])\n",
    "            \n",
    "    return"
   ]
  },
  {
   "cell_type": "code",
   "execution_count": 87,
   "metadata": {},
   "outputs": [],
   "source": [
    "DFS(dic, words[0])"
   ]
  },
  {
   "cell_type": "code",
   "execution_count": 88,
   "metadata": {},
   "outputs": [
    {
     "name": "stdout",
     "output_type": "stream",
     "text": [
      "['hit', 'hot', 'lot', 'log', 'cog', 'dog', 'dot']\n"
     ]
    }
   ],
   "source": [
    "print(visit)"
   ]
  },
  {
   "cell_type": "code",
   "execution_count": 89,
   "metadata": {},
   "outputs": [
    {
     "name": "stdout",
     "output_type": "stream",
     "text": [
      "4\n"
     ]
    }
   ],
   "source": [
    "for i in range(len(visit)) :\n",
    "    if visit[i] == target :\n",
    "        print(i)"
   ]
  },
  {
   "cell_type": "code",
   "execution_count": 77,
   "metadata": {},
   "outputs": [],
   "source": [
    "begin = \"hit\"\n",
    "target = \"cog\"\n",
    "words = [\"hot\", \"dot\", \"dog\", \"lot\", \"log\", \"cog\"]"
   ]
  },
  {
   "cell_type": "code",
   "execution_count": 100,
   "metadata": {},
   "outputs": [],
   "source": [
    "def DFS(dic, start_node, visit, stack) :\n",
    "\n",
    "        stack.append(start_node)\n",
    "\n",
    "        while stack :\n",
    "            node = stack.pop()\n",
    "            if node not in visit :\n",
    "                visit.append(node)\n",
    "                stack.extend(dic[node])\n",
    "\n",
    "        return\n",
    "\n",
    "def solution(begin, target, words):\n",
    "    answer = 0\n",
    "    words.insert(0, begin)\n",
    "    \n",
    "    graph = [[] for col in range(len(words))]\n",
    "    for i in range(len(words)) :\n",
    "        for j in range(len(words)) :\n",
    "            alpha = 0\n",
    "            if i != j :\n",
    "                for k in range(len(words[j])) :\n",
    "                    alpha += words[j].count(words[i][k])\n",
    "            if alpha == 2 :\n",
    "                graph[i].append(words[j])\n",
    "                \n",
    "    dic = {}\n",
    "    for i in range(len(words)) :\n",
    "        dic[words[i]] = graph[i]\n",
    "    \n",
    "    visit = list()\n",
    "    stack = list()\n",
    "    \n",
    "    DFS(dic, words[0], visit, stack)\n",
    "    \n",
    "    for i in range(len(visit)) :\n",
    "        if visit[i] == target :\n",
    "            answer = i\n",
    "    \n",
    "    return answer"
   ]
  },
  {
   "cell_type": "code",
   "execution_count": 101,
   "metadata": {},
   "outputs": [
    {
     "data": {
      "text/plain": [
       "4"
      ]
     },
     "execution_count": 101,
     "metadata": {},
     "output_type": "execute_result"
    }
   ],
   "source": [
    "solution(begin, target, words)"
   ]
  },
  {
   "cell_type": "code",
   "execution_count": null,
   "metadata": {},
   "outputs": [],
   "source": []
  }
 ],
 "metadata": {
  "kernelspec": {
   "display_name": "Python 3",
   "language": "python",
   "name": "python3"
  },
  "language_info": {
   "codemirror_mode": {
    "name": "ipython",
    "version": 3
   },
   "file_extension": ".py",
   "mimetype": "text/x-python",
   "name": "python",
   "nbconvert_exporter": "python",
   "pygments_lexer": "ipython3",
   "version": "3.7.3"
  }
 },
 "nbformat": 4,
 "nbformat_minor": 2
}
