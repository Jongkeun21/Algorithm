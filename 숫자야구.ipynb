{
 "cells": [
  {
   "cell_type": "code",
   "execution_count": 419,
   "metadata": {},
   "outputs": [],
   "source": [
    "from itertools import permutations\n",
    "from collections import Counter"
   ]
  },
  {
   "cell_type": "code",
   "execution_count": 420,
   "metadata": {},
   "outputs": [],
   "source": [
    "baseball = [[123,1,1],[356,1,0],[327,2,0],[489,0,1]]"
   ]
  },
  {
   "cell_type": "code",
   "execution_count": 421,
   "metadata": {},
   "outputs": [
    {
     "name": "stdout",
     "output_type": "stream",
     "text": [
      "numbers:  [['1', '2', '3'], ['3', '5', '6'], ['3', '2', '7'], ['4', '8', '9']]\n",
      "strikes:  [1, 1, 2, 0]\n",
      "balls:  [1, 0, 0, 1]\n",
      "['2', '3', '4', '8', '9']\n"
     ]
    }
   ],
   "source": [
    "numbers = []\n",
    "# stkBall = [[] for col in range(len(baseball))]\n",
    "strikes = []\n",
    "balls = []\n",
    "\n",
    "for i in range(len(baseball)) :\n",
    "    numbers.append(list(Counter(str(baseball[i][0]))))\n",
    "    strikes.append(baseball[i][1])\n",
    "    balls.append(baseball[i][2])\n",
    "#     stkBall[i] = [baseball[i][1], baseball[i][2]]\n",
    "\n",
    "print(\"numbers: \", numbers)\n",
    "# print(\"stkBall: \", stkBall)\n",
    "print(\"strikes: \", strikes)\n",
    "print(\"balls: \", balls)\n",
    "\n",
    "result = list(inputs)\n",
    "for j in range(len(numbers)) :\n",
    "    temp = numbers[j]\n",
    "    sumTemp = strikes[j]+balls[j]\n",
    "    for k in range(len(numbers)) :\n",
    "        count = []\n",
    "        another = list(inputs)\n",
    "        if k != j :\n",
    "            if len(set(temp)-set(numbers[k])) == 3 and sumTemp+strikes[k]+balls[k] == 3 :\n",
    "                count += temp\n",
    "                count += numbers[k]\n",
    "                for num in count :\n",
    "                    if str(num) in another :\n",
    "                        another.remove(str(num))\n",
    "                result = list(set(result)-set(another))\n",
    "    if sumTemp == 0 :\n",
    "        for k in range(len(numbers[j])) :\n",
    "            if numbers[j][k] in result :\n",
    "                result.remove(numbers[j][k])\n",
    "    \n",
    "result.sort() \n",
    "print(result)"
   ]
  },
  {
   "cell_type": "code",
   "execution_count": 422,
   "metadata": {},
   "outputs": [
    {
     "name": "stdout",
     "output_type": "stream",
     "text": [
      "['234', '238', '239', '243', '248', '249', '283', '284', '289', '293', '294', '298', '324', '328', '329', '342', '348', '349', '382', '384', '389', '392', '394', '398', '423', '428', '429', '432', '438', '439', '482', '483', '489', '492', '493', '498', '823', '824', '829', '832', '834', '839', '842', '843', '849', '892', '893', '894', '923', '924', '928', '932', '934', '938', '942', '943', '948', '982', '983', '984']\n"
     ]
    }
   ],
   "source": [
    "first = list(map(''.join, permutations(result, 3)))\n",
    "print(first)"
   ]
  },
  {
   "cell_type": "code",
   "execution_count": 423,
   "metadata": {},
   "outputs": [
    {
     "name": "stdout",
     "output_type": "stream",
     "text": [
      "23489\n"
     ]
    }
   ],
   "source": [
    "result = ''.join(result)\n",
    "print(result)"
   ]
  },
  {
   "cell_type": "code",
   "execution_count": 424,
   "metadata": {},
   "outputs": [
    {
     "name": "stdout",
     "output_type": "stream",
     "text": [
      "['1', '5', '6', '7']\n"
     ]
    }
   ],
   "source": [
    "never = list(set(inputs)-set(result))\n",
    "never.sort()\n",
    "print(never)"
   ]
  },
  {
   "cell_type": "code",
   "execution_count": 425,
   "metadata": {},
   "outputs": [
    {
     "name": "stdout",
     "output_type": "stream",
     "text": [
      "[['0', '2', '3'], ['3', '0', '0'], ['3', '2', '0'], ['4', '8', '9']]\n"
     ]
    }
   ],
   "source": [
    "for k in range(len(numbers)) :\n",
    "    for l in range(3) :\n",
    "        for num in never :\n",
    "            if num == numbers[k][l] :\n",
    "                numbers[k][l] = '0'\n",
    "                \n",
    "print(numbers)"
   ]
  },
  {
   "cell_type": "code",
   "execution_count": 426,
   "metadata": {},
   "outputs": [
    {
     "name": "stdout",
     "output_type": "stream",
     "text": [
      "['234', '238', '239', '243', '248', '249', '283', '284', '289', '293', '294', '298', '324', '328', '329', '342', '348', '349', '382', '384', '389', '392', '394', '398', '423', '428', '429', '432', '438', '439', '482', '483', '489', '492', '493', '498', '823', '824', '829', '832', '834', '839', '842', '843', '849', '892', '893', '894', '923', '924', '928', '932', '934', '938', '942', '943', '948', '982', '983', '984']\n"
     ]
    }
   ],
   "source": [
    "first = list(map(''.join, permutations(result, 3)))\n",
    "print(first)"
   ]
  },
  {
   "cell_type": "code",
   "execution_count": 427,
   "metadata": {},
   "outputs": [],
   "source": [
    "# for i in range(len(numbers)) :\n",
    "#     std = []\n",
    "#     if strikes[i] + balls[i] == 3 :\n",
    "#         print(\"3\")\n",
    "#     else :\n",
    "#         for j in range(len(numbers[j])) :\n",
    "#             if numbers[i][j] != '0' and strikes[i] + balls[i] == 2 :\n",
    "#                 std.append(numbers[i][j])\n",
    "#             elif numbers[i][j] != '0' and strikes[i] + balls[i] == 1 :\n",
    "#                 std.append(numbers[i][j])            \n",
    "#     print(std)"
   ]
  },
  {
   "cell_type": "code",
   "execution_count": 428,
   "metadata": {},
   "outputs": [
    {
     "name": "stdout",
     "output_type": "stream",
     "text": [
      "[['3'], ['3'], ['3']]\n"
     ]
    }
   ],
   "source": [
    "listRes = [[] for col in range(3)]\n",
    "for i in range(3) :\n",
    "    listRes[i] += '3'\n",
    "    \n",
    "print(listRes)"
   ]
  },
  {
   "cell_type": "code",
   "execution_count": 435,
   "metadata": {},
   "outputs": [
    {
     "name": "stdout",
     "output_type": "stream",
     "text": [
      "items:  ['234', '238', '239', '423', '823', '923', '324', '328', '329', '432', '832', '932']\n",
      "items:  ['324', '328', '329', '432', '832', '932', '234', '238', '239', '423', '823', '923']\n",
      "[['23', '32'], [], ['32', '23'], []]\n",
      "[['234', '238', '239', '423', '823', '923', '324', '328', '329', '432', '832', '932'], [], ['324', '328', '329', '432', '832', '932', '234', '238', '239', '423', '823', '923']]\n"
     ]
    }
   ],
   "source": [
    "listDel = [[] for col in range(len(numbers))]\n",
    "listRes = [[] for col in range(3)]\n",
    "\n",
    "for i in range(len(numbers)) :\n",
    "    std = []\n",
    "    items = []\n",
    "    if strikes[i] + balls[i] == 3 :\n",
    "        for j in range(len(numbers[j])) :\n",
    "            std.append(numbers[i][j])\n",
    "        listDel[i] += list(map(''.join, permutations(std, len(std))))\n",
    "    elif strikes[i] + balls[i] == 2 :\n",
    "        for j in range(len(numbers[j])) :\n",
    "            if numbers[i][j] != '0' :\n",
    "                std.append(numbers[i][j])\n",
    "        listDel[i] += list(map(''.join, permutations(std, len(std))))\n",
    "        for l in range(len(listDel[i])) :\n",
    "            for m in range(len(first)) :\n",
    "                if listDel[i][l] in first[m] :\n",
    "                    items.append(first[m])\n",
    "        print(\"items: \", items)\n",
    "        listRes[i] += items\n",
    "        \n",
    "#     elif strikes[i] + balls[i] == 1 :\n",
    "#         for j in range(len(numbers[j])) :\n",
    "#             if numbers[i][j] != '0' :\n",
    "#                 std.append(numbers[i][j])\n",
    "#         listDel[i] += list(map(''.join, permutations(std, len(std))))\n",
    "#         for l in range(len(listDel[i])) :\n",
    "#             for m in range(len(first)) :\n",
    "#                 if listDel[i][l] in first[m] :\n",
    "#                     items.append(first[m])\n",
    "#         print(\"items: \", items)\n",
    "#         listRes[i] += items\n",
    "\n",
    "        \n",
    "print(listDel)\n",
    "print(listRes)"
   ]
  },
  {
   "cell_type": "code",
   "execution_count": 325,
   "metadata": {},
   "outputs": [
    {
     "name": "stdout",
     "output_type": "stream",
     "text": [
      "2\n",
      "---------------------\n",
      "['348', '349', '384', '389', '394', '398', '438', '439', '483', '489', '493', '498', '834', '839', '843', '849', '893', '894', '934', '938', '943', '948', '983', '984']\n",
      "=============================\n",
      "3\n",
      "---------------------\n",
      "['248', '249', '284', '289', '294', '298', '428', '429', '482', '489', '492', '498', '824', '829', '842', '849', '892', '894', '924', '928', '942', '948', '982', '984']\n",
      "=============================\n",
      "3\n",
      "---------------------\n",
      "['248', '249', '284', '289', '294', '298', '428', '429', '482', '489', '492', '498', '824', '829', '842', '849', '892', '894', '924', '928', '942', '948', '982', '984']\n",
      "=============================\n",
      "2\n",
      "---------------------\n",
      "['348', '349', '384', '389', '394', '398', '438', '439', '483', '489', '493', '498', '834', '839', '843', '849', '893', '894', '934', '938', '943', '948', '983', '984']\n",
      "=============================\n"
     ]
    }
   ],
   "source": [
    "for j in range(len(numbers)) :\n",
    "    for k in range(len(numbers[j])) :\n",
    "        listDel = []\n",
    "        if strikes[j]+balls[j] == 2 and numbers[j][k] != '0' :\n",
    "            print(numbers[j][k])\n",
    "            print(\"---------------------\")\n",
    "            for i in range(len(first)) :\n",
    "                if not numbers[j][k] in first[i] :\n",
    "                    listDel.append(first[i])\n",
    "            print(listDel)\n",
    "            print(\"=============================\")"
   ]
  },
  {
   "cell_type": "code",
   "execution_count": 253,
   "metadata": {},
   "outputs": [],
   "source": [
    "def findMax(arr) :\n",
    "    high = 0\n",
    "    max = arr[0]\n",
    "    for i in range(len(arr)-1) :\n",
    "        if max < arr[i+1] :\n",
    "            max = arr[i+1]\n",
    "            high = i+1\n",
    "            \n",
    "    return high"
   ]
  },
  {
   "cell_type": "code",
   "execution_count": 258,
   "metadata": {},
   "outputs": [
    {
     "name": "stdout",
     "output_type": "stream",
     "text": [
      "['234', '238', '239', '243', '248', '249', '283', '284', '289', '293', '294', '298', '324', '328', '329', '342', '348', '349', '382', '384', '389', '392', '394', '398', '423', '428', '429', '432', '438', '439', '482', '483', '489', '492', '493', '498', '823', '824', '829', '832', '834', '839', '842', '843', '849', '892', '893', '894', '923', '924', '928', '932', '934', '938', '942', '943', '948', '982', '983', '984']\n"
     ]
    }
   ],
   "source": [
    "first = list(map(''.join, permutations(result, 3)))\n",
    "print(first)"
   ]
  },
  {
   "cell_type": "code",
   "execution_count": null,
   "metadata": {},
   "outputs": [],
   "source": []
  }
 ],
 "metadata": {
  "kernelspec": {
   "display_name": "Python 3",
   "language": "python",
   "name": "python3"
  },
  "language_info": {
   "codemirror_mode": {
    "name": "ipython",
    "version": 3
   },
   "file_extension": ".py",
   "mimetype": "text/x-python",
   "name": "python",
   "nbconvert_exporter": "python",
   "pygments_lexer": "ipython3",
   "version": "3.7.3"
  }
 },
 "nbformat": 4,
 "nbformat_minor": 2
}
