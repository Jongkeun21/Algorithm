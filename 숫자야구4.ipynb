{
 "cells": [
  {
   "cell_type": "code",
   "execution_count": 40,
   "metadata": {},
   "outputs": [],
   "source": [
    "from itertools import permutations\n",
    "from collections import Counter"
   ]
  },
  {
   "cell_type": "code",
   "execution_count": 41,
   "metadata": {},
   "outputs": [],
   "source": [
    "baseball = [[123,1,1],[356,1,0],[327,2,0],[489,0,1]]"
   ]
  },
  {
   "cell_type": "code",
   "execution_count": 42,
   "metadata": {},
   "outputs": [
    {
     "name": "stdout",
     "output_type": "stream",
     "text": [
      "['1', '2', '3', '4', '5', '6', '7', '8', '9']\n"
     ]
    }
   ],
   "source": [
    "inputs = list(\"123456789\")\n",
    "print(inputs)"
   ]
  },
  {
   "cell_type": "code",
   "execution_count": 43,
   "metadata": {},
   "outputs": [
    {
     "name": "stdout",
     "output_type": "stream",
     "text": [
      "scores:   [['1', '2', '3'], ['3', '5', '6'], ['3', '2', '7'], ['4', '8', '9']]\n",
      "strikes:  [1, 1, 2, 0]\n",
      "balls:    [1, 0, 0, 1]\n"
     ]
    }
   ],
   "source": [
    "scores = []\n",
    "strikes = []\n",
    "balls = []\n",
    "\n",
    "for i in range(len(baseball)) :\n",
    "    scores.append(list(Counter(str(baseball[i][0]))))\n",
    "    strikes.append(baseball[i][1])\n",
    "    balls.append(baseball[i][2])\n",
    "    \n",
    "print(\"scores:  \", scores)\n",
    "print(\"strikes: \", strikes)\n",
    "print(\"balls:   \", balls)"
   ]
  },
  {
   "cell_type": "code",
   "execution_count": 45,
   "metadata": {},
   "outputs": [],
   "source": [
    "kinds = list(map(''.join, permutations(inputs, 3)))\n",
    "# print(kinds)"
   ]
  }
 ],
 "metadata": {
  "kernelspec": {
   "display_name": "Python 3",
   "language": "python",
   "name": "python3"
  },
  "language_info": {
   "codemirror_mode": {
    "name": "ipython",
    "version": 3
   },
   "file_extension": ".py",
   "mimetype": "text/x-python",
   "name": "python",
   "nbconvert_exporter": "python",
   "pygments_lexer": "ipython3",
   "version": "3.7.3"
  }
 },
 "nbformat": 4,
 "nbformat_minor": 2
}
