{
 "cells": [
  {
   "cell_type": "code",
<<<<<<< HEAD
   "execution_count": 1,
=======
   "execution_count": 200,
>>>>>>> 32e568bacb330b9c8924b86684e8781dd70e3b11
   "metadata": {},
   "outputs": [],
   "source": [
    "priorities = [1,1,9,8,1,1]\n",
    "location = 0"
   ]
  },
  {
   "cell_type": "code",
<<<<<<< HEAD
   "execution_count": 2,
=======
   "execution_count": 201,
>>>>>>> 32e568bacb330b9c8924b86684e8781dd70e3b11
   "metadata": {},
   "outputs": [],
   "source": [
    "def solution(priorities, location) :\n",
    "    answer = 0\n",
    "    queue = []\n",
    "\n",
    "    for i in range(len(priorities)) :\n",
    "        queue.append((i, priorities[i]))\n",
    "\n",
    "    while queue :\n",
    "        _location, value = queue.pop(0)\n",
    "        output = priorities.pop(0)\n",
    "\n",
    "        if len(priorities) > 0 and output < max(priorities) :\n",
    "            queue.append((_location, value))\n",
    "            priorities.append(output)\n",
    "        else :\n",
    "            answer += 1\n",
    "\n",
    "            if _location == location :\n",
    "                break\n",
    "    \n",
    "    return answer"
   ]
  },
  {
   "cell_type": "code",
<<<<<<< HEAD
   "execution_count": 3,
=======
   "execution_count": 202,
>>>>>>> 32e568bacb330b9c8924b86684e8781dd70e3b11
   "metadata": {},
   "outputs": [
    {
     "data": {
      "text/plain": [
       "5"
      ]
     },
<<<<<<< HEAD
     "execution_count": 3,
=======
     "execution_count": 202,
>>>>>>> 32e568bacb330b9c8924b86684e8781dd70e3b11
     "metadata": {},
     "output_type": "execute_result"
    }
   ],
   "source": [
    "solution(priorities, location)"
   ]
  },
  {
   "cell_type": "code",
   "execution_count": null,
   "metadata": {},
   "outputs": [],
   "source": []
  }
 ],
 "metadata": {
  "kernelspec": {
   "display_name": "Python 3",
   "language": "python",
   "name": "python3"
  },
  "language_info": {
   "codemirror_mode": {
    "name": "ipython",
    "version": 3
   },
   "file_extension": ".py",
   "mimetype": "text/x-python",
   "name": "python",
   "nbconvert_exporter": "python",
   "pygments_lexer": "ipython3",
<<<<<<< HEAD
   "version": "3.7.3"
=======
   "version": "3.5.2"
>>>>>>> 32e568bacb330b9c8924b86684e8781dd70e3b11
  }
 },
 "nbformat": 4,
 "nbformat_minor": 2
}
