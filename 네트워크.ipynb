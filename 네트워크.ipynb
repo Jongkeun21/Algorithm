{
 "cells": [
  {
   "cell_type": "code",
   "execution_count": 389,
   "metadata": {},
   "outputs": [],
   "source": [
    "n = 3\n",
    "computers = [[1,1,0],[1,1,0],[0,0,1]]"
   ]
  },
  {
   "cell_type": "code",
   "execution_count": 390,
   "metadata": {},
   "outputs": [
    {
     "name": "stdout",
     "output_type": "stream",
     "text": [
      "[[False, False, False], [False, False, False], [False, False, False]]\n"
     ]
    }
   ],
   "source": [
    "visit = [[False for col in range(len(computers))] for col in range(n)]\n",
    "print(visit)"
   ]
  },
  {
   "cell_type": "code",
   "execution_count": 391,
   "metadata": {},
   "outputs": [],
   "source": [
    "def solution(n, computers) :\n",
    "    result = [0]\n",
    "    visit = [[False for col in range(len(computers))] for col in range(n)]\n",
    "    def DFS(i, result) :\n",
    "        if i == n :\n",
    "            return\n",
    "\n",
    "        else :\n",
    "            visit[i][i] = True\n",
    "\n",
    "            for cnt in range(0, n) :\n",
    "                if visit[i][cnt] != True and computers[i][cnt] == 1:\n",
    "                    visit[i][cnt] = True\n",
    "                    visit[cnt][i] = True\n",
    "                    result[0] += 1\n",
    "\n",
    "            i += 1\n",
    "            DFS(i, result)\n",
    "            \n",
    "    DFS(0, result)\n",
    "    answer = n - result[0]\n",
    "    return answer"
   ]
  },
  {
   "cell_type": "code",
   "execution_count": 392,
   "metadata": {},
   "outputs": [
    {
     "data": {
      "text/plain": [
       "2"
      ]
     },
     "execution_count": 392,
     "metadata": {},
     "output_type": "execute_result"
    }
   ],
   "source": [
    "solution(n, computers)"
   ]
  },
  {
   "cell_type": "code",
   "execution_count": 330,
   "metadata": {},
   "outputs": [
    {
     "name": "stdout",
     "output_type": "stream",
     "text": [
      "[[True, True, False], [True, True, True], [False, True, True]]\n"
     ]
    }
   ],
   "source": [
    "print(visit)"
   ]
  },
  {
   "cell_type": "code",
   "execution_count": null,
   "metadata": {},
   "outputs": [],
   "source": []
  }
 ],
 "metadata": {
  "kernelspec": {
   "display_name": "Python 3",
   "language": "python",
   "name": "python3"
  },
  "language_info": {
   "codemirror_mode": {
    "name": "ipython",
    "version": 3
   },
   "file_extension": ".py",
   "mimetype": "text/x-python",
   "name": "python",
   "nbconvert_exporter": "python",
   "pygments_lexer": "ipython3",
   "version": "3.5.2"
  }
 },
 "nbformat": 4,
 "nbformat_minor": 2
}
