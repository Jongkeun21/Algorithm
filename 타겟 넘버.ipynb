{
 "cells": [
  {
   "cell_type": "code",
   "execution_count": 22,
   "metadata": {},
   "outputs": [],
   "source": [
    "import numpy as np\n",
    "from itertools import permutations"
   ]
  },
  {
   "cell_type": "code",
   "execution_count": 23,
   "metadata": {},
   "outputs": [],
   "source": [
    "numbers = [1,1,1,1,1]\n",
    "target = 3"
   ]
  },
  {
   "cell_type": "code",
   "execution_count": 24,
   "metadata": {},
   "outputs": [],
   "source": [
    "operator = [-1, +1]"
   ]
  },
  {
   "cell_type": "code",
   "execution_count": 9,
   "metadata": {},
   "outputs": [],
   "source": [
    "count = pow(2, len(numbers))"
   ]
  },
  {
   "cell_type": "code",
   "execution_count": 10,
   "metadata": {},
   "outputs": [
    {
     "name": "stdout",
     "output_type": "stream",
     "text": [
      "32\n"
     ]
    }
   ],
   "source": [
    "print(count)"
   ]
  },
  {
   "cell_type": "code",
   "execution_count": 131,
   "metadata": {},
   "outputs": [],
   "source": [
    "num = 0\n",
    "operations = []\n",
    "while num < count :\n",
    "    randOp = np.random.choice(operator, size=len(numbers), replace=True)\n",
    "    randOp = list(randOp)\n",
    "    if not randOp in operations :\n",
    "        operations.append(randOp)\n",
    "        num += 1    "
   ]
  },
  {
   "cell_type": "code",
   "execution_count": 132,
   "metadata": {},
   "outputs": [
    {
     "name": "stdout",
     "output_type": "stream",
     "text": [
      "[[-1, -1, 1, -1, 1], [1, 1, -1, 1, 1], [-1, -1, 1, 1, -1], [-1, -1, -1, -1, 1], [1, -1, -1, 1, -1], [-1, 1, 1, -1, -1], [1, 1, -1, 1, -1], [1, 1, -1, -1, -1], [1, 1, -1, -1, 1], [1, 1, 1, 1, -1], [1, 1, 1, 1, 1], [-1, 1, -1, 1, -1], [-1, -1, 1, -1, -1], [1, 1, 1, -1, -1], [-1, 1, -1, -1, 1], [1, -1, -1, 1, 1], [-1, 1, -1, 1, 1], [-1, -1, -1, 1, -1], [-1, -1, -1, -1, -1], [1, -1, -1, -1, 1], [-1, 1, 1, -1, 1], [1, -1, 1, 1, -1], [-1, -1, 1, 1, 1], [-1, 1, 1, 1, -1], [-1, 1, -1, -1, -1], [-1, -1, -1, 1, 1], [1, -1, 1, 1, 1], [1, -1, 1, -1, 1], [-1, 1, 1, 1, 1], [1, 1, 1, -1, 1], [1, -1, 1, -1, -1], [1, -1, -1, -1, -1]]\n"
     ]
    }
   ],
   "source": [
    "print(operations)"
   ]
  },
  {
   "cell_type": "code",
   "execution_count": 133,
   "metadata": {},
   "outputs": [],
   "source": [
    "result = 0\n",
    "for i in range(len(operations)) :\n",
    "    if np.matmul(operations[i], numbers) == target :\n",
    "        result += 1"
   ]
  },
  {
   "cell_type": "code",
   "execution_count": 134,
   "metadata": {},
   "outputs": [
    {
     "name": "stdout",
     "output_type": "stream",
     "text": [
      "5\n"
     ]
    }
   ],
   "source": [
    "print(result)"
   ]
  },
  {
   "cell_type": "code",
   "execution_count": 4,
   "metadata": {},
   "outputs": [],
   "source": [
    "import numpy as np\n",
    "\n",
    "def makeOp(numbers, count) :\n",
    "    num = 0\n",
    "    operator = [-1, +1]\n",
    "    operations = []\n",
    "    while num < count :\n",
    "        randOp = np.random.choice(operator, size=len(numbers), replace=True)\n",
    "        randOp = list(randOp)\n",
    "        if not randOp in operations :\n",
    "            operations.append(randOp)\n",
    "            num += 1\n",
    "            \n",
    "    return operations\n",
    "\n",
    "def solution(numbers, target) :\n",
    "    answer = 0\n",
    "    count = pow(2, len(numbers))\n",
    "    \n",
    "    operations = makeOp(numbers, count)\n",
    "    \n",
    "    for i in range(len(operations)) :\n",
    "        if np.matmul(operations[i], numbers) == target :\n",
    "            answer += 1\n",
    "            \n",
    "    return answer"
   ]
  },
  {
   "cell_type": "code",
   "execution_count": 5,
   "metadata": {},
   "outputs": [
    {
     "data": {
      "text/plain": [
       "5"
      ]
     },
     "execution_count": 5,
     "metadata": {},
     "output_type": "execute_result"
    }
   ],
   "source": [
    "solution(numbers, 3)"
   ]
  },
  {
   "cell_type": "code",
   "execution_count": null,
   "metadata": {},
   "outputs": [],
   "source": []
  }
 ],
 "metadata": {
  "kernelspec": {
   "display_name": "Python 3",
   "language": "python",
   "name": "python3"
  },
  "language_info": {
   "codemirror_mode": {
    "name": "ipython",
    "version": 3
   },
   "file_extension": ".py",
   "mimetype": "text/x-python",
   "name": "python",
   "nbconvert_exporter": "python",
   "pygments_lexer": "ipython3",
   "version": "3.5.2"
  }
 },
 "nbformat": 4,
 "nbformat_minor": 2
}
