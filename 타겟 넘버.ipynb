{
 "cells": [
  {
   "cell_type": "code",
   "execution_count": 71,
   "metadata": {},
   "outputs": [],
   "source": [
    "import numpy as np"
   ]
  },
  {
   "cell_type": "code",
   "execution_count": 80,
   "metadata": {},
   "outputs": [],
   "source": [
    "numbers = [1,2,3,4,5]\n",
    "# numbers = [1 for col in range(20)]\n",
    "target = 3"
   ]
  },
  {
   "cell_type": "code",
   "execution_count": 81,
   "metadata": {},
   "outputs": [],
   "source": [
    "operator = [-1, +1]"
   ]
  },
  {
   "cell_type": "code",
   "execution_count": 82,
   "metadata": {},
   "outputs": [
    {
     "name": "stdout",
     "output_type": "stream",
     "text": [
      "32\n"
     ]
    }
   ],
   "source": [
    "count = pow(2, len(numbers))\n",
    "print(count)"
   ]
  },
  {
   "cell_type": "code",
   "execution_count": 4,
   "metadata": {},
   "outputs": [],
   "source": [
    "import numpy as np\n",
    "\n",
    "def makeOp(numbers, count) :\n",
    "    num = 0\n",
    "    operator = [-1, +1]\n",
    "    operations = []\n",
    "    while num < count :\n",
    "        randOp = np.random.choice(operator, size=len(numbers), replace=True)\n",
    "        randOp = list(randOp)\n",
    "        if not randOp in operations :\n",
    "            operations.append(randOp)\n",
    "            num += 1\n",
    "            \n",
    "    return operations\n",
    "\n",
    "def solution(numbers, target) :\n",
    "    answer = 0\n",
    "    count = pow(2, len(numbers))\n",
    "    \n",
    "    operations = makeOp(numbers, count)\n",
    "    \n",
    "    for i in range(len(operations)) :\n",
    "        if np.matmul(operations[i], numbers) == target :\n",
    "            answer += 1\n",
    "            \n",
    "    return answer"
   ]
  },
  {
   "cell_type": "code",
   "execution_count": null,
   "metadata": {},
   "outputs": [],
   "source": []
  }
 ],
 "metadata": {
  "kernelspec": {
   "display_name": "Python 3",
   "language": "python",
   "name": "python3"
  },
  "language_info": {
   "codemirror_mode": {
    "name": "ipython",
    "version": 3
   },
   "file_extension": ".py",
   "mimetype": "text/x-python",
   "name": "python",
   "nbconvert_exporter": "python",
   "pygments_lexer": "ipython3",
   "version": "3.7.0"
  }
 },
 "nbformat": 4,
 "nbformat_minor": 2
}
