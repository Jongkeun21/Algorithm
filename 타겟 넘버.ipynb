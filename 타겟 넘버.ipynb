{
 "cells": [
  {
   "cell_type": "code",
   "execution_count": 66,
   "metadata": {},
   "outputs": [],
   "source": [
    "import numpy as np"
   ]
  },
  {
   "cell_type": "code",
   "execution_count": 67,
   "metadata": {},
   "outputs": [],
   "source": [
    "numbers = [1,2,3,4,5]\n",
    "# numbers = [1 for col in range(20)]\n",
    "target = 3"
   ]
  },
  {
   "cell_type": "code",
   "execution_count": 68,
   "metadata": {},
   "outputs": [],
   "source": [
    "operator = [-1, +1]"
   ]
  },
  {
   "cell_type": "code",
   "execution_count": 69,
   "metadata": {},
   "outputs": [],
   "source": [
    "kinds = [[] for col in range(len(numbers))]\n",
    "for i in range(len(numbers)) :\n",
    "    for j in range(len(operator)) :\n",
    "        kinds[i].append(numbers[i]*operator[j])"
   ]
  },
  {
   "cell_type": "code",
   "execution_count": 78,
   "metadata": {},
   "outputs": [
    {
     "name": "stdout",
     "output_type": "stream",
     "text": [
      "[[-1, 1], [-2, 2], [-3, 3], [-4, 4], [-5, 5]]\n"
     ]
    }
   ],
   "source": [
    "print(kinds)"
   ]
  },
  {
   "cell_type": "code",
   "execution_count": 121,
   "metadata": {},
   "outputs": [
    {
     "name": "stdout",
     "output_type": "stream",
     "text": [
      "[[False, False], [False, False], [False, False], [False, False], [False, False]]\n"
     ]
    }
   ],
   "source": [
    "visit = [[False for col in range(len(operator))] for row in range(len(numbers))]\n",
    "\n",
    "print(visit)"
   ]
  },
  {
   "cell_type": "code",
   "execution_count": 122,
   "metadata": {},
   "outputs": [],
   "source": [
    "def DFS(i, j, k) :\n",
    "    if i == len(numbers) :\n",
    "        i = 0\n",
    "        \n",
    "    visit[i][j] = True\n",
    "    k += kinds[i][j]\n",
    "    result.append(k)\n",
    "    print(\"visit[i][j]: \", kinds[i][j], \"  --- TRUE\")\n",
    "    \n",
    "    if visit[i][j] == True :\n",
    "        i += 1\n",
    "        j = np.random.randint(2, size=1)\n",
    "        print(\"i: \", i, \"   j: \", j, \"   k: \", k)\n",
    "        DFS(i, j[0], k)"
   ]
  },
  {
   "cell_type": "code",
   "execution_count": 123,
   "metadata": {},
   "outputs": [
    {
     "name": "stdout",
     "output_type": "stream",
     "text": [
      "visit[i][j]:  -1   --- TRUE\n",
      "i:  1    j:  [1]    k:  -1\n",
      "visit[i][j]:  2   --- TRUE\n",
      "i:  2    j:  [1]    k:  1\n",
      "visit[i][j]:  3   --- TRUE\n",
      "i:  3    j:  [1]    k:  4\n",
      "visit[i][j]:  4   --- TRUE\n",
      "i:  4    j:  [0]    k:  8\n",
      "visit[i][j]:  -5   --- TRUE\n",
      "i:  5    j:  [0]    k:  3\n",
      "===========================================\n",
      "k:  3\n"
     ]
    }
   ],
   "source": [
    "DFS(0,0,0)"
   ]
  },
  {
   "cell_type": "code",
   "execution_count": 124,
   "metadata": {},
   "outputs": [
    {
     "name": "stdout",
     "output_type": "stream",
     "text": [
      "[[True, False], [False, True], [False, True], [False, True], [True, False]]\n"
     ]
    }
   ],
   "source": [
    "print(visit)"
   ]
  },
  {
   "cell_type": "code",
   "execution_count": null,
   "metadata": {},
   "outputs": [],
   "source": [
    "# i -> -1~-5, 1~5\n",
    "# j -> 0, 1\n",
    "def DFS(i, j) :\n",
    "    kinds[i][j] = True\n",
    "    \n",
    "    for k in range(len())"
   ]
  },
  {
   "cell_type": "code",
   "execution_count": 82,
   "metadata": {},
   "outputs": [
    {
     "name": "stdout",
     "output_type": "stream",
     "text": [
      "32\n"
     ]
    }
   ],
   "source": [
    "count = pow(2, len(numbers))\n",
    "print(count)"
   ]
  },
  {
   "cell_type": "code",
   "execution_count": null,
   "metadata": {},
   "outputs": [],
   "source": []
  },
  {
   "cell_type": "code",
   "execution_count": 4,
   "metadata": {},
   "outputs": [],
   "source": [
    "import numpy as np\n",
    "\n",
    "def makeOp(numbers, count) :\n",
    "    num = 0\n",
    "    operator = [-1, +1]\n",
    "    operations = []\n",
    "    while num < count :\n",
    "        randOp = np.random.choice(operator, size=len(numbers), replace=True)\n",
    "        randOp = list(randOp)\n",
    "        if not randOp in operations :\n",
    "            operations.append(randOp)\n",
    "            num += 1\n",
    "            \n",
    "    return operations\n",
    "\n",
    "def solution(numbers, target) :\n",
    "    answer = 0\n",
    "    count = pow(2, len(numbers))\n",
    "    \n",
    "    operations = makeOp(numbers, count)\n",
    "    \n",
    "    for i in range(len(operations)) :\n",
    "        if np.matmul(operations[i], numbers) == target :\n",
    "            answer += 1\n",
    "            \n",
    "    return answer"
   ]
  },
  {
   "cell_type": "code",
   "execution_count": null,
   "metadata": {},
   "outputs": [],
   "source": []
  }
 ],
 "metadata": {
  "kernelspec": {
   "display_name": "Python 3",
   "language": "python",
   "name": "python3"
  },
  "language_info": {
   "codemirror_mode": {
    "name": "ipython",
    "version": 3
   },
   "file_extension": ".py",
   "mimetype": "text/x-python",
   "name": "python",
   "nbconvert_exporter": "python",
   "pygments_lexer": "ipython3",
   "version": "3.5.2"
  }
 },
 "nbformat": 4,
 "nbformat_minor": 2
}
