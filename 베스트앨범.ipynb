{
 "cells": [
  {
   "cell_type": "code",
   "execution_count": 292,
   "metadata": {},
   "outputs": [],
   "source": [
    "genres = [\"classic\", \"pop\", \"classic\", \"classic\", \"pop\"]\n",
    "plays = [500, 600, 150, 800, 2500]\n",
    "genres = [\"classic\", \"pop\", \"classic\", \"classic\", \"pop\", \"pop\"]\n",
    "plays = [500, 700, 150, 800, 2500, 700]\n",
    "genres = [\"classic\", \"classic\", \"pop\", \"pop\", \"pop\", \"pop\", \"classic\", \"pop\", \"rock\", \"rock\"]\n",
    "plays = [500, 1000, 200, 100, 700, 500, 200, 1000, 700, 1000]"
   ]
  },
  {
   "cell_type": "code",
   "execution_count": 293,
   "metadata": {},
   "outputs": [],
   "source": [
    "def solution(genres, plays):\n",
    "    answer = []\n",
    "    albums = []\n",
    "    kind = 0\n",
    "    num = 0\n",
    "    count = 0\n",
    "    val = 1\n",
    "\n",
    "    for i in range(len(genres)) :\n",
    "        albums.append([genres[i], plays[i], i])\n",
    "        \n",
    "    albums.sort()\n",
    "    \n",
    "    for i in range(len(albums)-1) :\n",
    "        if albums[i][0] != albums[i-1][0] :\n",
    "            kind += 1\n",
    "\n",
    "    diff = [[0 for col in range(kind)] for row in range(kind)]\n",
    "    diff[0][0] = albums[0][1]\n",
    "\n",
    "    for k in range(len(albums)-1) :\n",
    "        if albums[k][0] != albums[k+1][0] :\n",
    "            num += 1\n",
    "\n",
    "        diff[num][0] += albums[k+1][1]\n",
    "        diff[num][1] = albums[k+1][0]\n",
    "\n",
    "    diff.sort() \n",
    "    \n",
    "    while count < len(diff)*2 :\n",
    "        song = 0\n",
    "        while song < 2 :\n",
    "            if albums[len(albums)-val-song][1] != albums[len(albums)-val-song-1][1] :\n",
    "                answer.append(albums[len(albums)-val-song][2])\n",
    "            else :\n",
    "                if albums[len(albums)-val-song][2] < albums[len(albums)-val-song-1][2] :\n",
    "                    answer.append(albums[len(albums)-val-song][2])\n",
    "                else :\n",
    "                    answer.append(albums[len(albums)-val-song-1][2])\n",
    "            song += 1\n",
    "        count += 1\n",
    "#         for i in range(2) :\n",
    "#             answer.append(albums[len(albums)-val-i][2])\n",
    "#             count += 1\n",
    "\n",
    "        while albums[len(albums)-val][0] == albums[len(albums)-val-1][0] :\n",
    "            val += 1\n",
    "        val += 1\n",
    "\n",
    "        count += 1\n",
    "    \n",
    "    return answer"
   ]
  },
  {
   "cell_type": "code",
   "execution_count": 294,
   "metadata": {},
   "outputs": [
    {
     "name": "stdout",
     "output_type": "stream",
     "text": [
      "[9, 8, 7, 4, 1, 0]\n"
     ]
    }
   ],
   "source": [
    "print(solution(genres, plays))"
   ]
  },
  {
   "cell_type": "code",
   "execution_count": 282,
   "metadata": {},
   "outputs": [],
   "source": [
    "genres = [\"classic\", \"pop\", \"classic\", \"classic\", \"pop\"]\n",
    "plays = [500, 600, 150, 800, 2500]\n",
    "# genres = [\"classic\", \"pop\", \"classic\", \"classic\", \"pop\", \"pop\"]\n",
    "# plays = [500, 700, 150, 800, 2500, 700]"
   ]
  },
  {
   "cell_type": "code",
   "execution_count": 295,
   "metadata": {},
   "outputs": [
    {
     "name": "stdout",
     "output_type": "stream",
     "text": [
      "[['classic', 500, 0], ['classic', 1000, 1], ['pop', 200, 2], ['pop', 100, 3], ['pop', 700, 4], ['pop', 500, 5], ['classic', 200, 6], ['pop', 1000, 7], ['rock', 700, 8], ['rock', 1000, 9]]\n"
     ]
    }
   ],
   "source": [
    "albums = []\n",
    "\n",
    "for i in range(len(genres)) :\n",
    "    albums.append([genres[i], plays[i], i])\n",
    "    \n",
    "print(albums)"
   ]
  },
  {
   "cell_type": "code",
   "execution_count": 296,
   "metadata": {},
   "outputs": [
    {
     "name": "stdout",
     "output_type": "stream",
     "text": [
      "[['classic', 200, 6], ['classic', 500, 0], ['classic', 1000, 1], ['pop', 100, 3], ['pop', 200, 2], ['pop', 500, 5], ['pop', 700, 4], ['pop', 1000, 7], ['rock', 700, 8], ['rock', 1000, 9]]\n"
     ]
    }
   ],
   "source": [
    "albums.sort()\n",
    "print(albums)"
   ]
  },
  {
   "cell_type": "code",
   "execution_count": 297,
   "metadata": {},
   "outputs": [
    {
     "name": "stdout",
     "output_type": "stream",
     "text": [
      "3\n"
     ]
    }
   ],
   "source": [
    "kind = 0\n",
    "\n",
    "for i in range(len(albums)-1) :\n",
    "    if albums[i][0] != albums[i-1][0] :\n",
    "        kind += 1\n",
    "        \n",
    "print(kind)"
   ]
  },
  {
   "cell_type": "code",
   "execution_count": 303,
   "metadata": {},
   "outputs": [
    {
     "name": "stdout",
     "output_type": "stream",
     "text": [
      "[[1700, 'classic'], [1700, 'rock'], [2500, 'pop']]\n"
     ]
    }
   ],
   "source": [
    "diff = [[0 for col in range(2)] for row in range(kind)]\n",
    "num = 0\n",
    "diff[0][0] = albums[0][1]\n",
    "\n",
    "for k in range(len(albums)-1) :\n",
    "    if albums[k][0] != albums[k+1][0] :\n",
    "        num += 1\n",
    "        \n",
    "    diff[num][0] += albums[k+1][1]\n",
    "    diff[num][1] = albums[k+1][0]\n",
    "\n",
    "# print(diff)\n",
    "diff.sort()\n",
    "print(diff)"
   ]
  },
  {
   "cell_type": "code",
   "execution_count": 287,
   "metadata": {},
   "outputs": [],
   "source": [
    "# while song < 2 :\n",
    "#     if albums[len(albums)-val-song][1] != albums[len(albums)-val-song-1][1] :\n",
    "#         answer.append(albums[len(albums)-val-song][2])\n",
    "#     else :\n",
    "#         if albums[len(albums)-val-song][2] < albums[len(albums)-val-song-1][2] :\n",
    "#             answer.append(albums[len(albums)-val-song][2])\n",
    "#         else :\n",
    "#             answer.append(albums[len(albums)-val-song-1][2])\n",
    "#     song += 1\n",
    "#     count += 1"
   ]
  },
  {
   "cell_type": "code",
   "execution_count": 288,
   "metadata": {},
   "outputs": [
    {
     "name": "stdout",
     "output_type": "stream",
     "text": [
      "4\n",
      "1\n",
      "====\n",
      "3\n",
      "0\n",
      "====\n",
      "====\n"
     ]
    }
   ],
   "source": [
    "count = 0\n",
    "val = 1\n",
    "while count < len(diff)*2 :\n",
    "    song = 0\n",
    "    while song < 2 :\n",
    "        if albums[len(albums)-val-song][1] != albums[len(albums)-val-song-1][1] :\n",
    "#             answer.append(albums[len(albums)-val-song][2])\n",
    "            print(albums[len(albums)-val-song][2])\n",
    "        else :\n",
    "            if albums[len(albums)-val-song][2] < albums[len(albums)-val-song-1][2] :\n",
    "#                 answer.append(albums[len(albums)-val-song][2])\n",
    "                print(albums[len(albums)-val-song][2])\n",
    "            else :\n",
    "#                 answer.append(albums[len(albums)-val-song-1][2])\n",
    "                print(albums[len(albums)-val-song-1][2])\n",
    "        song += 1\n",
    "    count += 1\n",
    "    \n",
    "    while albums[len(albums)-val][0] == albums[len(albums)-val-1][0] :\n",
    "        print(\"====\")\n",
    "        val += 1\n",
    "    val += 1\n",
    "            \n",
    "    count += 1"
   ]
  },
  {
   "cell_type": "code",
   "execution_count": 276,
   "metadata": {},
   "outputs": [
    {
     "name": "stdout",
     "output_type": "stream",
     "text": [
      "4\n",
      "5\n",
      "====\n",
      "====\n",
      "3\n",
      "0\n",
      "====\n",
      "====\n"
     ]
    }
   ],
   "source": [
    "count = 0\n",
    "val = 1\n",
    "while count < len(diff)*2 :\n",
    "    for i in range(2) :\n",
    "        print(albums[len(albums)-val-i][2])\n",
    "        count += 1\n",
    "    \n",
    "    while albums[len(albums)-val][0] == albums[len(albums)-val-1][0] :\n",
    "        print(\"====\")\n",
    "        val += 1\n",
    "    val += 1\n",
    "            \n",
    "    count += 1"
   ]
  },
  {
   "cell_type": "code",
   "execution_count": 211,
   "metadata": {},
   "outputs": [
    {
     "name": "stdout",
     "output_type": "stream",
     "text": [
      "4\n",
      "1\n",
      "======\n",
      "---------\n",
      "======\n"
     ]
    }
   ],
   "source": [
    "# count = 0\n",
    "# num = 1\n",
    "# while count < len(diff) :\n",
    "#     if albums[len(albums)-num-2][0] == albums[len(albums)-num-1][0] and count != 0:\n",
    "#         print(\"---------\")\n",
    "#         num += 1\n",
    "        \n",
    "#     else :\n",
    "#         for i in range(2) :\n",
    "#             print(albums[len(albums)-num-i][2])\n",
    "        \n",
    "#     num += 1\n",
    "#     print(\"======\")\n",
    "#     count += 1\n",
    "# #     if count % 2 == 0 and count != 0:\n",
    "# #         if albums[len(albums)-1-count][0] == albums[len(albums)-1-count+1][0] :\n",
    "# #             count += 1\n",
    "    \n",
    "# #     print(albums[len(albums)-1-count][2])"
   ]
  },
  {
   "cell_type": "code",
   "execution_count": 139,
   "metadata": {},
   "outputs": [
    {
     "name": "stdout",
     "output_type": "stream",
     "text": [
      "4\n",
      "5\n",
      "3\n",
      "3\n"
     ]
    }
   ],
   "source": [
    "\n",
    "for k in range(len(diff)*2) :\n",
    "    if k % 2 == 0 and k != 0:\n",
    "        if albums[len(albums)-1-k][0] == albums[len(albums)-1-k+1][0] :\n",
    "            k += 1\n",
    "    \n",
    "    print(albums[len(albums)-1-k][2])"
   ]
  },
  {
   "cell_type": "code",
   "execution_count": 136,
   "metadata": {},
   "outputs": [
    {
     "name": "stdout",
     "output_type": "stream",
     "text": [
      "count:  0\n",
      "4\n",
      "count:  1\n",
      "count:  2\n",
      "1\n",
      "count:  3\n"
     ]
    }
   ],
   "source": [
    "count = 0\n",
    "for k in range(len(diff)*2) :\n",
    "    print(\"count: \", count)\n",
    "#     if count != 0 and count%2 == 0 and albums[len(albums)-1-k][0] == albums[len(albums)-1-k-1][0] :\n",
    "    if albums[len(albums)-1-k][0] == albums[len(albums)-1-k-1][0] and count%2 == 1 and count!=0:\n",
    "        print(\"222222\")\n",
    "        print(albums[len(albums)-1-k][0], albums[len(albums)-1-k-1][0])\n",
    "        k += 1\n",
    "#         print(k)\n",
    "    print(albums[len(albums)-1-k][2])\n",
    "    count += 1"
   ]
  },
  {
   "cell_type": "code",
   "execution_count": 86,
   "metadata": {},
   "outputs": [
    {
     "name": "stdout",
     "output_type": "stream",
     "text": [
      "4\n",
      "1\n"
     ]
    }
   ],
   "source": [
    "for j in range(len(albums)) : \n",
    "    if albums[len(albums)-1-j][0] == diff[len(diff)-1][1] and count < 2:\n",
    "        print(albums[len(albums)-1-j][2])\n",
    "    count += 1"
   ]
  },
  {
   "cell_type": "code",
   "execution_count": 69,
   "metadata": {},
   "outputs": [
    {
     "name": "stdout",
     "output_type": "stream",
     "text": [
      "[[1450, 'classic'], [3100, 'pop']]\n",
      "[[[150, 2], [500, 0], [800, 3]], [[600, 1], [2500, 4]]]\n",
      "1\n",
      "pop\n"
     ]
    }
   ],
   "source": [
    "diff = [[0 for col in range(kind)] for row in range(kind)]\n",
    "kinds = [[] for row in range(kind)]\n",
    "num = 0\n",
    "diff[0][0] = albums[0][1]\n",
    "kinds[0].append([albums[0][1], albums[0][2]])\n",
    "\n",
    "for k in range(len(albums)-1) :\n",
    "    if albums[k][0] != albums[k+1][0] :\n",
    "        num += 1\n",
    "        \n",
    "    diff[num][0] += albums[k+1][1]\n",
    "    diff[num][1] = albums[k+1][0]\n",
    "    kinds[num].append([albums[k+1][1], albums[k+1][2]])\n",
    "\n",
    "print(diff)\n",
    "diff.sort()\n",
    "\n",
    "max_index = 0\n",
    "\n",
    "for l in range(len(diff)-1) :\n",
    "    max = diff[l][0]\n",
    "    if max < diff[l+1][0] :\n",
    "        max = diff[l+1][0]\n",
    "        max_index = l+1\n",
    "\n",
    "print(kinds)\n",
    "print(max_index)\n",
    "\n",
    "max_genres = diff[max_index][1]\n",
    "print(max_genres)"
   ]
  },
  {
   "cell_type": "code",
   "execution_count": 56,
   "metadata": {},
   "outputs": [
    {
     "name": "stdout",
     "output_type": "stream",
     "text": [
      "[[], []]\n",
      "['sample']\n"
     ]
    }
   ],
   "source": [
    "sample = [[] for row in range(kind)]\n",
    "\n",
    "print(sample)\n",
    "\n",
    "sample[0].append('sample')\n",
    "print(sample[0])"
   ]
  }
 ],
 "metadata": {
  "kernelspec": {
   "display_name": "Python 3",
   "language": "python",
   "name": "python3"
  },
  "language_info": {
   "codemirror_mode": {
    "name": "ipython",
    "version": 3
   },
   "file_extension": ".py",
   "mimetype": "text/x-python",
   "name": "python",
   "nbconvert_exporter": "python",
   "pygments_lexer": "ipython3",
   "version": "3.5.2"
  }
 },
 "nbformat": 4,
 "nbformat_minor": 2
}
