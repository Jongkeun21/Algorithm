{
 "cells": [
  {
   "cell_type": "code",
   "execution_count": 298,
   "metadata": {},
   "outputs": [],
   "source": [
    "genres = [\"classic\", \"pop\", \"classic\", \"classic\", \"pop\"]\n",
    "plays = [500, 600, 150, 800, 2500]\n",
    "genres = [\"classic\", \"pop\", \"classic\", \"classic\", \"pop\", \"pop\"]\n",
    "plays = [500, 700, 150, 800, 2500, 700]\n",
    "# genres = [\"classic\", \"classic\", \"pop\", \"pop\", \"pop\", \"pop\", \"classic\", \"pop\", \"rock\", \"rock\"]\n",
    "# plays = [500, 1000, 200, 100, 700, 500, 200, 1000, 700, 1000]"
   ]
  },
  {
   "cell_type": "code",
   "execution_count": 299,
   "metadata": {},
   "outputs": [],
   "source": [
    "def solution(genres, plays):\n",
    "    answer = []\n",
    "    albums = []\n",
    "\n",
    "    for i in range(len(genres)) :\n",
    "        albums.append([genres[i], plays[i], i])\n",
    "    \n",
    "    albums.sort()\n",
    "    \n",
    "    kind = 0\n",
    "\n",
    "    for i in range(len(albums)-1) :\n",
    "        if albums[i][0] != albums[i-1][0] :\n",
    "            kind += 1\n",
    "\n",
    "    diff = [[0 for col in range(2)] for row in range(kind)]\n",
    "    num = 0\n",
    "    diff[0][0] = albums[0][1]\n",
    "\n",
    "    for k in range(len(albums)-1) :\n",
    "        if albums[k][0] != albums[k+1][0] :\n",
    "            num += 1\n",
    "\n",
    "        diff[num][0] += albums[k+1][1]\n",
    "        diff[num][1] = albums[k+1][0]\n",
    "\n",
    "    diff.sort()\n",
    "    \n",
    "    kinds = [[] for row in range(kind)]\n",
    "\n",
    "    x = 0\n",
    "    for i in range(len(albums)) :\n",
    "        kinds[x].append(albums[i])\n",
    "        if i < len(albums)-1 :\n",
    "            if albums[i][0] != albums[i+1][0] :\n",
    "                x += 1\n",
    "\n",
    "    result = [[] for row in range(kind)]\n",
    "    data = 0\n",
    "    findMin = 0\n",
    "    count = []\n",
    "    sample = []\n",
    "\n",
    "    for cnt in range(kind) :\n",
    "        for j in range(kind) :\n",
    "            if diff[kind-cnt-1][1] == kinds[j][0][0] :\n",
    "                if len(kinds[j]) > 1 :\n",
    "                    for k in range(2) :\n",
    "                        if kinds[j][len(kinds[j])-1-k][1] != kinds[j][len(kinds[j])-2-k][1]:\n",
    "                            result[cnt].append(kinds[j][len(kinds[j])-1-k][2])\n",
    "                        else :\n",
    "                            if k == 1 :\n",
    "                                for i in range(len(kinds[j])-1) :\n",
    "                                    if kinds[j][len(kinds[j])-i-1][1] == kinds[j][len(kinds[j])-(i+1)-1][1] :\n",
    "                                        findMin = kinds[j][len(kinds[j])-i-1][2]\n",
    "                                        if findMin > kinds[j][len(kinds[j])-(i+1)-1][2] :\n",
    "                                            findMin = kinds[j][len(kinds[j])-(i+1)-1][2]\n",
    "                                result[cnt].append(findMin)\n",
    "                            else :\n",
    "                                for i in range(len(kinds[j])-1) :\n",
    "                                    if kinds[j][i][1] == kinds[j][i+1][1] :\n",
    "                                        sample.append(kinds[j][i][2])\n",
    "                                        count.append(i)\n",
    "                                sample.append(kinds[j][count[len(count)-1]+1][2])\n",
    "                                result[cnt].append(sample[0])\n",
    "                                result[cnt].append(sample[1])\n",
    "                                break;\n",
    "                else :\n",
    "                    result[cnt].append(kinds[j][len(kinds[j])-1][2])\n",
    "\n",
    "    for n in range(kind) :\n",
    "        answer += result[n]\n",
    "        \n",
    "    return answer"
   ]
  },
  {
   "cell_type": "code",
   "execution_count": 300,
   "metadata": {},
   "outputs": [
    {
     "name": "stdout",
     "output_type": "stream",
     "text": [
      "[4, 1, 3, 0]\n"
     ]
    }
   ],
   "source": [
    "print(solution(genres, plays))"
   ]
  },
  {
   "cell_type": "code",
   "execution_count": 349,
   "metadata": {},
   "outputs": [],
   "source": [
    "# genres = [\"classic\", \"pop\", \"classic\", \"classic\", \"pop\"]\n",
    "# plays = [500, 600, 150, 800, 2500]\n",
    "# genres = [\"classic\", \"pop\", \"classic\", \"classic\", \"pop\", \"pop\", \"pop\"]\n",
    "# plays = [500, 700, 150, 800, 700, 700, 1200]\n",
    "# genres = [\"pop\", \"pop\", \"classic\", \"classic\", \"pop\", \"pop\", \"pop\"]\n",
    "# plays = [900, 700, 150, 800, 700, 700, 200]\n",
    "# genres = [\"classic\", \"classic\", \"pop\", \"pop\", \"pop\", \"pop\", \"classic\", \"pop\", \"rock\", \"rock\", \"kpop\"]\n",
    "# plays = [1000, 1000, 200, 100, 700, 500, 200, 1000, 700, 1000, 7000]\n",
    "genres = [\"classic\", \"classic\", \"pop\", \"pop\", \"pop\", \"pop\", \"classic\", \"rock\", \"rock\", \"pop\", \"pop\"]\n",
    "plays = [500, 1000, 200, 100, 700, 500, 200, 700, 1000, 700, 700]\n",
    "# genres = [\"classic\", \"pop\", \"classic\", \"classic\", \"pop\", \"pop\"]\n",
    "# plays = [500, 700, 150, 800, 2500, 700]"
   ]
  },
  {
   "cell_type": "code",
   "execution_count": 363,
   "metadata": {},
   "outputs": [],
   "source": [
    "genres = [\"classic\", \"pop\", \"classic\", \"pop\", \"classic\", \"classic\"]\n",
    "plays = [400,600,150,2500,500,500]"
   ]
  },
  {
   "cell_type": "code",
   "execution_count": 364,
   "metadata": {},
   "outputs": [
    {
     "name": "stdout",
     "output_type": "stream",
     "text": [
      "[['classic', 400, 0], ['pop', 600, 1], ['classic', 150, 2], ['pop', 2500, 3], ['classic', 500, 4], ['classic', 500, 5]]\n"
     ]
    }
   ],
   "source": [
    "albums = []\n",
    "\n",
    "for i in range(len(genres)) :\n",
    "    albums.append([genres[i], plays[i], i])\n",
    "    \n",
    "print(albums)"
   ]
  },
  {
   "cell_type": "code",
   "execution_count": 365,
   "metadata": {},
   "outputs": [
    {
     "name": "stdout",
     "output_type": "stream",
     "text": [
      "[['classic', 150, 2], ['classic', 400, 0], ['classic', 500, 4], ['classic', 500, 5], ['pop', 600, 1], ['pop', 2500, 3]]\n"
     ]
    }
   ],
   "source": [
    "albums.sort()\n",
    "print(albums)"
   ]
  },
  {
   "cell_type": "code",
   "execution_count": 366,
   "metadata": {},
   "outputs": [
    {
     "name": "stdout",
     "output_type": "stream",
     "text": [
      "2\n"
     ]
    }
   ],
   "source": [
    "kind = 0\n",
    "\n",
    "for i in range(len(albums)-1) :\n",
    "    if albums[i][0] != albums[i-1][0] :\n",
    "        kind += 1\n",
    "        \n",
    "print(kind)"
   ]
  },
  {
   "cell_type": "code",
   "execution_count": 367,
   "metadata": {},
   "outputs": [
    {
     "name": "stdout",
     "output_type": "stream",
     "text": [
      "[[1550, 'classic'], [3100, 'pop']]\n"
     ]
    }
   ],
   "source": [
    "diff = [[0 for col in range(2)] for row in range(kind)]\n",
    "num = 0\n",
    "diff[0][0] = albums[0][1]\n",
    "\n",
    "for k in range(len(albums)-1) :\n",
    "    if albums[k][0] != albums[k+1][0] :\n",
    "        num += 1\n",
    "        \n",
    "    diff[num][0] += albums[k+1][1]\n",
    "    diff[num][1] = albums[k+1][0]\n",
    "\n",
    "# print(diff)\n",
    "diff.sort()\n",
    "print(diff)"
   ]
  },
  {
   "cell_type": "code",
   "execution_count": 368,
   "metadata": {},
   "outputs": [
    {
     "name": "stdout",
     "output_type": "stream",
     "text": [
      "[[], []]\n",
      "[[['classic', 150, 2], ['classic', 400, 0], ['classic', 500, 4], ['classic', 500, 5]], [['pop', 600, 1], ['pop', 2500, 3]]]\n"
     ]
    }
   ],
   "source": [
    "kinds = [[] for row in range(kind)]\n",
    "print(kinds)\n",
    "\n",
    "x = 0\n",
    "for i in range(len(albums)) :\n",
    "    kinds[x].append(albums[i])\n",
    "    if i < len(albums)-1 :\n",
    "        if albums[i][0] != albums[i+1][0] :\n",
    "            x += 1\n",
    "\n",
    "print(kinds)"
   ]
  },
  {
   "cell_type": "code",
   "execution_count": 369,
   "metadata": {},
   "outputs": [
    {
     "name": "stdout",
     "output_type": "stream",
     "text": [
      "[]\n",
      "[]\n"
     ]
    }
   ],
   "source": [
    "sample = []\n",
    "count = []\n",
    "for i in range(len(kinds[1])-1) :\n",
    "    if kinds[1][i][1] == kinds[1][i+1][1] :\n",
    "        sample.append(kinds[1][i][2])\n",
    "        count.append(i)\n",
    "if len(count) > 0 :\n",
    "    sample.append(kinds[1][count[len(count)-1]+1][2])\n",
    "print(sample)\n",
    "print(count)\n",
    "\n",
    "findMin = 0"
   ]
  },
  {
   "cell_type": "code",
   "execution_count": 370,
   "metadata": {},
   "outputs": [],
   "source": [
    "# kinds[1].sort(reverse=True)\n",
    "# print(kinds[1])"
   ]
  },
  {
   "cell_type": "code",
   "execution_count": 371,
   "metadata": {},
   "outputs": [],
   "source": [
    "# min = 0\n",
    "\n",
    "# for k in range(2) :\n",
    "#     for i in range(len(kinds[1])-1) :\n",
    "#         if kinds[1][len(kinds[1])-i-1][1] == kinds[1][len(kinds[1])-(i+1)-1][1] :\n",
    "#             min = kinds[1][len(kinds[1])-i-1][2]\n",
    "#             if min > kinds[1][len(kinds[1])-(i+1)-1][2] :\n",
    "#                 min = kinds[1][len(kinds[1])-(i+1)-1][2]\n",
    "            \n",
    "#     print(min)"
   ]
  },
  {
   "cell_type": "code",
   "execution_count": 372,
   "metadata": {},
   "outputs": [],
   "source": [
    "# min = 0\n",
    "# for i in range(len(pop)-1) :\n",
    "#     if pop[len(pop)-i-1][1] == pop[len(pop)-(i+1)-1][1] :\n",
    "#         min = pop[len(pop)-i-1][2]\n",
    "#         if min > pop[len(pop)-(i+1)-1][2] :\n",
    "#             min = pop[len(pop)-(i+1)-1][2]\n",
    "            \n",
    "# print(min)"
   ]
  },
  {
   "cell_type": "code",
   "execution_count": 373,
   "metadata": {},
   "outputs": [],
   "source": [
    "# result = []\n",
    "\n",
    "# for i in range(len(kinds[1])-1) :\n",
    "#     while len(result) < 2 :\n",
    "#         if kinds[1][len(kinds[1])-1-i][1] != kinds[1][len(kinds[1])-1-(i+1)][1] :\n",
    "#             result.append(kinds[1][len(kinds[1])-1-i][2])\n",
    "#         else :\n",
    "#             min = pop[len(pop)-i-1][2]\n",
    "#             if min > pop[len(pop)-(i+1)-1][2] :\n",
    "#                 min = pop[len(pop)-(i+1)-1][2]\n",
    "#             result.append(min)"
   ]
  },
  {
   "cell_type": "code",
   "execution_count": 374,
   "metadata": {},
   "outputs": [],
   "source": [
    "# sample = []\n",
    "# num = 0\n",
    "\n",
    "# while len(sample) < 3 :\n",
    "#     sample.append(num)\n",
    "#     num += 1\n",
    "    \n",
    "# print(sample)"
   ]
  },
  {
   "cell_type": "code",
   "execution_count": 377,
   "metadata": {},
   "outputs": [],
   "source": [
    "# sample = []\n",
    "# count = []\n",
    "# for i in range(len(kinds[1])-1) :\n",
    "#     if kinds[1][i][1] == kinds[1][i+1][1] :\n",
    "#         sample.append(kinds[1][i][2])\n",
    "#         count.append(i)\n",
    "# sample.append(kinds[1][count[len(count)-1]+1][2])\n",
    "# print(sample)"
   ]
  },
  {
   "cell_type": "code",
   "execution_count": 376,
   "metadata": {},
   "outputs": [
    {
     "name": "stdout",
     "output_type": "stream",
     "text": [
      "[3, 1, 4, 5]\n"
     ]
    }
   ],
   "source": [
    "result = [[] for row in range(kind)]\n",
    "data = 0\n",
    "findMin = 0\n",
    "count = []\n",
    "sample = []\n",
    "\n",
    "for cnt in range(kind) :\n",
    "    for j in range(kind) :\n",
    "        if diff[kind-cnt-1][1] == kinds[j][0][0] :\n",
    "            if len(kinds[j]) > 1 :\n",
    "                for k in range(2) :\n",
    "                    if kinds[j][len(kinds[j])-1-k][1] != kinds[j][len(kinds[j])-2-k][1]:\n",
    "                        result[cnt].append(kinds[j][len(kinds[j])-1-k][2])\n",
    "                    else :\n",
    "                        if k == 1 :\n",
    "                            for i in range(len(kinds[j])-1) :\n",
    "                                if kinds[j][len(kinds[j])-i-1][1] == kinds[j][len(kinds[j])-(i+1)-1][1] :\n",
    "                                    findMin = kinds[j][len(kinds[j])-i-1][2]\n",
    "                                    if findMin > kinds[j][len(kinds[j])-(i+1)-1][2] :\n",
    "                                        findMin = kinds[j][len(kinds[j])-(i+1)-1][2]\n",
    "                            result[cnt].append(findMin)\n",
    "                        else :\n",
    "                            for i in range(len(kinds[j])-1) :\n",
    "                                if kinds[j][i][1] == kinds[j][i+1][1] :\n",
    "                                    sample.append(kinds[j][i][2])\n",
    "                                    count.append(i)\n",
    "                            sample.append(kinds[j][count[len(count)-1]+1][2])\n",
    "                            result[cnt].append(sample[0])\n",
    "                            result[cnt].append(sample[1])\n",
    "                            break;\n",
    "            else :\n",
    "                result[cnt].append(kinds[j][len(kinds[j])-1][2])\n",
    "\n",
    "answer = []\n",
    "for n in range(kind) :\n",
    "    answer += result[n]\n",
    "    \n",
    "print(answer)"
   ]
  },
  {
   "cell_type": "code",
   "execution_count": 194,
   "metadata": {},
   "outputs": [
    {
     "name": "stdout",
     "output_type": "stream",
     "text": [
      "1\n",
      "700\n",
      "[700, 700, 700, 2500]\n",
      "3\n"
     ]
    }
   ],
   "source": [
    "x = kinds[1].count(kinds[1][1])\n",
    "print(x)\n",
    "print(kinds[1][1][1])\n",
    "\n",
    "res = []\n",
    "for i in range(len(kinds[1])) :\n",
    "    res.append(kinds[1][i][1])\n",
    "    \n",
    "print(res)\n",
    "print(res.count(kinds[1][1][1]))"
   ]
  },
  {
   "cell_type": "code",
   "execution_count": 9,
   "metadata": {},
   "outputs": [
    {
     "name": "stdout",
     "output_type": "stream",
     "text": [
      "5\n",
      "=======================\n",
      "++++++++++++++++++++++++++++++++++++++++++++++++++++++++++++++++++++++++++++++++++++\n",
      "[4, 5, 3, 0]\n"
     ]
    }
   ],
   "source": [
    "result = [[] for row in range(kind)]\n",
    "data = 0\n",
    "\n",
    "for cnt in range(kind) :\n",
    "    for j in range(kind) :\n",
    "        if diff[kind-cnt-1][1] == kinds[j][0][0] :\n",
    "            if len(kinds[j]) > 1 :\n",
    "                for k in range(2) :\n",
    "                    if kinds[j][len(kinds[j])-1-k][1] != kinds[j][len(kinds[j])-2-k][1]:\n",
    "                        result[cnt].append(kinds[j][len(kinds[j])-1-k][2])\n",
    "                    else :\n",
    "                        if kinds[j][len(kinds[j])-1-k][2] < kinds[j][len(kinds[j])-2-k][2] :\n",
    "                            print(kinds[j][len(kinds[j])-1-k][2])\n",
    "                            result[cnt].append(kinds[j][len(kinds[j])-1-k][2])\n",
    "                            print(\"-----------------------\")\n",
    "                            if k == 0 :\n",
    "                                result[cnt].append(kinds[j][len(kinds[j])-2-k][2])\n",
    "                                break\n",
    "                        else :\n",
    "                            print(kinds[j][len(kinds[j])-2-k][2])\n",
    "                            result[cnt].append(kinds[j][len(kinds[j])-2-k][2])\n",
    "                            print(\"=======================\")\n",
    "                            if k == 0 :\n",
    "                                result[cnt].append(kinds[j][len(kinds[j])-1-k][2])\n",
    "                                break\n",
    "#                                 print(\"print: \", kinds[j][len(kinds[j])-1-k][2])\n",
    "            else :\n",
    "                result[cnt].append(kinds[j][len(kinds[j])-1][2])\n",
    "\n",
    "answer = []\n",
    "print(\"++++++++++++++++++++++++++++++++++++++++++++++++++++++++++++++++++++++++++++++++++++\")\n",
    "for n in range(kind) :\n",
    "    answer += result[n]\n",
    "    \n",
    "print(answer)"
   ]
  },
  {
   "cell_type": "code",
   "execution_count": 287,
   "metadata": {},
   "outputs": [],
   "source": [
    "# while song < 2 :\n",
    "#     if albums[len(albums)-val-song][1] != albums[len(albums)-val-song-1][1] :\n",
    "#         answer.append(albums[len(albums)-val-song][2])\n",
    "#     else :\n",
    "#         if albums[len(albums)-val-song][2] < albums[len(albums)-val-song-1][2] :\n",
    "#             answer.append(albums[len(albums)-val-song][2])\n",
    "#         else :\n",
    "#             answer.append(albums[len(albums)-val-song-1][2])\n",
    "#     song += 1\n",
    "#     count += 1"
   ]
  },
  {
   "cell_type": "code",
   "execution_count": 7,
   "metadata": {},
   "outputs": [
    {
     "name": "stdout",
     "output_type": "stream",
     "text": [
      "4\n",
      "5\n",
      "====\n",
      "====\n",
      "====\n",
      "3\n",
      "0\n",
      "====\n",
      "====\n"
     ]
    }
   ],
   "source": [
    "count = 0\n",
    "val = 1\n",
    "while count < len(diff)*2 :\n",
    "    song = 0\n",
    "    while song < 2 :\n",
    "        if albums[len(albums)-val-song][1] != albums[len(albums)-val-song-1][1] :\n",
    "#             answer.append(albums[len(albums)-val-song][2])\n",
    "            print(albums[len(albums)-val-song][2])\n",
    "        else :\n",
    "            if albums[len(albums)-val-song][2] < albums[len(albums)-val-song-1][2] :\n",
    "#                 answer.append(albums[len(albums)-val-song][2])\n",
    "                print(albums[len(albums)-val-song][2])\n",
    "            else :\n",
    "#                 answer.append(albums[len(albums)-val-song-1][2])\n",
    "                print(albums[len(albums)-val-song-1][2])\n",
    "        song += 1\n",
    "    count += 1\n",
    "    \n",
    "    while albums[len(albums)-val][0] == albums[len(albums)-val-1][0] :\n",
    "        print(\"====\")\n",
    "        val += 1\n",
    "    val += 1\n",
    "            \n",
    "    count += 1"
   ]
  },
  {
   "cell_type": "code",
   "execution_count": 276,
   "metadata": {},
   "outputs": [
    {
     "name": "stdout",
     "output_type": "stream",
     "text": [
      "4\n",
      "5\n",
      "====\n",
      "====\n",
      "3\n",
      "0\n",
      "====\n",
      "====\n"
     ]
    }
   ],
   "source": [
    "count = 0\n",
    "val = 1\n",
    "while count < len(diff)*2 :\n",
    "    for i in range(2) :\n",
    "        print(albums[len(albums)-val-i][2])\n",
    "        count += 1\n",
    "    \n",
    "    while albums[len(albums)-val][0] == albums[len(albums)-val-1][0] :\n",
    "        print(\"====\")\n",
    "        val += 1\n",
    "    val += 1\n",
    "            \n",
    "    count += 1"
   ]
  },
  {
   "cell_type": "code",
   "execution_count": 211,
   "metadata": {},
   "outputs": [
    {
     "name": "stdout",
     "output_type": "stream",
     "text": [
      "4\n",
      "1\n",
      "======\n",
      "---------\n",
      "======\n"
     ]
    }
   ],
   "source": [
    "# count = 0\n",
    "# num = 1\n",
    "# while count < len(diff) :\n",
    "#     if albums[len(albums)-num-2][0] == albums[len(albums)-num-1][0] and count != 0:\n",
    "#         print(\"---------\")\n",
    "#         num += 1\n",
    "        \n",
    "#     else :\n",
    "#         for i in range(2) :\n",
    "#             print(albums[len(albums)-num-i][2])\n",
    "        \n",
    "#     num += 1\n",
    "#     print(\"======\")\n",
    "#     count += 1\n",
    "# #     if count % 2 == 0 and count != 0:\n",
    "# #         if albums[len(albums)-1-count][0] == albums[len(albums)-1-count+1][0] :\n",
    "# #             count += 1\n",
    "    \n",
    "# #     print(albums[len(albums)-1-count][2])"
   ]
  },
  {
   "cell_type": "code",
   "execution_count": 139,
   "metadata": {},
   "outputs": [
    {
     "name": "stdout",
     "output_type": "stream",
     "text": [
      "4\n",
      "5\n",
      "3\n",
      "3\n"
     ]
    }
   ],
   "source": [
    "\n",
    "for k in range(len(diff)*2) :\n",
    "    if k % 2 == 0 and k != 0:\n",
    "        if albums[len(albums)-1-k][0] == albums[len(albums)-1-k+1][0] :\n",
    "            k += 1\n",
    "    \n",
    "    print(albums[len(albums)-1-k][2])"
   ]
  },
  {
   "cell_type": "code",
   "execution_count": 136,
   "metadata": {},
   "outputs": [
    {
     "name": "stdout",
     "output_type": "stream",
     "text": [
      "count:  0\n",
      "4\n",
      "count:  1\n",
      "count:  2\n",
      "1\n",
      "count:  3\n"
     ]
    }
   ],
   "source": [
    "count = 0\n",
    "for k in range(len(diff)*2) :\n",
    "    print(\"count: \", count)\n",
    "#     if count != 0 and count%2 == 0 and albums[len(albums)-1-k][0] == albums[len(albums)-1-k-1][0] :\n",
    "    if albums[len(albums)-1-k][0] == albums[len(albums)-1-k-1][0] and count%2 == 1 and count!=0:\n",
    "        print(\"222222\")\n",
    "        print(albums[len(albums)-1-k][0], albums[len(albums)-1-k-1][0])\n",
    "        k += 1\n",
    "#         print(k)\n",
    "    print(albums[len(albums)-1-k][2])\n",
    "    count += 1"
   ]
  },
  {
   "cell_type": "code",
   "execution_count": 86,
   "metadata": {},
   "outputs": [
    {
     "name": "stdout",
     "output_type": "stream",
     "text": [
      "4\n",
      "1\n"
     ]
    }
   ],
   "source": [
    "for j in range(len(albums)) : \n",
    "    if albums[len(albums)-1-j][0] == diff[len(diff)-1][1] and count < 2:\n",
    "        print(albums[len(albums)-1-j][2])\n",
    "    count += 1"
   ]
  },
  {
   "cell_type": "code",
   "execution_count": 69,
   "metadata": {},
   "outputs": [
    {
     "name": "stdout",
     "output_type": "stream",
     "text": [
      "[[1450, 'classic'], [3100, 'pop']]\n",
      "[[[150, 2], [500, 0], [800, 3]], [[600, 1], [2500, 4]]]\n",
      "1\n",
      "pop\n"
     ]
    }
   ],
   "source": [
    "diff = [[0 for col in range(kind)] for row in range(kind)]\n",
    "kinds = [[] for row in range(kind)]\n",
    "num = 0\n",
    "diff[0][0] = albums[0][1]\n",
    "kinds[0].append([albums[0][1], albums[0][2]])\n",
    "\n",
    "for k in range(len(albums)-1) :\n",
    "    if albums[k][0] != albums[k+1][0] :\n",
    "        num += 1\n",
    "        \n",
    "    diff[num][0] += albums[k+1][1]\n",
    "    diff[num][1] = albums[k+1][0]\n",
    "    kinds[num].append([albums[k+1][1], albums[k+1][2]])\n",
    "\n",
    "print(diff)\n",
    "diff.sort()\n",
    "\n",
    "max_index = 0\n",
    "\n",
    "for l in range(len(diff)-1) :\n",
    "    max = diff[l][0]\n",
    "    if max < diff[l+1][0] :\n",
    "        max = diff[l+1][0]\n",
    "        max_index = l+1\n",
    "\n",
    "print(kinds)\n",
    "print(max_index)\n",
    "\n",
    "max_genres = diff[max_index][1]\n",
    "print(max_genres)"
   ]
  },
  {
   "cell_type": "code",
   "execution_count": 56,
   "metadata": {},
   "outputs": [
    {
     "name": "stdout",
     "output_type": "stream",
     "text": [
      "[[], []]\n",
      "['sample']\n"
     ]
    }
   ],
   "source": [
    "sample = [[] for row in range(kind)]\n",
    "\n",
    "print(sample)\n",
    "\n",
    "sample[0].append('sample')\n",
    "print(sample[0])"
   ]
  }
 ],
 "metadata": {
  "kernelspec": {
   "display_name": "Python 3",
   "language": "python",
   "name": "python3"
  },
  "language_info": {
   "codemirror_mode": {
    "name": "ipython",
    "version": 3
   },
   "file_extension": ".py",
   "mimetype": "text/x-python",
   "name": "python",
   "nbconvert_exporter": "python",
   "pygments_lexer": "ipython3",
   "version": "3.7.3"
  }
 },
 "nbformat": 4,
 "nbformat_minor": 2
}
