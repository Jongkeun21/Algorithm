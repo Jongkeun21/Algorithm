{
 "cells": [
  {
   "cell_type": "code",
   "execution_count": 378,
   "metadata": {},
   "outputs": [],
   "source": [
    "genres = [\"classic\", \"pop\", \"classic\", \"classic\", \"pop\"]\n",
    "plays = [500, 600, 150, 800, 2500]\n",
    "genres = [\"classic\", \"pop\", \"classic\", \"classic\", \"pop\", \"pop\"]\n",
    "plays = [500, 700, 150, 800, 2500, 700]\n",
    "# genres = [\"classic\", \"classic\", \"pop\", \"pop\", \"pop\", \"pop\", \"classic\", \"pop\", \"rock\", \"rock\"]\n",
    "# plays = [500, 1000, 200, 100, 700, 500, 200, 1000, 700, 1000]"
   ]
  },
  {
   "cell_type": "code",
   "execution_count": 299,
   "metadata": {},
   "outputs": [],
   "source": [
    "def solution(genres, plays):\n",
    "    answer = []\n",
    "    albums = []\n",
    "\n",
    "    for i in range(len(genres)) :\n",
    "        albums.append([genres[i], plays[i], i])\n",
    "    \n",
    "    albums.sort()\n",
    "    \n",
    "    kind = 0\n",
    "\n",
    "    for i in range(len(albums)-1) :\n",
    "        if albums[i][0] != albums[i-1][0] :\n",
    "            kind += 1\n",
    "\n",
    "    diff = [[0 for col in range(2)] for row in range(kind)]\n",
    "    num = 0\n",
    "    diff[0][0] = albums[0][1]\n",
    "\n",
    "    for k in range(len(albums)-1) :\n",
    "        if albums[k][0] != albums[k+1][0] :\n",
    "            num += 1\n",
    "\n",
    "        diff[num][0] += albums[k+1][1]\n",
    "        diff[num][1] = albums[k+1][0]\n",
    "\n",
    "    diff.sort()\n",
    "    \n",
    "    kinds = [[] for row in range(kind)]\n",
    "\n",
    "    x = 0\n",
    "    for i in range(len(albums)) :\n",
    "        kinds[x].append(albums[i])\n",
    "        if i < len(albums)-1 :\n",
    "            if albums[i][0] != albums[i+1][0] :\n",
    "                x += 1\n",
    "\n",
    "    result = [[] for row in range(kind)]\n",
    "    data = 0\n",
    "    findMin = 0\n",
    "    count = []\n",
    "    sample = []\n",
    "\n",
    "    for cnt in range(kind) :\n",
    "        for j in range(kind) :\n",
    "            if diff[kind-cnt-1][1] == kinds[j][0][0] :\n",
    "                if len(kinds[j]) > 1 :\n",
    "                    for k in range(2) :\n",
    "                        if kinds[j][len(kinds[j])-1-k][1] != kinds[j][len(kinds[j])-2-k][1]:\n",
    "                            result[cnt].append(kinds[j][len(kinds[j])-1-k][2])\n",
    "                        else :\n",
    "                            if k == 1 :\n",
    "                                for i in range(len(kinds[j])-1) :\n",
    "                                    if kinds[j][len(kinds[j])-i-1][1] == kinds[j][len(kinds[j])-(i+1)-1][1] :\n",
    "                                        findMin = kinds[j][len(kinds[j])-i-1][2]\n",
    "                                        if findMin > kinds[j][len(kinds[j])-(i+1)-1][2] :\n",
    "                                            findMin = kinds[j][len(kinds[j])-(i+1)-1][2]\n",
    "                                result[cnt].append(findMin)\n",
    "                            else :\n",
    "                                for i in range(len(kinds[j])-1) :\n",
    "                                    if kinds[j][i][1] == kinds[j][i+1][1] :\n",
    "                                        sample.append(kinds[j][i][2])\n",
    "                                        count.append(i)\n",
    "                                sample.append(kinds[j][count[len(count)-1]+1][2])\n",
    "                                result[cnt].append(sample[0])\n",
    "                                result[cnt].append(sample[1])\n",
    "                                break;\n",
    "                else :\n",
    "                    result[cnt].append(kinds[j][len(kinds[j])-1][2])\n",
    "\n",
    "    for n in range(kind) :\n",
    "        answer += result[n]\n",
    "        \n",
    "    return answer"
   ]
  },
  {
   "cell_type": "code",
   "execution_count": 300,
   "metadata": {},
   "outputs": [
    {
     "name": "stdout",
     "output_type": "stream",
     "text": [
      "[4, 1, 3, 0]\n"
     ]
    }
   ],
   "source": [
    "print(solution(genres, plays))"
   ]
  },
  {
   "cell_type": "code",
   "execution_count": 393,
   "metadata": {},
   "outputs": [],
   "source": [
    "# genres = [\"classic\", \"pop\", \"classic\", \"classic\", \"pop\"]\n",
    "# plays = [500, 600, 150, 800, 2500]\n",
    "# genres = [\"classic\", \"pop\", \"classic\", \"classic\", \"pop\", \"pop\", \"pop\"]\n",
    "# plays = [500, 700, 150, 800, 700, 700, 1200]\n",
    "# genres = [\"pop\", \"pop\", \"classic\", \"classic\", \"pop\", \"pop\", \"pop\"]\n",
    "# plays = [900, 700, 150, 800, 700, 700, 200]\n",
    "# genres = [\"classic\", \"classic\", \"pop\", \"pop\", \"pop\", \"pop\", \"classic\", \"pop\", \"rock\", \"rock\", \"kpop\"]\n",
    "# plays = [1000, 1000, 200, 100, 700, 500, 200, 1000, 700, 1000, 7000]\n",
    "genres = [\"classic\", \"classic\", \"pop\", \"pop\", \"pop\", \"pop\", \"classic\", \"rock\", \"rock\", \"pop\", \"pop\"]\n",
    "plays = [500, 1000, 200, 100, 700, 500, 200, 700, 1000, 700, 700]\n",
    "# genres = [\"classic\", \"pop\", \"classic\", \"classic\", \"pop\", \"pop\"]\n",
    "# plays = [500, 700, 150, 800, 2500, 700]"
   ]
  },
  {
   "cell_type": "code",
   "execution_count": 394,
   "metadata": {},
   "outputs": [],
   "source": [
    "genres = [\"classic\", \"pop\", \"classic\", \"pop\", \"classic\", \"classic\"]\n",
    "plays = [400,600,150,2500,500,500]"
   ]
  },
  {
   "cell_type": "code",
   "execution_count": 395,
   "metadata": {},
   "outputs": [
    {
     "name": "stdout",
     "output_type": "stream",
     "text": [
      "[['classic', 400, 0], ['pop', 600, 1], ['classic', 150, 2], ['pop', 2500, 3], ['classic', 500, 4], ['classic', 500, 5]]\n"
     ]
    }
   ],
   "source": [
    "albums = []\n",
    "\n",
    "for i in range(len(genres)) :\n",
    "    albums.append([genres[i], plays[i], i])\n",
    "    \n",
    "print(albums)"
   ]
  },
  {
   "cell_type": "code",
   "execution_count": 396,
   "metadata": {},
   "outputs": [
    {
     "name": "stdout",
     "output_type": "stream",
     "text": [
      "[['classic', 150, 2], ['classic', 400, 0], ['classic', 500, 4], ['classic', 500, 5], ['pop', 600, 1], ['pop', 2500, 3]]\n"
     ]
    }
   ],
   "source": [
    "albums.sort()\n",
    "print(albums)"
   ]
  },
  {
   "cell_type": "code",
   "execution_count": 397,
   "metadata": {},
   "outputs": [
    {
     "name": "stdout",
     "output_type": "stream",
     "text": [
      "2\n"
     ]
    }
   ],
   "source": [
    "kind = 0\n",
    "\n",
    "for i in range(len(albums)-1) :\n",
    "    if albums[i][0] != albums[i-1][0] :\n",
    "        kind += 1\n",
    "        \n",
    "print(kind)"
   ]
  },
  {
   "cell_type": "code",
   "execution_count": 398,
   "metadata": {},
   "outputs": [
    {
     "name": "stdout",
     "output_type": "stream",
     "text": [
      "[[1550, 'classic'], [3100, 'pop']]\n"
     ]
    }
   ],
   "source": [
    "diff = [[0 for col in range(2)] for row in range(kind)]\n",
    "num = 0\n",
    "diff[0][0] = albums[0][1]\n",
    "\n",
    "for k in range(len(albums)-1) :\n",
    "    if albums[k][0] != albums[k+1][0] :\n",
    "        num += 1\n",
    "        \n",
    "    diff[num][0] += albums[k+1][1]\n",
    "    diff[num][1] = albums[k+1][0]\n",
    "\n",
    "# print(diff)\n",
    "diff.sort()\n",
    "print(diff)"
   ]
  },
  {
   "cell_type": "code",
   "execution_count": 399,
   "metadata": {},
   "outputs": [
    {
     "name": "stdout",
     "output_type": "stream",
     "text": [
      "[[], []]\n",
      "[[['classic', 150, 2], ['classic', 400, 0], ['classic', 500, 4], ['classic', 500, 5]], [['pop', 600, 1], ['pop', 2500, 3]]]\n"
     ]
    }
   ],
   "source": [
    "kinds = [[] for row in range(kind)]\n",
    "print(kinds)\n",
    "\n",
    "x = 0\n",
    "for i in range(len(albums)) :\n",
    "    kinds[x].append(albums[i])\n",
    "    if i < len(albums)-1 :\n",
    "        if albums[i][0] != albums[i+1][0] :\n",
    "            x += 1\n",
    "\n",
    "print(kinds)"
   ]
  },
  {
   "cell_type": "code",
   "execution_count": 400,
   "metadata": {},
   "outputs": [
    {
     "name": "stdout",
     "output_type": "stream",
     "text": [
      "[]\n",
      "[]\n"
     ]
    }
   ],
   "source": [
    "sample = []\n",
    "count = []\n",
    "for i in range(len(kinds[1])-1) :\n",
    "    if kinds[1][i][1] == kinds[1][i+1][1] :\n",
    "        sample.append(kinds[1][i][2])\n",
    "        count.append(i)\n",
    "if len(count) > 0 :\n",
    "    sample.append(kinds[1][count[len(count)-1]+1][2])\n",
    "print(sample)\n",
    "print(count)\n",
    "\n",
    "findMin = 0"
   ]
  },
  {
   "cell_type": "code",
   "execution_count": 407,
   "metadata": {},
   "outputs": [
    {
     "name": "stdout",
     "output_type": "stream",
     "text": [
      "[3, 1, 4, 5]\n"
     ]
    }
   ],
   "source": [
    "result = [[] for row in range(kind)]\n",
    "data = 0\n",
    "findMin = 0\n",
    "count = []\n",
    "sample = []\n",
    "\n",
    "for cnt in range(kind) :\n",
    "    for j in range(kind) :\n",
    "        if diff[kind-cnt-1][1] == kinds[j][0][0] :\n",
    "            if len(kinds[j]) > 1 :\n",
    "                for k in range(2) :\n",
    "                    if kinds[j][len(kinds[j])-1-k][1] != kinds[j][len(kinds[j])-2-k][1]:\n",
    "                        result[cnt].append(kinds[j][len(kinds[j])-1-k][2])\n",
    "                    else :\n",
    "                        if k == 1 :\n",
    "                            for i in range(len(kinds[j])-1) :\n",
    "                                if kinds[j][len(kinds[j])-i-1][1] == kinds[j][len(kinds[j])-(i+1)-1][1] :\n",
    "                                    findMin = kinds[j][len(kinds[j])-i-1][2]\n",
    "                                    if findMin > kinds[j][len(kinds[j])-(i+1)-1][2] :\n",
    "                                        findMin = kinds[j][len(kinds[j])-(i+1)-1][2]\n",
    "                            result[cnt].append(findMin)\n",
    "                        else :\n",
    "                            for i in range(len(kinds[j])-1) :\n",
    "                                if kinds[j][i][1] == kinds[j][i+1][1] :\n",
    "                                    sample.append(kinds[j][i][2])\n",
    "                                    count.append(i)\n",
    "                            sample.append(kinds[j][count[len(count)-1]+1][2])\n",
    "                            result[cnt].append(sample[0])\n",
    "                            result[cnt].append(sample[1])\n",
    "                            break;\n",
    "            else :\n",
    "                result[cnt].append(kinds[j][len(kinds[j])-1][2])\n",
    "\n",
    "answer = []\n",
    "for n in range(kind) :\n",
    "    answer += result[n]\n",
    "    \n",
    "print(answer)"
   ]
  }
 ],
 "metadata": {
  "kernelspec": {
   "display_name": "Python 3",
   "language": "python",
   "name": "python3"
  },
  "language_info": {
   "codemirror_mode": {
    "name": "ipython",
    "version": 3
   },
   "file_extension": ".py",
   "mimetype": "text/x-python",
   "name": "python",
   "nbconvert_exporter": "python",
   "pygments_lexer": "ipython3",
   "version": "3.7.3"
  }
 },
 "nbformat": 4,
 "nbformat_minor": 2
}
