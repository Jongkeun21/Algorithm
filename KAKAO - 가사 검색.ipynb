{
 "cells": [
  {
   "cell_type": "code",
   "execution_count": 1,
   "metadata": {},
   "outputs": [],
   "source": [
    "def solution(words, queries) :\n",
    "    anwser = []\n",
    "    \n",
    "    return answer"
   ]
  },
  {
   "cell_type": "code",
   "execution_count": 2,
   "metadata": {},
   "outputs": [],
   "source": [
    "words = [\"frodo\", \"front\", \"frost\", \"frozen\", \"frame\", \"kakao\"]\n",
    "queries = [\"fro??\", \"????o\", \"fr???\", \"fro???\", \"pro?\"]"
   ]
  },
  {
   "cell_type": "code",
   "execution_count": 50,
   "metadata": {},
   "outputs": [],
   "source": [
    "def find_(input_) :\n",
    "    QCount = 0\n",
    "    output = ''\n",
    "    type_ = 'front'\n",
    "    \n",
    "    for i in range(len(input_)) :\n",
    "        if input_[i] == '?' :\n",
    "            QCount += 1\n",
    "            if i == 0 :\n",
    "                type_ = 'back'\n",
    "        else :\n",
    "            output += input_[i]\n",
    "        \n",
    "    return [QCount, output, type_]"
   ]
  },
  {
   "cell_type": "code",
   "execution_count": 25,
   "metadata": {},
   "outputs": [
    {
     "data": {
      "text/plain": [
       "[2, 'fro', 'back']"
      ]
     },
     "execution_count": 25,
     "metadata": {},
     "output_type": "execute_result"
    }
   ],
   "source": [
    "find_(queries[0])"
   ]
  },
  {
   "cell_type": "code",
   "execution_count": 54,
   "metadata": {},
   "outputs": [],
   "source": [
    "answer = []"
   ]
  },
  {
   "cell_type": "code",
   "execution_count": 32,
   "metadata": {},
   "outputs": [
    {
     "data": {
      "text/plain": [
       "'f'"
      ]
     },
     "execution_count": 32,
     "metadata": {},
     "output_type": "execute_result"
    }
   ],
   "source": [
    "words[0][:1]"
   ]
  },
  {
   "cell_type": "code",
   "execution_count": 61,
   "metadata": {},
   "outputs": [],
   "source": [
    "for j in range(len(queries)) :\n",
    "    num = 0\n",
    "    QCount = 0\n",
    "    word = ''\n",
    "    type_ = ''\n",
    "    length = 0\n",
    "\n",
    "    QCount, word, type_ = find_(queries[j])\n",
    "    length = QCount+len(word)\n",
    "\n",
    "    for i in range(len(words)) :\n",
    "        if len(words[i]) == length :\n",
    "            if type_ == 'back' :\n",
    "                if words[i][len(words[i])-len(word):] == word :\n",
    "                    num += 1\n",
    "            else :\n",
    "                if words[i][:len(word)] == word :\n",
    "                    num += 1\n",
    "\n",
    "    answer.append(num)"
   ]
  },
  {
   "cell_type": "code",
   "execution_count": 59,
   "metadata": {},
   "outputs": [],
   "source": [
    "def search(words, queries, answer, count=0) :\n",
    "    if count > len(queries)-1 :\n",
    "        return answer\n",
    "    else :\n",
    "        num = 0\n",
    "        QCount = 0\n",
    "        word = ''\n",
    "        type_ = ''\n",
    "        length = 0\n",
    "        \n",
    "        QCount, word, type_ = find_(queries[count])\n",
    "        length = QCount+len(word)\n",
    "        \n",
    "        for i in range(len(words)) :\n",
    "            if len(words[i]) == length :\n",
    "                if type_ == 'back' :\n",
    "                    if words[i][len(words[i])-len(word):] == word :\n",
    "                        num += 1\n",
    "                else :\n",
    "                    if words[i][:len(word)] == word :\n",
    "                        num += 1\n",
    "        \n",
    "        answer.append(num)        \n",
    "        count += 1\n",
    "        \n",
    "        search(words, queries, answer, count)"
   ]
  },
  {
   "cell_type": "code",
   "execution_count": 55,
   "metadata": {},
   "outputs": [
    {
     "name": "stdout",
     "output_type": "stream",
     "text": [
      "QCount:  2   //  word:  fro   //  type_:  front\n",
      "QCount:  4   //  word:  o   //  type_:  back\n",
      "QCount:  3   //  word:  fr   //  type_:  front\n",
      "QCount:  3   //  word:  fro   //  type_:  front\n",
      "QCount:  1   //  word:  pro   //  type_:  front\n"
     ]
    }
   ],
   "source": [
    "search(words, queries, answer)"
   ]
  },
  {
   "cell_type": "code",
   "execution_count": 56,
   "metadata": {},
   "outputs": [
    {
     "data": {
      "text/plain": [
       "[3, 2, 4, 1, 0]"
      ]
     },
     "execution_count": 56,
     "metadata": {},
     "output_type": "execute_result"
    }
   ],
   "source": [
    "answer"
   ]
  },
  {
   "cell_type": "code",
   "execution_count": 62,
   "metadata": {},
   "outputs": [],
   "source": [
    "def solution(words, queries) :\n",
    "    answer = []\n",
    "    \n",
    "    for j in range(len(queries)) :\n",
    "        num = 0\n",
    "        QCount = 0\n",
    "        word = ''\n",
    "        type_ = ''\n",
    "        length = 0\n",
    "\n",
    "        QCount, word, type_ = find_(queries[j])\n",
    "        length = QCount+len(word)\n",
    "\n",
    "        for i in range(len(words)) :\n",
    "            if len(words[i]) == length :\n",
    "                if type_ == 'back' :\n",
    "                    if words[i][len(words[i])-len(word):] == word :\n",
    "                        num += 1\n",
    "                else :\n",
    "                    if words[i][:len(word)] == word :\n",
    "                        num += 1\n",
    "\n",
    "        answer.append(num)\n",
    "    \n",
    "    return answer"
   ]
  },
  {
   "cell_type": "code",
   "execution_count": 63,
   "metadata": {},
   "outputs": [
    {
     "data": {
      "text/plain": [
       "[3, 2, 4, 1, 0]"
      ]
     },
     "execution_count": 63,
     "metadata": {},
     "output_type": "execute_result"
    }
   ],
   "source": [
    "solution(words, queries)"
   ]
  },
  {
   "cell_type": "code",
   "execution_count": null,
   "metadata": {},
   "outputs": [],
   "source": []
  }
 ],
 "metadata": {
  "kernelspec": {
   "display_name": "Python 3",
   "language": "python",
   "name": "python3"
  },
  "language_info": {
   "codemirror_mode": {
    "name": "ipython",
    "version": 3
   },
   "file_extension": ".py",
   "mimetype": "text/x-python",
   "name": "python",
   "nbconvert_exporter": "python",
   "pygments_lexer": "ipython3",
   "version": "3.7.3"
  }
 },
 "nbformat": 4,
 "nbformat_minor": 2
}
