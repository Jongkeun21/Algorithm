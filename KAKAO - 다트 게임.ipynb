{
 "cells": [
  {
   "cell_type": "code",
   "execution_count": 110,
   "metadata": {},
   "outputs": [],
   "source": [
    "def star(score) :    \n",
    "    score[-1] *= 2\n",
    "    score[-2] *= 2\n",
    "    \n",
    "    return score\n",
    "\n",
    "def sharp(score) :\n",
    "    score[-1] *= -1\n",
    "    \n",
    "    return score\n",
    "\n",
    "def double(score) :\n",
    "    score[-1] = score[-1]**2\n",
    "    \n",
    "    return score\n",
    "\n",
    "def triple(score) :\n",
    "    score[-1] = score[-1]**3\n",
    "    \n",
    "    return score\n",
    "\n",
    "def solution(dartResult) :\n",
    "    score = [0]\n",
    "    number = {}\n",
    "    \n",
    "    for i in range(11) :\n",
    "        number[str(i)] = i\n",
    "        \n",
    "    for idx, char in enumerate(dartResult) :\n",
    "        if char in number :\n",
    "            if char == '0' and dartResult[idx-1] in number :\n",
    "                score[-1] = number[dartResult[idx-1]+'0']\n",
    "            else :\n",
    "                score.append(number[char])\n",
    "        elif char == '*' :\n",
    "            star(score)\n",
    "        elif char == '#' :\n",
    "            sharp(score)\n",
    "        elif char == 'D' :\n",
    "            double(score)\n",
    "        elif char == 'T' :\n",
    "            triple(score)\n",
    "            \n",
    "    return sum(score)"
   ]
  }
 ],
 "metadata": {
  "kernelspec": {
   "display_name": "Python 3",
   "language": "python",
   "name": "python3"
  },
  "language_info": {
   "codemirror_mode": {
    "name": "ipython",
    "version": 3
   },
   "file_extension": ".py",
   "mimetype": "text/x-python",
   "name": "python",
   "nbconvert_exporter": "python",
   "pygments_lexer": "ipython3",
   "version": "3.7.3"
  }
 },
 "nbformat": 4,
 "nbformat_minor": 2
}
