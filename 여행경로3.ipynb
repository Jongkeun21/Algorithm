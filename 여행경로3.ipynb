{
 "cells": [
  {
   "cell_type": "code",
   "execution_count": 1,
   "metadata": {},
   "outputs": [],
   "source": [
    "tickets = [[\"ICN\", \"JFK\"], [\"HND\", \"IAD\"], [\"JFK\", \"HND\"], [\"ICN\", \"JFK\"], [\"IAD\", \"ICN\"]]\n",
    "# tickets = [[\"ICN\", \"SFO\"], [\"ICN\", \"ATL\"], [\"SFO\", \"ATL\"], [\"ATL\", \"ICN\"], [\"ATL\", \"SFO\"]]\n",
    "# tickets = [[\"ICN\", \"BOO\"], [\"ICN\", \"COO\"], [\"COO\", \"DOO\"], [\"DOO\", \"COO\"], [\"BOO\", \"DOO\"], [\"DOO\", \"BOO\"], [\"BOO\", \"ICN\"], [\"COO\", \"BOO\"]]\n",
    "# tickets = [[\"ICN\", \"COO\"], [\"ICN\", \"BOO\"], [\"COO\", \"ICN\"], [\"BOO\", \"DOO\"]]"
   ]
  },
  {
   "cell_type": "code",
   "execution_count": 9,
   "metadata": {},
   "outputs": [
    {
     "name": "stdout",
     "output_type": "stream",
     "text": [
      "['JFK', 'IAD', 'HND', 'ICN']\n"
     ]
    }
   ],
   "source": [
    "roots = []\n",
    "\n",
    "for i in range(len(tickets)) :\n",
    "    roots.append(tickets[i][0])\n",
    "\n",
    "roots = list(set(roots))\n",
    "print(roots)"
   ]
  },
  {
   "cell_type": "code",
   "execution_count": 10,
   "metadata": {},
   "outputs": [
    {
     "name": "stdout",
     "output_type": "stream",
     "text": [
      "[['HND'], ['ICN'], ['IAD'], ['JFK', 'JFK']]\n"
     ]
    }
   ],
   "source": [
    "values = [[] for col in range(len(roots))]\n",
    "\n",
    "for i in range(len(roots)) :\n",
    "    for j in range(len(tickets)) :\n",
    "        if tickets[j][0] == roots[i] :\n",
    "            values[i].append(tickets[j][1])\n",
    "    \n",
    "print(values)"
   ]
  },
  {
   "cell_type": "code",
   "execution_count": 46,
   "metadata": {},
   "outputs": [
    {
     "name": "stdout",
     "output_type": "stream",
     "text": [
      "from_:  ['ICN', 'HND', 'JFK', 'ICN', 'IAD']\n",
      "to_:  ['JFK', 'IAD', 'HND', 'JFK', 'ICN']\n"
     ]
    }
   ],
   "source": [
    "from_ = []\n",
    "to_ = []\n",
    "\n",
    "for i in range(len(tickets)) :\n",
    "    from_.append(tickets[i][0])\n",
    "    to_.append(tickets[i][1])\n",
    "    \n",
    "print(\"from_: \", from_)\n",
    "print(\"to_: \", to_)"
   ]
  },
  {
   "cell_type": "code",
   "execution_count": 11,
   "metadata": {},
   "outputs": [
    {
     "data": {
      "text/plain": [
       "{'JFK': ['HND'], 'IAD': ['ICN'], 'HND': ['IAD'], 'ICN': ['JFK', 'JFK']}"
      ]
     },
     "execution_count": 11,
     "metadata": {},
     "output_type": "execute_result"
    }
   ],
   "source": [
    "graph = {}\n",
    "for i in range(len(roots)) :\n",
    "    graph[roots[i]] = values[i]\n",
    "    \n",
    "graph"
   ]
  },
  {
   "cell_type": "code",
   "execution_count": 31,
   "metadata": {},
   "outputs": [],
   "source": [
    "def DFS_path(graph, start, end, visited=[]) :\n",
    "    visited = visited + [start]\n",
    "    \n",
    "    if start == end :\n",
    "        paths.append(visited)\n",
    "        \n",
    "    for node in graph[start] :\n",
    "        if node not in visited :\n",
    "            DFS_path(graph, node, end, visited)\n",
    "    \n",
    "    return paths"
   ]
  },
  {
   "cell_type": "code",
   "execution_count": 32,
   "metadata": {},
   "outputs": [
    {
     "data": {
      "text/plain": [
       "[['ICN', 'JFK'], ['ICN', 'JFK']]"
      ]
     },
     "execution_count": 32,
     "metadata": {},
     "output_type": "execute_result"
    }
   ],
   "source": [
    "DFS_path(graph, 'ICN', 'JFK')"
   ]
  },
  {
   "cell_type": "code",
   "execution_count": 33,
   "metadata": {},
   "outputs": [
    {
     "name": "stdout",
     "output_type": "stream",
     "text": [
      "departure: ICN\n",
      "arrival:  JFK\n",
      "[['ICN', 'JFK'], ['ICN', 'JFK']]\n",
      "--------------------------------------\n",
      "departure: ICN\n",
      "arrival:  IAD\n",
      "[['ICN', 'JFK', 'HND', 'IAD'], ['ICN', 'JFK', 'HND', 'IAD']]\n",
      "--------------------------------------\n",
      "departure: ICN\n",
      "arrival:  HND\n",
      "[['ICN', 'JFK', 'HND'], ['ICN', 'JFK', 'HND']]\n",
      "--------------------------------------\n",
      "departure: ICN\n",
      "arrival:  ICN\n",
      "[['ICN']]\n",
      "--------------------------------------\n"
     ]
    }
   ],
   "source": [
    "for i in range(len(roots)) :\n",
    "    paths = []\n",
    "    print(\"departure: ICN\")\n",
    "    print(\"arrival: \", roots[i])\n",
    "    DFS_path(graph, 'ICN', roots[i])\n",
    "    print(paths)\n",
    "    print(\"--------------------------------------\")"
   ]
  },
  {
   "cell_type": "code",
   "execution_count": 22,
   "metadata": {},
   "outputs": [],
   "source": [
    "def find_path(graph, start, end) :\n",
    "    queue = [(start, [start])]\n",
    "    result = []\n",
    "    \n",
    "    while queue :\n",
    "        n, path = queue.pop(0)\n",
    "        if n == end :\n",
    "            result.append(path)\n",
    "        else :\n",
    "            for i in graph[n] :\n",
    "                if i not in path :\n",
    "                    queue.append((i, path+[i]))\n",
    "    return result"
   ]
  },
  {
   "cell_type": "code",
   "execution_count": 25,
   "metadata": {},
   "outputs": [
    {
     "data": {
      "text/plain": [
       "[['ICN', 'JFK', 'HND', 'IAD'], ['ICN', 'JFK', 'HND', 'IAD']]"
      ]
     },
     "execution_count": 25,
     "metadata": {},
     "output_type": "execute_result"
    }
   ],
   "source": [
    "find_path(graph, 'ICN', 'IAD')"
   ]
  },
  {
   "cell_type": "code",
   "execution_count": null,
   "metadata": {},
   "outputs": [],
   "source": []
  }
 ],
 "metadata": {
  "kernelspec": {
   "display_name": "Python 3",
   "language": "python",
   "name": "python3"
  },
  "language_info": {
   "codemirror_mode": {
    "name": "ipython",
    "version": 3
   },
   "file_extension": ".py",
   "mimetype": "text/x-python",
   "name": "python",
   "nbconvert_exporter": "python",
   "pygments_lexer": "ipython3",
   "version": "3.7.3"
  }
 },
 "nbformat": 4,
 "nbformat_minor": 2
}
